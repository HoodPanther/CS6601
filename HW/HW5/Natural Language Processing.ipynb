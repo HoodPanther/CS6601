{
 "metadata": {
  "name": "Natural Language Processing"
 },
 "nbformat": 3,
 "nbformat_minor": 0,
 "worksheets": [
  {
   "cells": [
    {
     "cell_type": "heading",
     "level": 1,
     "metadata": {},
     "source": [
      "Natural Language Processing"
     ]
    },
    {
     "cell_type": "markdown",
     "metadata": {},
     "source": [
      "Ruffin White  \n",
      "CS6601  \n",
      "HW5"
     ]
    },
    {
     "cell_type": "heading",
     "level": 2,
     "metadata": {},
     "source": [
      "NGram Models and Grammars"
     ]
    },
    {
     "cell_type": "markdown",
     "metadata": {},
     "source": [
      "In this homework we will look into two approaches two natural language processing. One approach is looking at a document as a loose collection of words or a loose collection of strings of words called an ngram. Furthermore, we will explore parsing using context free grammars and their relation to hidden Markov models. The reading associated with this homework is AIMA chapter 22 and 23."
     ]
    },
    {
     "cell_type": "heading",
     "level": 3,
     "metadata": {},
     "source": [
      "1) Markov Model vs Probabilistic Context-free Grammar: 20 Points"
     ]
    },
    {
     "cell_type": "markdown",
     "metadata": {},
     "source": [
      "Probabilistic context-free grammars (PCFG) are a super set of Markov models (probabilistic\n",
      "regular grammars). Write down the PCFG for the following Markov model."
     ]
    },
    {
     "cell_type": "code",
     "collapsed": false,
     "input": [],
     "language": "python",
     "metadata": {},
     "outputs": []
    },
    {
     "cell_type": "heading",
     "level": 3,
     "metadata": {},
     "source": [
      "2) Hidden Markov Model vs Probabilistic Context-free Grammar: 20 Points"
     ]
    },
    {
     "cell_type": "markdown",
     "metadata": {},
     "source": [
      "Recall the lecture and reading on hidden Markov models. What is the equivalent of the Viterbi algorithm for probabilistic context-free grammars? What is the equivalent of the Baum Welch algorithm for grammars? Can you represent a hidden Markov model as a PCFG and if yes how? Write one paragraph for each of the questions and explain your answer."
     ]
    },
    {
     "cell_type": "code",
     "collapsed": false,
     "input": [],
     "language": "python",
     "metadata": {},
     "outputs": []
    },
    {
     "cell_type": "heading",
     "level": 3,
     "metadata": {},
     "source": [
      "3) Expressiveness of Hidden Markov Models and NGrams: 10 Points"
     ]
    },
    {
     "cell_type": "markdown",
     "metadata": {},
     "source": [
      "Describe the di\u000b",
      "\n",
      "\n",
      "\n",
      "\n",
      "\n",
      "\n",
      "\n",
      "erence as well as similarities between hidden Markov models and ngrams. Particularly, how does the HMM topology relate to relate to bigrams. Are there transitions, too? Argue using Markov order."
     ]
    },
    {
     "cell_type": "code",
     "collapsed": false,
     "input": [],
     "language": "python",
     "metadata": {},
     "outputs": []
    },
    {
     "cell_type": "heading",
     "level": 3,
     "metadata": {},
     "source": [
      "4) NGram estimation: 50 Points"
     ]
    },
    {
     "cell_type": "markdown",
     "metadata": {},
     "source": [
      "AIMA 22.1) This exercise explores the quality of the n-gram model of language. Find or create a monolingual corpus of 100,000 words or more. Segment it into words, and compute the frequency of each word. How many distinct words are there? Also count frequencies of bigrams (two consecutive words) and trigrams (three consecutive words). Now use those frequencies to generate language: from the unigram, bigram, and trigram models, in turn, generate a 100-word text by making random choices according to the frequency counts. Compare the three generated texts with actual language. Finally, calculate the perplexity of each model."
     ]
    },
    {
     "cell_type": "markdown",
     "metadata": {},
     "source": [
      "First we'll start off by importing a useful natural language processing toolkit for Python used for reading corpus, and interacting with the textual database. This Python library can be found available at its homepage: http://nltk.org/"
     ]
    },
    {
     "cell_type": "code",
     "collapsed": false,
     "input": [
      "import nltk"
     ],
     "language": "python",
     "metadata": {},
     "outputs": [],
     "prompt_number": 1
    },
    {
     "cell_type": "markdown",
     "metadata": {},
     "source": [
      "Now will read in our corpus data. Some issues were had when reading from the Unicode codec, so the file was then converted to ASCII format. Shown just below is an excerpt from the first 600 characters within the corpus."
     ]
    },
    {
     "cell_type": "code",
     "collapsed": false,
     "input": [
      "f = open('science_ASCII.txt')\n",
      "raw = f.read()\n",
      "print raw[0:600]\n",
      "raw = raw.lower()"
     ],
     "language": "python",
     "metadata": {},
     "outputs": [
      {
       "output_type": "stream",
       "stream": "stdout",
       "text": [
        "Cystic fibrosis affects 30,000 children and young adults in the US alone\n",
        "Inhaling the mists of salt water can reduce the pus and infection that fills the airways of cystic fibrosis sufferers, although side effects include a nasty coughing fit and a harsh taste. \n",
        "That's the conclusion of two studies published in this week's issue of The New England Journal of Medicine.\n",
        "They found that inhaling a mist with a salt content of 7 or 9% improved lung function and, in some cases, produced less absenteeism from school or work. \n",
        "Cystic fibrosis, a progressive and frequently fatal genetic disease that af\n"
       ]
      }
     ],
     "prompt_number": 50
    },
    {
     "cell_type": "markdown",
     "metadata": {},
     "source": [
      "From here we will tokenize the raw ASCII data/string into segments of words. We can either define the RegEx format to use when segmenting words of characters, or utilize NLTK's own word tokenizer. Shown below are the first 100 tokens parsed from the main text."
     ]
    },
    {
     "cell_type": "code",
     "collapsed": false,
     "input": [
      "#tokenizer = nltk.RegexpTokenizer(r'\\w+')\n",
      "#tokens = tokenizer.tokenize(raw)\n",
      "tokens = nltk.word_tokenize(raw)\n",
      "print tokens[0:100]"
     ],
     "language": "python",
     "metadata": {},
     "outputs": [
      {
       "output_type": "stream",
       "stream": "stdout",
       "text": [
        "['cystic', 'fibrosis', 'affects', '30,000', 'children', 'and', 'young', 'adults', 'in', 'the', 'us', 'alone', 'inhaling', 'the', 'mists', 'of', 'salt', 'water', 'can', 'reduce', 'the', 'pus', 'and', 'infection', 'that', 'fills', 'the', 'airways', 'of', 'cystic', 'fibrosis', 'sufferers', ',', 'although', 'side', 'effects', 'include', 'a', 'nasty', 'coughing', 'fit', 'and', 'a', 'harsh', 'taste.', 'that', \"'s\", 'the', 'conclusion', 'of', 'two', 'studies', 'published', 'in', 'this', 'week', \"'s\", 'issue', 'of', 'the', 'new', 'england', 'journal', 'of', 'medicine.', 'they', 'found', 'that', 'inhaling', 'a', 'mist', 'with', 'a', 'salt', 'content', 'of', '7', 'or', '9', '%', 'improved', 'lung', 'function', 'and', ',', 'in', 'some', 'cases', ',', 'produced', 'less', 'absenteeism', 'from', 'school', 'or', 'work.', 'cystic', 'fibrosis', ',', 'a']\n"
       ]
      }
     ],
     "prompt_number": 51
    },
    {
     "cell_type": "markdown",
     "metadata": {},
     "source": [
      "The tokens we have gathered however include not only words but also nonalphanumeric characters Including mainly of commas as and quotations marks. We could have used a RegEx syntax to omit such tokens. However for simplicity we can just make a list of tokens to remove that consist solely of any nonalphanumeric character."
     ]
    },
    {
     "cell_type": "code",
     "collapsed": false,
     "input": [
      "remove = ['~','!','@','#','$','%','^','&','*','(',\n",
      "          ')','-','_','[',']','{','}','\\\\','|','<',\n",
      "          '>','.',';',':','/','?',\"'\",'\"',',',\n",
      "          \"''\",\"``\",\"'.\",\"...\"]\n",
      "ugs = []\n",
      "for token in tokens:\n",
      "    if not token in remove:\n",
      "        if not token[-1].isalnum():\n",
      "            token = token[0:-1]\n",
      "        ugs.append(token)"
     ],
     "language": "python",
     "metadata": {},
     "outputs": [],
     "prompt_number": 52
    },
    {
     "cell_type": "markdown",
     "metadata": {},
     "source": [
      "Now that we have a list of filtered tokens mainly consisting of just words and numbers, this list of tokens can serve as both our primary text and list of unigrams. From this we can now generate a frequency distribution that basically counts the occurrence of each unigram. Shown below are the top 100 most frequent unigrams (In descending order of frequency) within the text."
     ]
    },
    {
     "cell_type": "code",
     "collapsed": false,
     "input": [
      "text = nltk.Text(ugs)\n",
      "fd1 = nltk.FreqDist(ugs)\n",
      "print fd1.samples()[0:100]"
     ],
     "language": "python",
     "metadata": {},
     "outputs": [
      {
       "output_type": "stream",
       "stream": "stdout",
       "text": [
        "['the', 'of', 'to', 'a', 'and', 'in', 'that', 'says', 'is', 'it', \"'s\", 'for', 'are', 'be', 'as', 'on', 'have', 'with', 'they', 'from', 'at', 'by', 'he', 'this', 'but', 'or', 'an', 'more', 'was', 'their', 'which', 'we', 'has', 'can', 'not', 'could', 'researchers', 'new', 'were', 'than', 'also', 'will', 'research', 'one', 'say', 'been', 'university', 'about', 'there', 'other', 'people', 'who', 'study', 'when', 'found', 'you', 'would', 'scientists', 'may', 'years', 'into', 'had', 'some', \"n't\", 'up', 'dr', 'if', 'like', 'its', 'out', 'what', 'these', 'professor', 'do', 'so', 'how', 'them', 'used', 'such', 'two', 'team', 'us', 'first', 'all', 'because', 'his', 'time', 'she', 'australian', 'australia', 'most', 'only', 'very', 'journal', 'over', 'system', 'after', 'technology', 'cells', 'our']\n"
       ]
      }
     ],
     "prompt_number": 53
    },
    {
     "cell_type": "markdown",
     "metadata": {},
     "source": [
      "By counting the number of samples within our frequency distribution, we can derive the number of unique unigrams as well as plot the frequency of say the top 25 unigrams found. As expected, conjunctions within the English language, such as \"the\", \"of\", \"to\", \"and\" are by far the most frequently found words within the given English corpus."
     ]
    },
    {
     "cell_type": "code",
     "collapsed": false,
     "input": [
      "print 'The Numer of distinct Unigrams:',len(fd1.samples())\n",
      "fd1.plot(25)"
     ],
     "language": "python",
     "metadata": {},
     "outputs": [
      {
       "output_type": "stream",
       "stream": "stdout",
       "text": [
        "The Numer of distinct Unigrams: 23578\n"
       ]
      },
      {
       "output_type": "display_data",
       "png": "[encoded data removed]"
      }
     ],
     "prompt_number": 54
    },
    {
     "cell_type": "markdown",
     "metadata": {},
     "source": [
      "We can do the same for bigrams by searching the same text and building a similar frequency distribution. Shown below are an example of the top 50 most frequent bigrams in descending order frequency."
     ]
    },
    {
     "cell_type": "code",
     "collapsed": false,
     "input": [
      "bgs = nltk.bigrams(text)\n",
      "fd2 = nltk.FreqDist(bgs)\n",
      "print fd2.samples()[0:50]"
     ],
     "language": "python",
     "metadata": {},
     "outputs": [
      {
       "output_type": "stream",
       "stream": "stdout",
       "text": [
        "[('of', 'the'), ('in', 'the'), ('he', 'says'), ('to', 'the'), ('at', 'the'), ('says', 'the'), ('on', 'the'), ('from', 'the'), ('to', 'be'), ('the', 'researchers'), ('of', 'a'), ('and', 'the'), ('it', \"'s\"), ('in', 'a'), ('university', 'of'), ('that', 'the'), ('the', 'university'), ('for', 'the'), ('with', 'the'), ('it', 'is'), ('have', 'been'), ('as', 'a'), ('the', 'journal'), ('by', 'the'), ('the', 'first'), ('is', 'a'), ('with', 'a'), ('to', 'a'), ('the', 'study'), ('she', 'says'), ('such', 'as'), ('has', 'been'), ('is', 'the'), ('the', 'same'), ('could', 'be'), ('the', 'world'), ('according', 'to'), ('a', 'new'), ('this', 'is'), ('can', 'be'), ('as', 'the'), ('will', 'be'), ('one', 'of'), ('years', 'ago'), ('more', 'than'), ('into', 'the'), ('researchers', 'say'), ('the', 'new'), ('to', 'have'), ('may', 'be')]\n"
       ]
      }
     ],
     "prompt_number": 55
    },
    {
     "cell_type": "markdown",
     "metadata": {},
     "source": [
      "We can clearly see that basic pairs of English conjunctions are by far the most frequent within the corpus. We can also see that by incrementing from unigrams to bigrams has also increased the number of unique samples derived from our document."
     ]
    },
    {
     "cell_type": "code",
     "collapsed": false,
     "input": [
      "print 'The Numer of distinct Bigrams:',len(fd2.samples())\n",
      "fd2.plot(25)"
     ],
     "language": "python",
     "metadata": {},
     "outputs": [
      {
       "output_type": "stream",
       "stream": "stdout",
       "text": [
        "The Numer of distinct Bigrams: "
       ]
      },
      {
       "output_type": "stream",
       "stream": "stdout",
       "text": [
        "180851\n"
       ]
      },
      {
       "output_type": "display_data",
       "png": "[encoded data removed]"
      }
     ],
     "prompt_number": 56
    },
    {
     "cell_type": "markdown",
     "metadata": {},
     "source": [
      "We can again do the same for trigrams. Shown below are the top 25 most frequent trigrams listed in descending order of frequency."
     ]
    },
    {
     "cell_type": "code",
     "collapsed": false,
     "input": [
      "tgs = nltk.trigrams(text)\n",
      "fd3 = nltk.FreqDist(tgs)\n",
      "print fd3.samples()[0:25]"
     ],
     "language": "python",
     "metadata": {},
     "outputs": [
      {
       "output_type": "stream",
       "stream": "stdout",
       "text": [
        "[('the', 'university', 'of'), ('in', 'the', 'journal'), ('he', 'says', 'the'), ('at', 'the', 'university'), ('one', 'of', 'the'), ('issue', 'of', 'the'), ('the', 'researchers', 'say'), ('of', 'the', 'university'), ('of', 'the', 'journal'), ('the', 'journal', 'nature'), ('published', 'in', 'the'), ('be', 'able', 'to'), ('from', 'the', 'university'), ('million', 'years', 'ago'), ('as', 'well', 'as'), ('part', 'of', 'the'), ('today', 'in', 'the'), ('the', 'world', \"'s\"), ('according', 'to', 'the'), ('be', 'used', 'to'), ('the', 'number', 'of'), ('according', 'to', 'a'), ('director', 'of', 'the'), ('it', \"'s\", 'a'), ('a', 'new', 'study')]\n"
       ]
      }
     ],
     "prompt_number": 57
    },
    {
     "cell_type": "markdown",
     "metadata": {},
     "source": [
      "Now looking at the frequency distribution of trigrams, we can gain some insight Of the most frequent context within the corpus from the given keys of each count value. By observing trigrams such as \"the University of\" or \"in the Journal\", we can come to a conclusion that the most frequent topics are rather academic/research or perhaps medical and pharmaceutical. We can also notice how that although the number of unique tokens has increased, the distribution among the most frequent ngrams has narrowed. Leaving a much more lopsided distribution of frequency in ngrams that coincide with the corpus's main topic."
     ]
    },
    {
     "cell_type": "code",
     "collapsed": false,
     "input": [
      "print 'The Numer of distinct Trigrams:',len(fd3.samples())\n",
      "fd3.plot(25)"
     ],
     "language": "python",
     "metadata": {},
     "outputs": [
      {
       "output_type": "stream",
       "stream": "stdout",
       "text": [
        "The Numer of distinct Trigrams: "
       ]
      },
      {
       "output_type": "stream",
       "stream": "stdout",
       "text": [
        "308243\n"
       ]
      },
      {
       "output_type": "display_data",
       "png": "[encoded data removed]"
      }
     ],
     "prompt_number": 58
    },
    {
     "cell_type": "markdown",
     "metadata": {},
     "source": [
      "In order to reconstruct a random passage based upon a weighted choice derived from the frequency of each ngram, we can create a weighted random generator that given a list of weights, returns an index that is randomly selected in frequent proportion of that with of the index's own weight. Here we can simply make this a class that preallocate a running weighted sum of totals as to randomly later bisect for quick and proportional selection during query time."
     ]
    },
    {
     "cell_type": "code",
     "collapsed": false,
     "input": [
      "import bisect\n",
      "class WeightedRandomGenerator(object):\n",
      "    '''A WRG using Preprocessing\n",
      "        By Eli Bendersky '''\n",
      "    def __init__(self, weights):\n",
      "        self.totals = []\n",
      "        running_total = 0\n",
      "\n",
      "        for w in weights:\n",
      "            running_total += w\n",
      "            self.totals.append(running_total)\n",
      "\n",
      "    def next(self):\n",
      "        rnd = random.random() * self.totals[-1]\n",
      "        return bisect.bisect_right(self.totals, rnd)\n",
      "\n",
      "    def __call__(self):\n",
      "        return self.next()"
     ],
     "language": "python",
     "metadata": {},
     "outputs": [],
     "prompt_number": 59
    },
    {
     "cell_type": "markdown",
     "metadata": {},
     "source": [
      "Here we can simply make a weighted random generator for each ngram frequency distribution"
     ]
    },
    {
     "cell_type": "code",
     "collapsed": false,
     "input": [
      "wrg1 = WeightedRandomGenerator(fd1.values())"
     ],
     "language": "python",
     "metadata": {},
     "outputs": [],
     "prompt_number": 12
    },
    {
     "cell_type": "markdown",
     "metadata": {},
     "source": [
      "Then generate three growing strings for each ngram by repetitively randomly selecting frequent tokens within each ngram frequency distribution"
     ]
    },
    {
     "cell_type": "code",
     "collapsed": false,
     "input": [
      "random1 = ''\n",
      "for i in range(100):\n",
      "    random1 +=  ''.join(fd1.keys()[wrg1.next()]) + ' | '"
     ],
     "language": "python",
     "metadata": {},
     "outputs": [],
     "prompt_number": 13
    },
    {
     "cell_type": "markdown",
     "metadata": {},
     "source": [
      "The results from generating a random passage using just unigrams is both rather illegible as well as nonsensical as very little grammatical structure is demonstrated while simultaneously little to none context is ever constructed."
     ]
    },
    {
     "cell_type": "code",
     "collapsed": false,
     "input": [
      "print \"Random Unigrams:\\n\", random1"
     ],
     "language": "python",
     "metadata": {},
     "outputs": [
      {
       "output_type": "stream",
       "stream": "stdout",
       "text": [
        "Random Unigrams:\n",
        "hole | what | says | can | evenly | used | see-through | and | by | could | aspects | in | from | shower. | ... | transmissible | crocodiles | think | bomb | in | microlensing | says | black | group | up | sick | an | 's | Academy | 's | nights | with | predicted | it | of | for | shelter | ruled | the | and | Princess | journal | house | study | gathered | the | feature | tropical | say. | But | energy | move | with | says | The | support. | exiting | island | Privacy | of | sepsis | and | a | force | goes | fish | high-amylose | their | findings | officer | now | New | ... | Science | or | a | blown | internet | a | Willis. | Church | drain | n't | see | combined | and | the | that | many | 'll | in | orbit | biggest | newspaper | high | can | Comet | is | processes | bag-like | \n"
       ]
      }
     ],
     "prompt_number": 14
    },
    {
     "cell_type": "markdown",
     "metadata": {},
     "source": [
      "Here we can try using NLTK's native perplexity metric for comparison and see the similar trend in ngram behavior."
     ]
    },
    {
     "cell_type": "code",
     "collapsed": false,
     "input": [
      "from nltk.model.ngram import NgramModel\n",
      "from nltk.probability import LidstoneProbDist\n",
      "\n",
      "estimator = lambda fdist, bins: LidstoneProbDist(fdist, 0.0)\n",
      "bgm=NgramModel(2, text, estimator=estimator)\n",
      "tgm=NgramModel(3, text, estimator=estimator)"
     ],
     "language": "python",
     "metadata": {},
     "outputs": [],
     "prompt_number": 81
    },
    {
     "cell_type": "code",
     "collapsed": false,
     "input": [
      "bgmr = bgm.generate(100,('cystic','fibrosis'))\n",
      "tgmr = tgm.generate(100,('cystic','fibrosis','affects'))\n",
      "random2 = ' '.join(bgmr)\n",
      "random3 = ' '.join(tgmr)"
     ],
     "language": "python",
     "metadata": {},
     "outputs": [],
     "prompt_number": 84
    },
    {
     "cell_type": "markdown",
     "metadata": {},
     "source": [
      "The results using bigrams is a little better, utilizing more nouns and verbs rather than just a disjoint of conjunctions, Improving grammar. However little context is still ever is constructed."
     ]
    },
    {
     "cell_type": "code",
     "collapsed": false,
     "input": [
      "print \"Random Bigrams:\\n\", random2"
     ],
     "language": "python",
     "metadata": {},
     "outputs": [
      {
       "output_type": "stream",
       "stream": "stdout",
       "text": [
        "Random Bigrams:\n",
        "cystic fibrosis haemophilia and heating he says little sexual activity goes on the smaller storm saturn uranus is large parts per hour or pda to show as a one-to-seven scale of australia tasmania 's second one critic says she will become more politically risky for squid world once aerosol levels stayed nutritious and can tune with professor of the helmet conceals an ancestor fossil in the iter in t-shirts bearing weight was found the compacting that different levels of its very small group with broader and tunnel last month the fossil in a dose that if you feeling tired when it has\n"
       ]
      }
     ],
     "prompt_number": 86
    },
    {
     "cell_type": "markdown",
     "metadata": {},
     "source": [
      "By the time we reach trigrams, we can Begin to better see sentence like structures including beginning and termination the sentences as well as improved transitions from token the token demonstrating better grammatical structure and humorous contextual topics."
     ]
    },
    {
     "cell_type": "code",
     "collapsed": false,
     "input": [
      "print \"Random Trigrams:\\n\", random3"
     ],
     "language": "python",
     "metadata": {},
     "outputs": [
      {
       "output_type": "stream",
       "stream": "stdout",
       "text": [
        "Random Trigrams:\n",
        "cystic fibrosis affects 30,000 children and young people also known as cellulosic technology to be tracked down and given a demonstration of rna-induced transmission of heredity rassoulzadegan says rna interference technology that undoes the blurring effects of 'enculturation on the ocean and use ultrasound for their research in stuttgart and us aeronautics experts the swiss-based agency says spews more than 300 ngarrinjeri people remains were sent to customers of the ball where it would also install two new species of ancient greece may have at least 10 maybe as many of the diazinon pesticide there was poor air circulation and unacceptably high levels\n"
       ]
      }
     ],
     "prompt_number": 87
    },
    {
     "cell_type": "markdown",
     "metadata": {},
     "source": [
      "In order to compare our three models utilizing unigrams, bigrams and trigrams, We can utilize a commonly known metric such as Perplexity. Perplexity Intuitively describes the weighted average branching factor a given model may have when deciding among candidate future words given a sequence of samples. Here, our perplexity function Simply takes the type of ngram, the text to use, as well as the frequency distribution for that same ngram. From there it multiplies the token probability by summing up the log probabilities, then normalizes that probability based upon the number of samples given."
     ]
    },
    {
     "cell_type": "markdown",
     "metadata": {},
     "source": [
      "Here we can see, what makes intuitive sense, that as our linguistic model becomes more advanced by increasing the dimension of ngrams used, the perplexity of the model goes down. Equivalently, because each token in the trigram is embedded with more valuable context, such as the previous words observed in the sequence, The model can remain more confident in narrowing down the range of possibilities for future candidate words."
     ]
    },
    {
     "cell_type": "code",
     "collapsed": false,
     "input": [
      "print \"Unigram Perplexity:\", ugm.perplexity(text.tokens)\n",
      "print \"Bigram  Perplexity:\", bgm.perplexity(text.tokens)\n",
      "print \"Trigram Perplexity:\", tgm.perplexity(text.tokens)"
     ],
     "language": "python",
     "metadata": {},
     "outputs": [
      {
       "output_type": "stream",
       "stream": "stdout",
       "text": [
        "Unigram Perplexity: "
       ]
      },
      {
       "output_type": "stream",
       "stream": "stdout",
       "text": [
        "1332.63073889\n",
        "Bigram  Perplexity: "
       ]
      },
      {
       "output_type": "stream",
       "stream": "stdout",
       "text": [
        "52.5412455217\n",
        "Trigram Perplexity: "
       ]
      },
      {
       "output_type": "stream",
       "stream": "stdout",
       "text": [
        "3.65289322627\n"
       ]
      }
     ],
     "prompt_number": 88
    }
   ],
   "metadata": {}
  }
 ]
}