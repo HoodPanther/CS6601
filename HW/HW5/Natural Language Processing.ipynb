{
 "metadata": {
  "name": ""
 },
 "nbformat": 3,
 "nbformat_minor": 0,
 "worksheets": [
  {
   "cells": [
    {
     "cell_type": "heading",
     "level": 1,
     "metadata": {},
     "source": [
      "Natural Language Processing"
     ]
    },
    {
     "cell_type": "markdown",
     "metadata": {},
     "source": [
      "Ruffin White  \n",
      "CS6601  \n",
      "HW5"
     ]
    },
    {
     "cell_type": "heading",
     "level": 2,
     "metadata": {},
     "source": [
      "NGram Models and Grammars"
     ]
    },
    {
     "cell_type": "markdown",
     "metadata": {},
     "source": [
      "In this homework we will look into two approaches two natural language processing. One approach is looking at a document as a loose collection of words or a loose collection of strings of words called an ngram. Furthermore, we will explore parsing using context free grammars and their relation to hidden Markov models. The reading associated with this homework is AIMA chapter 22 and 23."
     ]
    },
    {
     "cell_type": "heading",
     "level": 3,
     "metadata": {},
     "source": [
      "1) Markov Model vs Probabilistic Context-free Grammar: 20 Points"
     ]
    },
    {
     "cell_type": "markdown",
     "metadata": {},
     "source": [
      "Probabilistic context-free grammars (PCFG) are a super set of Markov models (probabilistic\n",
      "regular grammars). Write down the PCFG for the following Markov model."
     ]
    },
    {
     "cell_type": "code",
     "collapsed": false,
     "input": [],
     "language": "python",
     "metadata": {},
     "outputs": []
    },
    {
     "cell_type": "heading",
     "level": 3,
     "metadata": {},
     "source": [
      "2) Hidden Markov Model vs Probabilistic Context-free Grammar: 20 Points"
     ]
    },
    {
     "cell_type": "markdown",
     "metadata": {},
     "source": [
      "Recall the lecture and reading on hidden Markov models. What is the equivalent of the Viterbi algorithm for probabilistic context-free grammars? What is the equivalent of the Baum Welch algorithm for grammars? Can you represent a hidden Markov model as a PCFG and if yes how? Write one paragraph for each of the questions and explain your answer."
     ]
    },
    {
     "cell_type": "code",
     "collapsed": false,
     "input": [],
     "language": "python",
     "metadata": {},
     "outputs": []
    },
    {
     "cell_type": "heading",
     "level": 3,
     "metadata": {},
     "source": [
      "3) Expressiveness of Hidden Markov Models and NGrams: 10 Points"
     ]
    },
    {
     "cell_type": "markdown",
     "metadata": {},
     "source": [
      "Describe the di\u000b",
      "\n",
      "\n",
      "\n",
      "erence as well as similarities between hidden Markov models and ngrams. Particularly, how does the HMM topology relate to relate to bigrams. Are there transitions, too? Argue using Markov order."
     ]
    },
    {
     "cell_type": "code",
     "collapsed": false,
     "input": [],
     "language": "python",
     "metadata": {},
     "outputs": []
    },
    {
     "cell_type": "heading",
     "level": 3,
     "metadata": {},
     "source": [
      "4) NGram estimation: 50 Points"
     ]
    },
    {
     "cell_type": "markdown",
     "metadata": {},
     "source": [
      "AIMA 22.1) This exercise explores the quality of the n-gram model of language. Find or create a monolingual corpus of 100,000 words or more. Segment it into words, and compute the frequency of each word. How many distinct words are there? Also count frequencies of bigrams (two consecutive words) and trigrams (three consecutive words). Now use those frequencies to generate language: from the unigram, bigram, and trigram models, in turn, generate a 100-word text by making random choices according to the frequency counts. Compare the three generated texts with actual language. Finally, calculate the perplexity of each model."
     ]
    },
    {
     "cell_type": "markdown",
     "metadata": {},
     "source": [
      "First we'll start off by importing a useful natural language processing toolkit for Python used for reading corpus, and interacting with the textual database. This Python library can be found available at its homepage: http://nltk.org/"
     ]
    },
    {
     "cell_type": "code",
     "collapsed": false,
     "input": [
      "import nltk"
     ],
     "language": "python",
     "metadata": {},
     "outputs": [],
     "prompt_number": 1
    },
    {
     "cell_type": "markdown",
     "metadata": {},
     "source": [
      "Now will read in our corpus data. Some issues were had when reading from the Unicode codec, so the file was then converted to ASCII format. Shown just below is an excerpt from the first 600 characters within the corpus."
     ]
    },
    {
     "cell_type": "code",
     "collapsed": false,
     "input": [
      "f = open('science_ASCII.txt')\n",
      "raw = f.read()\n",
      "print raw[0:600]"
     ],
     "language": "python",
     "metadata": {},
     "outputs": [
      {
       "output_type": "stream",
       "stream": "stdout",
       "text": [
        "Cystic fibrosis affects 30,000 children and young adults in the US alone\n",
        "Inhaling the mists of salt water can reduce the pus and infection that fills the airways of cystic fibrosis sufferers, although side effects include a nasty coughing fit and a harsh taste. \n",
        "That's the conclusion of two studies published in this week's issue of The New England Journal of Medicine.\n",
        "They found that inhaling a mist with a salt content of 7 or 9% improved lung function and, in some cases, produced less absenteeism from school or work. \n",
        "Cystic fibrosis, a progressive and frequently fatal genetic disease that af\n"
       ]
      }
     ],
     "prompt_number": 2
    },
    {
     "cell_type": "markdown",
     "metadata": {},
     "source": [
      "From here we will tokenize the raw ASCII data/string into segments of words. We can either define the RegEx format to use when segmenting words of characters, or utilize NLTK's own word tokenizer. Shown below are the first 100 tokens parsed from the main text."
     ]
    },
    {
     "cell_type": "code",
     "collapsed": false,
     "input": [
      "#tokenizer = nltk.RegexpTokenizer(r'\\w+')\n",
      "#tokens = tokenizer.tokenize(raw)\n",
      "tokens = nltk.word_tokenize(raw)\n",
      "print tokens[0:100]"
     ],
     "language": "python",
     "metadata": {},
     "outputs": [
      {
       "output_type": "stream",
       "stream": "stdout",
       "text": [
        "['Cystic', 'fibrosis', 'affects', '30,000', 'children', 'and', 'young', 'adults', 'in', 'the', 'US', 'alone', 'Inhaling', 'the', 'mists', 'of', 'salt', 'water', 'can', 'reduce', 'the', 'pus', 'and', 'infection', 'that', 'fills', 'the', 'airways', 'of', 'cystic', 'fibrosis', 'sufferers', ',', 'although', 'side', 'effects', 'include', 'a', 'nasty', 'coughing', 'fit', 'and', 'a', 'harsh', 'taste.', 'That', \"'s\", 'the', 'conclusion', 'of', 'two', 'studies', 'published', 'in', 'this', 'week', \"'s\", 'issue', 'of', 'The', 'New', 'England', 'Journal', 'of', 'Medicine.', 'They', 'found', 'that', 'inhaling', 'a', 'mist', 'with', 'a', 'salt', 'content', 'of', '7', 'or', '9', '%', 'improved', 'lung', 'function', 'and', ',', 'in', 'some', 'cases', ',', 'produced', 'less', 'absenteeism', 'from', 'school', 'or', 'work.', 'Cystic', 'fibrosis', ',', 'a']\n"
       ]
      }
     ],
     "prompt_number": 3
    },
    {
     "cell_type": "markdown",
     "metadata": {},
     "source": [
      "The tokens we have gathered however include not only words but also nonalphanumeric characters Including mainly of commas as and quotations marks. We could have used a RegEx syntax to omit such tokens. However for simplicity we can just make a list of tokens to remove that consist solely of any nonalphanumeric character."
     ]
    },
    {
     "cell_type": "code",
     "collapsed": false,
     "input": [
      "remove = ['~','!','@','#','$','%','^','&','*','(',\n",
      "          ')','-','_','[',']','{','}','\\\\','|','<',\n",
      "          '>','.',';',':','/','?',\"'\",'\"',',',\n",
      "          \"''\",\"``\",\"'.\"]\n",
      "ugs = []\n",
      "for token in tokens:\n",
      "    if not token in remove:\n",
      "        ugs.append(token)"
     ],
     "language": "python",
     "metadata": {},
     "outputs": [],
     "prompt_number": 4
    },
    {
     "cell_type": "markdown",
     "metadata": {},
     "source": [
      "Now that we have a list of filtered tokens mainly consisting of just words and numbers, this list of tokens can serve as both our primary text and list of unigrams. From this we can now generate a frequency distribution that basically counts the occurrence of each unigram. Shown below are the top 100 most frequent unigrams (In descending order of frequency) within the text."
     ]
    },
    {
     "cell_type": "code",
     "collapsed": false,
     "input": [
      "text = nltk.Text(ugs)\n",
      "fd1 = nltk.FreqDist(ugs)\n",
      "print fd1.samples()[0:100]"
     ],
     "language": "python",
     "metadata": {},
     "outputs": [
      {
       "output_type": "stream",
       "stream": "stdout",
       "text": [
        "['the', 'of', 'to', 'and', 'a', 'in', 'that', 'is', 'The', 'says', \"'s\", 'for', 'are', 'be', 'it', 'have', 'on', 'with', 'as', 'from', 'at', 'by', 'they', 'says.', 'or', 'an', 'was', 'he', 'more', 'their', 'which', 'has', 'this', 'can', 'not', 'could', 'were', 'than', 'But', 'will', 'also', 'been', 'researchers', 'about', 'University', 'who', 'we', 'one', 'new', 'found', 'but', 'other', 'would', 'people', 'study', 'may', 'It', 'into', 'had', \"n't\", 'research', 'you', 'when', 'Dr', 'years', 'there', 'up', 'say', 'like', 'its', 'out', 'scientists', 'some', 'do', 'This', 'used', 'how', 'team', 'A', 'such', 'first', 'two', 'what', 'In', 'them', 'They', 'Australian', 'because', 'his', 'Professor', 'He', 'only', 'these', 'so', 'We', 'all', 'very', 'if', 'time', 'Australia']\n"
       ]
      }
     ],
     "prompt_number": 5
    },
    {
     "cell_type": "markdown",
     "metadata": {},
     "source": [
      "By counting the number of samples within our frequency distribution, we can derive the number of unique unigrams as well as plot the frequency of say the top 25 unigrams found. As expected, conjunctions within the English language, such as \"the\", \"of\", \"to\", \"and\" are by far the most frequently found words within the given English corpus."
     ]
    },
    {
     "cell_type": "code",
     "collapsed": false,
     "input": [
      "print 'The Numer of distinct Unigrams:',len(fd1.samples())\n",
      "fd1.plot(25)"
     ],
     "language": "python",
     "metadata": {},
     "outputs": [
      {
       "output_type": "stream",
       "stream": "stdout",
       "text": [
        "The Numer of distinct Unigrams: 30883\n"
       ]
      },
      {
       "output_type": "display_data",
       "png": "[encoded data removed]"
      }
     ],
     "prompt_number": 6
    },
    {
     "cell_type": "markdown",
     "metadata": {},
     "source": [
      "We can do the same for bigrams by searching the same text and building a similar frequency distribution. Shown below are an example of the top 50 most frequent bigrams in descending order frequency."
     ]
    },
    {
     "cell_type": "code",
     "collapsed": false,
     "input": [
      "bgs = nltk.bigrams(text)\n",
      "fd2 = nltk.FreqDist(bgs)\n",
      "print fd2.samples()[0:50]"
     ],
     "language": "python",
     "metadata": {},
     "outputs": [
      {
       "output_type": "stream",
       "stream": "stdout",
       "text": [
        "[('of', 'the'), ('in', 'the'), ('to', 'the'), ('at', 'the'), ('he', 'says.'), ('on', 'the'), ('from', 'the'), ('to', 'be'), ('of', 'a'), ('University', 'of'), ('and', 'the'), ('that', 'the'), ('says', 'the'), ('in', 'a'), ('the', 'University'), ('for', 'the'), ('with', 'the'), ('have', 'been'), ('by', 'the'), ('is', 'a'), ('as', 'a'), ('with', 'a'), ('to', 'a'), ('the', 'first'), ('the', 'researchers'), ('such', 'as'), ('has', 'been'), ('the', 'journal'), ('it', \"'s\"), ('is', 'the'), ('says.', 'The'), ('could', 'be'), ('it', 'is'), ('the', 'same'), ('can', 'be'), ('will', 'be'), ('He', 'says'), ('It', \"'s\"), ('The', 'researchers'), ('into', 'the'), ('as', 'the'), ('may', 'be'), ('to', 'have'), ('a', 'new'), ('more', 'than'), ('do', \"n't\"), ('according', 'to'), ('one', 'of'), ('is', 'that'), ('she', 'says.')]\n"
       ]
      }
     ],
     "prompt_number": 7
    },
    {
     "cell_type": "markdown",
     "metadata": {},
     "source": [
      "We can clearly see that basic pairs of English conjunctions are by far the most frequent within the corpus. We can also see that by incrementing from unigrams to bigrams has also increased the number of unique samples derived from our document."
     ]
    },
    {
     "cell_type": "code",
     "collapsed": false,
     "input": [
      "print 'The Numer of distinct Bigrams:',len(fd2.samples())\n",
      "fd2.plot(25)"
     ],
     "language": "python",
     "metadata": {},
     "outputs": [
      {
       "output_type": "stream",
       "stream": "stdout",
       "text": [
        "The Numer of distinct Bigrams: "
       ]
      },
      {
       "output_type": "stream",
       "stream": "stdout",
       "text": [
        "193241\n"
       ]
      },
      {
       "output_type": "display_data",
       "png": "[encoded data removed]"
      }
     ],
     "prompt_number": 8
    },
    {
     "cell_type": "markdown",
     "metadata": {},
     "source": [
      "We can again do the same for trigrams. Shown below are the top 25 most frequent trigrams listed in descending order of frequency."
     ]
    },
    {
     "cell_type": "code",
     "collapsed": false,
     "input": [
      "tgs = nltk.trigrams(text)\n",
      "fd3 = nltk.FreqDist(tgs)\n",
      "print fd3.samples()[0:25]"
     ],
     "language": "python",
     "metadata": {},
     "outputs": [
      {
       "output_type": "stream",
       "stream": "stdout",
       "text": [
        "[('the', 'University', 'of'), ('in', 'the', 'journal'), ('at', 'the', 'University'), ('one', 'of', 'the'), ('issue', 'of', 'the'), ('of', 'the', 'University'), ('of', 'the', 'journal'), ('he', 'says.', 'The'), ('be', 'able', 'to'), ('from', 'the', 'University'), ('published', 'in', 'the'), ('today', 'in', 'the'), ('part', 'of', 'the'), ('as', 'well', 'as'), ('the', 'world', \"'s\"), ('be', 'used', 'to'), ('He', 'says', 'the'), ('the', 'researchers', 'say.'), ('is', 'the', 'first'), ('director', 'of', 'the'), ('according', 'to', 'a'), ('million', 'years', 'ago'), ('the', 'number', 'of'), ('more', 'likely', 'to'), ('a', 'lot', 'of')]\n"
       ]
      }
     ],
     "prompt_number": 9
    },
    {
     "cell_type": "markdown",
     "metadata": {},
     "source": [
      "Now looking at the frequency distribution of trigrams, we can gain some insight Of the most frequent context within the corpus from the given keys of each count value. By observing trigrams such as \"the University of\" or \"in the Journal\", we can come to a conclusion that the most frequent topics are rather academic/research or perhaps medical and pharmaceutical. We can also notice how that although the number of unique tokens has increased, the distribution among the most frequent ngrams has narrowed. Leaving a much more lopsided distribution of frequency in ngrams that coincide with the corpus's main topic."
     ]
    },
    {
     "cell_type": "code",
     "collapsed": false,
     "input": [
      "print 'The Numer of distinct Trigrams:',len(fd3.samples())\n",
      "fd3.plot(25)"
     ],
     "language": "python",
     "metadata": {},
     "outputs": [
      {
       "output_type": "stream",
       "stream": "stdout",
       "text": [
        "The Numer of distinct Trigrams: "
       ]
      },
      {
       "output_type": "stream",
       "stream": "stdout",
       "text": [
        "314180\n"
       ]
      },
      {
       "output_type": "display_data",
       "png": "[encoded data removed]"
      }
     ],
     "prompt_number": 10
    },
    {
     "cell_type": "markdown",
     "metadata": {},
     "source": [
      "In order to reconstruct a random passage based upon a weighted choice derived from the frequency of each ngram, we can create a weighted random generator that given a list of weights, returns an index that is randomly selected in frequent proportion of that with of the index's own weight. Here we can simply make this a class that preallocate a running weighted sum of totals as to randomly later bisect for quick and proportional selection during query time."
     ]
    },
    {
     "cell_type": "code",
     "collapsed": false,
     "input": [
      "import bisect\n",
      "class WeightedRandomGenerator(object):\n",
      "    '''A WRG using Preprocessing\n",
      "        By Eli Bendersky '''\n",
      "    def __init__(self, weights):\n",
      "        self.totals = []\n",
      "        running_total = 0\n",
      "\n",
      "        for w in weights:\n",
      "            running_total += w\n",
      "            self.totals.append(running_total)\n",
      "\n",
      "    def next(self):\n",
      "        rnd = random.random() * self.totals[-1]\n",
      "        return bisect.bisect_right(self.totals, rnd)\n",
      "\n",
      "    def __call__(self):\n",
      "        return self.next()"
     ],
     "language": "python",
     "metadata": {},
     "outputs": [],
     "prompt_number": 11
    },
    {
     "cell_type": "markdown",
     "metadata": {},
     "source": [
      "Here we can simply make a weighted random generator for each ngram frequency distribution"
     ]
    },
    {
     "cell_type": "code",
     "collapsed": false,
     "input": [
      "wrg1 = WeightedRandomGenerator(fd1.values())\n",
      "wrg2 = WeightedRandomGenerator(fd2.values())\n",
      "wrg3 = WeightedRandomGenerator(fd3.values())"
     ],
     "language": "python",
     "metadata": {},
     "outputs": [],
     "prompt_number": 12
    },
    {
     "cell_type": "markdown",
     "metadata": {},
     "source": [
      "Then generate three growing strings for each ngram by repetitively randomly selecting frequent tokens within each ngram frequency distribution"
     ]
    },
    {
     "cell_type": "code",
     "collapsed": false,
     "input": [
      "random1 = ''\n",
      "random2 = ''\n",
      "random3 = ''\n",
      "for i in range(100):\n",
      "    random1 +=  ''.join(fd1.keys()[wrg1.next()]) + ' | '\n",
      "    random2 += ' '.join(fd2.keys()[wrg2.next()]) + ' | '\n",
      "    random3 += ' '.join(fd3.keys()[wrg3.next()]) + ' | '"
     ],
     "language": "python",
     "metadata": {},
     "outputs": [],
     "prompt_number": 13
    },
    {
     "cell_type": "markdown",
     "metadata": {},
     "source": [
      "The results from generating a random passage using just unigrams is both rather illegible as well as nonsensical as very little grammatical structure is demonstrated while simultaneously little to none context is ever constructed."
     ]
    },
    {
     "cell_type": "code",
     "collapsed": false,
     "input": [
      "print \"Random Unigrams:\\n\", random1"
     ],
     "language": "python",
     "metadata": {},
     "outputs": [
      {
       "output_type": "stream",
       "stream": "stdout",
       "text": [
        "Random Unigrams:\n",
        "feel | a | study | examine | with | up | and | or | weapons | says | from | University | a | Chlamydia | This | to | NICNAS | move | is | until | a | require | values | help. | make | Melissa | spacecraft | the | Sun | which | cultural | can | arms | short-term | called | than | black | lead | relatively | Experts | to | down | entitled | resection | That | as | an | found | But | been | of | the | the | researchers | 's | n't | the | dilemma | signals | plants | a | move | enzymes | them | The | miles | the | unlikely | pay | screen | of | are | The | people | creatures | and | telescope | Nature. | Associate | thought | chair | been | so | take | get | that | timing | three | DSM | and | is | The | sensors. | beautifully | potential | and | rising | the | piece | this | \n"
       ]
      }
     ],
     "prompt_number": 14
    },
    {
     "cell_type": "markdown",
     "metadata": {},
     "source": [
      "The results using bigrams is a little better, utilizing more nouns and verbs rather than just a disjoint of conjunctions, Improving grammar. However little context is still ever is constructed."
     ]
    },
    {
     "cell_type": "code",
     "collapsed": false,
     "input": [
      "print \"Random Bigrams:\\n\", random2"
     ],
     "language": "python",
     "metadata": {},
     "outputs": [
      {
       "output_type": "stream",
       "stream": "stdout",
       "text": [
        "Random Bigrams:\n",
        "the past | study Rio | more likely | aware of | Anglo-Saxon elite | of those | cancer. The | says surveys | instruments weighing | deal with | His team | linked with | mirror-image genitalia. | its temperature | a chance | it analysed | 's the | it from | Researchers found | returned to | teacher and | thieving treasures | names with | moon. Cassini | to better | they are | Smoot have | The study | nearby Kangaroo | mistake to | was introduced | 's findings | enough water. | But ants | Los Angeles | mid-latitude temperatures | put in | for people | is scooped | will result | in liquids | and abused. | theories that | system could | only about | would detect | method is | asteroid watchers | yabbies in | Relaxing with | in a | common talent | and Phillips | In total | the most | Shane Brun | that goal | depleted already | tissue to | transparent and | the mother | movement can | long puzzled | can modify | adding more | at an | Professor Rose | cell of | misguided but | territory says | and contradictory | and pants | tropical cyclones | typically brings | in Hobart. | business by | six men | researchers to | 's legs | just like | the view | the balance | very positive | we 're | That means | of prion | book at | hospital CT | that flying | is believed | which are | of Western | icy world | 6000 years | says archaeological | precedent The | from Australia | planet and | help fill | and mitochondrial | \n"
       ]
      }
     ],
     "prompt_number": 15
    },
    {
     "cell_type": "markdown",
     "metadata": {},
     "source": [
      "By the time we reach trigrams, we can Begin to better see sentence like structures including beginning and termination the sentences as well as improved transitions from token the token demonstrating better grammatical structure and humorous contextual topics."
     ]
    },
    {
     "cell_type": "code",
     "collapsed": false,
     "input": [
      "print \"Random Trigrams:\\n\", random3"
     ],
     "language": "python",
     "metadata": {},
     "outputs": [
      {
       "output_type": "stream",
       "stream": "stdout",
       "text": [
        "Random Trigrams:\n",
        "The dread is | is locked in | could help in | say. In the | blast are also | antioxidant qualities Wheatgrass | 're waiting with | that could damage | at the forefront | necessarily refer to | in culture over | Facility. The double | a superstitious bent. | fusion test reactor | to a car | altimetry which measures | items or goods | have discovered that | photoreceptors of the | conference. Radio frequency | vocalisations of three | and whether their | legs from two | has become dimmer | smithereens sending out | last week at | the Kyoto University | is this pre-existing | communities they support. | The researchers however | hairless Kapia. Lum | Darwent says domestication | the possible ways | newborn blue stars | Bulletin. The video | And this is | will do is | in a very | irritants in the | despite having lost | Her study believed | has been engineered | does vary in | tumour 's spread | it died was | the impact would | sensitive parts of | include a nasty | Athens and Sparta | them to ensure | confirmed that shear | Islanders who eat | trying to unravel | males. Dr Diana | cause a marked | 's south pole | number concept emerged | of platelets. The | in the first | Adding circumstantial evidence | to replicate his | the case Luciano | says. And while | comparison is loaded | which helps find | is that Antarctica | the fuel and | responsible for the | spacecraft the oldest | of the brain | as a type | those you 'd | but easier to | 's Joint Institute | of finger counting. | and one that | farmers and shepherds | and shake it | due to habitat | too much ultraviolet | Wales and Scotland. | about premature ejaculation | interfering RNA molecules | formations from above | little longer to | RNAi therapies enter | are another solution | hydrogen created minutes | and organ donors | blacked out for | moving into the | marmoset and tamarin | I 'm suggesting | World Archaeological Congress | or Cinderella or | to 'take once | swimming in today | We 're aware | this likely trend. | rather than a | \n"
       ]
      }
     ],
     "prompt_number": 16
    },
    {
     "cell_type": "raw",
     "metadata": {},
     "source": [
      "import numpy as np\n",
      "def perplexity(n,ngs,fd):\n",
      "    logProbSum = 0\n",
      "    for gram in ngs:\n",
      "        logProbSum += log(fd.freq(gram))\n",
      "    logPerplex = -logProbSum/(len(ngs)*n)\n",
      "    perplex = exp(logPerplex)\n",
      "    return perplex"
     ]
    },
    {
     "cell_type": "markdown",
     "metadata": {},
     "source": [
      "In order to compare our three models utilizing unigrams, bigrams and trigrams, We can utilize a commonly known metric such as Perplexity. Perplexity Intuitively describes the weighted average branching factor a given model may have when deciding among candidate future words given a sequence of samples. Here, our perplexity function Simply takes the type of ngram, the text to use, as well as the frequency distribution for that same ngram. From there it multiplies the token probability by summing up the log probabilities, then normalizes that probability based upon the number of samples given."
     ]
    },
    {
     "cell_type": "code",
     "collapsed": false,
     "input": [
      "import numpy as np\n",
      "def perplexity(n,text,fd):\n",
      "    logProbSum = 0\n",
      "    if n == 1:\n",
      "        for i, word in enumerate(text):\n",
      "            prob = fd.freq(word)\n",
      "            if prob:\n",
      "                logProbSum += log(prob)\n",
      "    else:\n",
      "        for i, word in enumerate(text):\n",
      "            ng = []\n",
      "            for j in reversed(range(n)):\n",
      "                ng.append(text[i-j])\n",
      "            prob = fd.freq(tuple(ng))\n",
      "            if prob:\n",
      "                logProbSum += log(prob)\n",
      "    logPerplex = -logProbSum/(len(text)*n)\n",
      "    perplex = exp(logPerplex)\n",
      "    return perplex"
     ],
     "language": "python",
     "metadata": {},
     "outputs": [],
     "prompt_number": 17
    },
    {
     "cell_type": "markdown",
     "metadata": {},
     "source": [
      "Here we can see, what makes intuitive sense, that as our linguistic model becomes more advanced by increasing the dimension of ngrams used, the perplexity of the model goes down. Equivalently, because each token in the trigram is embedded with more valuable context, such as the previous words observed in the sequence, The model can remain more confident in narrowing down the range of possibilities for future candidate words."
     ]
    },
    {
     "cell_type": "code",
     "collapsed": false,
     "input": [
      "print \"Unigram Perplexity:\", perplexity(1, text.tokens, fd1)\n",
      "print \"Bigram  Perplexity:\", perplexity(2, text.tokens, fd2)\n",
      "print \"Trigram Perplexity:\", perplexity(3, text.tokens, fd3)"
     ],
     "language": "python",
     "metadata": {},
     "outputs": [
      {
       "output_type": "stream",
       "stream": "stdout",
       "text": [
        "Unigram Perplexity: "
       ]
      },
      {
       "output_type": "stream",
       "stream": "stdout",
       "text": [
        "1745.82733528\n",
        "Bigram  Perplexity: "
       ]
      },
      {
       "output_type": "stream",
       "stream": "stdout",
       "text": [
        "283.864695824\n",
        "Trigram Perplexity: "
       ]
      },
      {
       "output_type": "stream",
       "stream": "stdout",
       "text": [
        "64.3994671722\n"
       ]
      }
     ],
     "prompt_number": 18
    },
    {
     "cell_type": "markdown",
     "metadata": {},
     "source": [
      "Here we can try using NLTK's native perplexity metric for comparison and see the similar trend in ngram behavior."
     ]
    },
    {
     "cell_type": "code",
     "collapsed": false,
     "input": [
      "from nltk.model.ngram import NgramModel\n",
      "from nltk.probability import LidstoneProbDist\n",
      "\n",
      "estimator = lambda fdist, bins: LidstoneProbDist(fdist, 0.0)\n",
      "ugm=NgramModel(1, ugs, estimator=estimator)\n",
      "bgm=NgramModel(2, bgs, estimator=estimator)\n",
      "tgm=NgramModel(3, tgs, estimator=estimator)"
     ],
     "language": "python",
     "metadata": {},
     "outputs": [],
     "prompt_number": 19
    },
    {
     "cell_type": "code",
     "collapsed": false,
     "input": [
      "print \"Unigram Perplexity:\", ugm.perplexity(text.tokens)\n",
      "print \"Bigram  Perplexity:\", bgm.perplexity(text.tokens)\n",
      "print \"Trigram Perplexity:\", tgm.perplexity(text.tokens)"
     ],
     "language": "python",
     "metadata": {},
     "outputs": [
      {
       "output_type": "stream",
       "stream": "stdout",
       "text": [
        "Unigram Perplexity: "
       ]
      },
      {
       "output_type": "stream",
       "stream": "stdout",
       "text": [
        "1745.82733529\n",
        "Bigram  Perplexity: "
       ]
      },
      {
       "output_type": "stream",
       "stream": "stdout",
       "text": [
        "46.1582106798\n",
        "Trigram Perplexity: "
       ]
      },
      {
       "output_type": "stream",
       "stream": "stdout",
       "text": [
        "3.3147802637\n"
       ]
      }
     ],
     "prompt_number": 20
    }
   ],
   "metadata": {}
  }
 ]
}