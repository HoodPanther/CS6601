{
 "metadata": {
  "name": ""
 },
 "nbformat": 3,
 "nbformat_minor": 0,
 "worksheets": [
  {
   "cells": [
    {
     "cell_type": "code",
     "collapsed": false,
     "input": [
      "import numpy as np"
     ],
     "language": "python",
     "metadata": {},
     "outputs": [],
     "prompt_number": 1
    },
    {
     "cell_type": "code",
     "collapsed": false,
     "input": [
      "class isolation(object):\n",
      "    def __init__(self, shape, players):\n",
      "        \"\"\"Initialize Isolation Game\"\"\"\n",
      "        self.legend = {'unblocked':0,\n",
      "                       'blocked':1}\n",
      "        self.shape = shape\n",
      "        self.initBoard()\n",
      "        self.initPlayers(players)\n",
      "        self.showBoard()\n",
      "        \n",
      "    def initBoard(self):\n",
      "        \"\"\"Initialize Board\"\"\"\n",
      "        self.board = np.zeros(self.shape, dtype=int)\n",
      "    \n",
      "    def initPlayers(self, players):\n",
      "        \"\"\"Initialize Players\"\"\"\n",
      "        self.players = {}\n",
      "        for playerID, player in enumerate(players):\n",
      "            playerID += 2\n",
      "            player = {'playerID': playerID,\n",
      "                      'player': player,\n",
      "                      'spot': None}\n",
      "            self.players[playerID] = player\n",
      "    \n",
      "    def showBoard(self,raw=False):\n",
      "        \"\"\"Show Board\"\"\"\n",
      "        if raw:\n",
      "            print(self.board)\n",
      "        else:\n",
      "            self.showColumnLable()\n",
      "            for i, row in enumerate(self.board):\n",
      "                rowStr = str(\"%2d\" % (i+1)) + str(row)\n",
      "                print(rowStr)\n",
      "    \n",
      "    def showColumnLable(self):\n",
      "        \"\"\"Show Column Alpha Index\"\"\"\n",
      "        columnLable = '   '\n",
      "        for col in range(self.shape[1]):\n",
      "            quot, rem = divmod(col, 26)\n",
      "            if quot:\n",
      "                columnLable += chr(quot-1 + ord('A')) + chr(rem + ord('A'))\n",
      "            else:\n",
      "                columnLable += chr(rem + ord('A'))\n",
      "            columnLable += ' '\n",
      "        print(columnLable)\n",
      "    \n",
      "    def getMove(self, player):\n",
      "        \"\"\"Get Player Move\"\"\"\n",
      "        try:\n",
      "            move = player['player'].getMoveAI(self.board, self.legend, player['playerID'])\n",
      "        except:\n",
      "            print('Fail Whale Player:', player['playerID'])\n",
      "            raise Exception(\"Player Failer\")\n",
      "        if not self.isMove(move, player):\n",
      "            print('Bad Move Player:', playerID)\n",
      "            raise Exception(\"Player Move is Invalid\")\n",
      "        return move\n",
      "    \n",
      "    def allMoves(self, player):\n",
      "        \"\"\"Finds all the moves for a player\"\"\"\n",
      "        print('TODO')\n",
      "        if player['spot'] is None:\n",
      "            return np.vstack(np.where(self.board==self.legend['unblocked'])).T\n",
      "        else:\n",
      "            return np.vstack(np.where(self.board==self.legend['unblocked'])).T\n",
      "            \n",
      "    \n",
      "    def isDead(self, player):\n",
      "        \"\"\"Checks if Player is Dead\"\"\"\n",
      "        moves = self.allMoves(player)\n",
      "        if moves is None:\n",
      "            self.players.pop(player['playerID'])\n",
      "            return True\n",
      "        else:\n",
      "            return False\n",
      "        \n",
      "    def isMove(self, move, player):\n",
      "        \"\"\"Checks if Move is valid\"\"\"\n",
      "        print('TODO')\n",
      "        return True\n",
      "        \n",
      "    def playMove(self, player):\n",
      "        \"\"\"Let player move on the board\"\"\"\n",
      "        playerID = player['playerID']\n",
      "        newSpot = self.getMove(player)\n",
      "        oldSpot = self.players[playerID]['spot']\n",
      "        self.players[playerID]['spot'] = newSpot\n",
      "        self.board[tuple(newSpot)] = playerID\n",
      "        if oldSpot is not None:\n",
      "            self.board[tuple(oldSpot)] = self.legend['blocked']\n",
      "        \n",
      "    def isDone(self):\n",
      "        \"\"\"Checks if Game is done\"\"\"\n",
      "        return len(self.players) <= 1\n",
      "        \n",
      "    def playGame(self):\n",
      "        while not self.isDone():\n",
      "            players = self.players.itervalues()\n",
      "            for player in players:\n",
      "                if not self.isDead(player):\n",
      "                    self.playMove(player)\n",
      "                    self.showBoard()\n",
      "        print('And the Winner is:', self.players)"
     ],
     "language": "python",
     "metadata": {},
     "outputs": [],
     "prompt_number": 9
    },
    {
     "cell_type": "code",
     "collapsed": false,
     "input": [
      "class gameAI:\n",
      "    'Common base class for all AIs'\n",
      "    def __init__(self):\n",
      "        print \"Calling AI constructor\"\n",
      "    \n",
      "    def getMoveAI(self, board, legend, playerID):\n",
      "        print 'Calling AI method'\n",
      "    \n",
      "class myAI(gameAI):\n",
      "    'Class for my AI'\n",
      "    def __init__(self):\n",
      "        print \"Calling AI constructor\"\n",
      "    \n",
      "    def getMoveAI(self, board, legend, playerID):\n",
      "        print 'Calling AI method'\n",
      "        \n",
      "class mySelf(gameAI):\n",
      "    'Class to play as a human'\n",
      "    def __init__(self):\n",
      "        print \"Your AI is going down!\"\n",
      "    \n",
      "    def getMoveAI(self, board, legend, playerID):\n",
      "        move = {}\n",
      "        print('The legend is: ', legend)\n",
      "        print('You are player: ', playerID)\n",
      "        x = int(raw_input('Row: '))\n",
      "        y = int(raw_input('Column: '))\n",
      "        return [x,y]"
     ],
     "language": "python",
     "metadata": {},
     "outputs": [],
     "prompt_number": 10
    },
    {
     "cell_type": "code",
     "collapsed": false,
     "input": [
      "me = mySelf()\n",
      "miniMe = mySelf()\n",
      "players = [me, miniMe]\n",
      "game = isolation([5,5], players)"
     ],
     "language": "python",
     "metadata": {},
     "outputs": [
      {
       "output_type": "stream",
       "stream": "stdout",
       "text": [
        "Your AI is going down!\n",
        "Your AI is going down!\n",
        "   A B C D E \n",
        " 1[0 0 0 0 0]\n",
        " 2[0 0 0 0 0]\n",
        " 3[0 0 0 0 0]\n",
        " 4[0 0 0 0 0]\n",
        " 5[0 0 0 0 0]\n"
       ]
      }
     ],
     "prompt_number": 11
    },
    {
     "cell_type": "code",
     "collapsed": false,
     "input": [
      "game.playGame()"
     ],
     "language": "python",
     "metadata": {},
     "outputs": [
      {
       "output_type": "stream",
       "stream": "stdout",
       "text": [
        "TODO\n",
        "('The legend is: ', {'unblocked': 0, 'blocked': 1})\n",
        "('You are player: ', 2)\n"
       ]
      },
      {
       "name": "stdout",
       "output_type": "stream",
       "stream": "stdout",
       "text": [
        "Row: 0\n"
       ]
      },
      {
       "name": "stdout",
       "output_type": "stream",
       "stream": "stdout",
       "text": [
        "Column: 0\n"
       ]
      },
      {
       "output_type": "stream",
       "stream": "stdout",
       "text": [
        "TODO\n",
        "   A B C D E \n",
        " 0[2 0 0 0 0]\n",
        " 1[0 0 0 0 0]\n",
        " 2[0 0 0 0 0]\n",
        " 3[0 0 0 0 0]\n",
        " 4[0 0 0 0 0]\n",
        "TODO\n",
        "('The legend is: ', {'unblocked': 0, 'blocked': 1})\n",
        "('You are player: ', 3)\n"
       ]
      },
      {
       "name": "stdout",
       "output_type": "stream",
       "stream": "stdout",
       "text": [
        "Row: 0\n"
       ]
      },
      {
       "name": "stdout",
       "output_type": "stream",
       "stream": "stdout",
       "text": [
        "Column: 1\n"
       ]
      },
      {
       "output_type": "stream",
       "stream": "stdout",
       "text": [
        "TODO\n",
        "   A B C D E \n",
        " 0[2 3 0 0 0]\n",
        " 1[0 0 0 0 0]\n",
        " 2[0 0 0 0 0]\n",
        " 3[0 0 0 0 0]\n",
        " 4[0 0 0 0 0]\n",
        "TODO\n",
        "('The legend is: ', {'unblocked': 0, 'blocked': 1})\n",
        "('You are player: ', 2)\n"
       ]
      },
      {
       "name": "stdout",
       "output_type": "stream",
       "stream": "stdout",
       "text": [
        "Row: 4\n"
       ]
      },
      {
       "name": "stdout",
       "output_type": "stream",
       "stream": "stdout",
       "text": [
        "Column: 4\n"
       ]
      },
      {
       "output_type": "stream",
       "stream": "stdout",
       "text": [
        "TODO\n",
        "   A B C D E \n",
        " 0[1 3 0 0 0]\n",
        " 1[0 0 0 0 0]\n",
        " 2[0 0 0 0 0]\n",
        " 3[0 0 0 0 0]\n",
        " 4[0 0 0 0 2]\n",
        "TODO\n",
        "('The legend is: ', {'unblocked': 0, 'blocked': 1})\n",
        "('You are player: ', 3)\n"
       ]
      },
      {
       "name": "stdout",
       "output_type": "stream",
       "stream": "stdout",
       "text": [
        "Row: 4\n"
       ]
      },
      {
       "name": "stdout",
       "output_type": "stream",
       "stream": "stdout",
       "text": [
        "Column: 3\n"
       ]
      },
      {
       "output_type": "stream",
       "stream": "stdout",
       "text": [
        "TODO\n",
        "   A B C D E \n",
        " 0[1 1 0 0 0]\n",
        " 1[0 0 0 0 0]\n",
        " 2[0 0 0 0 0]\n",
        " 3[0 0 0 0 0]\n",
        " 4[0 0 0 3 2]\n",
        "TODO\n",
        "('The legend is: ', {'unblocked': 0, 'blocked': 1})\n",
        "('You are player: ', 2)\n"
       ]
      },
      {
       "name": "stdout",
       "output_type": "stream",
       "stream": "stdout",
       "text": [
        "Row: 4\n"
       ]
      },
      {
       "name": "stdout",
       "output_type": "stream",
       "stream": "stdout",
       "text": [
        "Column: 0\n"
       ]
      },
      {
       "output_type": "stream",
       "stream": "stdout",
       "text": [
        "TODO\n",
        "   A B C D E \n",
        " 0[1 1 0 0 0]\n",
        " 1[0 0 0 0 0]\n",
        " 2[0 0 0 0 0]\n",
        " 3[0 0 0 0 0]\n",
        " 4[2 0 0 3 1]\n",
        "TODO\n",
        "('The legend is: ', {'unblocked': 0, 'blocked': 1})\n",
        "('You are player: ', 3)\n"
       ]
      },
      {
       "name": "stdout",
       "output_type": "stream",
       "stream": "stdout",
       "text": [
        "Row: 0\n"
       ]
      },
      {
       "name": "stdout",
       "output_type": "stream",
       "stream": "stdout",
       "text": [
        "Column: 4\n"
       ]
      },
      {
       "output_type": "stream",
       "stream": "stdout",
       "text": [
        "TODO\n",
        "   A B C D E \n",
        " 0[1 1 0 0 3]\n",
        " 1[0 0 0 0 0]\n",
        " 2[0 0 0 0 0]\n",
        " 3[0 0 0 0 0]\n",
        " 4[2 0 0 1 1]\n",
        "TODO\n",
        "('The legend is: ', {'unblocked': 0, 'blocked': 1})\n",
        "('You are player: ', 2)\n"
       ]
      },
      {
       "name": "stdout",
       "output_type": "stream",
       "stream": "stdout",
       "text": [
        "Row: p\n"
       ]
      },
      {
       "ename": "Exception",
       "evalue": "Player Failer",
       "output_type": "pyerr",
       "traceback": [
        "\u001b[1;31m---------------------------------------------------------------------------\u001b[0m\n\u001b[1;31mException\u001b[0m                                 Traceback (most recent call last)",
        "\u001b[1;32m<ipython-input-5-ed0cb5924af3>\u001b[0m in \u001b[0;36m<module>\u001b[1;34m()\u001b[0m\n\u001b[1;32m----> 1\u001b[1;33m \u001b[0mgame\u001b[0m\u001b[1;33m.\u001b[0m\u001b[0mplayGame\u001b[0m\u001b[1;33m(\u001b[0m\u001b[1;33m)\u001b[0m\u001b[1;33m\u001b[0m\u001b[0m\n\u001b[0m",
        "\u001b[1;32m<ipython-input-2-ba8f50bd7eee>\u001b[0m in \u001b[0;36mplayGame\u001b[1;34m(self)\u001b[0m\n\u001b[0;32m     99\u001b[0m             \u001b[1;32mfor\u001b[0m \u001b[0mplayer\u001b[0m \u001b[1;32min\u001b[0m \u001b[0mplayers\u001b[0m\u001b[1;33m:\u001b[0m\u001b[1;33m\u001b[0m\u001b[0m\n\u001b[0;32m    100\u001b[0m                 \u001b[1;32mif\u001b[0m \u001b[1;32mnot\u001b[0m \u001b[0mself\u001b[0m\u001b[1;33m.\u001b[0m\u001b[0misDead\u001b[0m\u001b[1;33m(\u001b[0m\u001b[0mplayer\u001b[0m\u001b[1;33m)\u001b[0m\u001b[1;33m:\u001b[0m\u001b[1;33m\u001b[0m\u001b[0m\n\u001b[1;32m--> 101\u001b[1;33m                     \u001b[0mself\u001b[0m\u001b[1;33m.\u001b[0m\u001b[0mplayMove\u001b[0m\u001b[1;33m(\u001b[0m\u001b[0mplayer\u001b[0m\u001b[1;33m)\u001b[0m\u001b[1;33m\u001b[0m\u001b[0m\n\u001b[0m\u001b[0;32m    102\u001b[0m                     \u001b[0mself\u001b[0m\u001b[1;33m.\u001b[0m\u001b[0mshowBoard\u001b[0m\u001b[1;33m(\u001b[0m\u001b[1;33m)\u001b[0m\u001b[1;33m\u001b[0m\u001b[0m\n\u001b[0;32m    103\u001b[0m         \u001b[1;32mprint\u001b[0m\u001b[1;33m(\u001b[0m\u001b[1;34m'And the Winner is:'\u001b[0m\u001b[1;33m,\u001b[0m \u001b[0mself\u001b[0m\u001b[1;33m.\u001b[0m\u001b[0mplayers\u001b[0m\u001b[1;33m)\u001b[0m\u001b[1;33m\u001b[0m\u001b[0m\n",
        "\u001b[1;32m<ipython-input-2-ba8f50bd7eee>\u001b[0m in \u001b[0;36mplayMove\u001b[1;34m(self, player)\u001b[0m\n\u001b[0;32m     83\u001b[0m         \u001b[1;34m\"\"\"Let player move on the board\"\"\"\u001b[0m\u001b[1;33m\u001b[0m\u001b[0m\n\u001b[0;32m     84\u001b[0m         \u001b[0mplayerID\u001b[0m \u001b[1;33m=\u001b[0m \u001b[0mplayer\u001b[0m\u001b[1;33m[\u001b[0m\u001b[1;34m'playerID'\u001b[0m\u001b[1;33m]\u001b[0m\u001b[1;33m\u001b[0m\u001b[0m\n\u001b[1;32m---> 85\u001b[1;33m         \u001b[0mnewSpot\u001b[0m \u001b[1;33m=\u001b[0m \u001b[0mself\u001b[0m\u001b[1;33m.\u001b[0m\u001b[0mgetMove\u001b[0m\u001b[1;33m(\u001b[0m\u001b[0mplayer\u001b[0m\u001b[1;33m)\u001b[0m\u001b[1;33m\u001b[0m\u001b[0m\n\u001b[0m\u001b[0;32m     86\u001b[0m         \u001b[0moldSpot\u001b[0m \u001b[1;33m=\u001b[0m \u001b[0mself\u001b[0m\u001b[1;33m.\u001b[0m\u001b[0mplayers\u001b[0m\u001b[1;33m[\u001b[0m\u001b[0mplayerID\u001b[0m\u001b[1;33m]\u001b[0m\u001b[1;33m[\u001b[0m\u001b[1;34m'spot'\u001b[0m\u001b[1;33m]\u001b[0m\u001b[1;33m\u001b[0m\u001b[0m\n\u001b[0;32m     87\u001b[0m         \u001b[0mself\u001b[0m\u001b[1;33m.\u001b[0m\u001b[0mplayers\u001b[0m\u001b[1;33m[\u001b[0m\u001b[0mplayerID\u001b[0m\u001b[1;33m]\u001b[0m\u001b[1;33m[\u001b[0m\u001b[1;34m'spot'\u001b[0m\u001b[1;33m]\u001b[0m \u001b[1;33m=\u001b[0m \u001b[0mnewSpot\u001b[0m\u001b[1;33m\u001b[0m\u001b[0m\n",
        "\u001b[1;32m<ipython-input-2-ba8f50bd7eee>\u001b[0m in \u001b[0;36mgetMove\u001b[1;34m(self, player)\u001b[0m\n\u001b[0;32m     51\u001b[0m         \u001b[1;32mexcept\u001b[0m\u001b[1;33m:\u001b[0m\u001b[1;33m\u001b[0m\u001b[0m\n\u001b[0;32m     52\u001b[0m             \u001b[1;32mprint\u001b[0m\u001b[1;33m(\u001b[0m\u001b[1;34m'Fail Whale Player:'\u001b[0m\u001b[1;33m,\u001b[0m \u001b[0mplayer\u001b[0m\u001b[1;33m[\u001b[0m\u001b[1;34m'playerID'\u001b[0m\u001b[1;33m]\u001b[0m\u001b[1;33m)\u001b[0m\u001b[1;33m\u001b[0m\u001b[0m\n\u001b[1;32m---> 53\u001b[1;33m             \u001b[1;32mraise\u001b[0m \u001b[0mException\u001b[0m\u001b[1;33m(\u001b[0m\u001b[1;34m\"Player Failer\"\u001b[0m\u001b[1;33m)\u001b[0m\u001b[1;33m\u001b[0m\u001b[0m\n\u001b[0m\u001b[0;32m     54\u001b[0m         \u001b[1;32mif\u001b[0m \u001b[1;32mnot\u001b[0m \u001b[0mself\u001b[0m\u001b[1;33m.\u001b[0m\u001b[0misMove\u001b[0m\u001b[1;33m(\u001b[0m\u001b[0mmove\u001b[0m\u001b[1;33m,\u001b[0m \u001b[0mplayer\u001b[0m\u001b[1;33m)\u001b[0m\u001b[1;33m:\u001b[0m\u001b[1;33m\u001b[0m\u001b[0m\n\u001b[0;32m     55\u001b[0m             \u001b[1;32mprint\u001b[0m\u001b[1;33m(\u001b[0m\u001b[1;34m'Bad Move Player:'\u001b[0m\u001b[1;33m,\u001b[0m \u001b[0mplayerID\u001b[0m\u001b[1;33m)\u001b[0m\u001b[1;33m\u001b[0m\u001b[0m\n",
        "\u001b[1;31mException\u001b[0m: Player Failer"
       ]
      },
      {
       "output_type": "stream",
       "stream": "stdout",
       "text": [
        "('Fail Whale Player:', 2)\n"
       ]
      }
     ],
     "prompt_number": 5
    },
    {
     "cell_type": "code",
     "collapsed": false,
     "input": [],
     "language": "python",
     "metadata": {},
     "outputs": []
    }
   ],
   "metadata": {}
  }
 ]
}