{
 "metadata": {
  "name": "Search"
 },
 "nbformat": 3,
 "nbformat_minor": 0,
 "worksheets": [
  {
   "cells": [
    {
     "cell_type": "heading",
     "level": 1,
     "metadata": {},
     "source": [
      "Search"
     ]
    },
    {
     "cell_type": "heading",
     "level": 2,
     "metadata": {},
     "source": [
      "Auther: Ruffin White"
     ]
    },
    {
     "cell_type": "markdown",
     "metadata": {},
     "source": [
      "Import search functions"
     ]
    },
    {
     "cell_type": "code",
     "collapsed": false,
     "input": [
      "from search import *"
     ],
     "language": "python",
     "metadata": {},
     "outputs": [],
     "prompt_number": 1
    },
    {
     "cell_type": "markdown",
     "metadata": {},
     "source": [
      "Setup environment"
     ]
    },
    {
     "cell_type": "code",
     "collapsed": false,
     "input": [
      "only_roads = True\n",
      "graph = read_osm('atlanta.osm', only_roads)\n",
      "\n",
      "pointA_num = random.randint(0, len(graph.nodes()))\n",
      "pointB_num = random.randint(0, len(graph.nodes()))\n",
      "pointC_num = random.randint(0, len(graph.nodes()))\n",
      "\n",
      "pointA     = graph.node[graph.nodes()[pointA_num]]\n",
      "pointB     = graph.node[graph.nodes()[pointB_num]]\n",
      "pointC     = graph.node[graph.nodes()[pointC_num]]\n",
      "\n",
      "print \"\\n\\n----- 6601 Grad AI: Seaching ATLANTA ------\\n\\n\"\n",
      "print \"NUMBER OF NODES: \", len(graph.nodes())\n",
      "print \"NUMBER OF EDGES: \", len(graph.edges())\n",
      "print \"point A:         \", pointA['data'].id\n",
      "print \"point B:         \", pointB['data'].id\n",
      "print \"point C:         \", pointC['data'].id"
     ],
     "language": "python",
     "metadata": {},
     "outputs": [
      {
       "output_type": "stream",
       "stream": "stdout",
       "text": [
        "\n",
        "\n",
        "----- 6601 Grad AI: Seaching ATLANTA ------\n",
        "\n",
        "\n",
        "NUMBER OF NODES:  12239\n",
        "NUMBER OF EDGES:  13168\n",
        "point A:          69575903\n",
        "point B:          69369981\n",
        "point C:          1953293200\n"
       ]
      }
     ],
     "prompt_number": "*"
    },
    {
     "cell_type": "heading",
     "level": 3,
     "metadata": {},
     "source": [
      "Breadth \f",
      "First Search"
     ]
    },
    {
     "cell_type": "code",
     "collapsed": false,
     "input": [
      "state = bfs(graph, State(pointA, None), State(pointB, None))\n",
      "if state != None:\n",
      "    backtrack(state, graph)\n",
      "print \"\\n\\n\"\n",
      "print \"Done!\""
     ],
     "language": "python",
     "metadata": {},
     "outputs": [],
     "prompt_number": "*"
    },
    {
     "cell_type": "code",
     "collapsed": false,
     "input": [],
     "language": "python",
     "metadata": {},
     "outputs": [],
     "prompt_number": "*"
    }
   ],
   "metadata": {}
  }
 ]
}