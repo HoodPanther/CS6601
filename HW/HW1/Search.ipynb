{
 "metadata": {
  "name": "Search"
 },
 "nbformat": 3,
 "nbformat_minor": 0,
 "worksheets": [
  {
   "cells": [
    {
     "cell_type": "heading",
     "level": 1,
     "metadata": {},
     "source": [
      "Search"
     ]
    },
    {
     "cell_type": "heading",
     "level": 2,
     "metadata": {},
     "source": [
      "Author: Ruffin White"
     ]
    },
    {
     "cell_type": "markdown",
     "metadata": {},
     "source": [
      "Import search functions"
     ]
    },
    {
     "cell_type": "code",
     "collapsed": false,
     "input": [
      "from search import *"
     ],
     "language": "python",
     "metadata": {},
     "outputs": [],
     "prompt_number": 1
    },
    {
     "cell_type": "markdown",
     "metadata": {},
     "source": [
      "Setup environment"
     ]
    },
    {
     "cell_type": "code",
     "collapsed": false,
     "input": [
      "only_roads = True\n",
      "graph = read_osm('atlanta.osm', only_roads)\n",
      "\n",
      "pointA_num = graph.nodes().index(u'69121376')\n",
      "pointB_num = graph.nodes().index(u'560602179')\n",
      "pointC_num = graph.nodes().index(u'1418254999')\n",
      "\n",
      "#pointA_num = random.randint(0, len(graph.nodes()))\n",
      "#pointB_num = random.randint(0, len(graph.nodes()))\n",
      "#pointC_num = random.randint(0, len(graph.nodes()))\n",
      "\n",
      "pointA     = graph.node[graph.nodes()[pointA_num]]\n",
      "pointB     = graph.node[graph.nodes()[pointB_num]]\n",
      "pointC     = graph.node[graph.nodes()[pointC_num]]\n",
      "\n",
      "print \"\\n\\n----- 6601 Grad AI: Seaching ATLANTA ------\\n\\n\"\n",
      "print \"NUMBER OF NODES: \", len(graph.nodes())\n",
      "print \"NUMBER OF EDGES: \", len(graph.edges())\n",
      "print \"point A:         \", pointA['data'].id\n",
      "print \"point B:         \", pointB['data'].id\n",
      "print \"point C:         \", pointC['data'].id"
     ],
     "language": "python",
     "metadata": {},
     "outputs": [
      {
       "output_type": "stream",
       "stream": "stdout",
       "text": [
        "\n",
        "\n",
        "----- 6601 Grad AI: Seaching ATLANTA ------\n",
        "\n",
        "\n",
        "NUMBER OF NODES:  12239\n",
        "NUMBER OF EDGES:  13168\n",
        "point A:          69121376\n",
        "point B:          560602179\n",
        "point C:          1418254999\n"
       ]
      }
     ],
     "prompt_number": 17
    },
    {
     "cell_type": "heading",
     "level": 2,
     "metadata": {},
     "source": [
      "Breadth \f",
      "\n",
      "\n",
      "\n",
      "\n",
      "\n",
      "\n",
      "\n",
      "First Search"
     ]
    },
    {
     "cell_type": "code",
     "collapsed": false,
     "input": [
      "state = bfs(graph, State(pointA, None), State(pointB, None))\n",
      "if state != None:\n",
      "    backtrack(state, graph)\n",
      "print \"\\n\\n\"\n",
      "print \"Done!\""
     ],
     "language": "python",
     "metadata": {},
     "outputs": [
      {
       "output_type": "stream",
       "stream": "stdout",
       "text": [
        "Goal found\n",
        "  Explored:  3144\n",
        "      Cost:  2.13875972172 \n",
        "\n",
        "\n",
        "Node:  560602179\n",
        "Node:  560602180\n",
        "Node:  560602217\n",
        "Node:  998987516\n",
        "Node:  560602218\n",
        "Node:  560602219\n",
        "Node:  560602220\n",
        "Node:  560602221\n",
        "Node:  560602222\n",
        "Node:  560602223\n",
        "Node:  560602224\n",
        "Node:  998987503\n",
        "Node:  998987464\n",
        "Node:  998987517\n",
        "Node:  998987490\n",
        "       E:  traffic_signals\n",
        "Node:  69199062\n",
        "       N:  highway   traffic_signals\n",
        "Node:  1579606064\n",
        "       E:  traffic_signals\n",
        "Node:  1579606062\n",
        "Node:  1579606058\n",
        "Node:  1579606078\n",
        "Node:  1579606070\n",
        "Node:  1579606072\n",
        "Node:  1579606068\n",
        "Node:  69233389\n",
        "Node:  69233387\n",
        "       E:  traffic_signals\n",
        "Node:  69233383\n",
        "Node:  69228746\n",
        "       E:  traffic_signals\n",
        "Node:  69365771\n",
        "Node:  69365773\n",
        "Node:  69365775\n",
        "Node:  69365777\n",
        "Node:  69365780\n",
        "Node:  69365783\n",
        "Node:  69365785\n",
        "Node:  69228777\n",
        "       E:  traffic_signals\n",
        "Node:  69172112\n",
        "       N:  highway   traffic_signals\n",
        "       E:  traffic_signals\n",
        "       E:  traffic_signals\n",
        "Node:  69172109\n",
        "       E:  traffic_signals\n",
        "Node:  69172106\n",
        "\n",
        "\n",
        "\n",
        "Done!\n"
       ]
      }
     ],
     "prompt_number": 18
    },
    {
     "cell_type": "heading",
     "level": 2,
     "metadata": {},
     "source": [
      "Uniform Cost Search"
     ]
    },
    {
     "cell_type": "raw",
     "metadata": {},
     "source": [
      "node := root, cost = 0\n",
      "frontier := priority queue containing node only\n",
      "explored := empty set\n",
      "    do\n",
      "        if frontier is empty\n",
      "            return failure\n",
      "        node := frontier.pop()\n",
      "        if node is goal\n",
      "            return solution\n",
      "        explored.add(node)\n",
      "        for each of node's neighbors n\n",
      "            if n is not in explored\n",
      "                if n is not in frontier\n",
      "                    frontier.add(n)\n",
      "                else if n is in frontier with higher cost\n",
      "                    replace existing node with n"
     ]
    },
    {
     "cell_type": "code",
     "collapsed": false,
     "input": [
      "\"\"\"\n",
      "Implements UCS on our GPS data\n",
      "\n",
      "see [1] Figure 3.11\n",
      "\"\"\"\n",
      "def ucs(graph, start, goal):\n",
      "    if start == goal:\n",
      "        print \"START === GOAL\"\n",
      "        return None\n",
      "    \n",
      "    frontier = [start]\n",
      "    explored = []\n",
      "    num_explored = 0\n",
      "    while len(frontier) > 0:\n",
      "        node = frontier.pop(0)\n",
      "        explored.append(node)\n",
      "        \n",
      "        # HINT: Goal - Check\n",
      "        if node == goal:\n",
      "            print \"Goal found\"\n",
      "            print \"  Explored: \", num_explored\n",
      "            print \"      Cost: \", node.cost, \"\\n\\n\"\n",
      "            return node\n",
      "        \n",
      "        for edge in networkx.edges(graph, node.node['data'].id):\n",
      "            child = State(graph.node[edge[1]], node, node.cost)\n",
      "            if (child not in explored) and (child not in frontier):\n",
      "                child.cost += distance(node, child)\n",
      "                frontier.append(child)\n",
      "                num_explored = num_explored + 1\n",
      "        frontier = sorted(frontier, key=lambda x: x.cost)\n",
      "    print \"No path found, explored: \", num_explored\n",
      "\n",
      "    return None"
     ],
     "language": "python",
     "metadata": {},
     "outputs": [],
     "prompt_number": 19
    },
    {
     "cell_type": "code",
     "collapsed": false,
     "input": [
      "state = ucs(graph, State(pointA, None), State(pointB, None))\n",
      "if state != None:\n",
      "    backtrack(state, graph)\n",
      "print \"\\n\\n\"\n",
      "print \"Done!\""
     ],
     "language": "python",
     "metadata": {},
     "outputs": [
      {
       "output_type": "stream",
       "stream": "stdout",
       "text": [
        "Goal found\n",
        "  Explored:  1963\n",
        "      Cost:  1.80363494561 \n",
        "\n",
        "\n",
        "Node:  560602179\n",
        "Node:  560602254\n",
        "Node:  560602253\n",
        "Node:  560602247\n",
        "Node:  560602252\n",
        "Node:  560602251\n",
        "Node:  560602250\n",
        "Node:  560602249\n",
        "Node:  560602248\n",
        "Node:  560602429\n",
        "Node:  560602430\n",
        "Node:  552542666\n",
        "Node:  552542663\n",
        "Node:  552542674\n",
        "Node:  552542671\n",
        "Node:  560602434\n",
        "Node:  998987482\n",
        "Node:  998987495\n",
        "Node:  998987503\n",
        "Node:  998987464\n",
        "Node:  998987517\n",
        "Node:  998987490\n",
        "       E:  traffic_signals\n",
        "Node:  69350017\n",
        "Node:  1895817006\n",
        "Node:  1895817004\n",
        "Node:  69350013\n",
        "Node:  69350011\n",
        "       E:  traffic_signals\n",
        "       E:  traffic_signals\n",
        "Node:  69259142\n",
        "       N:  crossing   traffic_signals\n",
        "       N:  highway   traffic_signals\n",
        "Node:  1615118397\n",
        "       E:  traffic_signals\n",
        "       E:  traffic_signals\n",
        "Node:  1615118391\n",
        "Node:  69259138\n",
        "Node:  463597783\n",
        "Node:  463597580\n",
        "Node:  69259130\n",
        "       E:  traffic_signals\n",
        "Node:  69259129\n",
        "       N:  highway   traffic_signals\n",
        "       E:  traffic_signals\n",
        "Node:  69259128\n",
        "       E:  traffic_signals\n",
        "Node:  69256234\n",
        "Node:  69256238\n",
        "Node:  69256247\n",
        "Node:  69256261\n",
        "       E:  traffic_signals\n",
        "Node:  69256268\n",
        "       N:  highway   traffic_signals\n",
        "Node:  69256273\n",
        "       E:  traffic_signals\n",
        "Node:  69256277\n",
        "Node:  69256279\n",
        "Node:  69170953\n",
        "Node:  69172106\n",
        "\n",
        "\n",
        "\n",
        "Done!\n"
       ]
      }
     ],
     "prompt_number": 20
    },
    {
     "cell_type": "code",
     "collapsed": false,
     "input": [],
     "language": "python",
     "metadata": {},
     "outputs": [],
     "prompt_number": 5
    }
   ],
   "metadata": {}
  }
 ]
}