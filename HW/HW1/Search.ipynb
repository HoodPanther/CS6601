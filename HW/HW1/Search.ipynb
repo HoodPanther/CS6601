{
 "metadata": {
  "name": "Search"
 },
 "nbformat": 3,
 "nbformat_minor": 0,
 "worksheets": [
  {
   "cells": [
    {
     "cell_type": "heading",
     "level": 1,
     "metadata": {},
     "source": [
      "Search"
     ]
    },
    {
     "cell_type": "heading",
     "level": 2,
     "metadata": {},
     "source": [
      "Auther: Ruffin White"
     ]
    },
    {
     "cell_type": "markdown",
     "metadata": {},
     "source": [
      "Import search functions"
     ]
    },
    {
     "cell_type": "code",
     "collapsed": false,
     "input": [
      "from search import *"
     ],
     "language": "python",
     "metadata": {},
     "outputs": [],
     "prompt_number": 1
    },
    {
     "cell_type": "markdown",
     "metadata": {},
     "source": [
      "Setup environment"
     ]
    },
    {
     "cell_type": "code",
     "collapsed": false,
     "input": [
      "only_roads = True\n",
      "graph = read_osm('atlanta.osm', only_roads)\n",
      "\n",
      "start_num = random.randint(0, len(graph.nodes()))\n",
      "stop_num = random.randint(0, len(graph.nodes()))\n",
      "\n",
      "start     = graph.node[graph.nodes()[start_num]]\n",
      "stop      = graph.node[graph.nodes()[stop_num]]\n",
      "\n",
      "print \"\\n\\n----- 6601 Grad AI: Seaching ATLANTA ------\\n\\n\"\n",
      "print \"NUMBER OF NODES: \", len(graph.nodes())\n",
      "print \"NUMBER OF EDGES: \", len(graph.edges())\n",
      "print \"START:           \", start['data'].id\n",
      "print \"STOP :           \", stop['data'].id"
     ],
     "language": "python",
     "metadata": {},
     "outputs": [
      {
       "output_type": "stream",
       "stream": "stdout",
       "text": [
        "\n",
        "\n",
        "----- 6601 Grad AI: Seaching ATLANTA ------\n",
        "\n",
        "\n",
        "NUMBER OF NODES:  12239\n",
        "NUMBER OF EDGES:  13168\n",
        "START:            566368764\n",
        "STOP :            1919622867\n"
       ]
      }
     ],
     "prompt_number": 2
    },
    {
     "cell_type": "heading",
     "level": 3,
     "metadata": {},
     "source": [
      "Breadth \f",
      "Firs Search"
     ]
    },
    {
     "cell_type": "code",
     "collapsed": false,
     "input": [
      "state = bfs(graph, State(start, None), State(stop, None))\n",
      "if state != None:\n",
      "    backtrack(state, graph)\n",
      "print \"\\n\\n\"\n",
      "print \"Done!\""
     ],
     "language": "python",
     "metadata": {},
     "outputs": [
      {
       "output_type": "stream",
       "stream": "stdout",
       "text": [
        "Goal found, explored:  427 \n",
        "\n",
        "\n",
        "Node:  1919622867\n",
        "Node:  1919622899\n",
        "Node:  1919622881\n",
        "Node:  69389504\n",
        "Node:  69436127\n",
        "       E:  traffic_signals\n",
        "Node:  69436118\n",
        "       N:  highway   traffic_signals\n",
        "Node:  69628991\n",
        "       E:  traffic_signals\n",
        "Node:  2278923991\n",
        "       E:  traffic_signals\n",
        "Node:  69256301\n",
        "       N:  highway   traffic_signals\n",
        "Node:  69256299\n",
        "       E:  traffic_signals\n",
        "Node:  69256295\n",
        "Node:  69146775\n",
        "Node:  69207205\n",
        "Node:  69207201\n",
        "Node:  69207197\n",
        "Node:  69440208\n",
        "Node:  566368766\n",
        "Node:  566368765\n",
        "\n",
        "\n",
        "\n"
       ]
      }
     ],
     "prompt_number": 3
    },
    {
     "cell_type": "code",
     "collapsed": false,
     "input": [],
     "language": "python",
     "metadata": {},
     "outputs": [],
     "prompt_number": 4
    }
   ],
   "metadata": {}
  }
 ]
}