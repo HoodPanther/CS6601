{
 "metadata": {
  "name": "Search"
 },
 "nbformat": 3,
 "nbformat_minor": 0,
 "worksheets": [
  {
   "cells": [
    {
     "cell_type": "heading",
     "level": 1,
     "metadata": {},
     "source": [
      "Search"
     ]
    },
    {
     "cell_type": "heading",
     "level": 2,
     "metadata": {},
     "source": [
      "Author: Ruffin White"
     ]
    },
    {
     "cell_type": "markdown",
     "metadata": {},
     "source": [
      "Import search functions"
     ]
    },
    {
     "cell_type": "code",
     "collapsed": false,
     "input": [
      "from search import *"
     ],
     "language": "python",
     "metadata": {},
     "outputs": [],
     "prompt_number": 1
    },
    {
     "cell_type": "markdown",
     "metadata": {},
     "source": [
      "Setup environment"
     ]
    },
    {
     "cell_type": "code",
     "collapsed": false,
     "input": [
      "only_roads = True\n",
      "graph = read_osm('atlanta.osm', only_roads)\n",
      "\n",
      "pointA_num = graph.nodes().index(u'69121376')\n",
      "pointB_num = graph.nodes().index(u'560602179')\n",
      "pointC_num = graph.nodes().index(u'1418254999')\n",
      "\n",
      "#pointA_num = random.randint(0, len(graph.nodes()))\n",
      "#pointB_num = random.randint(0, len(graph.nodes()))\n",
      "#pointC_num = random.randint(0, len(graph.nodes()))\n",
      "\n",
      "pointA     = graph.node[graph.nodes()[pointA_num]]\n",
      "pointB     = graph.node[graph.nodes()[pointB_num]]\n",
      "pointC     = graph.node[graph.nodes()[pointC_num]]\n",
      "\n",
      "print \"\\n\\n----- 6601 Grad AI: Seaching ATLANTA ------\\n\\n\"\n",
      "print \"NUMBER OF NODES: \", len(graph.nodes())\n",
      "print \"NUMBER OF EDGES: \", len(graph.edges())\n",
      "print \"point A:         \", pointA['data'].id\n",
      "print \"point B:         \", pointB['data'].id\n",
      "print \"point C:         \", pointC['data'].id\n",
      "\n",
      "points = [State(pointA, None), State(pointB, None), State(pointC, None)]\n",
      "\n",
      "for i, point in enumerate(points):\n",
      "    points[i].seed = points[i]"
     ],
     "language": "python",
     "metadata": {},
     "outputs": [
      {
       "output_type": "stream",
       "stream": "stdout",
       "text": [
        "\n",
        "\n",
        "----- 6601 Grad AI: Seaching ATLANTA ------\n",
        "\n",
        "\n",
        "NUMBER OF NODES:  12239\n",
        "NUMBER OF EDGES:  "
       ]
      },
      {
       "output_type": "stream",
       "stream": "stdout",
       "text": [
        "13168\n",
        "point A:          69121376\n",
        "point B:          560602179\n",
        "point C:          1418254999\n"
       ]
      }
     ],
     "prompt_number": 3
    },
    {
     "cell_type": "heading",
     "level": 2,
     "metadata": {},
     "source": [
      "Breadth \f",
      "\n",
      "\n",
      "\n",
      "\n",
      "\n",
      "\n",
      "\n",
      "\n",
      "\n",
      "\n",
      "\n",
      "\n",
      "\n",
      "\n",
      "\n",
      "\n",
      "\n",
      "\n",
      "\n",
      "\n",
      "\n",
      "\n",
      "\n",
      "\n",
      "\n",
      "\n",
      "\n",
      "\n",
      "\n",
      "\n",
      "\n",
      "\n",
      "\n",
      "\n",
      "\n",
      "\n",
      "\n",
      "\n",
      "\n",
      "\n",
      "\n",
      "\n",
      "\n",
      "\n",
      "\n",
      "\n",
      "\n",
      "\n",
      "\n",
      "\n",
      "\n",
      "\n",
      "\n",
      "\n",
      "\n",
      "\n",
      "\n",
      "\n",
      "\n",
      "\n",
      "\n",
      "\n",
      "\n",
      "\n",
      "\n",
      "\n",
      "\n",
      "\n",
      "\n",
      "\n",
      "\n",
      "\n",
      "\n",
      "\n",
      "\n",
      "\n",
      "\n",
      "\n",
      "\n",
      "\n",
      "\n",
      "\n",
      "\n",
      "\n",
      "\n",
      "\n",
      "\n",
      "\n",
      "\n",
      "\n",
      "\n",
      "\n",
      "\n",
      "\n",
      "\n",
      "\n",
      "\n",
      "\n",
      "\n",
      "\n",
      "\n",
      "\n",
      "\n",
      "\n",
      "\n",
      "\n",
      "\n",
      "\n",
      "\n",
      "\n",
      "\n",
      "\n",
      "\n",
      "\n",
      "\n",
      "\n",
      "\n",
      "\n",
      "\n",
      "\n",
      "\n",
      "\n",
      "\n",
      "\n",
      "\n",
      "\n",
      "\n",
      "\n",
      "\n",
      "\n",
      "\n",
      "\n",
      "\n",
      "\n",
      "\n",
      "\n",
      "\n",
      "\n",
      "\n",
      "\n",
      "\n",
      "\n",
      "\n",
      "\n",
      "\n",
      "\n",
      "\n",
      "\n",
      "\n",
      "\n",
      "\n",
      "\n",
      "\n",
      "\n",
      "\n",
      "\n",
      "\n",
      "\n",
      "\n",
      "\n",
      "\n",
      "\n",
      "\n",
      "\n",
      "\n",
      "\n",
      "\n",
      "\n",
      "\n",
      "\n",
      "\n",
      "\n",
      "\n",
      "\n",
      "\n",
      "\n",
      "\n",
      "\n",
      "\n",
      "\n",
      "\n",
      "\n",
      "\n",
      "\n",
      "\n",
      "\n",
      "\n",
      "\n",
      "\n",
      "\n",
      "\n",
      "\n",
      "\n",
      "\n",
      "\n",
      "\n",
      "\n",
      "\n",
      "\n",
      "\n",
      "\n",
      "\n",
      "\n",
      "\n",
      "\n",
      "\n",
      "\n",
      "\n",
      "\n",
      "\n",
      "\n",
      "\n",
      "\n",
      "\n",
      "\n",
      "\n",
      "\n",
      "\n",
      "\n",
      "\n",
      "\n",
      "\n",
      "\n",
      "\n",
      "\n",
      "\n",
      "\n",
      "\n",
      "\n",
      "\n",
      "\n",
      "\n",
      "\n",
      "\n",
      "\n",
      "\n",
      "\n",
      "\n",
      "\n",
      "\n",
      "\n",
      "\n",
      "\n",
      "\n",
      "\n",
      "\n",
      "\n",
      "\n",
      "\n",
      "\n",
      "\n",
      "\n",
      "\n",
      "\n",
      "\n",
      "First Search"
     ]
    },
    {
     "cell_type": "code",
     "collapsed": false,
     "input": [
      "state = bfs(graph, State(pointA, None), State(pointB, None))\n",
      "if state != None:\n",
      "    backtrack(state, graph)\n",
      "print \"\\n\\n\"\n",
      "print \"Done!\""
     ],
     "language": "python",
     "metadata": {},
     "outputs": [
      {
       "output_type": "stream",
       "stream": "stdout",
       "text": [
        "Goal found\n",
        "  Explored:  3144\n",
        "      Cost:  2.13875972172 \n",
        "\n",
        "\n",
        "Node:  560602179\n",
        "Node:  560602180\n",
        "Node:  560602217\n",
        "Node:  998987516\n",
        "Node:  560602218\n",
        "Node:  560602219\n",
        "Node:  560602220\n",
        "Node:  560602221\n",
        "Node:  560602222\n",
        "Node:  560602223\n",
        "Node:  560602224\n",
        "Node:  998987503\n",
        "Node:  998987464\n",
        "Node:  998987517\n",
        "Node:  998987490\n",
        "       E:  traffic_signals\n",
        "Node:  69199062\n",
        "       N:  highway   traffic_signals\n",
        "Node:  1579606064\n",
        "       E:  traffic_signals\n",
        "Node:  1579606062\n",
        "Node:  1579606058\n",
        "Node:  1579606078\n",
        "Node:  1579606070\n",
        "Node:  1579606072\n",
        "Node:  1579606068\n",
        "Node:  69233389\n",
        "Node:  69233387\n",
        "       E:  traffic_signals\n",
        "Node:  69233383\n",
        "Node:  69228746\n",
        "       E:  traffic_signals\n",
        "Node:  69365771\n",
        "Node:  69365773\n",
        "Node:  69365775\n",
        "Node:  69365777\n",
        "Node:  69365780\n",
        "Node:  69365783\n",
        "Node:  69365785\n",
        "Node:  69228777\n",
        "       E:  traffic_signals\n",
        "Node:  69172112\n",
        "       N:  highway   traffic_signals\n",
        "       E:  traffic_signals\n",
        "       E:  traffic_signals\n",
        "Node:  69172109\n",
        "       E:  traffic_signals\n",
        "Node:  69172106\n",
        "\n",
        "\n",
        "\n",
        "Done!\n"
       ]
      }
     ],
     "prompt_number": 5
    },
    {
     "cell_type": "heading",
     "level": 2,
     "metadata": {},
     "source": [
      "1) Uniform Cost Search"
     ]
    },
    {
     "cell_type": "markdown",
     "metadata": {},
     "source": [
      "Implement Uniform Cost Search. As a distance function use the straight line distance be-\n",
      "tween the adjacent nodes."
     ]
    },
    {
     "cell_type": "code",
     "collapsed": false,
     "input": [
      "def ucs(graph, points):\n",
      "    if len(points)!=len(set(points)):\n",
      "        print \"START === GOAL\"\n",
      "        return None\n",
      "    \n",
      "    num_explored = 0\n",
      "    paths = []\n",
      "    for i, point in enumerate(points):\n",
      "        print \"Start: \", point.node['data'].id\n",
      "        otherPoints = copy.copy(points)\n",
      "        otherPoints.pop(i)\n",
      "        frontier = [point]\n",
      "        explored = []\n",
      "        j = 0\n",
      "        while len(frontier) > 0:\n",
      "            node = frontier.pop(0)\n",
      "            explored.append(node)\n",
      "            \n",
      "            #Check for other points\n",
      "            if (node in otherPoints):\n",
      "                #Check if point has been found befor\n",
      "                path = Path(node.seed, node, node.cost)\n",
      "                if (path not in paths):\n",
      "                    print \"Path Found: \", node.seed.node['data'].id, \" -> \", node.node['data'].id\n",
      "                    print \" Path Cost: \", node.cost\n",
      "                    #print \"  Explored: \", num_explored\n",
      "                    paths.append(path)\n",
      "                    j += 1\n",
      "                \n",
      "            #Check if all other points are found\n",
      "            if (j >= len(otherPoints)):\n",
      "                break\n",
      "            #Check if all other points are found\n",
      "            if ((len(paths) == len(points))):\n",
      "                break\n",
      "            \n",
      "            for edge in networkx.edges(graph, node.node['data'].id):\n",
      "                child = State(graph.node[edge[1]], node, node.cost, node.seed)\n",
      "                if (child not in explored):\n",
      "                    num_explored = num_explored + 1\n",
      "                    child.cost += distance(node, child)\n",
      "                    if (child not in frontier):\n",
      "                        frontier.append(child)\n",
      "                    else:\n",
      "                        child2 = frontier[frontier.index(child)]\n",
      "                        if (child.cost < child2.cost):\n",
      "                            frontier[frontier.index(child)] = child\n",
      "            frontier = sorted(frontier, key=lambda x: x.cost)\n",
      "            \n",
      "        if ((len(paths) < len(otherPoints))):\n",
      "            print \"Not all points found, explored: \", num_explored\n",
      "        break\n",
      "    \n",
      "    return paths, num_explored"
     ],
     "language": "python",
     "metadata": {},
     "outputs": [],
     "prompt_number": 6
    },
    {
     "cell_type": "code",
     "collapsed": false,
     "input": [
      "paths, num_explored = ucs(graph, points[0:2])\n",
      "if paths != None:\n",
      "    print \"\\nShortest route:\"\n",
      "    for path in paths:\n",
      "        print \"Path : \", path.start.node['data'].id, \" -> \", path.stop.node['data'].id\n",
      "        print \" Cost: \", path.cost\n",
      "        #backtrack(path.stop, graph)\n",
      "print \"\\nExplored:\", num_explored\n",
      "print \"\\n\\n\"\n",
      "print \"Done!\""
     ],
     "language": "python",
     "metadata": {},
     "outputs": [
      {
       "output_type": "stream",
       "stream": "stdout",
       "text": [
        "Start:  69121376\n",
        "Path Found: "
       ]
      },
      {
       "output_type": "stream",
       "stream": "stdout",
       "text": [
        " 69121376  ->  560602179\n",
        " Path Cose:  1.77528663211\n",
        "\n",
        "Shortest route:\n",
        "Path :  69121376  ->  560602179\n",
        " Cost:  1.77528663211\n",
        "\n",
        "Explored: 2142\n",
        "\n",
        "\n",
        "\n",
        "Done!\n"
       ]
      }
     ],
     "prompt_number": 7
    },
    {
     "cell_type": "markdown",
     "metadata": {},
     "source": [
      "Ruffin: It should be noted that different optimal routes can be observed from some unique points depending on the direction of approach. Perhaps this is due to rules of the road conditions that the Open Street Maps graph structure abides by, thus making it pertinent for real navigation systems."
     ]
    },
    {
     "cell_type": "heading",
     "level": 2,
     "metadata": {},
     "source": [
      "2) Uniform Cost Search Three City Problem"
     ]
    },
    {
     "cell_type": "markdown",
     "metadata": {},
     "source": [
      "Use Uniform cost search to solve three city problem. Describe how many searches were\n",
      "necessary. Shortly describe if Uniform Cost Search is complete and/or optimal."
     ]
    },
    {
     "cell_type": "code",
     "collapsed": false,
     "input": [
      "def ucs3mono(graph, points, maxCost = 1000):\n",
      "    if len(points)!=len(set(points)):\n",
      "        print \"START === GOAL\"\n",
      "        return None, None\n",
      "    \n",
      "    visitedPoints = []\n",
      "    num_explored = 0\n",
      "    paths = []\n",
      "    for i, point in enumerate(points):\n",
      "        #print \"Start: \", point.node['data'].id\n",
      "        otherPoints = copy.copy(points)\n",
      "        otherPoints.pop(i)\n",
      "        frontier = [point]\n",
      "        explored = []\n",
      "        while len(frontier) > 0:\n",
      "            node = frontier.pop(0)\n",
      "            explored.append(node)\n",
      "            \n",
      "            if (node.cost > maxCost):\n",
      "                return None, None\n",
      "            \n",
      "            if (node.seed in visitedPoints):\n",
      "                print \"Skipping \", node.node['data'].id\n",
      "                break\n",
      "                \n",
      "            #Check for other points\n",
      "            if (node in otherPoints):\n",
      "                #Check if point has been found befor\n",
      "                path = Path(node.seed, node, node.cost)\n",
      "                if (path not in paths):\n",
      "                    print \"Path Found: \", node.seed.node['data'].id, \" -> \", node.node['data'].id\n",
      "                    print \" Path Cost: \", node.cost\n",
      "                    #print \"  Explored: \", num_explored\n",
      "                    paths.append(path)\n",
      "                    visitedPoints.append(node)\n",
      "                    visitedPoints.append(node.seed)\n",
      "                    break\n",
      "            \n",
      "            for edge in networkx.edges(graph, node.node['data'].id):\n",
      "                child = State(graph.node[edge[1]], node, node.cost, node.seed)\n",
      "                if (child not in explored):\n",
      "                    num_explored = num_explored + 1\n",
      "                    child.cost += distance(node, child)\n",
      "                    if (child not in frontier):\n",
      "                        frontier.append(child)\n",
      "                    else:\n",
      "                        child2 = frontier[frontier.index(child)]\n",
      "                        if (child.cost < child2.cost):\n",
      "                            frontier[frontier.index(child)] = child\n",
      "            frontier = sorted(frontier, key=lambda x: x.cost)\n",
      "            \n",
      "    if (len(paths) < (len(points)-1)):\n",
      "        print \"Not all points found, explored: \", num_explored\n",
      "        return None, None\n",
      "    \n",
      "    return paths, num_explored"
     ],
     "language": "python",
     "metadata": {},
     "outputs": [],
     "prompt_number": 4
    },
    {
     "cell_type": "code",
     "collapsed": false,
     "input": [
      "paths, num_explored = ucs3mono(graph, points)\n",
      "if paths != None:\n",
      "    print \"\\nShortest route:\"\n",
      "    for path in paths:\n",
      "        print \"Path : \", path.start.node['data'].id, \" -> \", path.stop.node['data'].id\n",
      "        print \" Cost: \", path.cost\n",
      "        #backtrack(path.stop, graph)\n",
      "print \"\\nExplored:\", num_explored\n",
      "print \"\\n\\n\"\n",
      "print \"Done!\""
     ],
     "language": "python",
     "metadata": {},
     "outputs": [
      {
       "output_type": "stream",
       "stream": "stdout",
       "text": [
        "Path Found:  69121376  ->  560602179\n",
        " Path Cose:  1.77528663211\n",
        "Skipping  560602179\n",
        "Path Found: "
       ]
      },
      {
       "output_type": "stream",
       "stream": "stdout",
       "text": [
        " 1418254999  ->  560602179\n",
        " Path Cose:  1.61560873679\n",
        "\n",
        "Shortest route:\n",
        "Path :  69121376  ->  560602179\n",
        " Cost:  1.77528663211\n",
        "Path :  1418254999  ->  560602179\n",
        " Cost:  1.61560873679\n",
        "\n",
        "Explored: 5718\n",
        "\n",
        "\n",
        "\n",
        "Done!\n"
       ]
      }
     ],
     "prompt_number": 9
    },
    {
     "cell_type": "markdown",
     "metadata": {},
     "source": [
      "Ruffin: The number of searches required for the three city problem using single directional uniform cost search is 2. To properly ensure that the absolute shortest path through all three cities is found requires that all three paths between all the cities are also found and compared in order to determine the shortest two paths that touch all three. The first search, say starting point 'A', is used to determine the path onward to 'B' or to 'C'. The first city to be found to be and explored node using uniform cost search, say 'B', is known to be on a shorter route from 'A' than the other point, 'C'. We can use the undiscovered point as a starting point for our second search that will attempt to find the path to 'B', as we can already deduct that we are in fact closer to point 'B', or else the uniform cost search starting from point 'A' would have explored 'C' first. This is an implementation of uniform, search, and is therefore complete in the regard that; if a solution exists, that the cost of each step remained positive, and that the graph is finite, it will find it. It is also optimal and that it will not stop nearly upon the first solution, but will continue to explore every available path untell found solution is known to bethe lowest-cost path among the frontier."
     ]
    },
    {
     "cell_type": "heading",
     "level": 2,
     "metadata": {},
     "source": [
      "3) Bidirectional Search Three City Problem"
     ]
    },
    {
     "cell_type": "markdown",
     "metadata": {},
     "source": [
      "Implement Bidirectional Search and solve three city problem. Describe how many searches\n",
      "were necessary, too. Shortly describe if Bidirectional Search is complete and/or optimal."
     ]
    },
    {
     "cell_type": "code",
     "collapsed": false,
     "input": [
      "def ucs3bi(graph, points):\n",
      "    if len(points)!=len(set(points)):\n",
      "        print \"START === GOAL\"\n",
      "        return None\n",
      "    \n",
      "    num_explored = 0\n",
      "    paths = []    \n",
      "    frontier = points[0:2]\n",
      "    explored = []\n",
      "    j = 0\n",
      "    while len(frontier) > 0:\n",
      "        node = frontier.pop(0)\n",
      "        \n",
      "        if (node in explored):\n",
      "            node2 = explored[explored.index(node)]\n",
      "            path = Path(node, node2, node.cost+node2.cost, True)\n",
      "            if (path not in paths):\n",
      "                paths.append(path)\n",
      "                print \"Path Found: \", path\n",
      "                print \" Path Cost: \", path.cost\n",
      "                #print \"  Explored: \", num_explored\n",
      "        \n",
      "        explored.append(node)\n",
      "        \n",
      "        if (node == points[2]):\n",
      "            path = Path(node.seed, node, node.cost)\n",
      "            if (path not in paths):\n",
      "                paths.append(path)\n",
      "                print \"Path Found: \", path\n",
      "                print \" Path Cost: \", path.cost\n",
      "                #print \"  Explored: \", num_explored\n",
      "        \n",
      "        #Check if all other points are found\n",
      "        if ((len(paths) == (len(points))-1)):\n",
      "            break\n",
      "        \n",
      "        for edge in networkx.edges(graph, node.node['data'].id):\n",
      "            child = State(graph.node[edge[1]], node, node.cost, node.seed)\n",
      "            if (child not in explored):\n",
      "                num_explored = num_explored + 1\n",
      "                child.cost += distance(node, child)\n",
      "                if (child not in frontier):\n",
      "                    frontier.append(child)\n",
      "                else:\n",
      "                    child2 = frontier[frontier.index(child)]\n",
      "                    if (child.cost < child2.cost):\n",
      "                        frontier[frontier.index(child)] = child\n",
      "            else:\n",
      "                child2 = explored[explored.index(child)]\n",
      "                if (child.seed != child2.seed):\n",
      "                    path = Path(child, child2, (child.cost+child2.cost), True)\n",
      "                    if (path not in paths):\n",
      "                        frontier.append(child)\n",
      "        frontier = sorted(frontier, key=lambda x: x.cost)\n",
      "        \n",
      "    if (len(paths) < (len(points)-1)):\n",
      "        print \"Not all points found, explored: \", num_explored\n",
      "        return None, None\n",
      "\n",
      "    paths = sorted(paths, key=lambda x: x.cost)\n",
      "    return paths, num_explored"
     ],
     "language": "python",
     "metadata": {},
     "outputs": [],
     "prompt_number": 5
    },
    {
     "cell_type": "code",
     "collapsed": false,
     "input": [
      "paths, num_explored = ucs3bi(graph, points)\n",
      "if paths != None:\n",
      "    print \"\\nShortest route:\"\n",
      "    for path in paths:\n",
      "        print \"Path: \", path\n",
      "        print \"Cost: \", path.cost\n",
      "        #backtrack(path.stop, graph)\n",
      "print \"\\nExplored:\", num_explored\n",
      "print \"\\n\\n\"\n",
      "print \"Done!\""
     ],
     "language": "python",
     "metadata": {},
     "outputs": [
      {
       "output_type": "stream",
       "stream": "stdout",
       "text": [
        "Path Found:  69121376 -> 560602179\n",
        " Path Cose:  1.72423120369\n",
        "Path Found: "
       ]
      },
      {
       "output_type": "stream",
       "stream": "stdout",
       "text": [
        " 560602179 -> 1418254999\n",
        " Path Cose:  1.61560873679\n",
        "\n",
        "Shortest route:\n",
        "Path:  560602179 -> 1418254999\n",
        "Cost:  1.61560873679\n",
        "Path:  69121376 -> 560602179\n",
        "Cost:  1.72423120369\n",
        "\n",
        "Explored: 4892\n",
        "\n",
        "\n",
        "\n",
        "Done!\n"
       ]
      }
     ],
     "prompt_number": 7
    },
    {
     "cell_type": "markdown",
     "metadata": {},
     "source": [
      "Ruffin: by starting from two of the three points, and by having all notes among the expanding frontier that ability to recall their starting origin, or seed, we can keep track of where the shortest intersection between the two expanding boundaries will occur as well as which of the two expanding boundaries, expanding at the same rate, encounters the third city first. It is also possible that the third city will be among the midpoint of the two expanding boundaries. This search method is also complete and optimal, but I however reduces the number of explored notes by having the points expand towards each other simultaneously, essentially reducing the total radio area from the starting point required to be searched."
     ]
    },
    {
     "cell_type": "heading",
     "level": 2,
     "metadata": {},
     "source": [
      "4) Tridirectional Search Three City Problem"
     ]
    },
    {
     "cell_type": "markdown",
     "metadata": {},
     "source": [
      "Implement Tridirectional search. In Bidirectional search you start from the start and the\n",
      "goal state. In our case you start from all three cities. Implement all searches using Uniform\n",
      "Cost Search. Test your solution on the provided graph. Write a paragraph about your design\n",
      "choices. Also describe if Bidirectional Search is complete and/or optimal."
     ]
    },
    {
     "cell_type": "code",
     "collapsed": false,
     "input": [
      "def ucs3tri(graph, points):\n",
      "    if len(points)!=len(set(points)):\n",
      "        print \"START === GOAL\"\n",
      "        return None\n",
      "    \n",
      "    num_explored = 0\n",
      "    paths = []    \n",
      "    frontier = copy.copy(points)\n",
      "    explored = []\n",
      "    while len(frontier) > 0:\n",
      "        node = frontier.pop(0)\n",
      "        \n",
      "        if (node in explored):\n",
      "            node2 = explored[explored.index(node)]\n",
      "            path = Path(node, node2, node.cost+node2.cost, True)\n",
      "            if (path not in paths):\n",
      "                paths.append(path)\n",
      "                print \"Path Found: \", path.start.seed.node['data'].id, \" -> \", path.stop.seed.node['data'].id\n",
      "                print \" Path Cost: \", path.cost\n",
      "                #print \"  Explored: \", num_explored\n",
      "        \n",
      "        explored.append(node)\n",
      "        \n",
      "        #Check if min paths found\n",
      "        if ((len(paths) == (len(points))-1)):\n",
      "            break\n",
      "        \n",
      "        for edge in networkx.edges(graph, node.node['data'].id):\n",
      "            child = State(graph.node[edge[1]], node, node.cost, node.seed)\n",
      "            if (child not in explored):\n",
      "                num_explored = num_explored + 1\n",
      "                child.cost += distance(node, child)\n",
      "                if (child not in frontier):\n",
      "                    frontier.append(child)\n",
      "                else:\n",
      "                    child2 = frontier[frontier.index(child)]\n",
      "                    if (child.cost < child2.cost):\n",
      "                        frontier[frontier.index(child)] = child\n",
      "            else:\n",
      "                child2 = explored[explored.index(child)]\n",
      "                if (child.seed != child2.seed):\n",
      "                    path = Path(child, child2, (child.cost+child2.cost), True)\n",
      "                    if (path not in paths):\n",
      "                        frontier.append(child)\n",
      "        frontier = sorted(frontier, key=lambda x: x.cost)\n",
      "        \n",
      "    if ((len(paths) < (len(points)-1))):\n",
      "        print \"Not all points found, explored: \", num_explored\n",
      "        return None, None\n",
      "    return paths, num_explored"
     ],
     "language": "python",
     "metadata": {},
     "outputs": [],
     "prompt_number": 6
    },
    {
     "cell_type": "code",
     "collapsed": false,
     "input": [
      "paths, num_explored = ucs3tri(graph, points)\n",
      "if paths != None:\n",
      "    print \"\\nShortest route:\"\n",
      "    for path in paths:\n",
      "        print \"Path : \", path\n",
      "        print \" Cost: \", path.cost\n",
      "        #backtrack(path.stop, graph)\n",
      "print \"\\nExplored:\", num_explored\n",
      "print \"\\n\\n\"\n",
      "print \"Done!\""
     ],
     "language": "python",
     "metadata": {},
     "outputs": [
      {
       "output_type": "stream",
       "stream": "stdout",
       "text": [
        "Path Found:  560602179  ->  1418254999\n",
        " Path Cose:  1.45792349594\n",
        "Path Found: "
       ]
      },
      {
       "output_type": "stream",
       "stream": "stdout",
       "text": [
        " 69121376  ->  560602179\n",
        " Path Cose:  1.72423120369\n",
        "\n",
        "Shortest route:\n",
        "Path :  560602179 -> 1418254999\n",
        " Cost:  1.45792349594\n",
        "Path :  69121376 -> 560602179\n",
        " Cost:  1.72423120369\n",
        "\n",
        "Explored: 2685\n",
        "\n",
        "\n",
        "\n",
        "Done!\n"
       ]
      }
     ],
     "prompt_number": 10
    },
    {
     "cell_type": "markdown",
     "metadata": {},
     "source": [
      "Ruffin: My tri-directional search is implemented as such: all three points are initialized within the frontier from the beginning. These three frontier points will expand and explore, each keeping track of their origin and when they encounter a foreign frontier. Once a foreign frontiers encountered, this will be noted and checked to make sure that no foreign node has been explored before. Once the frontiers verified and that the foreign explored no is in fact the shortest distance to the foreign origin, the path is safed and the summation of the two distances from the midpoint with respect to each origin is calculated. Once at least two paths that connect all three points have been verified, no more note expansion is required. This algorithm is complete and optimal, but also improves upon the time complexity, and space complexity due to the fewer number of notes explored versus that of the previous two search algorithms."
     ]
    },
    {
     "cell_type": "heading",
     "level": 2,
     "metadata": {},
     "source": [
      "5) Experiments"
     ]
    },
    {
     "cell_type": "markdown",
     "metadata": {},
     "source": [
      "With your implementations compare the number of nodes touched when you perform three separate Uniform Cost Searches and the number of nodes expanded with Bidirectional Search and Tridirectional Search. Therefore, run a search for multiple starting conditions (pick three cities at random at least 100 times and for each run all your search methods). Count the number of nodes expanded for both. Write a paragraph about your results and explain your observations as well as your experimental setup. Also discuss the relation to the theoretical bounds using O notation. Report the number of nodes touched for Bidirectional and Tridirectional Search and report the difference to Uniform Cost Search. Graph the numbers on\n",
      "avg. saved."
     ]
    },
    {
     "cell_type": "code",
     "collapsed": false,
     "input": [
      "import pandas as pd\n",
      "import matplotlib as mp\n",
      "import matplotlib.pyplot as plt\n",
      "import numpy as np"
     ],
     "language": "python",
     "metadata": {},
     "outputs": [],
     "prompt_number": 7
    },
    {
     "cell_type": "code",
     "collapsed": false,
     "input": [
      "data = []\n",
      "N = 100\n",
      "i = 0\n",
      "maxPerimeter = 1\n",
      "while i < N:\n",
      "    \n",
      "    pointA_num = random.randint(0, len(graph.nodes())-1)\n",
      "    pointB_num = random.randint(0, len(graph.nodes())-1)\n",
      "    pointC_num = random.randint(0, len(graph.nodes())-1)\n",
      "    pointA     = graph.node[graph.nodes()[pointA_num]]\n",
      "    pointB     = graph.node[graph.nodes()[pointB_num]]\n",
      "    pointC     = graph.node[graph.nodes()[pointC_num]]\n",
      "    points = [State(pointA, None), State(pointB, None), State(pointC, None)]\n",
      "    for j, point in enumerate(points):\n",
      "        points[j].seed = points[j]\n",
      "    \n",
      "    perimeter = 0\n",
      "    for k, point in enumerate(points):\n",
      "        perimeter += distance(points[k-1],points[k])\n",
      "    \n",
      "    if (perimeter < maxPerimeter):\n",
      "        paths, ucs3mono_explored = ucs3mono(graph, points, maxPerimeter)\n",
      "        if (ucs3mono_explored != None):\n",
      "            trial = {}\n",
      "            print \"Trial: \", i\n",
      "            print \"perimeter        : \", perimeter\n",
      "            print \"ucs3mono_explored: \", ucs3mono_explored\n",
      "            paths, ucs3bi_explored = ucs3bi(graph, points)\n",
      "            print \"ucs3bi_explored  : \", ucs3bi_explored\n",
      "            paths, ucs3tri_explored = ucs3tri(graph, points)\n",
      "            print \"ucs3tri_explored : \", ucs3tri_explored\n",
      "                \n",
      "            trial[\"perimeter\"] = perimeter\n",
      "            trial[\"points\"] = points\n",
      "            trial[\"ucs3mono\"] = ucs3mono_explored\n",
      "            trial[\"ucs3bi\"] = ucs3bi_explored\n",
      "            trial[\"ucs3tri\"] = ucs3tri_explored\n",
      "            \n",
      "            data.append(trial)\n",
      "            i += 1"
     ],
     "language": "python",
     "metadata": {},
     "outputs": [
      {
       "output_type": "stream",
       "stream": "stdout",
       "text": [
        "Path Found:  551077003  ->  551073756\n",
        " Path Cost:  0.416106994452\n",
        "Path Found:  551077429  ->  551073756\n",
        " Path Cost:  0.0984532733517\n",
        "Skipping  551073756\n",
        "Trial:  0\n",
        "perimeter        :  0.607318413054\n",
        "ucs3mono_explored:  489\n",
        "Path Found:  551077429 -> 551073756\n",
        " Path Cost:  0.0984532733517\n",
        "Path Found: "
       ]
      },
      {
       "output_type": "stream",
       "stream": "stdout",
       "text": [
        " 551077429 -> 551077003\n",
        " Path Cost:  0.454441435796\n",
        "ucs3bi_explored  :  535\n",
        "Path Found:  551077429  ->  551073756\n",
        " Path Cost:  0.0928909581357\n",
        "Path Found: "
       ]
      },
      {
       "output_type": "stream",
       "stream": "stdout",
       "text": [
        " 551077003  ->  551073756\n",
        " Path Cost:  0.406182961094\n",
        "ucs3tri_explored :  544\n",
        "Path Found: "
       ]
      },
      {
       "output_type": "stream",
       "stream": "stdout",
       "text": [
        " 69189226  ->  553747986\n",
        " Path Cost:  0.519979538976\n",
        "Path Found:  551076961  ->  553747986\n",
        " Path Cost:  0.209896604871\n",
        "Skipping  553747986\n",
        "Trial:  1\n",
        "perimeter        :  0.760448799929\n",
        "ucs3mono_explored:  838\n",
        "Path Found: "
       ]
      },
      {
       "output_type": "stream",
       "stream": "stdout",
       "text": [
        " 551076961 -> 553747986\n",
        " Path Cost:  0.209896604871\n",
        "Path Found: "
       ]
      },
      {
       "output_type": "stream",
       "stream": "stdout",
       "text": [
        " 69189226 -> 551076961\n",
        " Path Cost:  0.616291160272\n",
        "ucs3bi_explored  :  451\n",
        "Path Found:  553747986  ->  551076961\n",
        " Path Cost:  0.203947676295\n",
        "Path Found: "
       ]
      },
      {
       "output_type": "stream",
       "stream": "stdout",
       "text": [
        " 553747986  ->  69189226\n",
        " Path Cost:  0.422252192996\n",
        "ucs3tri_explored :  544\n",
        "Path Found: "
       ]
      },
      {
       "output_type": "stream",
       "stream": "stdout",
       "text": [
        " 539604104  ->  546589686\n",
        " Path Cost:  0.366242528858\n",
        "Skipping  546589686\n",
        "Not all points found, explored:  572\n",
        "Path Found: "
       ]
      },
      {
       "output_type": "stream",
       "stream": "stdout",
       "text": [
        " 1926601995  ->  1926653659\n",
        " Path Cost:  0.46034784249\n",
        "Path Found:  1926653661  ->  1926653659\n",
        " Path Cost:  0.00920729048635\n",
        "Skipping  1926653659\n",
        "Trial:  2\n",
        "perimeter        :  0.775974726928\n",
        "ucs3mono_explored:  528\n",
        "Path Found:  1926653661 -> 1926653659\n",
        " Path Cost:  0.00920729048635\n",
        "Path Found: "
       ]
      },
      {
       "output_type": "stream",
       "stream": "stdout",
       "text": [
        " 1926601995 -> 1926653661\n",
        " Path Cost:  0.457303116819\n",
        "ucs3bi_explored  :  408\n",
        "Path Found:  1926653659  ->  1926653661\n",
        " Path Cost:  0\n",
        "Path Found: "
       ]
      },
      {
       "output_type": "stream",
       "stream": "stdout",
       "text": [
        " 1926601995  ->  1926653659\n",
        " Path Cost:  0.448095826333\n",
        "ucs3tri_explored :  424\n",
        "Path Found: "
       ]
      },
      {
       "output_type": "stream",
       "stream": "stdout",
       "text": [
        " 2422809509  ->  552542374\n",
        " Path Cost:  0.574495008388\n",
        "Skipping  552542374\n",
        "Not all points found, explored:  1550\n",
        "Path Found: "
       ]
      },
      {
       "output_type": "stream",
       "stream": "stdout",
       "text": [
        " 69168318  ->  560605871\n",
        " Path Cost:  0.366109075882\n",
        "Skipping  560605871\n",
        "Not all points found, explored:  537\n",
        "Path Found: "
       ]
      },
      {
       "output_type": "stream",
       "stream": "stdout",
       "text": [
        " 551723824  ->  551074775\n",
        " Path Cost:  0.417321329523\n",
        "Skipping  551074775\n",
        "Not all points found, explored:  613\n",
        "Path Found: "
       ]
      },
      {
       "output_type": "stream",
       "stream": "stdout",
       "text": [
        " 1926653504  ->  316638724\n",
        " Path Cost:  0.115487472644\n",
        "Path Found:  1926653718  ->  316638724\n",
        " Path Cost:  0.116593602947\n",
        "Skipping  316638724\n",
        "Trial:  3\n",
        "perimeter        :  0.30142774144\n",
        "ucs3mono_explored:  185\n",
        "Path Found:  1926653504 -> 1926653718\n",
        " Path Cost:  0.161712656177\n",
        "Path Found: "
       ]
      },
      {
       "output_type": "stream",
       "stream": "stdout",
       "text": [
        " 1926653504 -> 316638724\n",
        " Path Cost:  0.115487472644\n",
        "ucs3bi_explored  :  168\n",
        "Path Found:  1926653504  ->  316638724\n",
        " Path Cost:  0.100460822638\n",
        "Path Found:  316638724  ->  1926653718\n",
        " Path Cost:  0.100707838945\n",
        "ucs3tri_explored :  89\n",
        "Path Found: "
       ]
      },
      {
       "output_type": "stream",
       "stream": "stdout",
       "text": [
        " 1962660245  ->  1962660379\n",
        " Path Cost:  0.155063620173\n",
        "Skipping  1962660379\n",
        "Path Found: "
       ]
      },
      {
       "output_type": "stream",
       "stream": "stdout",
       "text": [
        " 557992357  ->  536682509\n",
        " Path Cost:  0.321432609557\n",
        "Path Found:  1890103400  ->  536682509\n",
        " Path Cost:  0.294913658966\n",
        "Skipping  536682509\n",
        "Trial:  4\n",
        "perimeter        :  0.775897554979\n",
        "ucs3mono_explored:  548\n",
        "Path Found: "
       ]
      },
      {
       "output_type": "stream",
       "stream": "stdout",
       "text": [
        " 557992357 -> 1890103400\n",
        " Path Cost:  0.453692295742\n",
        "Path Found: "
       ]
      },
      {
       "output_type": "stream",
       "stream": "stdout",
       "text": [
        " 1890103400 -> 536682509\n",
        " Path Cost:  0.294913658966\n",
        "ucs3bi_explored  :  473\n",
        "Path Found:  536682509  ->  1890103400\n",
        " Path Cost:  0.27357731004\n",
        "Path Found:  536682509  ->  557992357\n",
        " Path Cost:  0.273767096947\n",
        "ucs3tri_explored :  183\n",
        "START === GOAL"
       ]
      },
      {
       "output_type": "stream",
       "stream": "stdout",
       "text": [
        "\n",
        "Path Found: "
       ]
      },
      {
       "output_type": "stream",
       "stream": "stdout",
       "text": [
        " 546589748  ->  535070513\n",
        " Path Cost:  0.456495869228\n",
        "Skipping  535070513\n",
        "Not all points found, explored:  324\n",
        "Path Found: "
       ]
      },
      {
       "output_type": "stream",
       "stream": "stdout",
       "text": [
        " 69582815  ->  69372506\n",
        " Path Cost:  0.57192536502\n",
        "Skipping  69372506\n",
        "Path Found:  69512281  ->  69372506\n",
        " Path Cost:  0.312744173976\n",
        "Trial:  5\n",
        "perimeter        :  0.635262960709\n",
        "ucs3mono_explored:  64\n",
        "Path Found:  69582815 -> 69372506\n",
        " Path Cost:  0.358168161921\n",
        "Path Found:  69372506 -> 69512281\n",
        " Path Cost:  0.312744173976\n",
        "ucs3bi_explored  :  34\n",
        "Path Found:  69512281  ->  69372506\n",
        " Path Cost:  0.212207015068\n",
        "Path Found:  69582815  ->  69372506\n",
        " Path Cost:  0.358168161921\n",
        "ucs3tri_explored :  40\n",
        "Path Found: "
       ]
      },
      {
       "output_type": "stream",
       "stream": "stdout",
       "text": [
        " 552541747  ->  551076884\n",
        " Path Cost:  0.84112726003\n",
        "Skipping  551076884\n",
        "Not all points found, explored:  1624\n",
        "Path Found: "
       ]
      },
      {
       "output_type": "stream",
       "stream": "stdout",
       "text": [
        " 1926653414  ->  767401596\n",
        " Path Cost:  0.420319246658\n",
        "Path Found:  1926653697  ->  767401596\n",
        " Path Cost:  0.199689022434\n",
        "Skipping  767401596\n",
        "Trial:  6\n",
        "perimeter        :  0.88336077618\n",
        "ucs3mono_explored:  219\n",
        "Path Found:  1926653697 -> 767401596\n",
        " Path Cost:  0.199689022434\n",
        "Path Found: "
       ]
      },
      {
       "output_type": "stream",
       "stream": "stdout",
       "text": [
        " 1926653697 -> 1926653414\n",
        " Path Cost:  0.539271606377\n",
        "ucs3bi_explored  :  239\n",
        "Path Found:  1926653697  ->  767401596\n",
        " Path Cost:  0.186732120097\n",
        "Path Found: "
       ]
      },
      {
       "output_type": "stream",
       "stream": "stdout",
       "text": [
        " 767401596  ->  1926653414\n",
        " Path Cost:  0.409536572765\n",
        "ucs3tri_explored :  322\n",
        "Path Found: "
       ]
      },
      {
       "output_type": "stream",
       "stream": "stdout",
       "text": [
        " 2351504545  ->  69668131\n",
        " Path Cost:  0.0106788161099\n",
        "Path Found:  2351487060  ->  2351504545\n",
        " Path Cost:  0.302991319457\n",
        "Skipping  69668131\n",
        "Trial:  7\n",
        "perimeter        :  0.520389670819\n",
        "ucs3mono_explored:  225\n",
        "Path Found:  2351504545 -> 69668131\n",
        " Path Cost:  0.0106788161099\n",
        "Path Found: "
       ]
      },
      {
       "output_type": "stream",
       "stream": "stdout",
       "text": [
        " 2351487060 -> 2351504545\n",
        " Path Cost:  0.239606128586\n",
        "ucs3bi_explored  :  138\n",
        "Path Found:  69668131  ->  2351504545\n",
        " Path Cost:  0\n",
        "Path Found:  2351487060  ->  2351504545\n",
        " Path Cost:  0.239606128586\n",
        "ucs3tri_explored :  144\n",
        "Path Found: "
       ]
      },
      {
       "output_type": "stream",
       "stream": "stdout",
       "text": [
        " 560602231  ->  539591367\n",
        " Path Cost:  0.32888460865\n",
        "Path Found: "
       ]
      },
      {
       "output_type": "stream",
       "stream": "stdout",
       "text": [
        " 551074775  ->  539591367\n",
        " Path Cost:  0.426591512985\n",
        "Skipping  539591367\n",
        "Trial:  8\n",
        "perimeter        :  0.938820344803\n",
        "ucs3mono_explored:  1334\n",
        "Path Found: "
       ]
      },
      {
       "output_type": "stream",
       "stream": "stdout",
       "text": [
        " 551074775 -> 560602231\n",
        " Path Cost:  0.448171476374\n",
        "Path Found: "
       ]
      },
      {
       "output_type": "stream",
       "stream": "stdout",
       "text": [
        " 560602231 -> 539591367\n",
        " Path Cost:  0.32888460865\n",
        "ucs3bi_explored  :  1005\n",
        "Path Found: "
       ]
      },
      {
       "output_type": "stream",
       "stream": "stdout",
       "text": [
        " 560602231  ->  539591367\n",
        " Path Cost:  0.301295906346\n",
        "Path Found: "
       ]
      },
      {
       "output_type": "stream",
       "stream": "stdout",
       "text": [
        " 539591367  ->  551074775\n",
        " Path Cost:  0.369129297788\n",
        "ucs3tri_explored :  601\n",
        "Path Found: "
       ]
      },
      {
       "output_type": "stream",
       "stream": "stdout",
       "text": [
        " 551073815  ->  69168330\n",
        " Path Cost:  0.475414452581\n",
        "Path Found: "
       ]
      },
      {
       "output_type": "stream",
       "stream": "stdout",
       "text": [
        " 557989279  ->  69168330\n",
        " Path Cost:  0.291649142356\n",
        "Skipping  69168330\n",
        "Trial:  9\n",
        "perimeter        :  0.884048090843\n",
        "ucs3mono_explored:  1460\n",
        "Path Found: "
       ]
      },
      {
       "output_type": "stream",
       "stream": "stdout",
       "text": [
        " 551073815 -> 557989279\n",
        " Path Cost:  0.44361537404\n",
        "Path Found: "
       ]
      },
      {
       "output_type": "stream",
       "stream": "stdout",
       "text": [
        " 557989279 -> 69168330\n",
        " Path Cost:  0.291649142356\n",
        "ucs3bi_explored  :  835\n",
        "Path Found: "
       ]
      },
      {
       "output_type": "stream",
       "stream": "stdout",
       "text": [
        " 69168330  ->  557989279\n",
        " Path Cost:  0.220517085147\n",
        "Path Found: "
       ]
      },
      {
       "output_type": "stream",
       "stream": "stdout",
       "text": [
        " 69168330  ->  551073815\n",
        " Path Cost:  0.455574933028\n",
        "ucs3tri_explored :  732\n",
        "Path Found: "
       ]
      },
      {
       "output_type": "stream",
       "stream": "stdout",
       "text": [
        " 69432157  ->  69432161\n",
        " Path Cost:  0.0277494800118\n",
        "Skipping  69432161\n",
        "Path Found: "
       ]
      },
      {
       "output_type": "stream",
       "stream": "stdout",
       "text": [
        " 545437385  ->  553498026\n",
        " Path Cost:  0.510166831114\n",
        "Path Found: "
       ]
      },
      {
       "output_type": "stream",
       "stream": "stdout",
       "text": [
        " 546376738  ->  545437385\n",
        " Path Cost:  0.667632923373\n",
        "Skipping  553498026\n",
        "Trial:  10\n",
        "perimeter        :  0.841426018042\n",
        "ucs3mono_explored:  1216\n",
        "Path Found: "
       ]
      },
      {
       "output_type": "stream",
       "stream": "stdout",
       "text": [
        " 546376738 -> 545437385\n",
        " Path Cost:  0.589714401663\n",
        "Path Found: "
       ]
      },
      {
       "output_type": "stream",
       "stream": "stdout",
       "text": [
        " 545437385 -> 553498026\n",
        " Path Cost:  0.510166831114\n",
        "ucs3bi_explored  :  670\n",
        "Path Found: "
       ]
      },
      {
       "output_type": "stream",
       "stream": "stdout",
       "text": [
        " 553498026  ->  545437385\n",
        " Path Cost:  0.483266604632\n",
        "Path Found: "
       ]
      },
      {
       "output_type": "stream",
       "stream": "stdout",
       "text": [
        " 546376738  ->  545437385\n",
        " Path Cost:  0.589714401663\n",
        "ucs3tri_explored :  568\n",
        "Path Found: "
       ]
      },
      {
       "output_type": "stream",
       "stream": "stdout",
       "text": [
        " 552968128  ->  553902340\n",
        " Path Cost:  0.224757697146\n",
        "Path Found: "
       ]
      },
      {
       "output_type": "stream",
       "stream": "stdout",
       "text": [
        " 546378815  ->  553902340\n",
        " Path Cost:  0.574481658321\n",
        "Skipping  553902340\n",
        "Trial:  11\n",
        "perimeter        :  0.909453587132\n",
        "ucs3mono_explored:  920\n",
        "Path Found: "
       ]
      },
      {
       "output_type": "stream",
       "stream": "stdout",
       "text": [
        " 552968128 -> 553902340\n",
        " Path Cost:  0.224757697146\n",
        "Path Found: "
       ]
      },
      {
       "output_type": "stream",
       "stream": "stdout",
       "text": [
        " 552968128 -> 546378815\n",
        " Path Cost:  0.501710510496\n",
        "ucs3bi_explored  :  386\n",
        "Path Found:  552968128  ->  553902340\n",
        " Path Cost:  0.209063569605\n",
        "Path Found: "
       ]
      },
      {
       "output_type": "stream",
       "stream": "stdout",
       "text": [
        " 546378815  ->  553902340\n",
        " Path Cost:  0.450162272989\n",
        "ucs3tri_explored :  396\n",
        "Path Found: "
       ]
      },
      {
       "output_type": "stream",
       "stream": "stdout",
       "text": [
        " 1503611135  ->  767400197\n",
        " Path Cost:  0.298233251882\n",
        "Skipping "
       ]
      },
      {
       "output_type": "stream",
       "stream": "stdout",
       "text": [
        " 767400197\n",
        "Not all points found, explored:  538\n",
        "Path Found: "
       ]
      },
      {
       "output_type": "stream",
       "stream": "stdout",
       "text": [
        " 780749987  ->  557989420\n",
        " Path Cost:  0.497218172374\n",
        "Skipping  557989420\n",
        "Not all points found, explored:  489\n",
        "Path Found: "
       ]
      },
      {
       "output_type": "stream",
       "stream": "stdout",
       "text": [
        " 1595736637  ->  1928236299\n",
        " Path Cost:  0.1710783277\n",
        "Skipping  1928236299\n",
        "Path Found: "
       ]
      },
      {
       "output_type": "stream",
       "stream": "stdout",
       "text": [
        " 1926653809  ->  1928236299\n",
        " Path Cost:  0.485914868821\n",
        "Trial:  12\n",
        "perimeter        :  0.758506575503\n",
        "ucs3mono_explored:  790\n",
        "Path Found:  1928236299 -> 1595736637\n",
        " Path Cost:  0.160224465729\n",
        "Path Found: "
       ]
      },
      {
       "output_type": "stream",
       "stream": "stdout",
       "text": [
        " 1928236299 -> 1926653809\n",
        " Path Cost:  0.485914868821\n",
        "ucs3bi_explored  :  567\n",
        "Path Found:  1928236299  ->  1595736637\n",
        " Path Cost:  0.160224465729\n",
        "Path Found: "
       ]
      },
      {
       "output_type": "stream",
       "stream": "stdout",
       "text": [
        " 1928236299  ->  1926653809\n",
        " Path Cost:  0.474789195693\n",
        "ucs3tri_explored :  367\n",
        "Path Found: "
       ]
      },
      {
       "output_type": "stream",
       "stream": "stdout",
       "text": [
        " 2422809499  ->  560602244\n",
        " Path Cost:  0.243776422593\n",
        "Skipping  560602244\n",
        "Path Found: "
       ]
      },
      {
       "output_type": "stream",
       "stream": "stdout",
       "text": [
        " 69564692  ->  2422809499\n",
        " Path Cost:  0.458429714038\n",
        "Trial:  13\n",
        "perimeter        :  0.623506749814\n",
        "ucs3mono_explored:  495\n",
        "Path Found:  2422809499 -> 560602244\n",
        " Path Cost:  0.225290276912\n",
        "Path Found: "
       ]
      },
      {
       "output_type": "stream",
       "stream": "stdout",
       "text": [
        " 2422809499 -> 69564692\n",
        " Path Cost:  0.458429714038\n",
        "ucs3bi_explored  :  940\n",
        "Path Found:  2422809499  ->  560602244\n",
        " Path Cost:  0.225290276912\n",
        "Path Found: "
       ]
      },
      {
       "output_type": "stream",
       "stream": "stdout",
       "text": [
        " 2422809499  ->  69564692\n",
        " Path Cost:  0.430993715233\n",
        "ucs3tri_explored :  367\n",
        "Path Found: "
       ]
      },
      {
       "output_type": "stream",
       "stream": "stdout",
       "text": [
        " 1962660696  ->  1962660489\n",
        " Path Cost:  0.207588107264\n",
        "Skipping  1962660489\n",
        "Path Found: "
       ]
      },
      {
       "output_type": "stream",
       "stream": "stdout",
       "text": [
        " 1029247000  ->  539792546\n",
        " Path Cost:  0.630362634525\n",
        "Skipping  539792546\n",
        "Path Found:  69168348  ->  539792546\n",
        " Path Cost:  0.203610303698\n",
        "Trial:  14\n",
        "perimeter        :  0.993411380168\n",
        "ucs3mono_explored:  1718\n",
        "Path Found: "
       ]
      },
      {
       "output_type": "stream",
       "stream": "stdout",
       "text": [
        " 539792546 -> 69168348\n",
        " Path Cost:  0.203610303698\n",
        "Path Found: "
       ]
      },
      {
       "output_type": "stream",
       "stream": "stdout",
       "text": [
        " 539792546 -> 1029247000\n",
        " Path Cost:  0.586899237296\n",
        "ucs3bi_explored  :  715\n",
        "Path Found:  539792546  ->  69168348\n",
        " Path Cost:  0.181494424842\n",
        "Path Found: "
       ]
      },
      {
       "output_type": "stream",
       "stream": "stdout",
       "text": [
        " 539792546  ->  1029247000\n",
        " Path Cost:  0.586899237296\n",
        "ucs3tri_explored :  753\n",
        "Path Found: "
       ]
      },
      {
       "output_type": "stream",
       "stream": "stdout",
       "text": [
        " 69168237  ->  560602203\n",
        " Path Cost:  0.465940527791\n",
        "Skipping  560602203\n",
        "Not all points found, explored:  598\n",
        "Path Found: "
       ]
      },
      {
       "output_type": "stream",
       "stream": "stdout",
       "text": [
        " 1185875791  ->  316638592\n",
        " Path Cost:  0.51834410077\n",
        "Path Found: "
       ]
      },
      {
       "output_type": "stream",
       "stream": "stdout",
       "text": [
        " 2277872429  ->  316638592\n",
        " Path Cost:  0.856265735286\n",
        "Skipping  316638592\n",
        "Trial:  15\n",
        "perimeter        :  0.898088991213\n",
        "ucs3mono_explored:  1064\n",
        "Path Found: "
       ]
      },
      {
       "output_type": "stream",
       "stream": "stdout",
       "text": [
        " 2277872429 -> 1185875791\n",
        " Path Cost:  0.903987483265\n",
        "Path Found: "
       ]
      },
      {
       "output_type": "stream",
       "stream": "stdout",
       "text": [
        " 1185875791 -> 316638592\n",
        " Path Cost:  0.51834410077\n",
        "ucs3bi_explored  :  372\n",
        "Path Found: "
       ]
      },
      {
       "output_type": "stream",
       "stream": "stdout",
       "text": [
        " 1185875791  ->  316638592\n",
        " Path Cost:  0.500372894317\n",
        "Path Found: "
       ]
      },
      {
       "output_type": "stream",
       "stream": "stdout",
       "text": [
        " 316638592  ->  2277872429\n",
        " Path Cost:  0.832171654839\n",
        "ucs3tri_explored :  475\n",
        "Path Found: "
       ]
      },
      {
       "output_type": "stream",
       "stream": "stdout",
       "text": [
        " 1927477576  ->  1520334424\n",
        " Path Cost:  0.119143967685\n",
        "Path Found: "
       ]
      },
      {
       "output_type": "stream",
       "stream": "stdout",
       "text": [
        " 1926653593  ->  1520334424\n",
        " Path Cost:  0.373151641732\n",
        "Skipping  1520334424\n",
        "Trial:  16\n",
        "perimeter        :  0.708904719701\n",
        "ucs3mono_explored:  422\n",
        "Path Found:  1927477576 -> 1520334424\n",
        " Path Cost:  0.119143967685\n",
        "Path Found: "
       ]
      },
      {
       "output_type": "stream",
       "stream": "stdout",
       "text": [
        " 1926653593 -> 1927477576\n",
        " Path Cost:  0.47079039351\n",
        "ucs3bi_explored  :  361\n",
        "Path Found:  1927477576  ->  1520334424\n",
        " Path Cost:  0.0894618747992\n",
        "Path Found: "
       ]
      },
      {
       "output_type": "stream",
       "stream": "stdout",
       "text": [
        " 1926653593  ->  1520334424\n",
        " Path Cost:  0.345240286154\n",
        "ucs3tri_explored :  268\n",
        "Path Found: "
       ]
      },
      {
       "output_type": "stream",
       "stream": "stdout",
       "text": [
        " 551720545  ->  546680579\n",
        " Path Cost:  0.191409956031\n",
        "Skipping  546680579\n",
        "Path Found: "
       ]
      },
      {
       "output_type": "stream",
       "stream": "stdout",
       "text": [
        " 552544387  ->  551720545\n",
        " Path Cost:  0.282732182169\n",
        "Trial:  17\n",
        "perimeter        :  0.661007576099\n",
        "ucs3mono_explored:  723\n",
        "Path Found:  551720545 -> 546680579\n",
        " Path Cost:  0.133084206626\n",
        "Path Found: "
       ]
      },
      {
       "output_type": "stream",
       "stream": "stdout",
       "text": [
        " 551720545 -> 552544387\n",
        " Path Cost:  0.282732182169\n",
        "ucs3bi_explored  :  436\n",
        "Path Found:  551720545  ->  546680579\n",
        " Path Cost:  0.133084206626\n",
        "Path Found: "
       ]
      },
      {
       "output_type": "stream",
       "stream": "stdout",
       "text": [
        " 552544387  ->  551720545\n",
        " Path Cost:  0.267736380672\n",
        "ucs3tri_explored :  316\n",
        "Path Found: "
       ]
      },
      {
       "output_type": "stream",
       "stream": "stdout",
       "text": [
        " 523383712  ->  560602434\n",
        " Path Cost:  0.382548807972\n",
        "Skipping  560602434\n",
        "Path Found: "
       ]
      },
      {
       "output_type": "stream",
       "stream": "stdout",
       "text": [
        " 546591154  ->  560602434\n",
        " Path Cost:  0.668045720554\n",
        "Trial:  18\n",
        "perimeter        :  0.994090400056\n",
        "ucs3mono_explored:  811\n",
        "Path Found:  523383712 -> 560602434\n",
        " Path Cost:  0.346924912145\n",
        "Path Found: "
       ]
      },
      {
       "output_type": "stream",
       "stream": "stdout",
       "text": [
        " 560602434 -> 546591154\n",
        " Path Cost:  0.668045720554\n",
        "ucs3bi_explored  :  1317\n",
        "Path Found:  523383712  ->  560602434\n",
        " Path Cost:  0.346924912145\n",
        "Path Found: "
       ]
      },
      {
       "output_type": "stream",
       "stream": "stdout",
       "text": [
        " 560602434  ->  546591154\n",
        " Path Cost:  0.495493313568\n",
        "ucs3tri_explored :  500\n",
        "Path Found: "
       ]
      },
      {
       "output_type": "stream",
       "stream": "stdout",
       "text": [
        " 523202297  ->  2042482066\n",
        " Path Cost:  0.575206976106\n",
        "Path Found:  551077289  ->  2042482066\n",
        " Path Cost:  0.18019470057\n",
        "Skipping  2042482066\n",
        "Trial:  19\n",
        "perimeter        :  0.870177402115\n",
        "ucs3mono_explored:  1267\n",
        "Path Found: "
       ]
      },
      {
       "output_type": "stream",
       "stream": "stdout",
       "text": [
        " 551077289 -> 2042482066\n",
        " Path Cost:  0.18019470057\n",
        "Path Found: "
       ]
      },
      {
       "output_type": "stream",
       "stream": "stdout",
       "text": [
        " 551077289 -> 523202297\n",
        " Path Cost:  0.56778975093\n",
        "ucs3bi_explored  :  668\n",
        "Path Found:  2042482066  ->  551077289\n",
        " Path Cost:  0.169880209701\n",
        "Path Found: "
       ]
      },
      {
       "output_type": "stream",
       "stream": "stdout",
       "text": [
        " 523202297  ->  2042482066\n",
        " Path Cost:  0.541457172474\n",
        "ucs3tri_explored :  873\n",
        "Path Found:  2058953349  ->  560216556\n",
        " Path Cost:  0.353939787624\n",
        "Path Found: "
       ]
      },
      {
       "output_type": "stream",
       "stream": "stdout",
       "text": [
        " 552968758  ->  552967846\n",
        " Path Cost:  0.234242200573\n",
        "Skipping  552967846\n",
        "Not all points found, explored:  309\n",
        "Path Found: "
       ]
      },
      {
       "output_type": "stream",
       "stream": "stdout",
       "text": [
        " 546672114  ->  559369981\n",
        " Path Cost:  0.370026224103\n",
        "Skipping  559369981\n",
        "Not all points found, explored:  342\n",
        "Path Found: "
       ]
      },
      {
       "output_type": "stream",
       "stream": "stdout",
       "text": [
        " 560602211  ->  560602200\n",
        " Path Cost:  0.104797924269\n",
        "Path Found: "
       ]
      },
      {
       "output_type": "stream",
       "stream": "stdout",
       "text": [
        " 1117527850  ->  69116039\n",
        " Path Cost:  0.619237040094\n",
        "Skipping  69116039\n",
        "Not all points found, explored:  244\n",
        "START === GOAL"
       ]
      },
      {
       "output_type": "stream",
       "stream": "stdout",
       "text": [
        "\n",
        "Path Found: "
       ]
      },
      {
       "output_type": "stream",
       "stream": "stdout",
       "text": [
        " 551074855  ->  551074154\n",
        " Path Cost:  0.0661219073639\n",
        "Skipping  551074154\n",
        "Path Found: "
       ]
      },
      {
       "output_type": "stream",
       "stream": "stdout",
       "text": [
        " 560602220  ->  551074154\n",
        " Path Cost:  0.459031070832\n",
        "Trial:  20\n",
        "perimeter        :  0.858174551394\n",
        "ucs3mono_explored:  908\n",
        "Path Found:  551074154 -> 551074855\n",
        " Path Cost:  0.0557619476294\n",
        "Path Found: "
       ]
      },
      {
       "output_type": "stream",
       "stream": "stdout",
       "text": [
        " 551074154 -> 560602220\n",
        " Path Cost:  0.459031070832\n",
        "ucs3bi_explored  :  1166\n",
        "Path Found:  551074154  ->  551074855\n",
        " Path Cost:  0.0557619476294\n",
        "Path Found: "
       ]
      },
      {
       "output_type": "stream",
       "stream": "stdout",
       "text": [
        " 551074154  ->  560602220\n",
        " Path Cost:  0.375511395937\n",
        "ucs3tri_explored :  581\n",
        "Path Found: "
       ]
      },
      {
       "output_type": "stream",
       "stream": "stdout",
       "text": [
        " 558539471  ->  546589014\n",
        " Path Cost:  0.283358312197\n",
        "Path Found: "
       ]
      },
      {
       "output_type": "stream",
       "stream": "stdout",
       "text": [
        " 551076930  ->  558539471\n",
        " Path Cost:  0.510659114254\n",
        "Skipping  546589014\n",
        "Trial:  21\n",
        "perimeter        :  0.720560818283\n",
        "ucs3mono_explored:  1055\n",
        "Path Found: "
       ]
      },
      {
       "output_type": "stream",
       "stream": "stdout",
       "text": [
        " 558539471 -> 551076930\n",
        " Path Cost:  0.493578062286\n",
        "Path Found: "
       ]
      },
      {
       "output_type": "stream",
       "stream": "stdout",
       "text": [
        " 558539471 -> 546589014\n",
        " Path Cost:  0.283358312197\n",
        "ucs3bi_explored  :  506\n",
        "Path Found:  558539471  ->  546589014\n",
        " Path Cost:  0.228935558614\n",
        "Path Found: "
       ]
      },
      {
       "output_type": "stream",
       "stream": "stdout",
       "text": [
        " 558539471  ->  551076930\n",
        " Path Cost:  0.493578062286\n",
        "ucs3tri_explored :  449\n",
        "Path Found: "
       ]
      },
      {
       "output_type": "stream",
       "stream": "stdout",
       "text": [
        " 551072705  ->  552544010\n",
        " Path Cost:  0.49752076199\n",
        "Path Found: "
       ]
      },
      {
       "output_type": "stream",
       "stream": "stdout",
       "text": [
        " 2422809494  ->  551072705\n",
        " Path Cost:  0.680250825334\n",
        "Skipping  552544010\n",
        "Trial:  22\n",
        "perimeter        :  0.832157365697\n",
        "ucs3mono_explored:  2201\n",
        "Path Found: "
       ]
      },
      {
       "output_type": "stream",
       "stream": "stdout",
       "text": [
        " 2422809494 -> 551072705\n",
        " Path Cost:  0.541080539702\n",
        "Path Found: "
       ]
      },
      {
       "output_type": "stream",
       "stream": "stdout",
       "text": [
        " 551072705 -> 552544010\n",
        " Path Cost:  0.49752076199\n",
        "ucs3bi_explored  :  1383\n",
        "Path Found: "
       ]
      },
      {
       "output_type": "stream",
       "stream": "stdout",
       "text": [
        " 551072705  ->  552544010\n",
        " Path Cost:  0.36135382531\n",
        "Path Found: "
       ]
      },
      {
       "output_type": "stream",
       "stream": "stdout",
       "text": [
        " 2422809494  ->  551072705\n",
        " Path Cost:  0.541080539702\n",
        "ucs3tri_explored :  597\n",
        "Path Found: "
       ]
      },
      {
       "output_type": "stream",
       "stream": "stdout",
       "text": [
        " 69189266  ->  1418823707\n",
        " Path Cost:  0.0416588540651\n",
        "Path Found:  1418823670  ->  69189266\n",
        " Path Cost:  0.413779538066\n",
        "Skipping  1418823707\n",
        "Trial:  23\n",
        "perimeter        :  0.613440942406\n",
        "ucs3mono_explored:  236\n",
        "Path Found:  69189266 -> 1418823707\n",
        " Path Cost:  0.0416588540651\n",
        "Path Found: "
       ]
      },
      {
       "output_type": "stream",
       "stream": "stdout",
       "text": [
        " 69189266 -> 1418823670\n",
        " Path Cost:  0.323209515821\n",
        "ucs3bi_explored  :  238\n",
        "Path Found:  1418823707  ->  69189266\n",
        " Path Cost:  0.0261654130553\n",
        "Path Found: "
       ]
      },
      {
       "output_type": "stream",
       "stream": "stdout",
       "text": [
        " 69189266  ->  1418823670\n",
        " Path Cost:  0.323209515821\n",
        "ucs3tri_explored :  251\n",
        "Path Found: "
       ]
      },
      {
       "output_type": "stream",
       "stream": "stdout",
       "text": [
        " 552540099  ->  552541987\n",
        " Path Cost:  0.433296334263\n",
        "Skipping  552541987\n",
        "Not all points found, explored:  919\n",
        "Path Found: "
       ]
      },
      {
       "output_type": "stream",
       "stream": "stdout",
       "text": [
        " 551077000  ->  552541692\n",
        " Path Cost:  0.900433343192\n",
        "Skipping  552541692\n",
        "Not all points found, explored:  2008\n",
        "Path Found: "
       ]
      },
      {
       "output_type": "stream",
       "stream": "stdout",
       "text": [
        " 1611216409  ->  1520334492\n",
        " Path Cost:  0.287939599778\n",
        "Skipping  1520334492\n",
        "Path Found:  1962660285  ->  1520334492\n",
        " Path Cost:  0.187388808078\n",
        "Trial:  24\n",
        "perimeter        :  0.436528771441\n",
        "ucs3mono_explored:  164\n",
        "Path Found:  1520334492 -> 1611216409\n",
        " Path Cost:  0.278983539773\n",
        "Path Found: "
       ]
      },
      {
       "output_type": "stream",
       "stream": "stdout",
       "text": [
        " 1520334492 -> 1962660285\n",
        " Path Cost:  0.187388808078\n",
        "ucs3bi_explored  :  240\n",
        "Path Found:  1520334492  ->  1962660285\n",
        " Path Cost:  0.175098792801\n",
        "Path Found:  1520334492  ->  1611216409\n",
        " Path Cost:  0.278983539773\n",
        "ucs3tri_explored :  179\n",
        "Path Found: "
       ]
      },
      {
       "output_type": "stream",
       "stream": "stdout",
       "text": [
        " 1185875692  ->  1185875816\n",
        " Path Cost:  0.270964085775\n",
        "Skipping  1185875816\n",
        "Path Found: "
       ]
      },
      {
       "output_type": "stream",
       "stream": "stdout",
       "text": [
        " 1928236300  ->  1185875692\n",
        " Path Cost:  0.395594550065\n",
        "Trial:  25\n",
        "perimeter        :  0.812297810311\n",
        "ucs3mono_explored:  457\n",
        "Path Found:  1185875692 -> 1185875816\n",
        " Path Cost:  0.265239379666\n",
        "Path Found: "
       ]
      },
      {
       "output_type": "stream",
       "stream": "stdout",
       "text": [
        " 1185875692 -> 1928236300\n",
        " Path Cost:  0.395594550065\n",
        "ucs3bi_explored  :  343\n",
        "Path Found:  1185875692  ->  1185875816\n",
        " Path Cost:  0.265239379666\n",
        "Path Found: "
       ]
      },
      {
       "output_type": "stream",
       "stream": "stdout",
       "text": [
        " 1928236300  ->  1185875692\n",
        " Path Cost:  0.375368254924\n",
        "ucs3tri_explored :  235\n",
        "Path Found: "
       ]
      },
      {
       "output_type": "stream",
       "stream": "stdout",
       "text": [
        " 552540140  ->  552542869\n",
        " Path Cost:  0.380441973136\n",
        "Skipping  552542869\n",
        "Path Found: "
       ]
      },
      {
       "output_type": "stream",
       "stream": "stdout",
       "text": [
        " 558583191  ->  552542869\n",
        " Path Cost:  0.527144830583\n",
        "Trial:  26\n",
        "perimeter        :  0.731670430386\n",
        "ucs3mono_explored:  1419\n",
        "Path Found:  552540140 -> 552542869\n",
        " Path Cost:  0.285009578031\n",
        "Path Found: "
       ]
      },
      {
       "output_type": "stream",
       "stream": "stdout",
       "text": [
        " 552542869 -> 558583191\n",
        " Path Cost:  0.527144830583\n",
        "ucs3bi_explored  :  1372\n",
        "Path Found: "
       ]
      },
      {
       "output_type": "stream",
       "stream": "stdout",
       "text": [
        " 552540140  ->  552542869\n",
        " Path Cost:  0.285009578031\n",
        "Path Found: "
       ]
      },
      {
       "output_type": "stream",
       "stream": "stdout",
       "text": [
        " 552542869  ->  558583191\n",
        " Path Cost:  0.514290693739\n",
        "ucs3tri_explored :  687\n",
        "Path Found: "
       ]
      },
      {
       "output_type": "stream",
       "stream": "stdout",
       "text": [
        " 546672059  ->  552968544\n",
        " Path Cost:  0.0675801485059\n",
        "Path Found: "
       ]
      },
      {
       "output_type": "stream",
       "stream": "stdout",
       "text": [
        " 2422809513  ->  1029247011\n",
        " Path Cost:  0.392976415424\n",
        "Skipping  1029247011\n",
        "Not all points found, explored:  905\n",
        "Path Found: "
       ]
      },
      {
       "output_type": "stream",
       "stream": "stdout",
       "text": [
        " 551073548  ->  551721414\n",
        " Path Cost:  0.264625308543\n",
        "Skipping  551721414\n",
        "Path Found: "
       ]
      },
      {
       "output_type": "stream",
       "stream": "stdout",
       "text": [
        " 551076992  ->  551073548\n",
        " Path Cost:  0.41123373776\n",
        "Trial:  27\n",
        "perimeter        :  0.785013822886\n",
        "ucs3mono_explored:  1091\n",
        "Path Found: "
       ]
      },
      {
       "output_type": "stream",
       "stream": "stdout",
       "text": [
        " 551721414 -> 551073548\n",
        " Path Cost:  0.247502790421\n",
        "Path Found: "
       ]
      },
      {
       "output_type": "stream",
       "stream": "stdout",
       "text": [
        " 551073548 -> 551076992\n",
        " Path Cost:  0.41123373776\n",
        "ucs3bi_explored  :  1055\n",
        "Path Found: "
       ]
      },
      {
       "output_type": "stream",
       "stream": "stdout",
       "text": [
        " 551721414  ->  551073548\n",
        " Path Cost:  0.247502790421\n",
        "Path Found: "
       ]
      },
      {
       "output_type": "stream",
       "stream": "stdout",
       "text": [
        " 551076992  ->  551073548\n",
        " Path Cost:  0.392626561356\n",
        "ucs3tri_explored :  625\n",
        "Path Found: "
       ]
      },
      {
       "output_type": "stream",
       "stream": "stdout",
       "text": [
        " 1926466332  ->  767401588\n",
        " Path Cost:  0.771466841091\n",
        "Path Found: "
       ]
      },
      {
       "output_type": "stream",
       "stream": "stdout",
       "text": [
        " 767401561  ->  767401588\n",
        " Path Cost:  0.458021500551\n",
        "Skipping  767401588\n",
        "Trial:  28\n",
        "perimeter        :  0.897850255909\n",
        "ucs3mono_explored:  919\n",
        "Path Found: "
       ]
      },
      {
       "output_type": "stream",
       "stream": "stdout",
       "text": [
        " 767401561 -> 1926466332\n",
        " Path Cost:  0.796826723208\n",
        "Path Found: "
       ]
      },
      {
       "output_type": "stream",
       "stream": "stdout",
       "text": [
        " 767401561 -> 767401588\n",
        " Path Cost:  0.458021500551\n",
        "ucs3bi_explored  :  447\n",
        "Path Found: "
       ]
      },
      {
       "output_type": "stream",
       "stream": "stdout",
       "text": [
        " 767401588  ->  767401561\n",
        " Path Cost:  0.450538539054\n",
        "Path Found: "
       ]
      },
      {
       "output_type": "stream",
       "stream": "stdout",
       "text": [
        " 767401588  ->  1926466332\n",
        " Path Cost:  0.694651823769\n",
        "ucs3tri_explored :  584\n",
        "Path Found: "
       ]
      },
      {
       "output_type": "stream",
       "stream": "stdout",
       "text": [
        " 553496122  ->  560602425\n",
        " Path Cost:  0.38969198522\n",
        "Skipping  560602425\n",
        "Path Found:  558703478  ->  560602425\n",
        " Path Cost:  0.0831944025631\n",
        "Trial:  29\n",
        "perimeter        :  0.627375420585\n",
        "ucs3mono_explored:  691\n",
        "Path Found:  560602425 -> 558703478\n",
        " Path Cost:  0.0831944025631\n",
        "Path Found: "
       ]
      },
      {
       "output_type": "stream",
       "stream": "stdout",
       "text": [
        " 553496122 -> 560602425\n",
        " Path Cost:  0.369565689834\n",
        "ucs3bi_explored  :  197\n",
        "Path Found:  558703478  ->  560602425\n",
        " Path Cost:  0.0643378510771\n",
        "Path Found: "
       ]
      },
      {
       "output_type": "stream",
       "stream": "stdout",
       "text": [
        " 553496122  ->  560602425\n",
        " Path Cost:  0.369565689834\n",
        "ucs3tri_explored :  197\n",
        "Path Found: "
       ]
      },
      {
       "output_type": "stream",
       "stream": "stdout",
       "text": [
        " 560129751  ->  546378815\n",
        " Path Cost:  0.448171762868\n",
        "Skipping  546378815\n",
        "Path Found:  540750858  ->  546378815\n",
        " Path Cost:  0.120708498504\n",
        "Trial:  30\n",
        "perimeter        :  0.789256417662\n",
        "ucs3mono_explored:  811\n",
        "Path Found:  546378815 -> 540750858\n",
        " Path Cost:  0.120708498504\n",
        "Path Found: "
       ]
      },
      {
       "output_type": "stream",
       "stream": "stdout",
       "text": [
        " 560129751 -> 546378815\n",
        " Path Cost:  0.396543772288\n",
        "ucs3bi_explored  :  196\n",
        "Path Found:  546378815  ->  540750858\n",
        " Path Cost:  0.0657677230011\n",
        "Path Found: "
       ]
      },
      {
       "output_type": "stream",
       "stream": "stdout",
       "text": [
        " 560129751  ->  546378815\n",
        " Path Cost:  0.396543772288\n",
        "ucs3tri_explored :  200\n",
        "Path Found: "
       ]
      },
      {
       "output_type": "stream",
       "stream": "stdout",
       "text": [
        " 1926601823  ->  1926653792\n",
        " Path Cost:  0.511313577352\n",
        "Path Found:  1927477576  ->  1926653792\n",
        " Path Cost:  0.141432727467\n",
        "Skipping  1926653792\n",
        "Trial:  31\n",
        "perimeter        :  0.480372738017\n",
        "ucs3mono_explored:  534\n",
        "Path Found: "
       ]
      },
      {
       "output_type": "stream",
       "stream": "stdout",
       "text": [
        " 1927477576 -> 1926653792\n",
        " Path Cost:  0.141432727467\n",
        "Path Found: "
       ]
      },
      {
       "output_type": "stream",
       "stream": "stdout",
       "text": [
        " 1926601823 -> 1927477576\n",
        " Path Cost:  0.517658434472\n",
        "ucs3bi_explored  :  399\n",
        "Path Found:  1926653792  ->  1927477576\n",
        " Path Cost:  0.111750634582\n",
        "Path Found: "
       ]
      },
      {
       "output_type": "stream",
       "stream": "stdout",
       "text": [
        " 1926601823  ->  1926653792\n",
        " Path Cost:  0.502185920104\n",
        "ucs3tri_explored :  431\n",
        "Path Found: "
       ]
      },
      {
       "output_type": "stream",
       "stream": "stdout",
       "text": [
        " 1520334704  ->  1926466328\n",
        " Path Cost:  0.622189519147\n",
        "Skipping  1926466328\n",
        "Not all points found, explored:  609\n",
        "Path Found: "
       ]
      },
      {
       "output_type": "stream",
       "stream": "stdout",
       "text": [
        " 546672004  ->  552967856\n",
        " Path Cost:  0.296068973171\n",
        "Skipping  552967856\n",
        "Path Found: "
       ]
      },
      {
       "output_type": "stream",
       "stream": "stdout",
       "text": [
        " 551076972  ->  546672004\n",
        " Path Cost:  0.798795461049\n",
        "Trial:  32\n",
        "perimeter        :  0.960506223815\n",
        "ucs3mono_explored:  2111\n",
        "Path Found:  546672004 -> 552967856\n",
        " Path Cost:  0.272044077869\n",
        "Path Found: "
       ]
      },
      {
       "output_type": "stream",
       "stream": "stdout",
       "text": [
        " 546672004 -> 551076972\n",
        " Path Cost:  0.798795461049\n",
        "ucs3bi_explored  :  849\n",
        "Path Found: "
       ]
      },
      {
       "output_type": "stream",
       "stream": "stdout",
       "text": [
        " 546672004  ->  552967856\n",
        " Path Cost:  0.272044077869\n",
        "Path Found: "
       ]
      },
      {
       "output_type": "stream",
       "stream": "stdout",
       "text": [
        " 546672004  ->  551076972\n",
        " Path Cost:  0.563769161313\n",
        "ucs3tri_explored :  892\n",
        "Path Found: "
       ]
      },
      {
       "output_type": "stream",
       "stream": "stdout",
       "text": [
        " 767401559  ->  1520334465\n",
        " Path Cost:  0.331185877064\n",
        "Skipping  1520334465\n",
        "Not all points found, explored:  215\n",
        "Path Found: "
       ]
      },
      {
       "output_type": "stream",
       "stream": "stdout",
       "text": [
        " 540748743  ->  560216444\n",
        " Path Cost:  0.43727208714\n",
        "Path Found: "
       ]
      },
      {
       "output_type": "stream",
       "stream": "stdout",
       "text": [
        " 560604321  ->  560216444\n",
        " Path Cost:  0.400293381654\n",
        "Skipping  560216444\n",
        "Trial:  33\n",
        "perimeter        :  0.835386033563\n",
        "ucs3mono_explored:  983\n",
        "Path Found: "
       ]
      },
      {
       "output_type": "stream",
       "stream": "stdout",
       "text": [
        " 540748743 -> 560604321\n",
        " Path Cost:  0.334189576534\n",
        "Path Found: "
       ]
      },
      {
       "output_type": "stream",
       "stream": "stdout",
       "text": [
        " 560604321 -> 560216444\n",
        " Path Cost:  0.400293381654\n",
        "ucs3bi_explored  :  720\n",
        "Path Found: "
       ]
      },
      {
       "output_type": "stream",
       "stream": "stdout",
       "text": [
        " 560216444  ->  560604321\n",
        " Path Cost:  0.322374859944\n",
        "Path Found: "
       ]
      },
      {
       "output_type": "stream",
       "stream": "stdout",
       "text": [
        " 540748743  ->  560216444\n",
        " Path Cost:  0.424998214263\n",
        "ucs3tri_explored :  361\n",
        "Path Found: "
       ]
      },
      {
       "output_type": "stream",
       "stream": "stdout",
       "text": [
        " 1962660109  ->  1962660121\n",
        " Path Cost:  0.0386296020646\n",
        "Skipping  1962660121\n",
        "Path Found: "
       ]
      },
      {
       "output_type": "stream",
       "stream": "stdout",
       "text": [
        " 1595736828  ->  2349760518\n",
        " Path Cost:  0.558395827898\n",
        "Skipping  2349760518\n",
        "Path Found: "
       ]
      },
      {
       "output_type": "stream",
       "stream": "stdout",
       "text": [
        " 1926653691  ->  2349760518\n",
        " Path Cost:  0.372913836925\n",
        "Trial:  34\n",
        "perimeter        :  0.8901045279\n",
        "ucs3mono_explored:  1154\n",
        "Path Found: "
       ]
      },
      {
       "output_type": "stream",
       "stream": "stdout",
       "text": [
        " 1595736828 -> 2349760518\n",
        " Path Cost:  0.540941164789\n",
        "Path Found: "
       ]
      },
      {
       "output_type": "stream",
       "stream": "stdout",
       "text": [
        " 2349760518 -> 1926653691\n",
        " Path Cost:  0.372913836925\n",
        "ucs3bi_explored  :  825\n",
        "Path Found: "
       ]
      },
      {
       "output_type": "stream",
       "stream": "stdout",
       "text": [
        " 1926653691  ->  2349760518\n",
        " Path Cost:  0.342110440441\n",
        "Path Found: "
       ]
      },
      {
       "output_type": "stream",
       "stream": "stdout",
       "text": [
        " 1595736828  ->  2349760518\n",
        " Path Cost:  0.540941164789\n",
        "ucs3tri_explored :  561\n",
        "Path Found: "
       ]
      },
      {
       "output_type": "stream",
       "stream": "stdout",
       "text": [
        " 539590409  ->  553496173\n",
        " Path Cost:  0.384263025728\n",
        "Skipping  553496173\n",
        "Path Found: "
       ]
      },
      {
       "output_type": "stream",
       "stream": "stdout",
       "text": [
        " 553497944  ->  553496173\n",
        " Path Cost:  0.400682656057\n",
        "Trial:  35\n",
        "perimeter        :  0.981119496774\n",
        "ucs3mono_explored:  1125\n",
        "Path Found:  539590409 -> 553496173\n",
        " Path Cost:  0.363734468888\n",
        "Path Found: "
       ]
      },
      {
       "output_type": "stream",
       "stream": "stdout",
       "text": [
        " 553496173 -> 553497944\n",
        " Path Cost:  0.400682656057\n",
        "ucs3bi_explored  :  656\n",
        "Path Found: "
       ]
      },
      {
       "output_type": "stream",
       "stream": "stdout",
       "text": [
        " 539590409  ->  553496173\n",
        " Path Cost:  0.363734468888\n",
        "Path Found:  553496173  ->  553497944\n",
        " Path Cost:  0.375938427672\n",
        "ucs3tri_explored :  328\n",
        "Path Found: "
       ]
      },
      {
       "output_type": "stream",
       "stream": "stdout",
       "text": [
        " 1926466053  ->  2396740011\n",
        " Path Cost:  0.230092445768\n",
        "Skipping  2396740011\n",
        "Path Found: "
       ]
      },
      {
       "output_type": "stream",
       "stream": "stdout",
       "text": [
        " 1595736800  ->  1926466053\n",
        " Path Cost:  0.3926888194\n",
        "Trial:  36\n",
        "perimeter        :  0.705028904152\n",
        "ucs3mono_explored:  404\n",
        "Path Found:  2396740011 -> 1926466053\n",
        " Path Cost:  0.215126103857\n",
        "Path Found: "
       ]
      },
      {
       "output_type": "stream",
       "stream": "stdout",
       "text": [
        " 1926466053 -> 1595736800\n",
        " Path Cost:  0.3926888194\n",
        "ucs3bi_explored  :  294\n",
        "Path Found:  2396740011  ->  1926466053\n",
        " Path Cost:  0.215126103857\n",
        "Path Found: "
       ]
      },
      {
       "output_type": "stream",
       "stream": "stdout",
       "text": [
        " 1595736800  ->  2396740011\n",
        " Path Cost:  0.242061372561\n",
        "ucs3tri_explored :  213\n",
        "Path Found: "
       ]
      },
      {
       "output_type": "stream",
       "stream": "stdout",
       "text": [
        " 560129660  ->  551074868\n",
        " Path Cost:  0.226161442424\n",
        "Skipping  551074868\n",
        "Path Found: "
       ]
      },
      {
       "output_type": "stream",
       "stream": "stdout",
       "text": [
        " 546589104  ->  551074868\n",
        " Path Cost:  0.493842938574\n",
        "Trial:  37\n",
        "perimeter        :  0.970874846997\n",
        "ucs3mono_explored:  817\n",
        "Path Found:  560129660 -> 551074868\n",
        " Path Cost:  0.221205408183\n",
        "Path Found: "
       ]
      },
      {
       "output_type": "stream",
       "stream": "stdout",
       "text": [
        " 551074868 -> 546589104\n",
        " Path Cost:  0.493842938574\n",
        "ucs3bi_explored  :  1330\n",
        "Path Found:  560129660  ->  551074868\n",
        " Path Cost:  0.221205408183\n",
        "Path Found: "
       ]
      },
      {
       "output_type": "stream",
       "stream": "stdout",
       "text": [
        " 551074868  ->  546589104\n",
        " Path Cost:  0.449662866908\n",
        "ucs3tri_explored :  530\n",
        "Path Found: "
       ]
      },
      {
       "output_type": "stream",
       "stream": "stdout",
       "text": [
        " 69159160  ->  553497011\n",
        " Path Cost:  0.511895351982\n",
        "Path Found:  1904288965  ->  553497011\n",
        " Path Cost:  0.177918485456\n",
        "Skipping  553497011\n",
        "Trial:  38\n",
        "perimeter        :  0.744070039612\n",
        "ucs3mono_explored:  467\n",
        "Path Found:  1904288965 -> 553497011\n",
        " Path Cost:  0.177918485456\n",
        "Path Found: "
       ]
      },
      {
       "output_type": "stream",
       "stream": "stdout",
       "text": [
        " 69159160 -> 1904288965\n",
        " Path Cost:  0.669642662681\n",
        "ucs3bi_explored  :  499\n",
        "Path Found:  1904288965  ->  553497011\n",
        " Path Cost:  0.135779227482\n",
        "Path Found: "
       ]
      },
      {
       "output_type": "stream",
       "stream": "stdout",
       "text": [
        " 553497011  ->  69159160\n",
        " Path Cost:  0.485792022396\n",
        "ucs3tri_explored :  387\n",
        "Path Found: "
       ]
      },
      {
       "output_type": "stream",
       "stream": "stdout",
       "text": [
        " 552540144  ->  560129962\n",
        " Path Cost:  0.2828937661\n",
        "Skipping  560129962\n",
        "Path Found: "
       ]
      },
      {
       "output_type": "stream",
       "stream": "stdout",
       "text": [
        " 560602160  ->  560129962\n",
        " Path Cost:  0.365009767416\n",
        "Trial:  39\n",
        "perimeter        :  0.6349677461\n",
        "ucs3mono_explored:  848\n",
        "Path Found:  552540144 -> 560129962\n",
        " Path Cost:  0.278236917175\n",
        "Path Found: "
       ]
      },
      {
       "output_type": "stream",
       "stream": "stdout",
       "text": [
        " 560129962 -> 560602160\n",
        " Path Cost:  0.365009767416\n",
        "ucs3bi_explored  :  656\n",
        "Path Found: "
       ]
      },
      {
       "output_type": "stream",
       "stream": "stdout",
       "text": [
        " 552540144  ->  560129962\n",
        " Path Cost:  0.278236917175\n",
        "Path Found: "
       ]
      },
      {
       "output_type": "stream",
       "stream": "stdout",
       "text": [
        " 560602160  ->  560129962\n",
        " Path Cost:  0.339262376368\n",
        "ucs3tri_explored :  327\n",
        "Path Found: "
       ]
      },
      {
       "output_type": "stream",
       "stream": "stdout",
       "text": [
        " 558700744  ->  558700667\n",
        " Path Cost:  0.405334836213\n",
        "Skipping  558700667\n",
        "Not all points found, explored:  432\n",
        "Path Found: "
       ]
      },
      {
       "output_type": "stream",
       "stream": "stdout",
       "text": [
        " 998987490  ->  539590409\n",
        " Path Cost:  0.3189280166\n",
        "Skipping  539590409\n",
        "Path Found:  552542663  ->  998987490\n",
        " Path Cost:  0.321998147546\n",
        "Trial:  40\n",
        "perimeter        :  0.702289002872\n",
        "ucs3mono_explored:  396\n",
        "Path Found: "
       ]
      },
      {
       "output_type": "stream",
       "stream": "stdout",
       "text": [
        " 539590409 -> 998987490\n",
        " Path Cost:  0.242392500093\n",
        "Path Found: "
       ]
      },
      {
       "output_type": "stream",
       "stream": "stdout",
       "text": [
        " 998987490 -> 552542663\n",
        " Path Cost:  0.321998147546\n",
        "ucs3bi_explored  :  376\n",
        "Path Found:  552542663  ->  998987490\n",
        " Path Cost:  0.21683617538\n",
        "Path Found: "
       ]
      },
      {
       "output_type": "stream",
       "stream": "stdout",
       "text": [
        " 552542663  ->  539590409\n",
        " Path Cost:  0.309847286955\n",
        "ucs3tri_explored :  192\n",
        "Path Found: "
       ]
      },
      {
       "output_type": "stream",
       "stream": "stdout",
       "text": [
        " 546819199  ->  551074868\n",
        " Path Cost:  0.43276988558\n",
        "Skipping  551074868\n",
        "Not all points found, explored:  941\n",
        "Path Found: "
       ]
      },
      {
       "output_type": "stream",
       "stream": "stdout",
       "text": [
        " 2277872442  ->  1595736450\n",
        " Path Cost:  0.724140968218\n",
        "Path Found: "
       ]
      },
      {
       "output_type": "stream",
       "stream": "stdout",
       "text": [
        " 1185875826  ->  1595736450\n",
        " Path Cost:  0.7326532617\n",
        "Skipping  1595736450\n",
        "Trial:  41\n",
        "perimeter        :  0.74047957656\n",
        "ucs3mono_explored:  1042\n",
        "Path Found: "
       ]
      },
      {
       "output_type": "stream",
       "stream": "stdout",
       "text": [
        " 1185875826 -> 2277872442\n",
        " Path Cost:  1.10078645926\n",
        "Path Found: "
       ]
      },
      {
       "output_type": "stream",
       "stream": "stdout",
       "text": [
        " 2277872442 -> 1595736450\n",
        " Path Cost:  0.724140968218\n",
        "ucs3bi_explored  :  951\n",
        "Path Found: "
       ]
      },
      {
       "output_type": "stream",
       "stream": "stdout",
       "text": [
        " 1595736450  ->  1185875826\n",
        " Path Cost:  0.460343295863\n",
        "Path Found: "
       ]
      },
      {
       "output_type": "stream",
       "stream": "stdout",
       "text": [
        " 2277872442  ->  1595736450\n",
        " Path Cost:  0.702858185442\n",
        "ucs3tri_explored :  447\n",
        "Path Found: "
       ]
      },
      {
       "output_type": "stream",
       "stream": "stdout",
       "text": [
        " 767400197  ->  1595736512\n",
        " Path Cost:  0.188260630952\n",
        "Path Found:  1595736400  ->  1595736512\n",
        " Path Cost:  0.230945958161\n",
        "Skipping  1595736512\n",
        "Trial:  42\n",
        "perimeter        :  0.631606383336\n",
        "ucs3mono_explored:  306\n",
        "Path Found: "
       ]
      },
      {
       "output_type": "stream",
       "stream": "stdout",
       "text": [
        " 767400197 -> 1595736400\n",
        " Path Cost:  0.32944048487\n",
        "Path Found:  767400197 -> 1595736512\n",
        " Path Cost:  0.188260630952\n",
        "ucs3bi_explored  :  257\n",
        "Path Found: "
       ]
      },
      {
       "output_type": "stream",
       "stream": "stdout",
       "text": [
        " 767400197  ->  1595736512\n",
        " Path Cost:  0.175208410761\n",
        "Path Found:  1595736400  ->  1595736512\n",
        " Path Cost:  0.220602486131\n",
        "ucs3tri_explored :  166\n",
        "Path Found: "
       ]
      },
      {
       "output_type": "stream",
       "stream": "stdout",
       "text": [
        " 1926466268  ->  1926602007\n",
        " Path Cost:  0.308587811616\n",
        "Skipping  1926602007\n",
        "Not all points found, explored:  513\n",
        "Path Found: "
       ]
      },
      {
       "output_type": "stream",
       "stream": "stdout",
       "text": [
        " 1962660651  ->  1962660633\n",
        " Path Cost:  0.0216988197184\n",
        "Skipping  1962660633\n",
        "Path Found: "
       ]
      },
      {
       "output_type": "stream",
       "stream": "stdout",
       "text": [
        " 1595736841  ->  1926653666\n",
        " Path Cost:  0.727162137003\n",
        "Skipping "
       ]
      },
      {
       "output_type": "stream",
       "stream": "stdout",
       "text": [
        " 1926653666\n",
        "Not all points found, explored:  1293\n",
        "Path Found: "
       ]
      },
      {
       "output_type": "stream",
       "stream": "stdout",
       "text": [
        " 560604309  ->  2071293664\n",
        " Path Cost:  0.249904563038\n",
        "Skipping  2071293664\n",
        "Path Found: "
       ]
      },
      {
       "output_type": "stream",
       "stream": "stdout",
       "text": [
        " 538020041  ->  2071293664\n",
        " Path Cost:  0.540586323699\n",
        "Trial:  43\n",
        "perimeter        :  0.946519300031\n",
        "ucs3mono_explored:  840\n",
        "Path Found:  2071293664 -> 560604309\n",
        " Path Cost:  0.236318333864\n",
        "Path Found: "
       ]
      },
      {
       "output_type": "stream",
       "stream": "stdout",
       "text": [
        " 2071293664 -> 538020041\n",
        " Path Cost:  0.540586323699\n",
        "ucs3bi_explored  :  736\n",
        "Path Found: "
       ]
      },
      {
       "output_type": "stream",
       "stream": "stdout",
       "text": [
        " 2071293664  ->  560604309\n",
        " Path Cost:  0.236318333864\n",
        "Path Found: "
       ]
      },
      {
       "output_type": "stream",
       "stream": "stdout",
       "text": [
        " 2071293664  ->  538020041\n",
        " Path Cost:  0.527526805416\n",
        "ucs3tri_explored :  509\n",
        "Path Found: "
       ]
      },
      {
       "output_type": "stream",
       "stream": "stdout",
       "text": [
        " 1595736809  ->  1595736418\n",
        " Path Cost:  0.0462293845776\n",
        "Path Found: "
       ]
      },
      {
       "output_type": "stream",
       "stream": "stdout",
       "text": [
        " 1185875791  ->  1595736418\n",
        " Path Cost:  0.805940451658\n",
        "Skipping  1595736418\n",
        "Trial:  44\n",
        "perimeter        :  0.723097494851\n",
        "ucs3mono_explored:  661\n",
        "Path Found:  1595736809 -> 1595736418\n",
        " Path Cost:  0.0462293845776\n",
        "Path Found: "
       ]
      },
      {
       "output_type": "stream",
       "stream": "stdout",
       "text": [
        " 1185875791 -> 1595736809\n",
        " Path Cost:  0.78625795165\n",
        "ucs3bi_explored  :  397\n",
        "Path Found:  1595736809  ->  1595736418\n",
        " Path Cost:  0.040848906123\n",
        "Path Found: "
       ]
      },
      {
       "output_type": "stream",
       "stream": "stdout",
       "text": [
        " 1595736418  ->  1185875791\n",
        " Path Cost:  0.793359940365\n",
        "ucs3tri_explored :  413\n",
        "Path Found: "
       ]
      },
      {
       "output_type": "stream",
       "stream": "stdout",
       "text": [
        " 1962660427  ->  1962660214\n",
        " Path Cost:  0.141748055001\n",
        "Skipping  1962660214\n",
        "Path Found: "
       ]
      },
      {
       "output_type": "stream",
       "stream": "stdout",
       "text": [
        " 558703504  ->  1197055621\n",
        " Path Cost:  0.92215299587\n",
        "Skipping  1197055621\n",
        "Not all points found, explored:  1305\n",
        "Path Found: "
       ]
      },
      {
       "output_type": "stream",
       "stream": "stdout",
       "text": [
        " 558583288  ->  557992238\n",
        " Path Cost:  0.287308787492\n",
        "Path Found: "
       ]
      },
      {
       "output_type": "stream",
       "stream": "stdout",
       "text": [
        " 998987462  ->  557992238\n",
        " Path Cost:  0.326960582681\n",
        "Skipping  557992238\n",
        "Trial:  45\n",
        "perimeter        :  0.987278832872\n",
        "ucs3mono_explored:  628\n",
        "Path Found: "
       ]
      },
      {
       "output_type": "stream",
       "stream": "stdout",
       "text": [
        " 558583288 -> 557992238\n",
        " Path Cost:  0.287308787492\n",
        "Path Found: "
       ]
      },
      {
       "output_type": "stream",
       "stream": "stdout",
       "text": [
        " 558583288 -> 998987462\n",
        " Path Cost:  0.593914910559\n",
        "ucs3bi_explored  :  557\n",
        "Path Found: "
       ]
      },
      {
       "output_type": "stream",
       "stream": "stdout",
       "text": [
        " 558583288  ->  557992238\n",
        " Path Cost:  0.270170478457\n",
        "Path Found:  557992238  ->  998987462\n",
        " Path Cost:  0.259351243543\n",
        "ucs3tri_explored :  194\n",
        "Path Found: "
       ]
      },
      {
       "output_type": "stream",
       "stream": "stdout",
       "text": [
        " 1005008484  ->  552540686\n",
        " Path Cost:  0.126617682748\n",
        "Skipping  552540686\n",
        "Path Found: "
       ]
      },
      {
       "output_type": "stream",
       "stream": "stdout",
       "text": [
        " 551074275  ->  1005008484\n",
        " Path Cost:  0.385025680409\n",
        "Trial:  46\n",
        "perimeter        :  0.824855407286\n",
        "ucs3mono_explored:  1000\n",
        "Path Found:  552540686 -> 1005008484\n",
        " Path Cost:  0.0919253193432\n",
        "Path Found: "
       ]
      },
      {
       "output_type": "stream",
       "stream": "stdout",
       "text": [
        " 1005008484 -> 551074275\n",
        " Path Cost:  0.385025680409\n",
        "ucs3bi_explored  :  701\n",
        "Path Found:  552540686  ->  1005008484\n",
        " Path Cost:  0.0919253193432\n",
        "Path Found: "
       ]
      },
      {
       "output_type": "stream",
       "stream": "stdout",
       "text": [
        " 551074275  ->  1005008484\n",
        " Path Cost:  0.37408562774\n",
        "ucs3tri_explored :  507\n",
        "Path Found: "
       ]
      },
      {
       "output_type": "stream",
       "stream": "stdout",
       "text": [
        " 1926601999  ->  1595736381\n",
        " Path Cost:  0.546009373551\n",
        "Path Found:  1926653594  ->  1595736381\n",
        " Path Cost:  0.128347738679\n",
        "Skipping  1595736381\n",
        "Trial:  47\n",
        "perimeter        :  0.950497409919\n",
        "ucs3mono_explored:  823\n",
        "Path Found:  1926653594 -> 1595736381\n",
        " Path Cost:  0.128347738679\n",
        "Path Found: "
       ]
      },
      {
       "output_type": "stream",
       "stream": "stdout",
       "text": [
        " 1926601999 -> 1926653594\n",
        " Path Cost:  0.651694577024\n",
        "ucs3bi_explored  :  641\n",
        "Path Found:  1926653594  ->  1595736381\n",
        " Path Cost:  0.120881569324\n",
        "Path Found: "
       ]
      },
      {
       "output_type": "stream",
       "stream": "stdout",
       "text": [
        " 1926601999  ->  1595736381\n",
        " Path Cost:  0.518547103035\n",
        "ucs3tri_explored :  566\n",
        "Path Found: "
       ]
      },
      {
       "output_type": "stream",
       "stream": "stdout",
       "text": [
        " 2362574904  ->  2351487016\n",
        " Path Cost:  0.295993616383\n",
        "Skipping  2351487016\n",
        "Path Found:  2351732038  ->  2351487016\n",
        " Path Cost:  0.106874018811\n",
        "Trial:  48\n",
        "perimeter        :  0.603646069584\n",
        "ucs3mono_explored:  195\n",
        "Path Found:  2351487016 -> 2351732038\n",
        " Path Cost:  0.106874018811\n",
        "Path Found:  2351487016 -> 2362574904\n",
        " Path Cost:  0.248982660225\n",
        "ucs3bi_explored  :  108\n",
        "Path Found:  2351732038  ->  2351487016\n",
        " Path Cost:  0.0686749868707\n",
        "Path Found:  2351487016  ->  2362574904\n",
        " Path Cost:  0.248982660225\n",
        "ucs3tri_explored :  115\n",
        "Path Found: "
       ]
      },
      {
       "output_type": "stream",
       "stream": "stdout",
       "text": [
        " 558703492  ->  553496560\n",
        " Path Cost:  0.579881251727\n",
        "Skipping  553496560\n",
        "Not all points found, explored:  362\n",
        "Path Found: "
       ]
      },
      {
       "output_type": "stream",
       "stream": "stdout",
       "text": [
        " 1927477620  ->  1520334492\n",
        " Path Cost:  0.107258639853\n",
        "Path Found: "
       ]
      },
      {
       "output_type": "stream",
       "stream": "stdout",
       "text": [
        " 1926653676  ->  1520334492\n",
        " Path Cost:  0.694280055188\n",
        "Skipping  1520334492\n",
        "Trial:  49\n",
        "perimeter        :  0.745456152678\n",
        "ucs3mono_explored:  1122\n",
        "Path Found:  1927477620 -> 1520334492\n",
        " Path Cost:  0.107258639853\n",
        "Path Found: "
       ]
      },
      {
       "output_type": "stream",
       "stream": "stdout",
       "text": [
        " 1926653676 -> 1927477620\n",
        " Path Cost:  0.724725644813\n",
        "ucs3bi_explored  :  670\n",
        "Path Found:  1927477620  ->  1520334492\n",
        " Path Cost:  0.0998498711835\n",
        "Path Found: "
       ]
      },
      {
       "output_type": "stream",
       "stream": "stdout",
       "text": [
        " 1926653676  ->  1520334492\n",
        " Path Cost:  0.683299250225\n",
        "ucs3tri_explored :  722\n",
        "Path Found: "
       ]
      },
      {
       "output_type": "stream",
       "stream": "stdout",
       "text": [
        " 1926653815  ->  1928236345\n",
        " Path Cost:  0.399260919227\n",
        "Path Found:  1928236260  ->  1928236345\n",
        " Path Cost:  0.284559865645\n",
        "Skipping  1928236345\n",
        "Trial:  50\n",
        "perimeter        :  0.986006353431\n",
        "ucs3mono_explored:  731\n",
        "Path Found: "
       ]
      },
      {
       "output_type": "stream",
       "stream": "stdout",
       "text": [
        " 1926653815 -> 1928236260\n",
        " Path Cost:  0.527276008875\n",
        "Path Found: "
       ]
      },
      {
       "output_type": "stream",
       "stream": "stdout",
       "text": [
        " 1928236260 -> 1928236345\n",
        " Path Cost:  0.284559865645\n",
        "ucs3bi_explored  :  493\n",
        "Path Found: "
       ]
      },
      {
       "output_type": "stream",
       "stream": "stdout",
       "text": [
        " 1928236345  ->  1928236260\n",
        " Path Cost:  0.268382530793\n",
        "Path Found: "
       ]
      },
      {
       "output_type": "stream",
       "stream": "stdout",
       "text": [
        " 1926653815  ->  1928236345\n",
        " Path Cost:  0.384778989954\n",
        "ucs3tri_explored :  344\n",
        "Path Found: "
       ]
      },
      {
       "output_type": "stream",
       "stream": "stdout",
       "text": [
        " 546818648  ->  1005008490\n",
        " Path Cost:  0.367657061787\n",
        "Path Found:  974004183  ->  1005008490\n",
        " Path Cost:  0.17310638233\n",
        "Skipping  1005008490\n",
        "Trial:  51\n",
        "perimeter        :  0.790328322908\n",
        "ucs3mono_explored:  699\n",
        "Path Found: "
       ]
      },
      {
       "output_type": "stream",
       "stream": "stdout",
       "text": [
        " 974004183 -> 1005008490\n",
        " Path Cost:  0.17310638233\n",
        "Path Found: "
       ]
      },
      {
       "output_type": "stream",
       "stream": "stdout",
       "text": [
        " 974004183 -> 546818648\n",
        " Path Cost:  0.478462977201\n",
        "ucs3bi_explored  :  449\n",
        "Path Found:  1005008490  ->  974004183\n",
        " Path Cost:  0.121807721761\n",
        "Path Found: "
       ]
      },
      {
       "output_type": "stream",
       "stream": "stdout",
       "text": [
        " 546818648  ->  1005008490\n",
        " Path Cost:  0.351244192745\n",
        "ucs3tri_explored :  369\n",
        "Path Found: "
       ]
      },
      {
       "output_type": "stream",
       "stream": "stdout",
       "text": [
        " 551073843  ->  551077490\n",
        " Path Cost:  0.221777286183\n",
        "Skipping  551077490\n",
        "Not all points found, explored:  354\n",
        "Path Found: "
       ]
      },
      {
       "output_type": "stream",
       "stream": "stdout",
       "text": [
        " 551076891  ->  551076988\n",
        " Path Cost:  0.183838347765\n",
        "Path Found:  552542086  ->  551076988\n",
        " Path Cost:  0.190902299994\n",
        "Skipping  551076988\n",
        "Trial:  52\n",
        "perimeter        :  0.434999024936\n",
        "ucs3mono_explored:  219\n",
        "Path Found:  552542086 -> 551076891\n",
        " Path Cost:  0.260805810788\n",
        "Path Found: "
       ]
      },
      {
       "output_type": "stream",
       "stream": "stdout",
       "text": [
        " 551076891 -> 551076988\n",
        " Path Cost:  0.183838347765\n",
        "ucs3bi_explored  :  184\n",
        "Path Found:  551076891  ->  551076988\n",
        " Path Cost:  0.151312223115\n",
        "Path Found:  552542086  ->  551076988\n",
        " Path Cost:  0.171287514934\n",
        "ucs3tri_explored :  137\n",
        "Path Found: "
       ]
      },
      {
       "output_type": "stream",
       "stream": "stdout",
       "text": [
        " 1595736641  ->  1926653614\n",
        " Path Cost:  0.196894979311\n",
        "Path Found: "
       ]
      },
      {
       "output_type": "stream",
       "stream": "stdout",
       "text": [
        " 1595736636  ->  1595736641\n",
        " Path Cost:  0.59923016061\n",
        "Skipping  1926653614\n",
        "Trial:  53\n",
        "perimeter        :  0.889427614553\n",
        "ucs3mono_explored:  671\n",
        "Path Found: "
       ]
      },
      {
       "output_type": "stream",
       "stream": "stdout",
       "text": [
        " 1595736641 -> 1926653614\n",
        " Path Cost:  0.196894979311\n",
        "Path Found: "
       ]
      },
      {
       "output_type": "stream",
       "stream": "stdout",
       "text": [
        " 1595736641 -> 1595736636\n",
        " Path Cost:  0.591669157877\n",
        "ucs3bi_explored  :  520\n",
        "Path Found:  1595736641  ->  1926653614\n",
        " Path Cost:  0.18177941503\n",
        "Path Found: "
       ]
      },
      {
       "output_type": "stream",
       "stream": "stdout",
       "text": [
        " 1595736641  ->  1595736636\n",
        " Path Cost:  0.591669157877\n",
        "ucs3tri_explored :  562\n",
        "Path Found: "
       ]
      },
      {
       "output_type": "stream",
       "stream": "stdout",
       "text": [
        " 552544387  ->  551077411\n",
        " Path Cost:  0.21277703234\n",
        "Path Found: "
       ]
      },
      {
       "output_type": "stream",
       "stream": "stdout",
       "text": [
        " 2423191340  ->  551077411\n",
        " Path Cost:  0.645926099104\n",
        "Skipping  551077411\n",
        "Trial:  54\n",
        "perimeter        :  0.701501286163\n",
        "ucs3mono_explored:  1098\n",
        "Path Found: "
       ]
      },
      {
       "output_type": "stream",
       "stream": "stdout",
       "text": [
        " 552544387 -> 551077411\n",
        " Path Cost:  0.21277703234\n",
        "Path Found: "
       ]
      },
      {
       "output_type": "stream",
       "stream": "stdout",
       "text": [
        " 552544387 -> 2423191340\n",
        " Path Cost:  0.628352137705\n",
        "ucs3bi_explored  :  858\n",
        "Path Found:  552544387  ->  551077411\n",
        " Path Cost:  0.202462541471\n",
        "Path Found: "
       ]
      },
      {
       "output_type": "stream",
       "stream": "stdout",
       "text": [
        " 2423191340  ->  551077411\n",
        " Path Cost:  0.626909320351\n",
        "ucs3tri_explored :  868\n",
        "Path Found: "
       ]
      },
      {
       "output_type": "stream",
       "stream": "stdout",
       "text": [
        " 1890103416  ->  560129803\n",
        " Path Cost:  0.392794590466\n",
        "Path Found:  560129753  ->  560129803\n",
        " Path Cost:  0.0931166194296\n",
        "Skipping  560129803\n",
        "Trial:  55\n",
        "perimeter        :  0.763983247458\n",
        "ucs3mono_explored:  646\n",
        "Path Found:  560129753 -> 560129803\n",
        " Path Cost:  0.0931166194296\n",
        "Path Found:  560129753 -> 1890103416\n",
        " Path Cost:  0.410865728375\n",
        "ucs3bi_explored  :  169\n",
        "Path Found:  560129753  ->  560129803\n",
        " Path Cost:  0.0595769699545\n",
        "Path Found: "
       ]
      },
      {
       "output_type": "stream",
       "stream": "stdout",
       "text": [
        " 560129803  ->  1890103416\n",
        " Path Cost:  0.380912114486\n",
        "ucs3tri_explored :  197\n",
        "Path Found: "
       ]
      },
      {
       "output_type": "stream",
       "stream": "stdout",
       "text": [
        " 552540065  ->  998987491\n",
        " Path Cost:  0.0516982705522\n",
        "Path Found: "
       ]
      },
      {
       "output_type": "stream",
       "stream": "stdout",
       "text": [
        " 560129678  ->  998987491\n",
        " Path Cost:  0.599942935806\n",
        "Skipping  998987491\n",
        "Trial:  56\n",
        "perimeter        :  0.711214720071\n",
        "ucs3mono_explored:  1120\n",
        "Path Found:  552540065 -> 998987491\n",
        " Path Cost:  0.0516982705522\n",
        "Path Found: "
       ]
      },
      {
       "output_type": "stream",
       "stream": "stdout",
       "text": [
        " 560129678 -> 552540065\n",
        " Path Cost:  0.627700781776\n",
        "ucs3bi_explored  :  508\n",
        "Path Found:  998987491  ->  552540065\n",
        " Path Cost:  0.0389357485077\n",
        "Path Found: "
       ]
      },
      {
       "output_type": "stream",
       "stream": "stdout",
       "text": [
        " 998987491  ->  560129678\n",
        " Path Cost:  0.574644239842\n",
        "ucs3tri_explored :  499\n",
        "Path Found: "
       ]
      },
      {
       "output_type": "stream",
       "stream": "stdout",
       "text": [
        " 1927477560  ->  1926601825\n",
        " Path Cost:  0.494097116933\n",
        "Path Found: "
       ]
      },
      {
       "output_type": "stream",
       "stream": "stdout",
       "text": [
        " 69160884  ->  1927477560\n",
        " Path Cost:  0.582694854504\n",
        "Skipping  1926601825\n",
        "Trial:  57\n",
        "perimeter        :  0.743934048673\n",
        "ucs3mono_explored:  1112\n",
        "Path Found: "
       ]
      },
      {
       "output_type": "stream",
       "stream": "stdout",
       "text": [
        " 69160884 -> 1927477560\n",
        " Path Cost:  0.540998189188\n",
        "Path Found: "
       ]
      },
      {
       "output_type": "stream",
       "stream": "stdout",
       "text": [
        " 1927477560 -> 1926601825\n",
        " Path Cost:  0.494097116933\n",
        "ucs3bi_explored  :  932\n",
        "Path Found: "
       ]
      },
      {
       "output_type": "stream",
       "stream": "stdout",
       "text": [
        " 1927477560  ->  1926601825\n",
        " Path Cost:  0.486047651386\n",
        "Path Found: "
       ]
      },
      {
       "output_type": "stream",
       "stream": "stdout",
       "text": [
        " 69160884  ->  1927477560\n",
        " Path Cost:  0.540998189188\n",
        "ucs3tri_explored :  469\n",
        "Path Found: "
       ]
      },
      {
       "output_type": "stream",
       "stream": "stdout",
       "text": [
        " 523202250  ->  2073885703\n",
        " Path Cost:  0.620245611381\n",
        "Skipping  2073885703\n",
        "Path Found:  560605872  ->  2073885703\n",
        " Path Cost:  0.0235103153447\n",
        "Trial:  58\n",
        "perimeter        :  0.61723761178\n",
        "ucs3mono_explored:  653\n",
        "Path Found:  2073885703 -> 560605872\n",
        " Path Cost:  0.0235103153447\n",
        "Path Found: "
       ]
      },
      {
       "output_type": "stream",
       "stream": "stdout",
       "text": [
        " 2073885703 -> 523202250\n",
        " Path Cost:  0.555513653013\n",
        "ucs3bi_explored  :  521\n",
        "Path Found:  560605872  ->  2073885703\n",
        " Path Cost:  0.0154970295734\n",
        "Path Found: "
       ]
      },
      {
       "output_type": "stream",
       "stream": "stdout",
       "text": [
        " 2073885703  ->  523202250\n",
        " Path Cost:  0.555513653013\n",
        "ucs3tri_explored :  526\n",
        "Path Found: "
       ]
      },
      {
       "output_type": "stream",
       "stream": "stdout",
       "text": [
        " 1004998914  ->  998987476\n",
        " Path Cost:  0.341546092184\n",
        "Path Found: "
       ]
      },
      {
       "output_type": "stream",
       "stream": "stdout",
       "text": [
        " 1117527801  ->  1004998914\n",
        " Path Cost:  0.476535387399\n",
        "Skipping  998987476\n",
        "Trial:  59\n",
        "perimeter        :  0.794750516485\n",
        "ucs3mono_explored:  1048\n",
        "Path Found: "
       ]
      },
      {
       "output_type": "stream",
       "stream": "stdout",
       "text": [
        " 1004998914 -> 1117527801\n",
        " Path Cost:  0.457518608646\n",
        "Path Found: "
       ]
      },
      {
       "output_type": "stream",
       "stream": "stdout",
       "text": [
        " 1004998914 -> 998987476\n",
        " Path Cost:  0.341546092184\n",
        "ucs3bi_explored  :  795\n",
        "Path Found: "
       ]
      },
      {
       "output_type": "stream",
       "stream": "stdout",
       "text": [
        " 998987476  ->  1004998914\n",
        " Path Cost:  0.297593595418\n",
        "Path Found: "
       ]
      },
      {
       "output_type": "stream",
       "stream": "stdout",
       "text": [
        " 1004998914  ->  1117527801\n",
        " Path Cost:  0.457518608646\n",
        "ucs3tri_explored :  574\n",
        "Path Found: "
       ]
      },
      {
       "output_type": "stream",
       "stream": "stdout",
       "text": [
        " 2422809519  ->  539792504\n",
        " Path Cost:  0.115554955209\n",
        "Skipping  539792504\n",
        "Path Found: "
       ]
      },
      {
       "output_type": "stream",
       "stream": "stdout",
       "text": [
        " 552542132  ->  539792504\n",
        " Path Cost:  0.270644903875\n",
        "Trial:  60\n",
        "perimeter        :  0.566552697779\n",
        "ucs3mono_explored:  356\n",
        "Path Found:  539792504 -> 2422809519\n",
        " Path Cost:  0.0379060915308\n",
        "Path Found: "
       ]
      },
      {
       "output_type": "stream",
       "stream": "stdout",
       "text": [
        " 539792504 -> 552542132\n",
        " Path Cost:  0.270644903875\n",
        "ucs3bi_explored  :  577\n",
        "Path Found:  539792504  ->  2422809519\n",
        " Path Cost:  0.0379060915308\n",
        "Path Found: "
       ]
      },
      {
       "output_type": "stream",
       "stream": "stdout",
       "text": [
        " 552542132  ->  539792504\n",
        " Path Cost:  0.206759182171\n",
        "ucs3tri_explored :  238\n",
        "Path Found: "
       ]
      },
      {
       "output_type": "stream",
       "stream": "stdout",
       "text": [
        " 552967817  ->  553733434\n",
        " Path Cost:  0.303602717342\n",
        "Skipping  553733434\n",
        "Not all points found, explored:  226\n",
        "Path Found: "
       ]
      },
      {
       "output_type": "stream",
       "stream": "stdout",
       "text": [
        " 551077243  ->  560602237\n",
        " Path Cost:  0.627258064619\n",
        "Path Found:  552540505  ->  560602237\n",
        " Path Cost:  0.128036247201\n",
        "Skipping  560602237\n",
        "Trial:  61\n",
        "perimeter        :  0.97036750524\n",
        "ucs3mono_explored:  1661\n",
        "Path Found:  552540505 -> 560602237\n",
        " Path Cost:  0.128036247201\n",
        "Path Found: "
       ]
      },
      {
       "output_type": "stream",
       "stream": "stdout",
       "text": [
        " 551077243 -> 552540505\n",
        " Path Cost:  0.551966562485\n",
        "ucs3bi_explored  :  629\n",
        "Path Found:  560602237  ->  552540505\n",
        " Path Cost:  0.0963084084362\n",
        "Path Found: "
       ]
      },
      {
       "output_type": "stream",
       "stream": "stdout",
       "text": [
        " 551077243  ->  560602237\n",
        " Path Cost:  0.491091127939\n",
        "ucs3tri_explored :  680\n",
        "Path Found: "
       ]
      },
      {
       "output_type": "stream",
       "stream": "stdout",
       "text": [
        " 551072925  ->  553496147\n",
        " Path Cost:  0.445862628916\n",
        "Skipping  553496147\n",
        "Not all points found, explored:  946\n",
        "Path Found: "
       ]
      },
      {
       "output_type": "stream",
       "stream": "stdout",
       "text": [
        " 1926653409  ->  1926653430\n",
        " Path Cost:  0.137089792144\n",
        "Path Found: "
       ]
      },
      {
       "output_type": "stream",
       "stream": "stdout",
       "text": [
        " 1926653682  ->  1926653534\n",
        " Path Cost:  0.28987342474\n",
        "Skipping  1926653534\n",
        "Not all points found, explored:  492\n",
        "Path Found: "
       ]
      },
      {
       "output_type": "stream",
       "stream": "stdout",
       "text": [
        " 546617321  ->  551077367\n",
        " Path Cost:  0.368127945416\n",
        "Skipping  551077367\n",
        "Path Found: "
       ]
      },
      {
       "output_type": "stream",
       "stream": "stdout",
       "text": [
        " 551072745  ->  551077367\n",
        " Path Cost:  0.311373049205\n",
        "Trial:  62\n",
        "perimeter        :  0.960483361492\n",
        "ucs3mono_explored:  844\n",
        "Path Found: "
       ]
      },
      {
       "output_type": "stream",
       "stream": "stdout",
       "text": [
        " 551077367 -> 546617321\n",
        " Path Cost:  0.359792741112\n",
        "Path Found: "
       ]
      },
      {
       "output_type": "stream",
       "stream": "stdout",
       "text": [
        " 551077367 -> 551072745\n",
        " Path Cost:  0.311373049205\n",
        "ucs3bi_explored  :  663\n",
        "Path Found: "
       ]
      },
      {
       "output_type": "stream",
       "stream": "stdout",
       "text": [
        " 551072745  ->  551077367\n",
        " Path Cost:  0.286715757658\n",
        "Path Found: "
       ]
      },
      {
       "output_type": "stream",
       "stream": "stdout",
       "text": [
        " 551077367  ->  546617321\n",
        " Path Cost:  0.359792741112\n",
        "ucs3tri_explored :  457\n",
        "Path Found: "
       ]
      },
      {
       "output_type": "stream",
       "stream": "stdout",
       "text": [
        " 546377603  ->  1904273610\n",
        " Path Cost:  0.83136814994\n",
        "Path Found:  1874844470  ->  1904273610\n",
        " Path Cost:  0.321398410573\n",
        "Skipping  1904273610\n",
        "Trial:  63\n",
        "perimeter        :  0.715567958404\n",
        "ucs3mono_explored:  943\n",
        "Path Found: "
       ]
      },
      {
       "output_type": "stream",
       "stream": "stdout",
       "text": [
        " 1874844470 -> 1904273610\n",
        " Path Cost:  0.321398410573\n",
        "Path Found: "
       ]
      },
      {
       "output_type": "stream",
       "stream": "stdout",
       "text": [
        " 546377603 -> 1874844470\n",
        " Path Cost:  0.920193453779\n",
        "ucs3bi_explored  :  463\n",
        "Path Found: "
       ]
      },
      {
       "output_type": "stream",
       "stream": "stdout",
       "text": [
        " 1904273610  ->  1874844470\n",
        " Path Cost:  0.287600119736\n",
        "Path Found: "
       ]
      },
      {
       "output_type": "stream",
       "stream": "stdout",
       "text": [
        " 546377603  ->  1904273610\n",
        " Path Cost:  0.728149792539\n",
        "ucs3tri_explored :  566\n",
        "Path Found: "
       ]
      },
      {
       "output_type": "stream",
       "stream": "stdout",
       "text": [
        " 1926466053  ->  1595736496\n",
        " Path Cost:  0.244176257408\n",
        "Path Found: "
       ]
      },
      {
       "output_type": "stream",
       "stream": "stdout",
       "text": [
        " 1185875714  ->  1595736496\n",
        " Path Cost:  0.792148884163\n",
        "Skipping  1595736496\n",
        "Trial:  64\n",
        "perimeter        :  0.980380289039\n",
        "ucs3mono_explored:  569\n",
        "Path Found:  1926466053 -> 1595736496\n",
        " Path Cost:  0.244176257408\n",
        "Path Found: "
       ]
      },
      {
       "output_type": "stream",
       "stream": "stdout",
       "text": [
        " 1926466053 -> 1185875714\n",
        " Path Cost:  0.764015175734\n",
        "ucs3bi_explored  :  457\n",
        "Path Found:  1926466053  ->  1595736496\n",
        " Path Cost:  0.237014156735\n",
        "Path Found: "
       ]
      },
      {
       "output_type": "stream",
       "stream": "stdout",
       "text": [
        " 1595736496  ->  1185875714\n",
        " Path Cost:  0.519838918325\n",
        "ucs3tri_explored :  268\n",
        "Path Found: "
       ]
      },
      {
       "output_type": "stream",
       "stream": "stdout",
       "text": [
        " 283218219  ->  551073702\n",
        " Path Cost:  0.473223483997\n",
        "Skipping  551073702\n",
        "Path Found: "
       ]
      },
      {
       "output_type": "stream",
       "stream": "stdout",
       "text": [
        " 551072874  ->  551073702\n",
        " Path Cost:  0.220982022673\n",
        "Trial:  65\n",
        "perimeter        :  0.803070296078\n",
        "ucs3mono_explored:  762\n",
        "Path Found: "
       ]
      },
      {
       "output_type": "stream",
       "stream": "stdout",
       "text": [
        " 551073702 -> 551072874\n",
        " Path Cost:  0.220982022673\n",
        "Path Found: "
       ]
      },
      {
       "output_type": "stream",
       "stream": "stdout",
       "text": [
        " 551073702 -> 283218219\n",
        " Path Cost:  0.46417709095\n",
        "ucs3bi_explored  :  493\n",
        "Path Found:  551072874  ->  551073702\n",
        " Path Cost:  0.164976563995\n",
        "Path Found: "
       ]
      },
      {
       "output_type": "stream",
       "stream": "stdout",
       "text": [
        " 551073702  ->  283218219\n",
        " Path Cost:  0.46417709095\n",
        "ucs3tri_explored :  547\n",
        "Path Found: "
       ]
      },
      {
       "output_type": "stream",
       "stream": "stdout",
       "text": [
        " 510876354  ->  546615055\n",
        " Path Cost:  0.0721048755422\n",
        "Skipping  546615055\n",
        "Not all points found, explored:  95\n",
        "Path Found: "
       ]
      },
      {
       "output_type": "stream",
       "stream": "stdout",
       "text": [
        " 1928886708  ->  1928281362\n",
        " Path Cost:  0.174210456772\n",
        "Path Found:  69305868  ->  1928886708\n",
        " Path Cost:  0.909924162667\n",
        "Skipping  1928281362\n",
        "Trial:  66\n",
        "perimeter        :  0.502116260621\n",
        "ucs3mono_explored:  324\n",
        "Path Found: "
       ]
      },
      {
       "output_type": "stream",
       "stream": "stdout",
       "text": [
        " 1928886708 -> 1928281362\n",
        " Path Cost:  0.174210456772\n",
        "Path Found: "
       ]
      },
      {
       "output_type": "stream",
       "stream": "stdout",
       "text": [
        " 69305868 -> 1928886708\n",
        " Path Cost:  0.821788822518\n",
        "ucs3bi_explored  :  241\n",
        "Path Found:  1928281362  ->  1928886708\n",
        " Path Cost:  0.166213294745\n",
        "Path Found: "
       ]
      },
      {
       "output_type": "stream",
       "stream": "stdout",
       "text": [
        " 69305868  ->  1928886708\n",
        " Path Cost:  0.821788822518\n",
        "ucs3tri_explored :  241\n",
        "Path Found: "
       ]
      },
      {
       "output_type": "stream",
       "stream": "stdout",
       "text": [
        " 1962660495  ->  1962660576\n",
        " Path Cost:  0.0999911978828\n",
        "Skipping  1962660576\n",
        "Path Found: "
       ]
      },
      {
       "output_type": "stream",
       "stream": "stdout",
       "text": [
        " 307868521  ->  1015370953\n",
        " Path Cost:  0.145654105447\n",
        "Skipping  1015370953\n",
        "Path Found:  551074613  ->  1015370953\n",
        " Path Cost:  0.15186466344\n",
        "Trial:  67\n",
        "perimeter        :  0.455232125565\n",
        "ucs3mono_explored:  408\n",
        "Path Found: "
       ]
      },
      {
       "output_type": "stream",
       "stream": "stdout",
       "text": [
        " 307868521 -> 1015370953\n",
        " Path Cost:  0.126444719217\n",
        "Path Found: "
       ]
      },
      {
       "output_type": "stream",
       "stream": "stdout",
       "text": [
        " 1015370953 -> 551074613\n",
        " Path Cost:  0.15186466344\n",
        "ucs3bi_explored  :  360\n",
        "Path Found:  307868521  ->  1015370953\n",
        " Path Cost:  0.126444719217\n",
        "Path Found: "
       ]
      },
      {
       "output_type": "stream",
       "stream": "stdout",
       "text": [
        " 551074613  ->  1015370953\n",
        " Path Cost:  0.143950127708\n",
        "ucs3tri_explored :  205\n",
        "Path Found: "
       ]
      },
      {
       "output_type": "stream",
       "stream": "stdout",
       "text": [
        " 1029247011  ->  552542890\n",
        " Path Cost:  0.376660050917\n",
        "Skipping  552542890\n",
        "Path Found: "
       ]
      },
      {
       "output_type": "stream",
       "stream": "stdout",
       "text": [
        " 523110735  ->  1029247011\n",
        " Path Cost:  0.425962615878\n",
        "Trial:  68\n",
        "perimeter        :  0.898387340512\n",
        "ucs3mono_explored:  946\n",
        "Path Found: "
       ]
      },
      {
       "output_type": "stream",
       "stream": "stdout",
       "text": [
        " 552542890 -> 1029247011\n",
        " Path Cost:  0.325218155924\n",
        "Path Found: "
       ]
      },
      {
       "output_type": "stream",
       "stream": "stdout",
       "text": [
        " 1029247011 -> 523110735\n",
        " Path Cost:  0.425962615878\n",
        "ucs3bi_explored  :  1286\n",
        "Path Found: "
       ]
      },
      {
       "output_type": "stream",
       "stream": "stdout",
       "text": [
        " 552542890  ->  1029247011\n",
        " Path Cost:  0.325218155924\n",
        "Path Found: "
       ]
      },
      {
       "output_type": "stream",
       "stream": "stdout",
       "text": [
        " 523110735  ->  1029247011\n",
        " Path Cost:  0.378691651741\n",
        "ucs3tri_explored :  442\n",
        "Path Found: "
       ]
      },
      {
       "output_type": "stream",
       "stream": "stdout",
       "text": [
        " 546818781  ->  551077467\n",
        " Path Cost:  0.253503671546\n",
        "Skipping  551077467\n",
        "Path Found: "
       ]
      },
      {
       "output_type": "stream",
       "stream": "stdout",
       "text": [
        " 551076864  ->  551077467\n",
        " Path Cost:  0.510782084246\n",
        "Trial:  69\n",
        "perimeter        :  0.628762174231\n",
        "ucs3mono_explored:  620\n",
        "Path Found:  546818781 -> 551077467\n",
        " Path Cost:  0.210040274317\n",
        "Path Found: "
       ]
      },
      {
       "output_type": "stream",
       "stream": "stdout",
       "text": [
        " 551077467 -> 551076864\n",
        " Path Cost:  0.510782084246\n",
        "ucs3bi_explored  :  1586\n",
        "Path Found: "
       ]
      },
      {
       "output_type": "stream",
       "stream": "stdout",
       "text": [
        " 546818781  ->  551077467\n",
        " Path Cost:  0.210040274317\n",
        "Path Found: "
       ]
      },
      {
       "output_type": "stream",
       "stream": "stdout",
       "text": [
        " 551076864  ->  551077467\n",
        " Path Cost:  0.491167299186\n",
        "ucs3tri_explored :  706\n",
        "Path Found: "
       ]
      },
      {
       "output_type": "stream",
       "stream": "stdout",
       "text": [
        " 552544427  ->  1005008498\n",
        " Path Cost:  0.383264920896\n",
        "Path Found: "
       ]
      },
      {
       "output_type": "stream",
       "stream": "stdout",
       "text": [
        " 1904288944  ->  1005008498\n",
        " Path Cost:  0.306283086652\n",
        "Skipping  1005008498\n",
        "Trial:  70\n",
        "perimeter        :  0.852546472758\n",
        "ucs3mono_explored:  1098\n",
        "Path Found: "
       ]
      },
      {
       "output_type": "stream",
       "stream": "stdout",
       "text": [
        " 552544427 -> 1904288944\n",
        " Path Cost:  0.25131781549\n",
        "Path Found: "
       ]
      },
      {
       "output_type": "stream",
       "stream": "stdout",
       "text": [
        " 1904288944 -> 1005008498\n",
        " Path Cost:  0.306283086652\n",
        "ucs3bi_explored  :  791\n",
        "Path Found: "
       ]
      },
      {
       "output_type": "stream",
       "stream": "stdout",
       "text": [
        " 1904288944  ->  1005008498\n",
        " Path Cost:  0.296346487968\n",
        "Path Found: "
       ]
      },
      {
       "output_type": "stream",
       "stream": "stdout",
       "text": [
        " 552544427  ->  1904288944\n",
        " Path Cost:  0.25131781549\n",
        "ucs3tri_explored :  544\n",
        "Path Found: "
       ]
      },
      {
       "output_type": "stream",
       "stream": "stdout",
       "text": [
        " 1926653614  ->  1595736607\n",
        " Path Cost:  0.328352793751\n",
        "Skipping  1595736607\n",
        "Path Found:  1595736431  ->  1595736607\n",
        " Path Cost:  0.273253396075\n",
        "Trial:  71\n",
        "perimeter        :  0.771871377642\n",
        "ucs3mono_explored:  447\n",
        "Path Found: "
       ]
      },
      {
       "output_type": "stream",
       "stream": "stdout",
       "text": [
        " 1595736607 -> 1926653614\n",
        " Path Cost:  0.310898130642\n",
        "Path Found: "
       ]
      },
      {
       "output_type": "stream",
       "stream": "stdout",
       "text": [
        " 1595736607 -> 1595736431\n",
        " Path Cost:  0.273253396075\n",
        "ucs3bi_explored  :  506\n",
        "Path Found: "
       ]
      },
      {
       "output_type": "stream",
       "stream": "stdout",
       "text": [
        " 1595736431  ->  1595736607\n",
        " Path Cost:  0.252472552665\n",
        "Path Found: "
       ]
      },
      {
       "output_type": "stream",
       "stream": "stdout",
       "text": [
        " 1595736607  ->  1926653614\n",
        " Path Cost:  0.310898130642\n",
        "ucs3tri_explored :  264\n",
        "Path Found: "
       ]
      },
      {
       "output_type": "stream",
       "stream": "stdout",
       "text": [
        " 560129752  ->  539792585\n",
        " Path Cost:  0.435023637808\n",
        "Path Found:  552542393  ->  539792585\n",
        " Path Cost:  0.222983264867\n",
        "Skipping  539792585\n",
        "Trial:  72\n",
        "perimeter        :  0.599874539996\n",
        "ucs3mono_explored:  773\n",
        "Path Found: "
       ]
      },
      {
       "output_type": "stream",
       "stream": "stdout",
       "text": [
        " 552542393 -> 539792585\n",
        " Path Cost:  0.222983264867\n",
        "Path Found:  552542393 -> 560129752\n",
        " Path Cost:  0.478198854682\n",
        "ucs3bi_explored  :  350\n",
        "Path Found: "
       ]
      },
      {
       "output_type": "stream",
       "stream": "stdout",
       "text": [
        " 539792585  ->  552542393\n",
        " Path Cost:  0.211041284476\n",
        "Path Found: "
       ]
      },
      {
       "output_type": "stream",
       "stream": "stdout",
       "text": [
        " 539792585  ->  560129752\n",
        " Path Cost:  0.40062035558\n",
        "ucs3tri_explored :  524\n",
        "Path Found: "
       ]
      },
      {
       "output_type": "stream",
       "stream": "stdout",
       "text": [
        " 1962660512  ->  1962660354\n",
        " Path Cost:  0.127585743439\n",
        "Path Found: "
       ]
      },
      {
       "output_type": "stream",
       "stream": "stdout",
       "text": [
        " 546680756  ->  546681570\n",
        " Path Cost:  0.610374808773\n",
        "Skipping  546681570\n",
        "Path Found: "
       ]
      },
      {
       "output_type": "stream",
       "stream": "stdout",
       "text": [
        " 998987482  ->  546681570\n",
        " Path Cost:  0.387218772614\n",
        "Trial:  73\n",
        "perimeter        :  0.70226949729\n",
        "ucs3mono_explored:  1173\n",
        "Path Found: "
       ]
      },
      {
       "output_type": "stream",
       "stream": "stdout",
       "text": [
        " 546681570 -> 546680756\n",
        " Path Cost:  0.548184030349\n",
        "Path Found: "
       ]
      },
      {
       "output_type": "stream",
       "stream": "stdout",
       "text": [
        " 546681570 -> 998987482\n",
        " Path Cost:  0.387218772614\n",
        "ucs3bi_explored  :  513\n",
        "Path Found: "
       ]
      },
      {
       "output_type": "stream",
       "stream": "stdout",
       "text": [
        " 546681570  ->  998987482\n",
        " Path Cost:  0.351594876787\n",
        "Path Found: "
       ]
      },
      {
       "output_type": "stream",
       "stream": "stdout",
       "text": [
        " 546681570  ->  546680756\n",
        " Path Cost:  0.548184030349\n",
        "ucs3tri_explored :  389\n",
        "Path Found: "
       ]
      },
      {
       "output_type": "stream",
       "stream": "stdout",
       "text": [
        " 540750860  ->  552541113\n",
        " Path Cost:  0.74002273857\n",
        "Skipping  552541113\n",
        "Not all points found, explored:  1422\n",
        "Path Found: "
       ]
      },
      {
       "output_type": "stream",
       "stream": "stdout",
       "text": [
        " 551074851  ->  2058953352\n",
        " Path Cost:  0.316581791679\n",
        "Skipping  2058953352\n",
        "Path Found: "
       ]
      },
      {
       "output_type": "stream",
       "stream": "stdout",
       "text": [
        " 1740579758  ->  551074851\n",
        " Path Cost:  0.553240885562\n",
        "Trial:  74\n",
        "perimeter        :  0.970606298273\n",
        "ucs3mono_explored:  1809\n",
        "Path Found:  551074851 -> 2058953352\n",
        " Path Cost:  0.294465912823\n",
        "Path Found: "
       ]
      },
      {
       "output_type": "stream",
       "stream": "stdout",
       "text": [
        " 551074851 -> 1740579758\n",
        " Path Cost:  0.553240885562\n",
        "ucs3bi_explored  :  1404\n",
        "Path Found: "
       ]
      },
      {
       "output_type": "stream",
       "stream": "stdout",
       "text": [
        " 551074851  ->  2058953352\n",
        " Path Cost:  0.294465912823\n",
        "Path Found: "
       ]
      },
      {
       "output_type": "stream",
       "stream": "stdout",
       "text": [
        " 551074851  ->  1740579758\n",
        " Path Cost:  0.496544588747\n",
        "ucs3tri_explored :  767\n",
        "Path Found: "
       ]
      },
      {
       "output_type": "stream",
       "stream": "stdout",
       "text": [
        " 1962660257  ->  1962660178\n",
        " Path Cost:  0.0285210521195\n",
        "Skipping  1962660178\n",
        "Path Found: "
       ]
      },
      {
       "output_type": "stream",
       "stream": "stdout",
       "text": [
        " 2422809493  ->  553497012\n",
        " Path Cost:  0.462415313843\n",
        "Skipping  553497012\n",
        "Not all points found, explored:  331\n",
        "Path Found: "
       ]
      },
      {
       "output_type": "stream",
       "stream": "stdout",
       "text": [
        " 546681094  ->  2422809517\n",
        " Path Cost:  0.697094649555\n",
        "Skipping  2422809517\n",
        "Not all points found, explored:  1145\n",
        "Path Found: "
       ]
      },
      {
       "output_type": "stream",
       "stream": "stdout",
       "text": [
        " 546379051  ->  510876361\n",
        " Path Cost:  0.464458889537\n",
        "Path Found: "
       ]
      },
      {
       "output_type": "stream",
       "stream": "stdout",
       "text": [
        " 307868520  ->  510876361\n",
        " Path Cost:  0.174013270655\n",
        "Skipping  510876361\n",
        "Trial:  75\n",
        "perimeter        :  0.879075293667\n",
        "ucs3mono_explored:  613\n",
        "Path Found: "
       ]
      },
      {
       "output_type": "stream",
       "stream": "stdout",
       "text": [
        " 307868520 -> 510876361\n",
        " Path Cost:  0.174013270655\n",
        "Path Found: "
       ]
      },
      {
       "output_type": "stream",
       "stream": "stdout",
       "text": [
        " 307868520 -> 546379051\n",
        " Path Cost:  0.599304743284\n",
        "ucs3bi_explored  :  667\n",
        "Path Found:  307868520  ->  510876361\n",
        " Path Cost:  0.105720631632\n",
        "Path Found: "
       ]
      },
      {
       "output_type": "stream",
       "stream": "stdout",
       "text": [
        " 510876361  ->  546379051\n",
        " Path Cost:  0.44348693779\n",
        "ucs3tri_explored :  546\n",
        "Path Found: "
       ]
      },
      {
       "output_type": "stream",
       "stream": "stdout",
       "text": [
        " 553496993  ->  551077389\n",
        " Path Cost:  0.247593036112\n",
        "Skipping  551077389\n",
        "Not all points found, explored:  259\n",
        "Path Found: "
       ]
      },
      {
       "output_type": "stream",
       "stream": "stdout",
       "text": [
        " 1962660610  ->  1962660261\n",
        " Path Cost:  0.299662909376\n",
        "Skipping  1962660261\n",
        "Not all points found, explored:  260\n",
        "Path Found: "
       ]
      },
      {
       "output_type": "stream",
       "stream": "stdout",
       "text": [
        " 559369966  ->  553902414\n",
        " Path Cost:  0.208418622193\n",
        "Skipping  553902414\n",
        "Not all points found, explored:  172\n",
        "Path Found: "
       ]
      },
      {
       "output_type": "stream",
       "stream": "stdout",
       "text": [
        " 1926653655  ->  566462484\n",
        " Path Cost:  0.927416994629\n",
        "Skipping  566462484\n",
        "Not all points found, explored: "
       ]
      },
      {
       "output_type": "stream",
       "stream": "stdout",
       "text": [
        " 1948\n",
        "Path Found: "
       ]
      },
      {
       "output_type": "stream",
       "stream": "stdout",
       "text": [
        " 557989194  ->  69168291\n",
        " Path Cost:  0.504526220951\n",
        "Path Found:  558583288  ->  69168291\n",
        " Path Cost:  0.126276015851\n",
        "Skipping  69168291\n",
        "Trial:  76\n",
        "perimeter        :  0.817778108634\n",
        "ucs3mono_explored:  947\n",
        "Path Found:  558583288 -> 69168291\n",
        " Path Cost:  0.126276015851\n",
        "Path Found: "
       ]
      },
      {
       "output_type": "stream",
       "stream": "stdout",
       "text": [
        " 558583288 -> 557989194\n",
        " Path Cost:  0.570201861217\n",
        "ucs3bi_explored  :  362\n",
        "Path Found:  69168291  ->  558583288\n",
        " Path Cost:  0.120416026741\n",
        "Path Found: "
       ]
      },
      {
       "output_type": "stream",
       "stream": "stdout",
       "text": [
        " 69168291  ->  557989194\n",
        " Path Cost:  0.470311575301\n",
        "ucs3tri_explored :  353\n",
        "Not all points found, explored: "
       ]
      },
      {
       "output_type": "stream",
       "stream": "stdout",
       "text": [
        " 124\n",
        "Path Found: "
       ]
      },
      {
       "output_type": "stream",
       "stream": "stdout",
       "text": [
        " 1890103397  ->  560605869\n",
        " Path Cost:  0.340076949752\n",
        "Path Found: "
       ]
      },
      {
       "output_type": "stream",
       "stream": "stdout",
       "text": [
        " 1029247005  ->  1890103397\n",
        " Path Cost:  0.363282860183\n",
        "Skipping  560605869\n",
        "Trial:  77\n",
        "perimeter        :  0.823550409151\n",
        "ucs3mono_explored:  816\n",
        "Path Found:  1890103397 -> 1029247005\n",
        " Path Cost:  0.346578060089\n",
        "Path Found: "
       ]
      },
      {
       "output_type": "stream",
       "stream": "stdout",
       "text": [
        " 1890103397 -> 560605869\n",
        " Path Cost:  0.340076949752\n",
        "ucs3bi_explored  :  679\n",
        "Path Found: "
       ]
      },
      {
       "output_type": "stream",
       "stream": "stdout",
       "text": [
        " 1890103397  ->  560605869\n",
        " Path Cost:  0.295171059364\n",
        "Path Found: "
       ]
      },
      {
       "output_type": "stream",
       "stream": "stdout",
       "text": [
        " 1890103397  ->  1029247005\n",
        " Path Cost:  0.346578060089\n",
        "ucs3tri_explored :  320\n",
        "Path Found: "
       ]
      },
      {
       "output_type": "stream",
       "stream": "stdout",
       "text": [
        " 69244630  ->  1926601845\n",
        " Path Cost:  0.627774668468\n",
        "Path Found: "
       ]
      },
      {
       "output_type": "stream",
       "stream": "stdout",
       "text": [
        " 551077334  ->  998987509\n",
        " Path Cost:  0.434438824247\n",
        "Skipping  998987509\n",
        "Path Found: "
       ]
      },
      {
       "output_type": "stream",
       "stream": "stdout",
       "text": [
        " 69564711  ->  998987509\n",
        " Path Cost:  0.608970096296\n",
        "Trial:  78\n",
        "perimeter        :  0.818870895255\n",
        "ucs3mono_explored:  1598\n",
        "Path Found: "
       ]
      },
      {
       "output_type": "stream",
       "stream": "stdout",
       "text": [
        " 998987509 -> 551077334\n",
        " Path Cost:  0.406497418305\n",
        "Path Found: "
       ]
      },
      {
       "output_type": "stream",
       "stream": "stdout",
       "text": [
        " 998987509 -> 69564711\n",
        " Path Cost:  0.608970096296\n",
        "ucs3bi_explored  :  1796\n",
        "Path Found: "
       ]
      },
      {
       "output_type": "stream",
       "stream": "stdout",
       "text": [
        " 998987509  ->  551077334\n",
        " Path Cost:  0.406497418305\n",
        "Path Found: "
       ]
      },
      {
       "output_type": "stream",
       "stream": "stdout",
       "text": [
        " 998987509  ->  69564711\n",
        " Path Cost:  0.544015078436\n",
        "ucs3tri_explored :  905\n",
        "Path Found: "
       ]
      },
      {
       "output_type": "stream",
       "stream": "stdout",
       "text": [
        " 552540518  ->  546617050\n",
        " Path Cost:  0.664597572981\n",
        "Path Found:  546617091  ->  546617050\n",
        " Path Cost:  0.0220741066063\n",
        "Skipping  546617050\n",
        "Trial:  79\n",
        "perimeter        :  0.732400812072\n",
        "ucs3mono_explored:  1118\n",
        "Path Found:  546617091 -> 546617050\n",
        " Path Cost:  0.0220741066063\n",
        "Path Found: "
       ]
      },
      {
       "output_type": "stream",
       "stream": "stdout",
       "text": [
        " 552540518 -> 546617091\n",
        " Path Cost:  0.646064388386\n",
        "ucs3bi_explored  :  476\n",
        "Path Found:  546617050  ->  546617091\n",
        " Path Cost:  0.00897958942344\n",
        "Path Found: "
       ]
      },
      {
       "output_type": "stream",
       "stream": "stdout",
       "text": [
        " 546617050  ->  552540518\n",
        " Path Cost:  0.64915997937\n",
        "ucs3tri_explored :  488\n",
        "Path Found: "
       ]
      },
      {
       "output_type": "stream",
       "stream": "stdout",
       "text": [
        " 2017919927  ->  551074874\n",
        " Path Cost:  0.161484772803\n",
        "Skipping  551074874\n",
        "Path Found:  1029155096  ->  551074874\n",
        " Path Cost:  0.120794182811\n",
        "Trial:  80\n",
        "perimeter        :  0.453977425541\n",
        "ucs3mono_explored:  326\n",
        "Path Found:  2017919927 -> 551074874\n",
        " Path Cost:  0.140090850948\n",
        "Path Found: "
       ]
      },
      {
       "output_type": "stream",
       "stream": "stdout",
       "text": [
        " 551074874 -> 1029155096\n",
        " Path Cost:  0.120794182811\n",
        "ucs3bi_explored  :  203\n",
        "Path Found:  551074874  ->  1029155096\n",
        " Path Cost:  0.113101880395\n",
        "Path Found:  2017919927  ->  551074874\n",
        " Path Cost:  0.140090850948\n",
        "ucs3tri_explored :  181\n",
        "Path Found: "
       ]
      },
      {
       "output_type": "stream",
       "stream": "stdout",
       "text": [
        " 69507361  ->  2351728380\n",
        " Path Cost:  0.167813364264\n",
        "Skipping  2351728380\n",
        "Path Found: "
       ]
      },
      {
       "output_type": "stream",
       "stream": "stdout",
       "text": [
        " 69460932  ->  69507361\n",
        " Path Cost:  0.61793138856\n",
        "Trial:  81\n",
        "perimeter        :  0.889959528895\n",
        "ucs3mono_explored:  355\n",
        "Path Found:  2351728380 -> 69507361\n",
        " Path Cost:  0.150403271719\n",
        "Path Found: "
       ]
      },
      {
       "output_type": "stream",
       "stream": "stdout",
       "text": [
        " 69507361 -> 69460932\n",
        " Path Cost:  0.61793138856\n",
        "ucs3bi_explored  :  249\n",
        "Path Found:  2351728380  ->  69507361\n",
        " Path Cost:  0.150403271719\n",
        "Path Found:  69460932  ->  69507361\n",
        " Path Cost:  0.545991116284\n",
        "ucs3tri_explored :  115\n",
        "Path Found: "
       ]
      },
      {
       "output_type": "stream",
       "stream": "stdout",
       "text": [
        " 546819894  ->  1005008495\n",
        " Path Cost:  0.441832878563\n",
        "Skipping  1005008495\n",
        "Not all points found, explored:  453\n",
        "Path Found: "
       ]
      },
      {
       "output_type": "stream",
       "stream": "stdout",
       "text": [
        " 1278530608  ->  1278558757\n",
        " Path Cost:  0.228331556454\n",
        "Path Found:  1278530613  ->  1278530608\n",
        " Path Cost:  0.452461050779\n",
        "Skipping  1278558757\n",
        "Trial:  82\n",
        "perimeter        :  0.740975851682\n",
        "ucs3mono_explored:  182\n",
        "Path Found:  1278530613 -> 1278530608\n",
        " Path Cost:  0.332456537965\n",
        "Path Found:  1278530608 -> 1278558757\n",
        " Path Cost:  0.228331556454\n",
        "ucs3bi_explored  :  85\n",
        "Path Found:  1278558757  ->  1278530608\n",
        " Path Cost:  0.122790127523\n",
        "Path Found:  1278530613  ->  1278530608\n",
        " Path Cost:  0.332456537965\n",
        "ucs3tri_explored :  90\n",
        "Path Found: "
       ]
      },
      {
       "output_type": "stream",
       "stream": "stdout",
       "text": [
        " 69179470  ->  69461861\n",
        " Path Cost:  0.151189720989\n",
        "Skipping  69461861\n",
        "Path Found:  69376332  ->  69179470\n",
        " Path Cost:  0.494276338618\n",
        "Trial:  83\n",
        "perimeter        :  0.85491836697\n",
        "ucs3mono_explored:  265\n",
        "Path Found:  69179470 -> 69461861\n",
        " Path Cost:  0.142521157089\n",
        "Path Found: "
       ]
      },
      {
       "output_type": "stream",
       "stream": "stdout",
       "text": [
        " 69179470 -> 69376332\n",
        " Path Cost:  0.494276338618\n",
        "ucs3bi_explored  :  265\n",
        "Path Found:  69179470  ->  69461861\n",
        " Path Cost:  0.142521157089\n",
        "Path Found:  69179470  ->  69376332\n",
        " Path Cost:  0.431457015769\n",
        "ucs3tri_explored :  128\n",
        "Path Found: "
       ]
      },
      {
       "output_type": "stream",
       "stream": "stdout",
       "text": [
        " 69125674  ->  1783843935\n",
        " Path Cost:  0.617780432711\n",
        "Skipping  1783843935\n",
        "Not all points found, explored:  297\n",
        "Path Found: "
       ]
      },
      {
       "output_type": "stream",
       "stream": "stdout",
       "text": [
        " 69233070  ->  316638914\n",
        " Path Cost:  0.73318095936\n",
        "Skipping  316638914\n",
        "Not all points found, explored: "
       ]
      },
      {
       "output_type": "stream",
       "stream": "stdout",
       "text": [
        " 1159\n",
        "Path Found: "
       ]
      },
      {
       "output_type": "stream",
       "stream": "stdout",
       "text": [
        " 1595736614  ->  1926601799\n",
        " Path Cost:  0.379757165144\n",
        "Path Found: "
       ]
      },
      {
       "output_type": "stream",
       "stream": "stdout",
       "text": [
        " 767400200  ->  1595736614\n",
        " Path Cost:  0.49539620975\n",
        "Skipping  1926601799\n",
        "Trial:  84\n",
        "perimeter        :  0.756104732944\n",
        "ucs3mono_explored:  1368\n",
        "Path Found: "
       ]
      },
      {
       "output_type": "stream",
       "stream": "stdout",
       "text": [
        " 1595736614 -> 767400200\n",
        " Path Cost:  0.48055249823\n",
        "Path Found: "
       ]
      },
      {
       "output_type": "stream",
       "stream": "stdout",
       "text": [
        " 1595736614 -> 1926601799\n",
        " Path Cost:  0.379757165144\n",
        "ucs3bi_explored  :  891\n",
        "Path Found: "
       ]
      },
      {
       "output_type": "stream",
       "stream": "stdout",
       "text": [
        " 1595736614  ->  1926601799\n",
        " Path Cost:  0.372746414951\n",
        "Path Found: "
       ]
      },
      {
       "output_type": "stream",
       "stream": "stdout",
       "text": [
        " 1595736614  ->  767400200\n",
        " Path Cost:  0.48055249823\n",
        "ucs3tri_explored :  507\n",
        "Path Found: "
       ]
      },
      {
       "output_type": "stream",
       "stream": "stdout",
       "text": [
        " 1595736589  ->  1595736384\n",
        " Path Cost:  0.125526358087\n",
        "Skipping  1595736384\n",
        "Path Found:  1927477550  ->  1595736589\n",
        " Path Cost:  0.217130274552\n",
        "Trial:  85\n",
        "perimeter        :  0.574949160779\n",
        "ucs3mono_explored:  203\n",
        "Path Found:  1595736589 -> 1595736384\n",
        " Path Cost:  0.117081337405\n",
        "Path Found: "
       ]
      },
      {
       "output_type": "stream",
       "stream": "stdout",
       "text": [
        " 1595736589 -> 1927477550\n",
        " Path Cost:  0.217130274552\n",
        "ucs3bi_explored  :  193\n",
        "Path Found:  1595736589  ->  1595736384\n",
        " Path Cost:  0.117081337405\n",
        "Path Found: "
       ]
      },
      {
       "output_type": "stream",
       "stream": "stdout",
       "text": [
        " 1595736589  ->  1927477550\n",
        " Path Cost:  0.204804439655\n",
        "ucs3tri_explored :  150\n",
        "Path Found: "
       ]
      },
      {
       "output_type": "stream",
       "stream": "stdout",
       "text": [
        " 1029246954  ->  1029247005\n",
        " Path Cost:  0.232167715649\n",
        "Path Found:  546819165  ->  1029247005\n",
        " Path Cost:  0.200922335735\n",
        "Skipping  1029247005\n",
        "Trial:  86\n",
        "perimeter        :  0.600076755283\n",
        "ucs3mono_explored:  328\n",
        "Path Found:  1029246954 -> 546819165\n",
        " Path Cost:  0.185240374303\n",
        "Path Found: "
       ]
      },
      {
       "output_type": "stream",
       "stream": "stdout",
       "text": [
        " 546819165 -> 1029247005\n",
        " Path Cost:  0.200922335735\n",
        "ucs3bi_explored  :  264\n",
        "Path Found:  546819165  ->  1029247005\n",
        " Path Cost:  0.155847892867\n",
        "Path Found:  1029246954  ->  546819165\n",
        " Path Cost:  0.185240374303\n",
        "ucs3tri_explored :  156\n",
        "Path Found: "
       ]
      },
      {
       "output_type": "stream",
       "stream": "stdout",
       "text": [
        " 2018507320  ->  553497025\n",
        " Path Cost:  0.196535367751\n",
        "Skipping  553497025\n",
        "Not all points found, explored:  112\n",
        "Path Found: "
       ]
      },
      {
       "output_type": "stream",
       "stream": "stdout",
       "text": [
        " 1611216401  ->  1611216421\n",
        " Path Cost:  0.102646242842\n",
        "Path Found: "
       ]
      },
      {
       "output_type": "stream",
       "stream": "stdout",
       "text": [
        " 1520334605  ->  1926653847\n",
        " Path Cost:  0.154967001177\n",
        "Path Found: "
       ]
      },
      {
       "output_type": "stream",
       "stream": "stdout",
       "text": [
        " 1595736691  ->  1520334605\n",
        " Path Cost:  0.663989415806\n",
        "Skipping  1926653847\n",
        "Trial:  87\n",
        "perimeter        :  0.9143041203\n",
        "ucs3mono_explored:  1059\n",
        "Path Found:  1520334605 -> 1926653847\n",
        " Path Cost:  0.154967001177\n",
        "Path Found: "
       ]
      },
      {
       "output_type": "stream",
       "stream": "stdout",
       "text": [
        " 1595736691 -> 1520334605\n",
        " Path Cost:  0.636496863938\n",
        "ucs3bi_explored  :  509\n",
        "Path Found:  1520334605  ->  1926653847\n",
        " Path Cost:  0.149724320455\n",
        "Path Found: "
       ]
      },
      {
       "output_type": "stream",
       "stream": "stdout",
       "text": [
        " 1595736691  ->  1520334605\n",
        " Path Cost:  0.636496863938\n",
        "ucs3tri_explored :  520\n",
        "Path Found: "
       ]
      },
      {
       "output_type": "stream",
       "stream": "stdout",
       "text": [
        " 1890103422  ->  560605710\n",
        " Path Cost:  0.378336542677\n",
        "Path Found: "
       ]
      },
      {
       "output_type": "stream",
       "stream": "stdout",
       "text": [
        " 560216420  ->  560605710\n",
        " Path Cost:  0.630068659205\n",
        "Skipping  560605710\n",
        "Trial:  88\n",
        "perimeter        :  0.678773354082\n",
        "ucs3mono_explored:  967\n",
        "Path Found: "
       ]
      },
      {
       "output_type": "stream",
       "stream": "stdout",
       "text": [
        " 1890103422 -> 560216420\n",
        " Path Cost:  0.590612091679\n",
        "Path Found: "
       ]
      },
      {
       "output_type": "stream",
       "stream": "stdout",
       "text": [
        " 1890103422 -> 560605710\n",
        " Path Cost:  0.378336542677\n",
        "ucs3bi_explored  :  616\n",
        "Path Found: "
       ]
      },
      {
       "output_type": "stream",
       "stream": "stdout",
       "text": [
        " 1890103422  ->  560605710\n",
        " Path Cost:  0.320690173674\n",
        "Path Found: "
       ]
      },
      {
       "output_type": "stream",
       "stream": "stdout",
       "text": [
        " 1890103422  ->  560216420\n",
        " Path Cost:  0.590612091679\n",
        "ucs3tri_explored :  645\n",
        "Path Found: "
       ]
      },
      {
       "output_type": "stream",
       "stream": "stdout",
       "text": [
        " 552542478  ->  69168353\n",
        " Path Cost:  0.318944343292\n",
        "Skipping  69168353\n",
        "Path Found: "
       ]
      },
      {
       "output_type": "stream",
       "stream": "stdout",
       "text": [
        " 998987464  ->  552542478\n",
        " Path Cost:  0.605437733921\n",
        "Trial:  89\n",
        "perimeter        :  0.996497098007\n",
        "ucs3mono_explored:  1792\n",
        "Path Found: "
       ]
      },
      {
       "output_type": "stream",
       "stream": "stdout",
       "text": [
        " 69168353 -> 552542478\n",
        " Path Cost:  0.308123715549\n",
        "Path Found: "
       ]
      },
      {
       "output_type": "stream",
       "stream": "stdout",
       "text": [
        " 552542478 -> 998987464\n",
        " Path Cost:  0.605437733921\n",
        "ucs3bi_explored  :  1701\n",
        "Path Found: "
       ]
      },
      {
       "output_type": "stream",
       "stream": "stdout",
       "text": [
        " 69168353  ->  552542478\n",
        " Path Cost:  0.308123715549\n",
        "Path Found: "
       ]
      },
      {
       "output_type": "stream",
       "stream": "stdout",
       "text": [
        " 998987464  ->  552542478\n",
        " Path Cost:  0.521918059027\n",
        "ucs3tri_explored :  830\n",
        "Path Found: "
       ]
      },
      {
       "output_type": "stream",
       "stream": "stdout",
       "text": [
        " 551077490  ->  552544425\n",
        " Path Cost:  0.183373984492\n",
        "Path Found: "
       ]
      },
      {
       "output_type": "stream",
       "stream": "stdout",
       "text": [
        " 551073548  ->  552544425\n",
        " Path Cost:  0.189575959302\n",
        "Skipping  552544425\n",
        "Trial:  90\n",
        "perimeter        :  0.488902025401\n",
        "ucs3mono_explored:  494\n",
        "Path Found: "
       ]
      },
      {
       "output_type": "stream",
       "stream": "stdout",
       "text": [
        " 551077490 -> 551073548\n",
        " Path Cost:  0.301960274502\n",
        "Path Found: "
       ]
      },
      {
       "output_type": "stream",
       "stream": "stdout",
       "text": [
        " 551077490 -> 552544425\n",
        " Path Cost:  0.183373984492\n",
        "ucs3bi_explored  :  452\n",
        "Path Found: "
       ]
      },
      {
       "output_type": "stream",
       "stream": "stdout",
       "text": [
        " 551073548  ->  552544425\n",
        " Path Cost:  0.156573200239\n",
        "Path Found:  551077490  ->  552544425\n",
        " Path Cost:  0.16116214388\n",
        "ucs3tri_explored :  239\n",
        "Path Found: "
       ]
      },
      {
       "output_type": "stream",
       "stream": "stdout",
       "text": [
        " 1926466182  ->  1520334734\n",
        " Path Cost:  0.512250405954\n",
        "Skipping "
       ]
      },
      {
       "output_type": "stream",
       "stream": "stdout",
       "text": [
        " 1520334734\n",
        "Not all points found, explored:  891\n",
        "Path Found: "
       ]
      },
      {
       "output_type": "stream",
       "stream": "stdout",
       "text": [
        " 560604294  ->  560216491\n",
        " Path Cost:  0.303741493583\n",
        "Skipping  560216491\n",
        "Path Found: "
       ]
      },
      {
       "output_type": "stream",
       "stream": "stdout",
       "text": [
        " 1029246996  ->  560216491\n",
        " Path Cost:  0.260238562351\n",
        "Trial:  91\n",
        "perimeter        :  0.781111476582\n",
        "ucs3mono_explored:  642\n",
        "Path Found:  560604294 -> 560216491\n",
        " Path Cost:  0.174635424005\n",
        "Path Found: "
       ]
      },
      {
       "output_type": "stream",
       "stream": "stdout",
       "text": [
        " 560216491 -> 1029246996\n",
        " Path Cost:  0.260238562351\n",
        "ucs3bi_explored  :  422\n",
        "Path Found: "
       ]
      },
      {
       "output_type": "stream",
       "stream": "stdout",
       "text": [
        " 560604294  ->  560216491\n",
        " Path Cost:  0.174635424005\n",
        "Path Found:  560216491  ->  1029246996\n",
        " Path Cost:  0.207770948093\n",
        "ucs3tri_explored :  257\n",
        "Path Found: "
       ]
      },
      {
       "output_type": "stream",
       "stream": "stdout",
       "text": [
        " 1520334428  ->  1595736725\n",
        " Path Cost:  0.37035784022\n",
        "Skipping  1595736725\n",
        "Path Found: "
       ]
      },
      {
       "output_type": "stream",
       "stream": "stdout",
       "text": [
        " 1926653668  ->  1520334428\n",
        " Path Cost:  0.396074660081\n",
        "Trial:  92\n",
        "perimeter        :  0.774306666922\n",
        "ucs3mono_explored:  916\n",
        "Path Found: "
       ]
      },
      {
       "output_type": "stream",
       "stream": "stdout",
       "text": [
        " 1595736725 -> 1520334428\n",
        " Path Cost:  0.355920813302\n",
        "Path Found: "
       ]
      },
      {
       "output_type": "stream",
       "stream": "stdout",
       "text": [
        " 1520334428 -> 1926653668\n",
        " Path Cost:  0.396074660081\n",
        "ucs3bi_explored  :  865\n",
        "Path Found: "
       ]
      },
      {
       "output_type": "stream",
       "stream": "stdout",
       "text": [
        " 1595736725  ->  1520334428\n",
        " Path Cost:  0.355920813302\n",
        "Path Found:  1520334428  ->  1926653668\n",
        " Path Cost:  0.368163304503\n",
        "ucs3tri_explored :  342\n",
        "Path Found: "
       ]
      },
      {
       "output_type": "stream",
       "stream": "stdout",
       "text": [
        " 551074861  ->  551076848\n",
        " Path Cost:  0.382592228461\n",
        "Skipping  551076848\n",
        "Not all points found, explored:  863\n",
        "Path Found: "
       ]
      },
      {
       "output_type": "stream",
       "stream": "stdout",
       "text": [
        " 1890103422  ->  552540823\n",
        " Path Cost:  0.297539874572\n",
        "Skipping  552540823\n",
        "Path Found: "
       ]
      },
      {
       "output_type": "stream",
       "stream": "stdout",
       "text": [
        " 540748706  ->  1890103422\n",
        " Path Cost:  0.385095894165\n",
        "Trial:  93\n",
        "perimeter        :  0.709507639402\n",
        "ucs3mono_explored:  566\n",
        "Path Found:  1890103422 -> 552540823\n",
        " Path Cost:  0.256142426519\n",
        "Path Found: "
       ]
      },
      {
       "output_type": "stream",
       "stream": "stdout",
       "text": [
        " 1890103422 -> 540748706\n",
        " Path Cost:  0.385095894165\n",
        "ucs3bi_explored  :  686\n",
        "Path Found:  1890103422  ->  552540823\n",
        " Path Cost:  0.256142426519\n",
        "Path Found: "
       ]
      },
      {
       "output_type": "stream",
       "stream": "stdout",
       "text": [
        " 1890103422  ->  540748706\n",
        " Path Cost:  0.327449525161\n",
        "ucs3tri_explored :  228\n",
        "Path Found: "
       ]
      },
      {
       "output_type": "stream",
       "stream": "stdout",
       "text": [
        " 1520334656  ->  1520334509\n",
        " Path Cost:  0.210134783847\n",
        "Path Found:  1926466423  ->  1520334509\n",
        " Path Cost:  0.618443775279\n",
        "Skipping  1520334509\n",
        "Trial:  94\n",
        "perimeter        :  0.946434446367\n",
        "ucs3mono_explored:  305\n",
        "Path Found: "
       ]
      },
      {
       "output_type": "stream",
       "stream": "stdout",
       "text": [
        " 1520334656 -> 1520334509\n",
        " Path Cost:  0.210134783847\n",
        "Path Found: "
       ]
      },
      {
       "output_type": "stream",
       "stream": "stdout",
       "text": [
        " 1520334656 -> 1926466423\n",
        " Path Cost:  0.817023368819\n",
        "ucs3bi_explored  :  405\n",
        "Path Found:  1520334656  ->  1520334509\n",
        " Path Cost:  0.2038522389\n",
        "Path Found: "
       ]
      },
      {
       "output_type": "stream",
       "stream": "stdout",
       "text": [
        " 1520334509  ->  1926466423\n",
        " Path Cost:  0.609394361958\n",
        "ucs3tri_explored :  466\n",
        "Path Found: "
       ]
      },
      {
       "output_type": "stream",
       "stream": "stdout",
       "text": [
        " 552540102  ->  1029246990\n",
        " Path Cost:  0.215428170425\n",
        "Skipping  1029246990\n",
        "Path Found: "
       ]
      },
      {
       "output_type": "stream",
       "stream": "stdout",
       "text": [
        " 998987508  ->  552540102\n",
        " Path Cost:  0.27955292558\n",
        "Trial:  95\n",
        "perimeter        :  0.638830955452\n",
        "ucs3mono_explored:  738\n",
        "Path Found:  552540102 -> 1029246990\n",
        " Path Cost:  0.137917331466\n",
        "Path Found: "
       ]
      },
      {
       "output_type": "stream",
       "stream": "stdout",
       "text": [
        " 552540102 -> 998987508\n",
        " Path Cost:  0.27955292558\n",
        "ucs3bi_explored  :  525\n",
        "Path Found:  552540102  ->  1029246990\n",
        " Path Cost:  0.137917331466\n",
        "Path Found: "
       ]
      },
      {
       "output_type": "stream",
       "stream": "stdout",
       "text": [
        " 998987508  ->  552540102\n",
        " Path Cost:  0.240286824828\n",
        "ucs3tri_explored :  207\n",
        "Path Found: "
       ]
      },
      {
       "output_type": "stream",
       "stream": "stdout",
       "text": [
        " 1503611136  ->  1503611140\n",
        " Path Cost:  0.157337002952\n",
        "Path Found: "
       ]
      },
      {
       "output_type": "stream",
       "stream": "stdout",
       "text": [
        " 1962660677  ->  1503611140\n",
        " Path Cost:  0.484693395057\n",
        "Skipping  1503611140\n",
        "Trial:  96\n",
        "perimeter        :  0.645171953626\n",
        "ucs3mono_explored:  329\n",
        "Path Found:  1503611136 -> 1503611140\n",
        " Path Cost:  0.157337002952\n",
        "Path Found: "
       ]
      },
      {
       "output_type": "stream",
       "stream": "stdout",
       "text": [
        " 1503611136 -> 1962660677\n",
        " Path Cost:  0.560338729875\n",
        "ucs3bi_explored  :  280\n",
        "Path Found:  1503611140  ->  1503611136\n",
        " Path Cost:  0.122648300252\n",
        "Path Found: "
       ]
      },
      {
       "output_type": "stream",
       "stream": "stdout",
       "text": [
        " 1962660677  ->  1503611140\n",
        " Path Cost:  0.476172358481\n",
        "ucs3tri_explored :  234\n",
        "Path Found: "
       ]
      },
      {
       "output_type": "stream",
       "stream": "stdout",
       "text": [
        " 69230915  ->  560602170\n",
        " Path Cost:  0.627749954954\n",
        "Skipping  560602170\n",
        "Path Found:  560602205  ->  560602170\n",
        " Path Cost:  0.149045483514\n",
        "Trial:  97\n",
        "perimeter        :  0.8824209255\n",
        "ucs3mono_explored:  1168\n",
        "Path Found:  560602170 -> 560602205\n",
        " Path Cost:  0.149045483514\n",
        "Path Found: "
       ]
      },
      {
       "output_type": "stream",
       "stream": "stdout",
       "text": [
        " 560602170 -> 69230915\n",
        " Path Cost:  0.571741874657\n",
        "ucs3bi_explored  :  374\n",
        "Path Found:  560602205  ->  560602170\n",
        " Path Cost:  0.138864432216\n",
        "Path Found: "
       ]
      },
      {
       "output_type": "stream",
       "stream": "stdout",
       "text": [
        " 560602170  ->  69230915\n",
        " Path Cost:  0.571741874657\n",
        "ucs3tri_explored :  374\n",
        "Path Found: "
       ]
      },
      {
       "output_type": "stream",
       "stream": "stdout",
       "text": [
        " 1927477560  ->  1595736641\n",
        " Path Cost:  0.386842199766\n",
        "Skipping  1595736641\n",
        "Not all points found, explored: "
       ]
      },
      {
       "output_type": "stream",
       "stream": "stdout",
       "text": [
        " 912\n",
        "Path Found: "
       ]
      },
      {
       "output_type": "stream",
       "stream": "stdout",
       "text": [
        " 553733739  ->  546379018\n",
        " Path Cost:  0.652800099513\n",
        "Skipping  546379018\n",
        "Not all points found, explored:  557\n",
        "Path Found: "
       ]
      },
      {
       "output_type": "stream",
       "stream": "stdout",
       "text": [
        " 998987453  ->  551074848\n",
        " Path Cost:  0.614770772861\n",
        "Skipping  551074848\n",
        "Path Found: "
       ]
      },
      {
       "output_type": "stream",
       "stream": "stdout",
       "text": [
        " 560129678  ->  551074848\n",
        " Path Cost:  0.497865331545\n",
        "Trial:  98\n",
        "perimeter        :  0.959961422194\n",
        "ucs3mono_explored:  2013\n",
        "Path Found: "
       ]
      },
      {
       "output_type": "stream",
       "stream": "stdout",
       "text": [
        " 551074848 -> 998987453\n",
        " Path Cost:  0.558074476046\n",
        "Path Found: "
       ]
      },
      {
       "output_type": "stream",
       "stream": "stdout",
       "text": [
        " 551074848 -> 560129678\n",
        " Path Cost:  0.497865331545\n",
        "ucs3bi_explored  :  1543\n",
        "Path Found: "
       ]
      },
      {
       "output_type": "stream",
       "stream": "stdout",
       "text": [
        " 560129678  ->  551074848\n",
        " Path Cost:  0.463462049316\n",
        "Path Found: "
       ]
      },
      {
       "output_type": "stream",
       "stream": "stdout",
       "text": [
        " 551074848  ->  998987453\n",
        " Path Cost:  0.558074476046\n",
        "ucs3tri_explored :  768\n",
        "Path Found: "
       ]
      },
      {
       "output_type": "stream",
       "stream": "stdout",
       "text": [
        " 1005008502  ->  552544319\n",
        " Path Cost:  0.320446583681\n",
        "Path Found: "
       ]
      },
      {
       "output_type": "stream",
       "stream": "stdout",
       "text": [
        " 1117527391  ->  1005008502\n",
        " Path Cost:  0.403463373422\n",
        "Skipping  552544319\n",
        "Trial:  99\n",
        "perimeter        :  0.925527506514\n",
        "ucs3mono_explored:  922\n",
        "Path Found: "
       ]
      },
      {
       "output_type": "stream",
       "stream": "stdout",
       "text": [
        " 1005008502 -> 1117527391\n",
        " Path Cost:  0.384446594669\n",
        "Path Found: "
       ]
      },
      {
       "output_type": "stream",
       "stream": "stdout",
       "text": [
        " 1005008502 -> 552544319\n",
        " Path Cost:  0.320446583681\n",
        "ucs3bi_explored  :  747\n",
        "Path Found: "
       ]
      },
      {
       "output_type": "stream",
       "stream": "stdout",
       "text": [
        " 552544319  ->  1005008502\n",
        " Path Cost:  0.276494086914\n",
        "Path Found: "
       ]
      },
      {
       "output_type": "stream",
       "stream": "stdout",
       "text": [
        " 1005008502  ->  1117527391\n",
        " Path Cost:  0.384446594669\n",
        "ucs3tri_explored :  476\n"
       ]
      }
     ],
     "prompt_number": 9
    },
    {
     "cell_type": "markdown",
     "metadata": {},
     "source": [
      "Ruffin:  \n",
      "Experimental Setup: Using a for loop, we continuously generating three random points among the graph. Due to computational limitations of my computer, I limit the distance of the surrounding perimeter of the three points to ensure that the points are not too far from each other such that the computational time is not insane. Another trick in order to limit computation time is to check that single directional uniform cost search does not require a expanding further searching for one point, further than roughly what would equate the entire perimeter of all three points. This is because even though three points might be relatively close to each other, because of the graph are using is not fully connected, it could result in that the points themselves never connect. And thus we would like to avoid having to expand the entire map to realize that three points less than a kilometer apart never connect. This however and effect works against being fully complete, but at the trade-off of improving my limited time complexity and space complexity requirements for this demonstration. As both bidirectional and tried correctional searches will only be compared against each other using points with existing path, this has little impact on the results other than that the number of expanded notes are scaled-down as compared to what they could be if we let the random point generator have a field day.  \n",
      "    \n",
      "Results:  As noted when describing each particular search algorithm, tri-directional search proves most efficient and resulting in the fewest number of nodes expanded on average: by taking advantage of reducing the area explored when searching for foreign frontiers and with each point contributing a smaller radius of expanded nodes.\n",
      "    \n",
      "Observations: As expected with a an even distribution of roadworks, such that an urban environment of a map  of Atlanta would provide, the number of nodes necessary to expand is it that related to the total surrounding perimeter of the three points, as can be inferred from the scatter plot below.  \n",
      "    \n",
      "Big O:  As we know breadth first search can be described using big O notation as: $O(b^{d})$. We can then see bidirectional search is say: $O(b^{d/2})$, so that the resulting total search is of a $O(b^{d/2}+b^{d/2})$. Uniform cost search however can be seen as having a big O of: $O(b^{1 + C^*/\u03b5})$ where $C^*$ is the cost of the optimal solution and $b$ is the branching factor and $d$ was the depth of the shallowest solution. Bidirectional and Tri-directional uniform cost search can be seen as following a similar pattern such as $O(b^{\\frac{1+C^*/\\varepsilon }{2}}+b^{\\frac{1+C^*/\\varepsilon }{2}})$ and $O(b^{\\frac{1+C^*/\\varepsilon }{3}}+b^{\\frac{1+C^*/\\varepsilon }{3}}+b^{\\frac{1+C^*/\\varepsilon }{3}})$ respectively.\n",
      "   "
     ]
    },
    {
     "cell_type": "code",
     "collapsed": false,
     "input": [
      "df = pd.DataFrame(data)"
     ],
     "language": "python",
     "metadata": {},
     "outputs": [],
     "prompt_number": 10
    },
    {
     "cell_type": "code",
     "collapsed": false,
     "input": [
      "df"
     ],
     "language": "python",
     "metadata": {},
     "outputs": [
      {
       "html": [
        "<pre>\n",
        "&ltclass 'pandas.core.frame.DataFrame'&gt\n",
        "Int64Index: 100 entries, 0 to 99\n",
        "Data columns (total 5 columns):\n",
        "perimeter    100  non-null values\n",
        "points       100  non-null values\n",
        "ucs3bi       100  non-null values\n",
        "ucs3mono     100  non-null values\n",
        "ucs3tri      100  non-null values\n",
        "dtypes: float64(1), int64(3), object(1)\n",
        "</pre>"
       ],
       "output_type": "pyout",
       "prompt_number": 11,
       "text": [
        "<class 'pandas.core.frame.DataFrame'>\n",
        "Int64Index: 100 entries, 0 to 99\n",
        "Data columns (total 5 columns):\n",
        "perimeter    100  non-null values\n",
        "points       100  non-null values\n",
        "ucs3bi       100  non-null values\n",
        "ucs3mono     100  non-null values\n",
        "ucs3tri      100  non-null values\n",
        "dtypes: float64(1), int64(3), object(1)"
       ]
      }
     ],
     "prompt_number": 11
    },
    {
     "cell_type": "code",
     "collapsed": false,
     "input": [
      "df.to_csv(\"data_100.csv\")"
     ],
     "language": "python",
     "metadata": {},
     "outputs": [],
     "prompt_number": 13
    },
    {
     "cell_type": "code",
     "collapsed": false,
     "input": [
      "df = pd.read_csv(\"data_100.csv\")"
     ],
     "language": "python",
     "metadata": {},
     "outputs": [],
     "prompt_number": 34
    },
    {
     "cell_type": "code",
     "collapsed": false,
     "input": [
      "dff = df[['ucs3bi','ucs3mono','ucs3tri']]"
     ],
     "language": "python",
     "metadata": {},
     "outputs": [],
     "prompt_number": 35
    },
    {
     "cell_type": "code",
     "collapsed": false,
     "input": [
      "dff.plot(); plt.legend(loc='best')"
     ],
     "language": "python",
     "metadata": {},
     "outputs": [
      {
       "output_type": "pyout",
       "prompt_number": 100,
       "text": [
        "<matplotlib.legend.Legend at 0xf531250>"
       ]
      },
      {
       "output_type": "display_data",
       "png": "[encoded data removed]",
       "text": [
        "<matplotlib.figure.Figure at 0xd443410>"
       ]
      }
     ],
     "prompt_number": 100
    },
    {
     "cell_type": "markdown",
     "metadata": {},
     "source": [
      "Comparing the number of nodes explored for all of the hundred random point combinations using each of the three search methods"
     ]
    },
    {
     "cell_type": "code",
     "collapsed": false,
     "input": [
      "df['perimeter'].plot(); plt.legend(loc='best')"
     ],
     "language": "python",
     "metadata": {},
     "outputs": [
      {
       "output_type": "pyout",
       "prompt_number": 37,
       "text": [
        "<matplotlib.legend.Legend at 0xc478d10>"
       ]
      },
      {
       "output_type": "display_data",
       "png": "[encoded data removed]",
       "text": [
        "<matplotlib.figure.Figure at 0xc478e50>"
       ]
      }
     ],
     "prompt_number": 37
    },
    {
     "cell_type": "markdown",
     "metadata": {},
     "source": [
      "A complementary graph showing the distance of the perimeter with respect to the same 100 random sets of points"
     ]
    },
    {
     "cell_type": "code",
     "collapsed": false,
     "input": [
      "dff.describe()"
     ],
     "language": "python",
     "metadata": {},
     "outputs": [
      {
       "html": [
        "<div style=\"max-height:1000px;max-width:1500px;overflow:auto;\">\n",
        "<table border=\"1\" class=\"dataframe\">\n",
        "  <thead>\n",
        "    <tr style=\"text-align: right;\">\n",
        "      <th></th>\n",
        "      <th>ucs3bi</th>\n",
        "      <th>ucs3mono</th>\n",
        "      <th>ucs3tri</th>\n",
        "    </tr>\n",
        "  </thead>\n",
        "  <tbody>\n",
        "    <tr>\n",
        "      <th>count</th>\n",
        "      <td>  100.000000</td>\n",
        "      <td>  100.000000</td>\n",
        "      <td> 100.000000</td>\n",
        "    </tr>\n",
        "    <tr>\n",
        "      <th>mean</th>\n",
        "      <td>  604.860000</td>\n",
        "      <td>  814.840000</td>\n",
        "      <td> 418.600000</td>\n",
        "    </tr>\n",
        "    <tr>\n",
        "      <th>std</th>\n",
        "      <td>  374.650059</td>\n",
        "      <td>  455.473729</td>\n",
        "      <td> 207.731956</td>\n",
        "    </tr>\n",
        "    <tr>\n",
        "      <th>min</th>\n",
        "      <td>   34.000000</td>\n",
        "      <td>   64.000000</td>\n",
        "      <td>  40.000000</td>\n",
        "    </tr>\n",
        "    <tr>\n",
        "      <th>25%</th>\n",
        "      <td>  361.750000</td>\n",
        "      <td>  464.500000</td>\n",
        "      <td> 237.250000</td>\n",
        "    </tr>\n",
        "    <tr>\n",
        "      <th>50%</th>\n",
        "      <td>  508.500000</td>\n",
        "      <td>  800.500000</td>\n",
        "      <td> 418.500000</td>\n",
        "    </tr>\n",
        "    <tr>\n",
        "      <th>75%</th>\n",
        "      <td>  738.750000</td>\n",
        "      <td> 1070.750000</td>\n",
        "      <td> 550.500000</td>\n",
        "    </tr>\n",
        "    <tr>\n",
        "      <th>max</th>\n",
        "      <td> 1796.000000</td>\n",
        "      <td> 2201.000000</td>\n",
        "      <td> 905.000000</td>\n",
        "    </tr>\n",
        "  </tbody>\n",
        "</table>\n",
        "</div>"
       ],
       "output_type": "pyout",
       "prompt_number": 38,
       "text": [
        "            ucs3bi     ucs3mono     ucs3tri\n",
        "count   100.000000   100.000000  100.000000\n",
        "mean    604.860000   814.840000  418.600000\n",
        "std     374.650059   455.473729  207.731956\n",
        "min      34.000000    64.000000   40.000000\n",
        "25%     361.750000   464.500000  237.250000\n",
        "50%     508.500000   800.500000  418.500000\n",
        "75%     738.750000  1070.750000  550.500000\n",
        "max    1796.000000  2201.000000  905.000000"
       ]
      }
     ],
     "prompt_number": 38
    },
    {
     "cell_type": "markdown",
     "metadata": {},
     "source": [
      "Hard numbers from the experiment"
     ]
    },
    {
     "cell_type": "code",
     "collapsed": false,
     "input": [
      "fig = pyplot.figure(figsize=(12,6), dpi=80)\n",
      "ax = fig.add_subplot(1,1,1)\n",
      "dff.hist(bins=25, ax=ax, sharex=True, sharey=True)\n",
      "\n",
      "print \"Number of Nodes Expanded: X axis\"\n",
      "print \"Count: Y axis\""
     ],
     "language": "python",
     "metadata": {},
     "outputs": [
      {
       "output_type": "stream",
       "stream": "stdout",
       "text": [
        "Number of Nodes Expanded: X axis\n",
        "Count: Y axis\n"
       ]
      },
      {
       "output_type": "display_data",
       "png": "[encoded data removed]",
       "text": [
        "<matplotlib.figure.Figure at 0xfe4e2d0>"
       ]
      }
     ],
     "prompt_number": 96
    },
    {
     "cell_type": "markdown",
     "metadata": {},
     "source": [
      "A histogram comparing the distribution of each algorithm with each other"
     ]
    },
    {
     "cell_type": "code",
     "collapsed": false,
     "input": [
      "fig1 = pyplot.figure()\n",
      "ax = fig1.add_subplot(111)\n",
      "p = ax.scatter(df.perimeter, dff.ucs3mono, c  = 'g', label='ucs3mono', lw = 0, s=50, alpha=.8)\n",
      "p = ax.scatter(df.perimeter, dff.ucs3bi, c  = 'b', label='ucs3bi', lw = 0, s=50, alpha=.8)\n",
      "p = ax.scatter(df.perimeter, dff.ucs3tri, c  = 'r', label='ucs3tri', lw = 0, s=50, alpha=.8)\n",
      "plt.ylabel(\"Number of Nodes Expanded\")\n",
      "plt.xlabel(\"Perimeter of the Three Cities\")\n",
      "plt.legend(loc='upper left')"
     ],
     "language": "python",
     "metadata": {},
     "outputs": [
      {
       "output_type": "pyout",
       "prompt_number": 95,
       "text": [
        "<matplotlib.legend.Legend at 0x11abc2d0>"
       ]
      },
      {
       "output_type": "display_data",
       "png": "[encoded data removed]",
       "text": [
        "<matplotlib.figure.Figure at 0x102ee5d0>"
       ]
      }
     ],
     "prompt_number": 95
    },
    {
     "cell_type": "markdown",
     "metadata": {},
     "source": [
      "The scatterplot, as mentioned above"
     ]
    },
    {
     "cell_type": "code",
     "collapsed": false,
     "input": [
      "x =  np.arange(3)\n",
      "counts = [dff.ucs3mono.mean(), dff.ucs3bi.mean(), dff.ucs3tri.mean()]\n",
      "\n",
      "fig, ax = plt.subplots()\n",
      "plt.bar(x, counts)\n",
      "plt.xticks( x + 0.4,  ('ucs3mono', 'ucs3bi', 'ucs3tri') )\n",
      "plt.ylabel(\"Average Number of Nodes Expanded\")\n",
      "plt.show()"
     ],
     "language": "python",
     "metadata": {},
     "outputs": [
      {
       "output_type": "display_data",
       "png": "[encoded data removed]",
       "text": [
        "<matplotlib.figure.Figure at 0xc9dd8d0>"
       ]
      }
     ],
     "prompt_number": 74
    },
    {
     "cell_type": "markdown",
     "metadata": {},
     "source": [
      "Comparing the three algorithms average number of nodes expanded side-by-side"
     ]
    },
    {
     "cell_type": "code",
     "collapsed": false,
     "input": [
      "x =  np.arange(2)\n",
      "counts = [dff.ucs3mono.mean()-dff.ucs3bi.mean(), dff.ucs3mono.mean()-dff.ucs3tri.mean()]\n",
      "\n",
      "fig, ax = plt.subplots()\n",
      "plt.bar(x, counts)\n",
      "plt.xticks( x + 0.4,  ('ucs3bi', 'ucs3tri') )\n",
      "plt.ylabel(\"Average Number of Nodes Saved vs ucs3mono\")\n",
      "plt.show()"
     ],
     "language": "python",
     "metadata": {},
     "outputs": [
      {
       "output_type": "display_data",
       "png": "[encoded data removed]",
       "text": [
        "<matplotlib.figure.Figure at 0x10df6710>"
       ]
      }
     ],
     "prompt_number": 103
    },
    {
     "cell_type": "markdown",
     "metadata": {},
     "source": [
      "Showing the average number of nodes saved as compared to just a single directional uniform cost search"
     ]
    },
    {
     "cell_type": "code",
     "collapsed": false,
     "input": [],
     "language": "python",
     "metadata": {},
     "outputs": []
    }
   ],
   "metadata": {}
  }
 ]
}