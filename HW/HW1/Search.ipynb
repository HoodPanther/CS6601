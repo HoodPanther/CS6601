{
 "metadata": {
  "name": "Search"
 },
 "nbformat": 3,
 "nbformat_minor": 0,
 "worksheets": [
  {
   "cells": [
    {
     "cell_type": "heading",
     "level": 1,
     "metadata": {},
     "source": [
      "Search"
     ]
    },
    {
     "cell_type": "heading",
     "level": 2,
     "metadata": {},
     "source": [
      "Author: Ruffin White"
     ]
    },
    {
     "cell_type": "markdown",
     "metadata": {},
     "source": [
      "Import search functions"
     ]
    },
    {
     "cell_type": "code",
     "collapsed": false,
     "input": [
      "from search import *"
     ],
     "language": "python",
     "metadata": {},
     "outputs": [],
     "prompt_number": 1
    },
    {
     "cell_type": "markdown",
     "metadata": {},
     "source": [
      "Setup environment"
     ]
    },
    {
     "cell_type": "code",
     "collapsed": false,
     "input": [
      "only_roads = True\n",
      "graph = read_osm('atlanta.osm', only_roads)\n",
      "\n",
      "pointA_num = graph.nodes().index(u'69121376')\n",
      "pointB_num = graph.nodes().index(u'560602179')\n",
      "pointC_num = graph.nodes().index(u'1418254999')\n",
      "\n",
      "#pointA_num = random.randint(0, len(graph.nodes()))\n",
      "#pointB_num = random.randint(0, len(graph.nodes()))\n",
      "#pointC_num = random.randint(0, len(graph.nodes()))\n",
      "\n",
      "pointA     = graph.node[graph.nodes()[pointA_num]]\n",
      "pointB     = graph.node[graph.nodes()[pointB_num]]\n",
      "pointC     = graph.node[graph.nodes()[pointC_num]]\n",
      "\n",
      "print \"\\n\\n----- 6601 Grad AI: Seaching ATLANTA ------\\n\\n\"\n",
      "print \"NUMBER OF NODES: \", len(graph.nodes())\n",
      "print \"NUMBER OF EDGES: \", len(graph.edges())\n",
      "print \"point A:         \", pointA['data'].id\n",
      "print \"point B:         \", pointB['data'].id\n",
      "print \"point C:         \", pointC['data'].id\n",
      "\n",
      "points = [State(pointA, None), State(pointB, None), State(pointC, None)]\n",
      "\n",
      "for i, point in enumerate(points):\n",
      "    points[i].seed = points[i]"
     ],
     "language": "python",
     "metadata": {},
     "outputs": [
      {
       "output_type": "stream",
       "stream": "stdout",
       "text": [
        "\n",
        "\n",
        "----- 6601 Grad AI: Seaching ATLANTA ------\n",
        "\n",
        "\n",
        "NUMBER OF NODES:  12239\n",
        "NUMBER OF EDGES:  13168\n",
        "point A:          69121376\n",
        "point B:          560602179\n",
        "point C:          1418254999\n"
       ]
      }
     ],
     "prompt_number": 2
    },
    {
     "cell_type": "heading",
     "level": 2,
     "metadata": {},
     "source": [
      "Breadth \f",
      "\n",
      "\n",
      "\n",
      "\n",
      "\n",
      "\n",
      "\n",
      "\n",
      "\n",
      "\n",
      "\n",
      "\n",
      "\n",
      "\n",
      "\n",
      "\n",
      "\n",
      "\n",
      "\n",
      "\n",
      "\n",
      "\n",
      "\n",
      "\n",
      "\n",
      "\n",
      "\n",
      "\n",
      "\n",
      "\n",
      "\n",
      "\n",
      "\n",
      "\n",
      "\n",
      "\n",
      "\n",
      "\n",
      "\n",
      "\n",
      "\n",
      "\n",
      "\n",
      "\n",
      "\n",
      "\n",
      "\n",
      "\n",
      "\n",
      "\n",
      "\n",
      "\n",
      "\n",
      "\n",
      "\n",
      "\n",
      "\n",
      "\n",
      "\n",
      "\n",
      "\n",
      "\n",
      "\n",
      "\n",
      "\n",
      "\n",
      "\n",
      "\n",
      "\n",
      "\n",
      "\n",
      "\n",
      "\n",
      "\n",
      "\n",
      "\n",
      "\n",
      "\n",
      "\n",
      "\n",
      "\n",
      "\n",
      "\n",
      "\n",
      "\n",
      "\n",
      "\n",
      "\n",
      "\n",
      "\n",
      "\n",
      "\n",
      "\n",
      "\n",
      "\n",
      "\n",
      "\n",
      "\n",
      "\n",
      "\n",
      "\n",
      "\n",
      "\n",
      "\n",
      "\n",
      "\n",
      "\n",
      "\n",
      "\n",
      "\n",
      "\n",
      "\n",
      "\n",
      "\n",
      "\n",
      "\n",
      "\n",
      "\n",
      "\n",
      "\n",
      "\n",
      "\n",
      "\n",
      "\n",
      "\n",
      "\n",
      "\n",
      "First Search"
     ]
    },
    {
     "cell_type": "code",
     "collapsed": false,
     "input": [
      "state = bfs(graph, State(pointA, None), State(pointB, None))\n",
      "if state != None:\n",
      "    backtrack(state, graph)\n",
      "print \"\\n\\n\"\n",
      "print \"Done!\""
     ],
     "language": "python",
     "metadata": {},
     "outputs": [
      {
       "output_type": "stream",
       "stream": "stdout",
       "text": [
        "Goal found\n",
        "  Explored:  3144\n",
        "      Cost:  2.13875972172 \n",
        "\n",
        "\n",
        "Node:  560602179\n",
        "Node:  560602180\n",
        "Node:  560602217\n",
        "Node:  998987516\n",
        "Node:  560602218\n",
        "Node:  560602219\n",
        "Node:  560602220\n",
        "Node:  560602221\n",
        "Node:  560602222\n",
        "Node:  560602223\n",
        "Node:  560602224\n",
        "Node:  998987503\n",
        "Node:  998987464\n",
        "Node:  998987517\n",
        "Node:  998987490\n",
        "       E:  traffic_signals\n",
        "Node:  69199062\n",
        "       N:  highway   traffic_signals\n",
        "Node:  1579606064\n",
        "       E:  traffic_signals\n",
        "Node:  1579606062\n",
        "Node:  1579606058\n",
        "Node:  1579606078\n",
        "Node:  1579606070\n",
        "Node:  1579606072\n",
        "Node:  1579606068\n",
        "Node:  69233389\n",
        "Node:  69233387\n",
        "       E:  traffic_signals\n",
        "Node:  69233383\n",
        "Node:  69228746\n",
        "       E:  traffic_signals\n",
        "Node:  69365771\n",
        "Node:  69365773\n",
        "Node:  69365775\n",
        "Node:  69365777\n",
        "Node:  69365780\n",
        "Node:  69365783\n",
        "Node:  69365785\n",
        "Node:  69228777\n",
        "       E:  traffic_signals\n",
        "Node:  69172112\n",
        "       N:  highway   traffic_signals\n",
        "       E:  traffic_signals\n",
        "       E:  traffic_signals\n",
        "Node:  69172109\n",
        "       E:  traffic_signals\n",
        "Node:  69172106\n",
        "\n",
        "\n",
        "\n",
        "Done!\n"
       ]
      }
     ],
     "prompt_number": 5
    },
    {
     "cell_type": "heading",
     "level": 2,
     "metadata": {},
     "source": [
      "1) Uniform Cost Search"
     ]
    },
    {
     "cell_type": "markdown",
     "metadata": {},
     "source": [
      "Implement Uniform Cost Search. As a distance function use the straight line distance be-\n",
      "tween the adjacent nodes."
     ]
    },
    {
     "cell_type": "code",
     "collapsed": false,
     "input": [
      "def ucs(graph, points):\n",
      "    if len(points)!=len(set(points)):\n",
      "        print \"START === GOAL\"\n",
      "        return None\n",
      "    \n",
      "    num_explored = 0\n",
      "    paths = []\n",
      "    for i, point in enumerate(points):\n",
      "        print \"Start: \", point.node['data'].id\n",
      "        otherPoints = copy.copy(points)\n",
      "        otherPoints.pop(i)\n",
      "        frontier = [point]\n",
      "        explored = []\n",
      "        j = 0\n",
      "        while len(frontier) > 0:\n",
      "            node = frontier.pop(0)\n",
      "            explored.append(node)\n",
      "            \n",
      "            #Check for other points\n",
      "            if (node in otherPoints):\n",
      "                #Check if point has been found befor\n",
      "                path = Path(node.seed, node, node.cost)\n",
      "                if (path not in paths):\n",
      "                    print \"Path Found: \", node.seed.node['data'].id, \" -> \", node.node['data'].id\n",
      "                    print \" Path Cost: \", node.cost\n",
      "                    #print \"  Explored: \", num_explored\n",
      "                    paths.append(path)\n",
      "                    j += 1\n",
      "                \n",
      "            #Check if all other points are found\n",
      "            if (j >= len(otherPoints)):\n",
      "                break\n",
      "            #Check if all other points are found\n",
      "            if ((len(paths) == len(points))):\n",
      "                break\n",
      "            \n",
      "            for edge in networkx.edges(graph, node.node['data'].id):\n",
      "                child = State(graph.node[edge[1]], node, node.cost, node.seed)\n",
      "                if (child not in explored):\n",
      "                    num_explored = num_explored + 1\n",
      "                    child.cost += distance(node, child)\n",
      "                    if (child not in frontier):\n",
      "                        frontier.append(child)\n",
      "                    else:\n",
      "                        child2 = frontier[frontier.index(child)]\n",
      "                        if (child.cost < child2.cost):\n",
      "                            frontier[frontier.index(child)] = child\n",
      "            frontier = sorted(frontier, key=lambda x: x.cost)\n",
      "            \n",
      "        if ((len(paths) < len(otherPoints))):\n",
      "            print \"Not all points found, explored: \", num_explored\n",
      "        break\n",
      "    \n",
      "    return paths, num_explored"
     ],
     "language": "python",
     "metadata": {},
     "outputs": [],
     "prompt_number": 6
    },
    {
     "cell_type": "code",
     "collapsed": false,
     "input": [
      "paths, num_explored = ucs(graph, points[0:2])\n",
      "if paths != None:\n",
      "    print \"\\nShortest route:\"\n",
      "    for path in paths:\n",
      "        print \"Path : \", path.start.node['data'].id, \" -> \", path.stop.node['data'].id\n",
      "        print \" Cost: \", path.cost\n",
      "        #backtrack(path.stop, graph)\n",
      "print \"\\nExplored:\", num_explored\n",
      "print \"\\n\\n\"\n",
      "print \"Done!\""
     ],
     "language": "python",
     "metadata": {},
     "outputs": [
      {
       "output_type": "stream",
       "stream": "stdout",
       "text": [
        "Start:  69121376\n",
        "Path Found: "
       ]
      },
      {
       "output_type": "stream",
       "stream": "stdout",
       "text": [
        " 69121376  ->  560602179\n",
        " Path Cose:  1.77528663211\n",
        "\n",
        "Shortest route:\n",
        "Path :  69121376  ->  560602179\n",
        " Cost:  1.77528663211\n",
        "\n",
        "Explored: 2142\n",
        "\n",
        "\n",
        "\n",
        "Done!\n"
       ]
      }
     ],
     "prompt_number": 7
    },
    {
     "cell_type": "heading",
     "level": 2,
     "metadata": {},
     "source": [
      "2) Uniform Cost Search Three City Problem"
     ]
    },
    {
     "cell_type": "markdown",
     "metadata": {},
     "source": [
      "Use Uniform cost search to solve three city problem. Describe how many searches were\n",
      "necessary. Shortly describe if Uniform Cost Search is complete and/or optimal."
     ]
    },
    {
     "cell_type": "code",
     "collapsed": false,
     "input": [
      "def ucs3mono(graph, points, maxCost = 1000):\n",
      "    if len(points)!=len(set(points)):\n",
      "        print \"START === GOAL\"\n",
      "        return None, None\n",
      "    \n",
      "    visitedPoints = []\n",
      "    num_explored = 0\n",
      "    paths = []\n",
      "    for i, point in enumerate(points):\n",
      "        #print \"Start: \", point.node['data'].id\n",
      "        otherPoints = copy.copy(points)\n",
      "        otherPoints.pop(i)\n",
      "        frontier = [point]\n",
      "        explored = []\n",
      "        while len(frontier) > 0:\n",
      "            node = frontier.pop(0)\n",
      "            explored.append(node)\n",
      "            \n",
      "            if (node.cost > maxCost):\n",
      "                return None, None\n",
      "            \n",
      "            if (node.seed in visitedPoints):\n",
      "                print \"Skipping \", node.node['data'].id\n",
      "                break\n",
      "                \n",
      "            #Check for other points\n",
      "            if (node in otherPoints):\n",
      "                #Check if point has been found befor\n",
      "                path = Path(node.seed, node, node.cost)\n",
      "                if (path not in paths):\n",
      "                    print \"Path Found: \", node.seed.node['data'].id, \" -> \", node.node['data'].id\n",
      "                    print \" Path Cost: \", node.cost\n",
      "                    #print \"  Explored: \", num_explored\n",
      "                    paths.append(path)\n",
      "                    visitedPoints.append(node)\n",
      "                    visitedPoints.append(node.seed)\n",
      "                    break\n",
      "            \n",
      "            for edge in networkx.edges(graph, node.node['data'].id):\n",
      "                child = State(graph.node[edge[1]], node, node.cost, node.seed)\n",
      "                if (child not in explored):\n",
      "                    num_explored = num_explored + 1\n",
      "                    child.cost += distance(node, child)\n",
      "                    if (child not in frontier):\n",
      "                        frontier.append(child)\n",
      "                    else:\n",
      "                        child2 = frontier[frontier.index(child)]\n",
      "                        if (child.cost < child2.cost):\n",
      "                            frontier[frontier.index(child)] = child\n",
      "            frontier = sorted(frontier, key=lambda x: x.cost)\n",
      "            \n",
      "    if (len(paths) < (len(points)-1)):\n",
      "        print \"Not all points found, explored: \", num_explored\n",
      "        return None, None\n",
      "    \n",
      "    return paths, num_explored"
     ],
     "language": "python",
     "metadata": {},
     "outputs": [],
     "prompt_number": 157
    },
    {
     "cell_type": "code",
     "collapsed": false,
     "input": [
      "paths, num_explored = ucs3mono(graph, points)\n",
      "if paths != None:\n",
      "    print \"\\nShortest route:\"\n",
      "    for path in paths:\n",
      "        print \"Path : \", path.start.node['data'].id, \" -> \", path.stop.node['data'].id\n",
      "        print \" Cost: \", path.cost\n",
      "        #backtrack(path.stop, graph)\n",
      "print \"\\nExplored:\", num_explored\n",
      "print \"\\n\\n\"\n",
      "print \"Done!\""
     ],
     "language": "python",
     "metadata": {},
     "outputs": [
      {
       "output_type": "stream",
       "stream": "stdout",
       "text": [
        "Path Found:  69121376  ->  560602179\n",
        " Path Cose:  1.77528663211\n",
        "Skipping  560602179\n",
        "Path Found: "
       ]
      },
      {
       "output_type": "stream",
       "stream": "stdout",
       "text": [
        " 1418254999  ->  560602179\n",
        " Path Cose:  1.61560873679\n",
        "\n",
        "Shortest route:\n",
        "Path :  69121376  ->  560602179\n",
        " Cost:  1.77528663211\n",
        "Path :  1418254999  ->  560602179\n",
        " Cost:  1.61560873679\n",
        "\n",
        "Explored: 5718\n",
        "\n",
        "\n",
        "\n",
        "Done!\n"
       ]
      }
     ],
     "prompt_number": 9
    },
    {
     "cell_type": "heading",
     "level": 2,
     "metadata": {},
     "source": [
      "3) Bidirectional Search Three City Problem"
     ]
    },
    {
     "cell_type": "markdown",
     "metadata": {},
     "source": [
      "Implement Bidirectional Search and solve three city problem. Describe how many searches\n",
      "were necessary, too. Shortly describe if Bidirectional Search is complete and/or optimal."
     ]
    },
    {
     "cell_type": "code",
     "collapsed": false,
     "input": [
      "def ucs3bi(graph, points):\n",
      "    if len(points)!=len(set(points)):\n",
      "        print \"START === GOAL\"\n",
      "        return None\n",
      "    \n",
      "    num_explored = 0\n",
      "    paths = []    \n",
      "    frontier = points[0:2]\n",
      "    explored = []\n",
      "    j = 0\n",
      "    while len(frontier) > 0:\n",
      "        node = frontier.pop(0)\n",
      "        \n",
      "        if (node in explored):\n",
      "            node2 = explored[explored.index(node)]\n",
      "            path = Path(node, node2, node.cost+node2.cost, True)\n",
      "            if (path not in paths):\n",
      "                paths.append(path)\n",
      "                print \"Path Found: \", path\n",
      "                print \" Path Cost: \", path.cost\n",
      "                #print \"  Explored: \", num_explored\n",
      "        \n",
      "        explored.append(node)\n",
      "        \n",
      "        if (node == points[2]):\n",
      "            path = Path(node.seed, node, node.cost)\n",
      "            if (path not in paths):\n",
      "                paths.append(path)\n",
      "                print \"Path Found: \", path\n",
      "                print \" Path Cost: \", path.cost\n",
      "                #print \"  Explored: \", num_explored\n",
      "        \n",
      "        #Check if all other points are found\n",
      "        if ((len(paths) == (len(points))-1)):\n",
      "            break\n",
      "        \n",
      "        for edge in networkx.edges(graph, node.node['data'].id):\n",
      "            child = State(graph.node[edge[1]], node, node.cost, node.seed)\n",
      "            if (child not in explored):\n",
      "                num_explored = num_explored + 1\n",
      "                child.cost += distance(node, child)\n",
      "                if (child not in frontier):\n",
      "                    frontier.append(child)\n",
      "                else:\n",
      "                    child2 = frontier[frontier.index(child)]\n",
      "                    if (child.cost < child2.cost):\n",
      "                        frontier[frontier.index(child)] = child\n",
      "            else:\n",
      "                child2 = explored[explored.index(child)]\n",
      "                if (child.seed != child2.seed):\n",
      "                    path = Path(child, child2, (child.cost+child2.cost), True)\n",
      "                    if (path not in paths):\n",
      "                        frontier.append(child)\n",
      "        frontier = sorted(frontier, key=lambda x: x.cost)\n",
      "        \n",
      "    if (len(paths) < (len(points)-1)):\n",
      "        print \"Not all points found, explored: \", num_explored\n",
      "        return None, None\n",
      "\n",
      "    paths = sorted(paths, key=lambda x: x.cost)\n",
      "    return paths, num_explored"
     ],
     "language": "python",
     "metadata": {},
     "outputs": [],
     "prompt_number": 88
    },
    {
     "cell_type": "code",
     "collapsed": false,
     "input": [
      "paths, num_explored = ucs3bi(graph, points)\n",
      "if paths != None:\n",
      "    print \"\\nShortest route:\"\n",
      "    for path in paths:\n",
      "        print \"Path: \", path\n",
      "        print \"Cost: \", path.cost\n",
      "        #backtrack(path.stop, graph)\n",
      "print \"\\nExplored:\", num_explored\n",
      "print \"\\n\\n\"\n",
      "print \"Done!\""
     ],
     "language": "python",
     "metadata": {},
     "outputs": [
      {
       "output_type": "stream",
       "stream": "stdout",
       "text": [
        "Path Found:  69121376 -> 560602179\n",
        " Path Cose:  1.72423120369\n",
        "Path Found: "
       ]
      },
      {
       "output_type": "stream",
       "stream": "stdout",
       "text": [
        " 560602179 -> 1418254999\n",
        " Path Cose:  1.61560873679\n",
        "\n",
        "Shortest route:\n",
        "Path:  560602179 -> 1418254999\n",
        "Cost:  1.61560873679\n",
        "Path:  69121376 -> 560602179\n",
        "Cost:  1.72423120369\n",
        "\n",
        "Explored: 4892\n",
        "\n",
        "\n",
        "\n",
        "Done!\n"
       ]
      }
     ],
     "prompt_number": 7
    },
    {
     "cell_type": "heading",
     "level": 2,
     "metadata": {},
     "source": [
      "4) Tridirectional Search Three City Problem"
     ]
    },
    {
     "cell_type": "markdown",
     "metadata": {},
     "source": [
      "Implement Tridirectional search. In Bidirectional search you start from the start and the\n",
      "goal state. In our case you start from all three cities. Implement all searches using Uniform\n",
      "Cost Search. Test your solution on the provided graph. Write a paragraph about your design\n",
      "choices. Also describe if Bidirectional Search is complete and/or optimal."
     ]
    },
    {
     "cell_type": "code",
     "collapsed": false,
     "input": [
      "def ucs3tri(graph, points):\n",
      "    if len(points)!=len(set(points)):\n",
      "        print \"START === GOAL\"\n",
      "        return None\n",
      "    \n",
      "    num_explored = 0\n",
      "    paths = []    \n",
      "    frontier = copy.copy(points)\n",
      "    explored = []\n",
      "    while len(frontier) > 0:\n",
      "        node = frontier.pop(0)\n",
      "        \n",
      "        if (node in explored):\n",
      "            node2 = explored[explored.index(node)]\n",
      "            path = Path(node, node2, node.cost+node2.cost, True)\n",
      "            if (path not in paths):\n",
      "                paths.append(path)\n",
      "                print \"Path Found: \", path.start.seed.node['data'].id, \" -> \", path.stop.seed.node['data'].id\n",
      "                print \" Path Cost: \", path.cost\n",
      "                #print \"  Explored: \", num_explored\n",
      "        \n",
      "        explored.append(node)\n",
      "        \n",
      "        #Check if min paths found\n",
      "        if ((len(paths) == (len(points))-1)):\n",
      "            break\n",
      "        \n",
      "        for edge in networkx.edges(graph, node.node['data'].id):\n",
      "            child = State(graph.node[edge[1]], node, node.cost, node.seed)\n",
      "            if (child not in explored):\n",
      "                num_explored = num_explored + 1\n",
      "                child.cost += distance(node, child)\n",
      "                if (child not in frontier):\n",
      "                    frontier.append(child)\n",
      "                else:\n",
      "                    child2 = frontier[frontier.index(child)]\n",
      "                    if (child.cost < child2.cost):\n",
      "                        frontier[frontier.index(child)] = child\n",
      "            else:\n",
      "                child2 = explored[explored.index(child)]\n",
      "                if (child.seed != child2.seed):\n",
      "                    path = Path(child, child2, (child.cost+child2.cost), True)\n",
      "                    if (path not in paths):\n",
      "                        frontier.append(child)\n",
      "        frontier = sorted(frontier, key=lambda x: x.cost)\n",
      "        \n",
      "    if ((len(paths) < (len(points)-1))):\n",
      "        print \"Not all points found, explored: \", num_explored\n",
      "        return None, None\n",
      "    return paths, num_explored"
     ],
     "language": "python",
     "metadata": {},
     "outputs": [],
     "prompt_number": 89
    },
    {
     "cell_type": "code",
     "collapsed": false,
     "input": [
      "paths, num_explored = ucs3tri(graph, points)\n",
      "if paths != None:\n",
      "    print \"\\nShortest route:\"\n",
      "    for path in paths:\n",
      "        print \"Path : \", path\n",
      "        print \" Cost: \", path.cost\n",
      "        #backtrack(path.stop, graph)\n",
      "print \"\\nExplored:\", num_explored\n",
      "print \"\\n\\n\"\n",
      "print \"Done!\""
     ],
     "language": "python",
     "metadata": {},
     "outputs": [
      {
       "output_type": "stream",
       "stream": "stdout",
       "text": [
        "Path Found:  560602179  ->  1418254999\n",
        " Path Cose:  1.45792349594\n",
        "Path Found: "
       ]
      },
      {
       "output_type": "stream",
       "stream": "stdout",
       "text": [
        " 69121376  ->  560602179\n",
        " Path Cose:  1.72423120369\n",
        "\n",
        "Shortest route:\n",
        "Path :  560602179 -> 1418254999\n",
        " Cost:  1.45792349594\n",
        "Path :  69121376 -> 560602179\n",
        " Cost:  1.72423120369\n",
        "\n",
        "Explored: 2685\n",
        "\n",
        "\n",
        "\n",
        "Done!\n"
       ]
      }
     ],
     "prompt_number": 10
    },
    {
     "cell_type": "heading",
     "level": 2,
     "metadata": {},
     "source": [
      "5) Experiments"
     ]
    },
    {
     "cell_type": "markdown",
     "metadata": {},
     "source": [
      "With your implementations compare the number of nodes touched when you perform three separate Uniform Cost Searches and the number of nodes expanded with Bidirectional Search and Tridirectional Search. Therefore, run a search for multiple starting conditions (pick three cities at random at least 100 times and for each run all your search methods). Count the number of nodes expanded for both. Write a paragraph about your results and explain your observations as well as your experimental setup. Also discuss the relation to the theoretical bounds using O notation. Report the number of nodes touched for Bidirectional and Tridirectional Search and report the difference to Uniform Cost Search. Graph the numbers on\n",
      "avg. saved."
     ]
    },
    {
     "cell_type": "code",
     "collapsed": false,
     "input": [
      "import pandas as pd\n",
      "import matplotlib as mp"
     ],
     "language": "python",
     "metadata": {},
     "outputs": [],
     "prompt_number": 129
    },
    {
     "cell_type": "code",
     "collapsed": false,
     "input": [
      "data = []\n",
      "N = 50\n",
      "i = 0\n",
      "maxPerimeter = 1\n",
      "while i < N:\n",
      "    \n",
      "    pointA_num = random.randint(0, len(graph.nodes())-1)\n",
      "    pointB_num = random.randint(0, len(graph.nodes())-1)\n",
      "    pointC_num = random.randint(0, len(graph.nodes())-1)\n",
      "    pointA     = graph.node[graph.nodes()[pointA_num]]\n",
      "    pointB     = graph.node[graph.nodes()[pointB_num]]\n",
      "    pointC     = graph.node[graph.nodes()[pointC_num]]\n",
      "    points = [State(pointA, None), State(pointB, None), State(pointC, None)]\n",
      "    for j, point in enumerate(points):\n",
      "        points[j].seed = points[j]\n",
      "    \n",
      "    perimeter = 0\n",
      "    for k, point in enumerate(points):\n",
      "        perimeter += distance(points[k-1],points[k])\n",
      "    \n",
      "    if (perimeter < 1):\n",
      "        paths, ucs3mono_explored = ucs3mono(graph, points, maxPerimeter)\n",
      "        if (ucs3mono_explored != None):\n",
      "            trial = {}\n",
      "            print \"Trial: \", i\n",
      "            print \"perimeter        : \", perimeter\n",
      "            print \"ucs3mono_explored: \", ucs3mono_explored\n",
      "            paths, ucs3bi_explored = ucs3bi(graph, points)\n",
      "            print \"ucs3bi_explored  : \", ucs3bi_explored\n",
      "            paths, ucs3tri_explored = ucs3tri(graph, points)\n",
      "            print \"ucs3tri_explored : \", ucs3tri_explored\n",
      "                \n",
      "            trial[\"perimeter\"] = perimeter\n",
      "            trial[\"points\"] = points\n",
      "            trial[\"ucs3mono\"] = ucs3mono_explored\n",
      "            trial[\"ucs3bi\"] = ucs3bi_explored\n",
      "            trial[\"ucs3tri\"] = ucs3tri_explored\n",
      "            \n",
      "            data.append(trial)\n",
      "            i += 1"
     ],
     "language": "python",
     "metadata": {},
     "outputs": [
      {
       "output_type": "stream",
       "stream": "stdout",
       "text": [
        "Path Found:  1595736482  ->  767408379\n",
        " Path Cost:  0.011960708007\n",
        "Skipping  767408379\n",
        "Path Found: "
       ]
      },
      {
       "output_type": "stream",
       "stream": "stdout",
       "text": [
        " 1611216409  ->  767408379\n",
        " Path Cost:  0.484601674786\n",
        "Trial:  0\n",
        "perimeter        :  0.835290498978\n",
        "ucs3mono_explored:  435\n",
        "Path Found:  767408379 -> 1595736482\n",
        " Path Cose:  0\n",
        "Path Found: "
       ]
      },
      {
       "output_type": "stream",
       "stream": "stdout",
       "text": [
        " 767408379 -> 1611216409\n",
        " Path Cose:  0.484601674786\n",
        "ucs3bi_explored  :  751\n",
        "Path Found:  767408379  ->  1595736482\n",
        " Path Cose:  0\n",
        "Path Found: "
       ]
      },
      {
       "output_type": "stream",
       "stream": "stdout",
       "text": [
        " 767408379  ->  1611216409\n",
        " Path Cose:  0.46629120924\n",
        "ucs3tri_explored :  258\n",
        "Path Found: "
       ]
      },
      {
       "output_type": "stream",
       "stream": "stdout",
       "text": [
        " 552542431  ->  553747916\n",
        " Path Cost:  0.0791561759099\n",
        "Skipping  553747916\n",
        "Path Found: "
       ]
      },
      {
       "output_type": "stream",
       "stream": "stdout",
       "text": [
        " 560129683  ->  553747916\n",
        " Path Cost:  0.395952939634\n",
        "Trial:  1\n",
        "perimeter        :  0.39803199342\n",
        "ucs3mono_explored:  381\n",
        "Path Found:  553747916 -> 552542431\n",
        " Path Cose:  0.077021564509\n",
        "Path Found: "
       ]
      },
      {
       "output_type": "stream",
       "stream": "stdout",
       "text": [
        " 553747916 -> 560129683\n",
        " Path Cose:  0.395952939634\n",
        "ucs3bi_explored  :  749\n",
        "Path Found:  553747916  ->  552542431\n",
        " Path Cose:  0.077021564509\n",
        "Path Found: "
       ]
      },
      {
       "output_type": "stream",
       "stream": "stdout",
       "text": [
        " 560129683  ->  553747916\n",
        " Path Cose:  0.288334520723\n",
        "ucs3tri_explored :  309\n",
        "Path Found: "
       ]
      },
      {
       "output_type": "stream",
       "stream": "stdout",
       "text": [
        " 1926601975  ->  1926601940\n",
        " Path Cost:  0.166800219942\n",
        "Skipping  1926601940\n",
        "Path Found: "
       ]
      },
      {
       "output_type": "stream",
       "stream": "stdout",
       "text": [
        " 1520334734  ->  1926601975\n",
        " Path Cost:  0.39944743416\n",
        "Trial:  2\n",
        "perimeter        :  0.679681077781\n",
        "ucs3mono_explored:  377\n",
        "Path Found:  1926601940 -> 1926601975\n",
        " Path Cose:  0.139307668074\n",
        "Path Found: "
       ]
      },
      {
       "output_type": "stream",
       "stream": "stdout",
       "text": [
        " 1926601975 -> 1520334734\n",
        " Path Cose:  0.39944743416\n",
        "ucs3bi_explored  :  534\n",
        "Path Found:  1926601940  ->  1926601975\n",
        " Path Cose:  0.139307668074\n",
        "Path Found: "
       ]
      },
      {
       "output_type": "stream",
       "stream": "stdout",
       "text": [
        " 1520334734  ->  1926601975\n",
        " Path Cose:  0.388341899531\n",
        "ucs3tri_explored :  336\n",
        "Path Found: "
       ]
      },
      {
       "output_type": "stream",
       "stream": "stdout",
       "text": [
        " 551073483  ->  1904288949\n",
        " Path Cost:  0.044556009282\n",
        "Skipping  1904288949\n",
        "Path Found:  551074418  ->  551073483\n",
        " Path Cost:  0.0949273076503\n",
        "Trial:  3\n",
        "perimeter        :  0.210319685344\n",
        "ucs3mono_explored:  153\n",
        "Path Found:  551073483 -> 1904288949\n",
        " Path Cose:  0.0384334198931\n",
        "Path Found:  551073483 -> 551074418\n",
        " Path Cose:  0.0949273076503\n",
        "ucs3bi_explored  :  117\n",
        "Path Found:  551073483  ->  1904288949\n",
        " Path Cose:  0.0384334198931\n",
        "Path Found:  551074418  ->  551073483\n",
        " Path Cose:  0.0774590495184\n",
        "ucs3tri_explored :  73\n",
        "Path Found: "
       ]
      },
      {
       "output_type": "stream",
       "stream": "stdout",
       "text": [
        " 1926653855  ->  1926601975\n",
        " Path Cost:  0.294358704988\n",
        "Skipping "
       ]
      },
      {
       "output_type": "stream",
       "stream": "stdout",
       "text": [
        " 1926601975\n",
        "Not all points found, explored:  530\n",
        "Path Found: "
       ]
      },
      {
       "output_type": "stream",
       "stream": "stdout",
       "text": [
        " 1185875838  ->  767400217\n",
        " Path Cost:  0.612305135614\n",
        "Skipping  767400217\n",
        "Path Found:  767400221  ->  767400217\n",
        " Path Cost:  0.0993582290656\n",
        "Trial:  4\n",
        "perimeter        :  0.684885486305\n",
        "ucs3mono_explored:  327\n",
        "Path Found:  767400217 -> 767400221\n",
        " Path Cose:  0.0993582290656\n",
        "Path Found: "
       ]
      },
      {
       "output_type": "stream",
       "stream": "stdout",
       "text": [
        " 767400217 -> 1185875838\n",
        " Path Cose:  0.601952761436\n",
        "ucs3bi_explored  :  383\n",
        "Path Found:  767400217  ->  767400221\n",
        " Path Cose:  0.0646233863973\n",
        "Path Found: "
       ]
      },
      {
       "output_type": "stream",
       "stream": "stdout",
       "text": [
        " 767400217  ->  1185875838\n",
        " Path Cose:  0.601952761436\n",
        "ucs3tri_explored :  429\n",
        "Path Found: "
       ]
      },
      {
       "output_type": "stream",
       "stream": "stdout",
       "text": [
        " 560602217  ->  552543965\n",
        " Path Cost:  0.159996194858\n",
        "Path Found: "
       ]
      },
      {
       "output_type": "stream",
       "stream": "stdout",
       "text": [
        " 551073170  ->  560602217\n",
        " Path Cost:  0.346595672969\n",
        "Skipping  552543965\n",
        "Trial:  5\n",
        "perimeter        :  0.915165890821\n",
        "ucs3mono_explored:  768\n",
        "Path Found: "
       ]
      },
      {
       "output_type": "stream",
       "stream": "stdout",
       "text": [
        " 560602217 -> 552543965\n",
        " Path Cose:  0.159996194858\n",
        "Path Found:  551073170 -> 560602217\n",
        " Path Cose:  0.30307000566\n",
        "ucs3bi_explored  :  319\n",
        "Path Found:  560602217  ->  552543965\n",
        " Path Cose:  0.107498697149\n",
        "Path Found: "
       ]
      },
      {
       "output_type": "stream",
       "stream": "stdout",
       "text": [
        " 551073170  ->  560602217\n",
        " Path Cose:  0.30307000566\n",
        "ucs3tri_explored :  319\n",
        "Path Found: "
       ]
      },
      {
       "output_type": "stream",
       "stream": "stdout",
       "text": [
        " 560217433  ->  998987487\n",
        " Path Cost:  0.469407645966\n",
        "Skipping  998987487\n",
        "Path Found: "
       ]
      },
      {
       "output_type": "stream",
       "stream": "stdout",
       "text": [
        " 551074579  ->  998987487\n",
        " Path Cost:  0.303646311456\n",
        "Trial:  6\n",
        "perimeter        :  0.70213335102\n",
        "ucs3mono_explored:  1040\n",
        "Path Found: "
       ]
      },
      {
       "output_type": "stream",
       "stream": "stdout",
       "text": [
        " 998987487 -> 560217433\n",
        " Path Cose:  0.415784697128\n",
        "Path Found: "
       ]
      },
      {
       "output_type": "stream",
       "stream": "stdout",
       "text": [
        " 998987487 -> 551074579\n",
        " Path Cose:  0.303646311456\n",
        "ucs3bi_explored  :  738\n",
        "Path Found: "
       ]
      },
      {
       "output_type": "stream",
       "stream": "stdout",
       "text": [
        " 998987487  ->  551074579\n",
        " Path Cose:  0.294648417175\n",
        "Path Found: "
       ]
      },
      {
       "output_type": "stream",
       "stream": "stdout",
       "text": [
        " 998987487  ->  560217433\n",
        " Path Cose:  0.415784697128\n",
        "ucs3tri_explored :  685\n",
        "Path Found: "
       ]
      },
      {
       "output_type": "stream",
       "stream": "stdout",
       "text": [
        " 523110738  ->  560129621\n",
        " Path Cost:  0.400758132489\n",
        "Skipping  560129621\n",
        "Path Found: "
       ]
      },
      {
       "output_type": "stream",
       "stream": "stdout",
       "text": [
        " 552541479  ->  560129621\n",
        " Path Cost:  0.72096462884\n",
        "Trial:  7\n",
        "perimeter        :  0.953983596285\n",
        "ucs3mono_explored:  896\n",
        "Path Found: "
       ]
      },
      {
       "output_type": "stream",
       "stream": "stdout",
       "text": [
        " 560129621 -> 523110738\n",
        " Path Cose:  0.38787649074\n",
        "Path Found: "
       ]
      },
      {
       "output_type": "stream",
       "stream": "stdout",
       "text": [
        " 560129621 -> 552541479\n",
        " Path Cose:  0.72096462884\n",
        "ucs3bi_explored  :  2338\n",
        "Path Found: "
       ]
      },
      {
       "output_type": "stream",
       "stream": "stdout",
       "text": [
        " 560129621  ->  523110738\n",
        " Path Cose:  0.38787649074\n",
        "Path Found: "
       ]
      },
      {
       "output_type": "stream",
       "stream": "stdout",
       "text": [
        " 552541479  ->  560129621\n",
        " Path Cose:  0.645562442799\n",
        "ucs3tri_explored :  800\n",
        "Path Found: "
       ]
      },
      {
       "output_type": "stream",
       "stream": "stdout",
       "text": [
        " 523110792  ->  557989226\n",
        " Path Cost:  0.372913683569\n",
        "Path Found: "
       ]
      },
      {
       "output_type": "stream",
       "stream": "stdout",
       "text": [
        " 315320050  ->  523110792\n",
        " Path Cost:  0.409154023623\n",
        "Skipping  557989226\n",
        "Trial:  8\n",
        "perimeter        :  0.827223004024\n",
        "ucs3mono_explored:  709\n",
        "Path Found:  523110792 -> 315320050\n",
        " Path Cose:  0.36694551401\n",
        "Path Found: "
       ]
      },
      {
       "output_type": "stream",
       "stream": "stdout",
       "text": [
        " 523110792 -> 557989226\n",
        " Path Cose:  0.372913683569\n",
        "ucs3bi_explored  :  455\n",
        "Path Found: "
       ]
      },
      {
       "output_type": "stream",
       "stream": "stdout",
       "text": [
        " 557989226  ->  523110792\n",
        " Path Cose:  0.361993678796\n",
        "Path Found:  523110792  ->  315320050\n",
        " Path Cose:  0.36694551401\n",
        "ucs3tri_explored :  225\n",
        "Path Found: "
       ]
      },
      {
       "output_type": "stream",
       "stream": "stdout",
       "text": [
        " 69117132  ->  1197055717\n",
        " Path Cost:  0.946089986074\n",
        "Skipping  1197055717\n",
        "Not all points found, explored:  195\n",
        "Path Found: "
       ]
      },
      {
       "output_type": "stream",
       "stream": "stdout",
       "text": [
        " 551074861  ->  551073823\n",
        " Path Cost:  0.154853463996\n",
        "Path Found: "
       ]
      },
      {
       "output_type": "stream",
       "stream": "stdout",
       "text": [
        " 2023555990  ->  551073823\n",
        " Path Cost:  0.519121305921\n",
        "Skipping  551073823\n",
        "Trial:  9\n",
        "perimeter        :  0.956423393174\n",
        "ucs3mono_explored:  817\n",
        "Path Found: "
       ]
      },
      {
       "output_type": "stream",
       "stream": "stdout",
       "text": [
        " 551074861 -> 551073823\n",
        " Path Cose:  0.154853463996\n",
        "Path Found: "
       ]
      },
      {
       "output_type": "stream",
       "stream": "stdout",
       "text": [
        " 2023555990 -> 551074861\n",
        " Path Cose:  0.508471622911\n",
        "ucs3bi_explored  :  592\n",
        "Path Found:  551073823  ->  551074861\n",
        " Path Cose:  0.136336175296\n",
        "Path Found: "
       ]
      },
      {
       "output_type": "stream",
       "stream": "stdout",
       "text": [
        " 551073823  ->  2023555990\n",
        " Path Cose:  0.465754249196\n",
        "ucs3tri_explored :  693\n",
        "Path Found: "
       ]
      },
      {
       "output_type": "stream",
       "stream": "stdout",
       "text": [
        " 551074849  ->  552542882\n",
        " Path Cost:  0.219467762184\n",
        "Path Found: "
       ]
      },
      {
       "output_type": "stream",
       "stream": "stdout",
       "text": [
        " 523202318  ->  552542882\n",
        " Path Cost:  0.543259368584\n",
        "Skipping  552542882\n",
        "Trial:  10\n",
        "perimeter        :  0.750519778833\n",
        "ucs3mono_explored:  986\n",
        "Path Found: "
       ]
      },
      {
       "output_type": "stream",
       "stream": "stdout",
       "text": [
        " 551074849 -> 552542882\n",
        " Path Cose:  0.219467762184\n",
        "Path Found: "
       ]
      },
      {
       "output_type": "stream",
       "stream": "stdout",
       "text": [
        " 523202318 -> 551074849\n",
        " Path Cose:  0.573410284856\n",
        "ucs3bi_explored  :  629\n",
        "Path Found:  552542882  ->  551074849\n",
        " Path Cose:  0.213590453326\n",
        "Path Found: "
       ]
      },
      {
       "output_type": "stream",
       "stream": "stdout",
       "text": [
        " 523202318  ->  552542882\n",
        " Path Cose:  0.523662258765\n",
        "ucs3tri_explored :  581\n",
        "Path Found: "
       ]
      },
      {
       "output_type": "stream",
       "stream": "stdout",
       "text": [
        " 1926653688  ->  316638924\n",
        " Path Cost:  0.392682925946\n",
        "Skipping  316638924\n",
        "Path Found: "
       ]
      },
      {
       "output_type": "stream",
       "stream": "stdout",
       "text": [
        " 767401651  ->  316638924\n",
        " Path Cost:  0.398177540314\n",
        "Trial:  11\n",
        "perimeter        :  0.709218444193\n",
        "ucs3mono_explored:  848\n",
        "Path Found: "
       ]
      },
      {
       "output_type": "stream",
       "stream": "stdout",
       "text": [
        " 1926653688 -> 316638924\n",
        " Path Cose:  0.387162675109\n",
        "Path Found: "
       ]
      },
      {
       "output_type": "stream",
       "stream": "stdout",
       "text": [
        " 316638924 -> 767401651\n",
        " Path Cose:  0.398177540314\n",
        "ucs3bi_explored  :  576\n",
        "Path Found: "
       ]
      },
      {
       "output_type": "stream",
       "stream": "stdout",
       "text": [
        " 767401651  ->  316638924\n",
        " Path Cose:  0.347539141467\n",
        "Path Found:  1926653688  ->  316638924\n",
        " Path Cose:  0.387162675109\n",
        "ucs3tri_explored :  355\n",
        "Path Found: "
       ]
      },
      {
       "output_type": "stream",
       "stream": "stdout",
       "text": [
        " 1926653852  ->  1926601919\n",
        " Path Cost:  0.463589112218\n",
        "Skipping  1926601919\n",
        "Not all points found, explored:  442\n",
        "Path Found: "
       ]
      },
      {
       "output_type": "stream",
       "stream": "stdout",
       "text": [
        " 559838146  ->  560216461\n",
        " Path Cost:  0.328433641337\n",
        "Path Found: "
       ]
      },
      {
       "output_type": "stream",
       "stream": "stdout",
       "text": [
        " 552540842  ->  559838146\n",
        " Path Cost:  0.446861672608\n",
        "Skipping  560216461\n",
        "Trial:  12\n",
        "perimeter        :  0.752250763319\n",
        "ucs3mono_explored:  1000\n",
        "Path Found: "
       ]
      },
      {
       "output_type": "stream",
       "stream": "stdout",
       "text": [
        " 559838146 -> 552540842\n",
        " Path Cose:  0.411238398053\n",
        "Path Found: "
       ]
      },
      {
       "output_type": "stream",
       "stream": "stdout",
       "text": [
        " 559838146 -> 560216461\n",
        " Path Cose:  0.328433641337\n",
        "ucs3bi_explored  :  713\n",
        "Path Found:  559838146  ->  560216461\n",
        " Path Cose:  0.285280715967\n",
        "Path Found: "
       ]
      },
      {
       "output_type": "stream",
       "stream": "stdout",
       "text": [
        " 552540842  ->  560216461\n",
        " Path Cose:  0.340795269889\n",
        "ucs3tri_explored :  340\n",
        "Path Found: "
       ]
      },
      {
       "output_type": "stream",
       "stream": "stdout",
       "text": [
        " 1595736370  ->  1595736488\n",
        " Path Cost:  0.0547540470254\n",
        "Path Found: "
       ]
      },
      {
       "output_type": "stream",
       "stream": "stdout",
       "text": [
        " 1841724685  ->  1595736370\n",
        " Path Cost:  0.481234569006\n",
        "Skipping  1595736488\n",
        "Trial:  13\n",
        "perimeter        :  0.857445139524\n",
        "ucs3mono_explored:  331\n",
        "Path Found:  1595736370 -> 1595736488\n",
        " Path Cose:  0.0547540470254\n",
        "Path Found: "
       ]
      },
      {
       "output_type": "stream",
       "stream": "stdout",
       "text": [
        " 1841724685 -> 1595736370\n",
        " Path Cose:  0.427894414817\n",
        "ucs3bi_explored  :  215\n",
        "Path Found:  1595736488  ->  1595736370\n",
        " Path Cose:  0.0425166618007\n",
        "Path Found: "
       ]
      },
      {
       "output_type": "stream",
       "stream": "stdout",
       "text": [
        " 1841724685  ->  1595736370\n",
        " Path Cose:  0.427894414817\n",
        "ucs3tri_explored :  223\n",
        "Path Found: "
       ]
      },
      {
       "output_type": "stream",
       "stream": "stdout",
       "text": [
        " 523110735  ->  69168301\n",
        " Path Cost:  0.395403828186\n",
        "Skipping  69168301\n",
        "Not all points found, explored:  432\n",
        "Path Found: "
       ]
      },
      {
       "output_type": "stream",
       "stream": "stdout",
       "text": [
        " 1029155086  ->  551077408\n",
        " Path Cost:  0.191534984534\n",
        "Skipping  551077408\n",
        "Path Found: "
       ]
      },
      {
       "output_type": "stream",
       "stream": "stdout",
       "text": [
        " 1904288964  ->  551077408\n",
        " Path Cost:  0.271564775\n",
        "Trial:  14\n",
        "perimeter        :  0.711102236791\n",
        "ucs3mono_explored:  616\n",
        "Path Found:  1029155086 -> 551077408\n",
        " Path Cose:  0.1565874697\n",
        "Path Found: "
       ]
      },
      {
       "output_type": "stream",
       "stream": "stdout",
       "text": [
        " 551077408 -> 1904288964\n",
        " Path Cose:  0.271564775\n",
        "ucs3bi_explored  :  555\n",
        "Path Found:  1029155086  ->  551077408\n",
        " Path Cose:  0.1565874697\n",
        "Path Found: "
       ]
      },
      {
       "output_type": "stream",
       "stream": "stdout",
       "text": [
        " 1904288964  ->  551077408\n",
        " Path Cose:  0.238840347209\n",
        "ucs3tri_explored :  252\n",
        "Path Found: "
       ]
      },
      {
       "output_type": "stream",
       "stream": "stdout",
       "text": [
        " 558700680  ->  558700666\n",
        " Path Cost:  0.148251670588\n",
        "Skipping  558700666\n",
        "Not all points found, explored:  81\n",
        "Path Found: "
       ]
      },
      {
       "output_type": "stream",
       "stream": "stdout",
       "text": [
        " 552544045  ->  551077384\n",
        " Path Cost:  0.444821870088\n",
        "Skipping  551077384\n",
        "Path Found: "
       ]
      },
      {
       "output_type": "stream",
       "stream": "stdout",
       "text": [
        " 546615055  ->  552544045\n",
        " Path Cost:  0.567341296641\n",
        "Trial:  15\n",
        "perimeter        :  0.954623829225\n",
        "ucs3mono_explored:  1093\n",
        "Path Found: "
       ]
      },
      {
       "output_type": "stream",
       "stream": "stdout",
       "text": [
        " 552544045 -> 551077384\n",
        " Path Cose:  0.308654933408\n",
        "Path Found: "
       ]
      },
      {
       "output_type": "stream",
       "stream": "stdout",
       "text": [
        " 552544045 -> 546615055\n",
        " Path Cose:  0.567341296641\n",
        "ucs3bi_explored  :  1469\n",
        "Path Found: "
       ]
      },
      {
       "output_type": "stream",
       "stream": "stdout",
       "text": [
        " 552544045  ->  551077384\n",
        " Path Cose:  0.308654933408\n",
        "Path Found: "
       ]
      },
      {
       "output_type": "stream",
       "stream": "stdout",
       "text": [
        " 546615055  ->  552544045\n",
        " Path Cose:  0.557710134945\n",
        "ucs3tri_explored :  595\n",
        "Path Found: "
       ]
      },
      {
       "output_type": "stream",
       "stream": "stdout",
       "text": [
        " 551076928  ->  2096097021\n",
        " Path Cost:  0.776608961603\n",
        "Skipping  2096097021\n",
        "Not all points found, explored:  1882\n",
        "Path Found: "
       ]
      },
      {
       "output_type": "stream",
       "stream": "stdout",
       "text": [
        " 1926466229  ->  1926653849\n",
        " Path Cost:  0.325901577794\n",
        "Skipping  1926653849\n",
        "Not all points found, explored: "
       ]
      },
      {
       "output_type": "stream",
       "stream": "stdout",
       "text": [
        " 564\n",
        "Path Found: "
       ]
      },
      {
       "output_type": "stream",
       "stream": "stdout",
       "text": [
        " 551074897  ->  551077382\n",
        " Path Cost:  0.279548369812\n",
        "Skipping  551077382\n",
        "Path Found: "
       ]
      },
      {
       "output_type": "stream",
       "stream": "stdout",
       "text": [
        " 546818698  ->  551074897\n",
        " Path Cost:  0.288318664057\n",
        "Trial:  16\n",
        "perimeter        :  0.631522651462\n",
        "ucs3mono_explored:  881\n",
        "Path Found: "
       ]
      },
      {
       "output_type": "stream",
       "stream": "stdout",
       "text": [
        " 551077382 -> 551074897\n",
        " Path Cose:  0.26812824634\n",
        "Path Found: "
       ]
      },
      {
       "output_type": "stream",
       "stream": "stdout",
       "text": [
        " 551074897 -> 546818698\n",
        " Path Cose:  0.288318664057\n",
        "ucs3bi_explored  :  785\n",
        "Path Found: "
       ]
      },
      {
       "output_type": "stream",
       "stream": "stdout",
       "text": [
        " 551077382  ->  551074897\n",
        " Path Cose:  0.26812824634\n",
        "Path Found:  551074897  ->  546818698\n",
        " Path Cose:  0.263981182927\n",
        "ucs3tri_explored :  414\n",
        "Path Found: "
       ]
      },
      {
       "output_type": "stream",
       "stream": "stdout",
       "text": [
        " 1595736644  ->  1595736483\n",
        " Path Cost:  0.323239199859\n",
        "Path Found:  1185875798  ->  1595736483\n",
        " Path Cost:  0.529863371448\n",
        "Skipping  1595736483\n",
        "Trial:  17\n",
        "perimeter        :  0.634945783776\n",
        "ucs3mono_explored:  357\n",
        "Path Found: "
       ]
      },
      {
       "output_type": "stream",
       "stream": "stdout",
       "text": [
        " 1595736644 -> 1595736483\n",
        " Path Cose:  0.323239199859\n",
        "Path Found: "
       ]
      },
      {
       "output_type": "stream",
       "stream": "stdout",
       "text": [
        " 1185875798 -> 1595736644\n",
        " Path Cose:  0.843138987242\n",
        "ucs3bi_explored  :  412\n",
        "Path Found:  1595736483  ->  1595736644\n",
        " Path Cose:  0.306862632358\n",
        "Path Found: "
       ]
      },
      {
       "output_type": "stream",
       "stream": "stdout",
       "text": [
        " 1185875798  ->  1595736483\n",
        " Path Cose:  0.511864203686\n",
        "ucs3tri_explored :  369\n",
        "Path Found: "
       ]
      },
      {
       "output_type": "stream",
       "stream": "stdout",
       "text": [
        " 546672023  ->  553915657\n",
        " Path Cost:  0.342631399647\n",
        "Path Found: "
       ]
      },
      {
       "output_type": "stream",
       "stream": "stdout",
       "text": [
        " 1418189548  ->  546672023\n",
        " Path Cost:  0.915109297361\n",
        "Skipping  553915657\n",
        "Trial:  18\n",
        "perimeter        :  0.96082088974\n",
        "ucs3mono_explored:  903\n",
        "Path Found: "
       ]
      },
      {
       "output_type": "stream",
       "stream": "stdout",
       "text": [
        " 546672023 -> 553915657\n",
        " Path Cose:  0.342631399647\n",
        "Path Found: "
       ]
      },
      {
       "output_type": "stream",
       "stream": "stdout",
       "text": [
        " 1418189548 -> 546672023\n",
        " Path Cose:  0.762328359658\n",
        "ucs3bi_explored  :  668\n",
        "Path Found: "
       ]
      },
      {
       "output_type": "stream",
       "stream": "stdout",
       "text": [
        " 553915657  ->  546672023\n",
        " Path Cose:  0.340896736408\n",
        "Path Found: "
       ]
      },
      {
       "output_type": "stream",
       "stream": "stdout",
       "text": [
        " 1418189548  ->  546672023\n",
        " Path Cose:  0.762328359658\n",
        "ucs3tri_explored :  678\n",
        "Path Found:  69614779  ->  69604872\n",
        " Path Cost:  0.261962953827\n",
        "Path Found: "
       ]
      },
      {
       "output_type": "stream",
       "stream": "stdout",
       "text": [
        " 1926653326  ->  1926653324\n",
        " Path Cost:  0.0271547642083\n",
        "Path Found: "
       ]
      },
      {
       "output_type": "stream",
       "stream": "stdout",
       "text": [
        " 1890748082  ->  553497822\n",
        " Path Cost:  0.184054422002\n",
        "Path Found: "
       ]
      },
      {
       "output_type": "stream",
       "stream": "stdout",
       "text": [
        " 2021952783  ->  1890748082\n",
        " Path Cost:  0.523486343575\n",
        "Skipping  553497822\n",
        "Trial:  19\n",
        "perimeter        :  0.685910112195\n",
        "ucs3mono_explored:  1221\n",
        "Path Found: "
       ]
      },
      {
       "output_type": "stream",
       "stream": "stdout",
       "text": [
        " 1890748082 -> 553497822\n",
        " Path Cose:  0.184054422002\n",
        "Path Found: "
       ]
      },
      {
       "output_type": "stream",
       "stream": "stdout",
       "text": [
        " 1890748082 -> 2021952783\n",
        " Path Cose:  0.504675822974\n",
        "ucs3bi_explored  :  661\n",
        "Path Found:  553497822  ->  1890748082\n",
        " Path Cose:  0.0896877793588\n",
        "Path Found: "
       ]
      },
      {
       "output_type": "stream",
       "stream": "stdout",
       "text": [
        " 1890748082  ->  2021952783\n",
        " Path Cose:  0.504675822974\n",
        "ucs3tri_explored :  675\n",
        "Path Found: "
       ]
      },
      {
       "output_type": "stream",
       "stream": "stdout",
       "text": [
        " 780749970  ->  540748706\n",
        " Path Cost:  0.400486420589\n",
        "Skipping  540748706\n",
        "Path Found: "
       ]
      },
      {
       "output_type": "stream",
       "stream": "stdout",
       "text": [
        " 560216455  ->  540748706\n",
        " Path Cost:  0.278808818862\n",
        "Trial:  20\n",
        "perimeter        :  0.680481916173\n",
        "ucs3mono_explored:  672\n",
        "Path Found:  780749970 -> 540748706\n",
        " Path Cose:  0.353999183529\n",
        "Path Found: "
       ]
      },
      {
       "output_type": "stream",
       "stream": "stdout",
       "text": [
        " 540748706 -> 560216455\n",
        " Path Cose:  0.278808818862\n",
        "ucs3bi_explored  :  234\n",
        "Path Found:  540748706  ->  560216455\n",
        " Path Cose:  0.265622493804\n",
        "Path Found:  780749970  ->  540748706\n",
        " Path Cose:  0.353999183529\n",
        "ucs3tri_explored :  194\n",
        "Path Found: "
       ]
      },
      {
       "output_type": "stream",
       "stream": "stdout",
       "text": [
        " 1962660680  ->  1962660122\n",
        " Path Cost:  0.396539879576\n",
        "Path Found: "
       ]
      },
      {
       "output_type": "stream",
       "stream": "stdout",
       "text": [
        " 69189226  ->  551077424\n",
        " Path Cost:  0.336393202893\n",
        "Skipping  551077424\n",
        "Not all points found, explored:  184\n",
        "Path Found: "
       ]
      },
      {
       "output_type": "stream",
       "stream": "stdout",
       "text": [
        " 316638585  ->  1595736418\n",
        " Path Cost:  0.47857707098\n",
        "Skipping  1595736418\n",
        "Path Found:  767401620  ->  1595736418\n",
        " Path Cost:  0.146668097651\n",
        "Trial:  21\n",
        "perimeter        :  0.659923059381\n",
        "ucs3mono_explored:  505\n",
        "Path Found:  1595736418 -> 767401620\n",
        " Path Cose:  0.146668097651\n",
        "Path Found: "
       ]
      },
      {
       "output_type": "stream",
       "stream": "stdout",
       "text": [
        " 316638585 -> 1595736418\n",
        " Path Cose:  0.466499590409\n",
        "ucs3bi_explored  :  254\n",
        "Path Found:  1595736418  ->  767401620\n",
        " Path Cose:  0.138676500475\n",
        "Path Found: "
       ]
      },
      {
       "output_type": "stream",
       "stream": "stdout",
       "text": [
        " 316638585  ->  1595736418\n",
        " Path Cose:  0.466499590409\n",
        "ucs3tri_explored :  294\n",
        "Path Found: "
       ]
      },
      {
       "output_type": "stream",
       "stream": "stdout",
       "text": [
        " 1029246989  ->  560605699\n",
        " Path Cost:  0.344674661357\n",
        "Path Found:  560605695  ->  560605699\n",
        " Path Cost:  0.261120279847\n",
        "Skipping  560605699\n",
        "Trial:  22\n",
        "perimeter        :  0.832134606054\n",
        "ucs3mono_explored:  505\n",
        "Path Found: "
       ]
      },
      {
       "output_type": "stream",
       "stream": "stdout",
       "text": [
        " 560605695 -> 560605699\n",
        " Path Cose:  0.261120279847\n",
        "Path Found:  1029246989 -> 560605695\n",
        " Path Cose:  0.476688871625\n",
        "ucs3bi_explored  :  387\n",
        "Path Found: "
       ]
      },
      {
       "output_type": "stream",
       "stream": "stdout",
       "text": [
        " 560605699  ->  560605695\n",
        " Path Cose:  0.198613818301\n",
        "Path Found: "
       ]
      },
      {
       "output_type": "stream",
       "stream": "stdout",
       "text": [
        " 560605699  ->  1029246989\n",
        " Path Cose:  0.287028292353\n",
        "ucs3tri_explored :  278\n",
        "Path Found: "
       ]
      },
      {
       "output_type": "stream",
       "stream": "stdout",
       "text": [
        " 1926653395  ->  1595736687\n",
        " Path Cost:  0.67346298042\n",
        "Skipping  1595736687\n",
        "Path Found:  1185875806  ->  1595736687\n",
        " Path Cost:  0.318735537808\n",
        "Trial:  23\n",
        "perimeter        :  0.927228215165\n",
        "ucs3mono_explored:  981\n",
        "Path Found: "
       ]
      },
      {
       "output_type": "stream",
       "stream": "stdout",
       "text": [
        " 1595736687 -> 1185875806\n",
        " Path Cose:  0.318735537808\n",
        "Path Found: "
       ]
      },
      {
       "output_type": "stream",
       "stream": "stdout",
       "text": [
        " 1595736687 -> 1926653395\n",
        " Path Cose:  0.66871370903\n",
        "ucs3bi_explored  :  478\n",
        "Path Found: "
       ]
      },
      {
       "output_type": "stream",
       "stream": "stdout",
       "text": [
        " 1185875806  ->  1595736687\n",
        " Path Cose:  0.313174564212\n",
        "Path Found: "
       ]
      },
      {
       "output_type": "stream",
       "stream": "stdout",
       "text": [
        " 1595736687  ->  1926653395\n",
        " Path Cose:  0.66871370903\n",
        "ucs3tri_explored :  493\n",
        "Path Found: "
       ]
      },
      {
       "output_type": "stream",
       "stream": "stdout",
       "text": [
        " 1926653661  ->  1595736365\n",
        " Path Cost:  0.135940010897\n",
        "Path Found:  1595736828  ->  1595736365\n",
        " Path Cost:  0.237661644926\n",
        "Skipping  1595736365\n",
        "Trial:  24\n",
        "perimeter        :  0.619072748938\n",
        "ucs3mono_explored:  307\n",
        "Path Found: "
       ]
      },
      {
       "output_type": "stream",
       "stream": "stdout",
       "text": [
        " 1926653661 -> 1595736365\n",
        " Path Cose:  0.135940010897\n",
        "Path Found: "
       ]
      },
      {
       "output_type": "stream",
       "stream": "stdout",
       "text": [
        " 1926653661 -> 1595736828\n",
        " Path Cose:  0.352318873047\n",
        "ucs3bi_explored  :  300\n",
        "Path Found:  1595736365  ->  1926653661\n",
        " Path Cose:  0.11743621785\n",
        "Path Found: "
       ]
      },
      {
       "output_type": "stream",
       "stream": "stdout",
       "text": [
        " 1595736828  ->  1595736365\n",
        " Path Cose:  0.234421924222\n",
        "ucs3tri_explored :  233\n",
        "Path Found: "
       ]
      },
      {
       "output_type": "stream",
       "stream": "stdout",
       "text": [
        " 1890103415  ->  2030996206\n",
        " Path Cost:  0.335533347133\n",
        "Skipping  2030996206\n",
        "Path Found:  560604377  ->  2030996206\n",
        " Path Cost:  0.0615124590871\n",
        "Trial:  25\n",
        "perimeter        :  0.645290875216\n",
        "ucs3mono_explored:  470\n",
        "Path Found:  2030996206 -> 560604377\n",
        " Path Cose:  0.0615124590871\n",
        "Path Found: "
       ]
      },
      {
       "output_type": "stream",
       "stream": "stdout",
       "text": [
        " 1890103415 -> 2030996206\n",
        " Path Cose:  0.31942351304\n",
        "ucs3bi_explored  :  342\n",
        "Path Found:  2030996206  ->  560604377\n",
        " Path Cose:  0.0269715465875\n",
        "Path Found: "
       ]
      },
      {
       "output_type": "stream",
       "stream": "stdout",
       "text": [
        " 1890103415  ->  2030996206\n",
        " Path Cose:  0.31942351304\n",
        "ucs3tri_explored :  345\n",
        "Path Found: "
       ]
      },
      {
       "output_type": "stream",
       "stream": "stdout",
       "text": [
        " 552540122  ->  560216427\n",
        " Path Cost:  0.737841651691\n",
        "Skipping  560216427\n",
        "Not all points found, explored:  2055\n",
        "Path Found: "
       ]
      },
      {
       "output_type": "stream",
       "stream": "stdout",
       "text": [
        " 316638664  ->  1520334426\n",
        " Path Cost:  0.305742116043\n",
        "Skipping "
       ]
      },
      {
       "output_type": "stream",
       "stream": "stdout",
       "text": [
        " 1520334426\n",
        "Not all points found, explored:  514\n",
        "Path Found: "
       ]
      },
      {
       "output_type": "stream",
       "stream": "stdout",
       "text": [
        " 1595736632  ->  1595736587\n",
        " Path Cost:  0.326563728921\n",
        "Path Found: "
       ]
      },
      {
       "output_type": "stream",
       "stream": "stdout",
       "text": [
        " 1595736413  ->  1595736587\n",
        " Path Cost:  0.30270197991\n",
        "Skipping  1595736587\n",
        "Trial:  26\n",
        "perimeter        :  0.89551269775\n",
        "ucs3mono_explored:  652\n",
        "Path Found: "
       ]
      },
      {
       "output_type": "stream",
       "stream": "stdout",
       "text": [
        " 1595736632 -> 1595736413\n",
        " Path Cose:  0.544754123088\n",
        "Path Found: "
       ]
      },
      {
       "output_type": "stream",
       "stream": "stdout",
       "text": [
        " 1595736413 -> 1595736587\n",
        " Path Cose:  0.30270197991\n",
        "ucs3bi_explored  :  607\n",
        "Path Found: "
       ]
      },
      {
       "output_type": "stream",
       "stream": "stdout",
       "text": [
        " 1595736413  ->  1595736587\n",
        " Path Cose:  0.253849218308\n",
        "Path Found:  1595736632  ->  1595736587\n",
        " Path Cose:  0.320453651281\n",
        "ucs3tri_explored :  283\n",
        "Path Found: "
       ]
      },
      {
       "output_type": "stream",
       "stream": "stdout",
       "text": [
        " 552541127  ->  550915318\n",
        " Path Cost:  0.12143597341\n",
        "Skipping  550915318\n",
        "Path Found: "
       ]
      },
      {
       "output_type": "stream",
       "stream": "stdout",
       "text": [
        " 557992555  ->  550915318\n",
        " Path Cost:  0.477089051923\n",
        "Trial:  27\n",
        "perimeter        :  0.810280372286\n",
        "ucs3mono_explored:  773\n",
        "Path Found:  552541127 -> 550915318\n",
        " Path Cose:  0.0978065308752\n",
        "Path Found: "
       ]
      },
      {
       "output_type": "stream",
       "stream": "stdout",
       "text": [
        " 550915318 -> 557992555\n",
        " Path Cose:  0.477089051923\n",
        "ucs3bi_explored  :  697\n",
        "Path Found:  552541127  ->  550915318\n",
        " Path Cose:  0.0978065308752\n",
        "Path Found: "
       ]
      },
      {
       "output_type": "stream",
       "stream": "stdout",
       "text": [
        " 557992555  ->  550915318\n",
        " Path Cose:  0.317535975324\n",
        "ucs3tri_explored :  329\n",
        "Path Found: "
       ]
      },
      {
       "output_type": "stream",
       "stream": "stdout",
       "text": [
        " 546377432  ->  546377580\n",
        " Path Cost:  0.104909083938\n",
        "Skipping  546377580\n",
        "Path Found: "
       ]
      },
      {
       "output_type": "stream",
       "stream": "stdout",
       "text": [
        " 553498108  ->  546377432\n",
        " Path Cost:  0.969844047516\n",
        "Trial:  28\n",
        "perimeter        :  0.752762479487\n",
        "ucs3mono_explored:  1410\n",
        "Path Found:  546377580 -> 546377432\n",
        " Path Cose:  0.0561282424444\n",
        "Path Found: "
       ]
      },
      {
       "output_type": "stream",
       "stream": "stdout",
       "text": [
        " 546377432 -> 553498108\n",
        " Path Cose:  0.969844047516\n",
        "ucs3bi_explored  :  1242\n",
        "Path Found:  546377580  ->  546377432\n",
        " Path Cose:  0.0561282424444\n",
        "Path Found: "
       ]
      },
      {
       "output_type": "stream",
       "stream": "stdout",
       "text": [
        " 546377432  ->  553498108\n",
        " Path Cose:  0.966163309784\n",
        "ucs3tri_explored :  459\n",
        "Path Found: "
       ]
      },
      {
       "output_type": "stream",
       "stream": "stdout",
       "text": [
        " 551074748  ->  998987506\n",
        " Path Cost:  0.307118163056\n",
        "Skipping  998987506\n",
        "Path Found:  546819510  ->  998987506\n",
        " Path Cost:  0.0958543299978\n",
        "Trial:  29\n",
        "perimeter        :  0.533836560283\n",
        "ucs3mono_explored:  717\n",
        "Path Found:  998987506 -> 546819510\n",
        " Path Cose:  0.0958543299978\n",
        "Path Found: "
       ]
      },
      {
       "output_type": "stream",
       "stream": "stdout",
       "text": [
        " 998987506 -> 551074748\n",
        " Path Cose:  0.272177900425\n",
        "ucs3bi_explored  :  263\n",
        "Path Found:  998987506  ->  546819510\n",
        " Path Cose:  0.0794414609555\n",
        "Path Found: "
       ]
      },
      {
       "output_type": "stream",
       "stream": "stdout",
       "text": [
        " 998987506  ->  551074748\n",
        " Path Cose:  0.272177900425\n",
        "ucs3tri_explored :  280\n",
        "Path Found: "
       ]
      },
      {
       "output_type": "stream",
       "stream": "stdout",
       "text": [
        " 2351487007  ->  2351487064\n",
        " Path Cost:  0.284234958776\n",
        "Path Found:  69589641  ->  2351487007\n",
        " Path Cost:  0.353442442284\n",
        "Skipping  2351487064\n",
        "Trial:  30\n",
        "perimeter        :  0.829279334128\n",
        "ucs3mono_explored:  326\n",
        "Path Found: "
       ]
      },
      {
       "output_type": "stream",
       "stream": "stdout",
       "text": [
        " 69589641 -> 2351487007\n",
        " Path Cose:  0.295306488021\n",
        "Path Found: "
       ]
      },
      {
       "output_type": "stream",
       "stream": "stdout",
       "text": [
        " 2351487007 -> 2351487064\n",
        " Path Cose:  0.284234958776\n",
        "ucs3bi_explored  :  233\n",
        "Path Found:  2351487064  ->  2351487007\n",
        " Path Cose:  0.249791320289\n",
        "Path Found:  69589641  ->  2351487007\n",
        " Path Cose:  0.295306488021\n",
        "ucs3tri_explored :  160\n",
        "Path Found: "
       ]
      },
      {
       "output_type": "stream",
       "stream": "stdout",
       "text": [
        " 69230905  ->  546590513\n",
        " Path Cost:  0.356344071778\n",
        "Path Found: "
       ]
      },
      {
       "output_type": "stream",
       "stream": "stdout",
       "text": [
        " 2048209355  ->  546590513\n",
        " Path Cost:  0.541900923849\n",
        "Skipping  546590513\n",
        "Trial:  31\n",
        "perimeter        :  0.959057318089\n",
        "ucs3mono_explored:  583\n",
        "Path Found: "
       ]
      },
      {
       "output_type": "stream",
       "stream": "stdout",
       "text": [
        " 2048209355 -> 69230905\n",
        " Path Cose:  0.669422913381\n",
        "Path Found:  69230905 -> 546590513\n",
        " Path Cose:  0.356344071778\n",
        "ucs3bi_explored  :  418\n",
        "Path Found:  546590513  ->  69230905\n",
        " Path Cose:  0.230136443725\n",
        "Path Found: "
       ]
      },
      {
       "output_type": "stream",
       "stream": "stdout",
       "text": [
        " 546590513  ->  2048209355\n",
        " Path Cose:  0.500159793843\n",
        "ucs3tri_explored :  320\n",
        "Path Found: "
       ]
      },
      {
       "output_type": "stream",
       "stream": "stdout",
       "text": [
        " 546680782  ->  546680694\n",
        " Path Cost:  0.21658975547\n",
        "Skipping  546680694\n",
        "Path Found: "
       ]
      },
      {
       "output_type": "stream",
       "stream": "stdout",
       "text": [
        " 1999039827  ->  546680694\n",
        " Path Cost:  0.377797045463\n",
        "Trial:  32\n",
        "perimeter        :  0.689233076162\n",
        "ucs3mono_explored:  848\n",
        "Path Found:  546680782 -> 546680694\n",
        " Path Cose:  0.206939890436\n",
        "Path Found: "
       ]
      },
      {
       "output_type": "stream",
       "stream": "stdout",
       "text": [
        " 546680694 -> 1999039827\n",
        " Path Cose:  0.377797045463\n",
        "ucs3bi_explored  :  503\n",
        "Path Found:  546680782  ->  546680694\n",
        " Path Cose:  0.206939890436\n",
        "Path Found: "
       ]
      },
      {
       "output_type": "stream",
       "stream": "stdout",
       "text": [
        " 1999039827  ->  546680694\n",
        " Path Cose:  0.363407239418\n",
        "ucs3tri_explored :  306\n",
        "Path Found: "
       ]
      },
      {
       "output_type": "stream",
       "stream": "stdout",
       "text": [
        " 552544356  ->  551073543\n",
        " Path Cost:  0.0932987029104\n",
        "Path Found: "
       ]
      },
      {
       "output_type": "stream",
       "stream": "stdout",
       "text": [
        " 560602429  ->  551073543\n",
        " Path Cost:  0.443050322332\n",
        "Skipping  551073543\n",
        "Trial:  33\n",
        "perimeter        :  0.816754058836\n",
        "ucs3mono_explored:  430\n",
        "Path Found:  552544356 -> 551073543\n",
        " Path Cose:  0.0932987029104\n",
        "Path Found: "
       ]
      },
      {
       "output_type": "stream",
       "stream": "stdout",
       "text": [
        " 552544356 -> 560602429\n",
        " Path Cose:  0.45089171102\n",
        "ucs3bi_explored  :  479\n",
        "Path Found:  552544356  ->  551073543\n",
        " Path Cose:  0.0812923947449\n",
        "Path Found: "
       ]
      },
      {
       "output_type": "stream",
       "stream": "stdout",
       "text": [
        " 560602429  ->  551073543\n",
        " Path Cose:  0.399524655024\n",
        "ucs3tri_explored :  547\n",
        "Path Found: "
       ]
      },
      {
       "output_type": "stream",
       "stream": "stdout",
       "text": [
        " 1904288942  ->  551074416\n",
        " Path Cost:  0.15160888368\n",
        "Skipping  551074416\n",
        "Path Found: "
       ]
      },
      {
       "output_type": "stream",
       "stream": "stdout",
       "text": [
        " 1117527794  ->  1904288942\n",
        " Path Cost:  0.708698400808\n",
        "Trial:  34\n",
        "perimeter        :  0.877535364997\n",
        "ucs3mono_explored:  1104\n",
        "Path Found:  551074416 -> 1904288942\n",
        " Path Cose:  0.135030283102\n",
        "Path Found: "
       ]
      },
      {
       "output_type": "stream",
       "stream": "stdout",
       "text": [
        " 1904288942 -> 1117527794\n",
        " Path Cose:  0.708698400808\n",
        "ucs3bi_explored  :  2016\n",
        "Path Found:  551074416  ->  1904288942\n",
        " Path Cose:  0.135030283102\n",
        "Path Found: "
       ]
      },
      {
       "output_type": "stream",
       "stream": "stdout",
       "text": [
        " 1904288942  ->  1117527794\n",
        " Path Cose:  0.681262402004\n",
        "ucs3tri_explored :  992\n",
        "Path Found: "
       ]
      },
      {
       "output_type": "stream",
       "stream": "stdout",
       "text": [
        " 2071293672  ->  560605710\n",
        " Path Cost:  0.171675233756\n",
        "Skipping  560605710\n",
        "Path Found: "
       ]
      },
      {
       "output_type": "stream",
       "stream": "stdout",
       "text": [
        " 546378133  ->  2071293672\n",
        " Path Cost:  0.384568724681\n",
        "Trial:  35\n",
        "perimeter        :  0.808888010487\n",
        "ucs3mono_explored:  398\n",
        "Path Found:  2071293672 -> 560605710\n",
        " Path Cose:  0.100287354018\n",
        "Path Found: "
       ]
      },
      {
       "output_type": "stream",
       "stream": "stdout",
       "text": [
        " 2071293672 -> 546378133\n",
        " Path Cose:  0.384568724681\n",
        "ucs3bi_explored  :  548\n",
        "Path Found:  2071293672  ->  560605710\n",
        " Path Cose:  0.100287354018\n",
        "Path Found: "
       ]
      },
      {
       "output_type": "stream",
       "stream": "stdout",
       "text": [
        " 546378133  ->  2071293672\n",
        " Path Cose:  0.37566811866\n",
        "ucs3tri_explored :  281\n",
        "Path Found: "
       ]
      },
      {
       "output_type": "stream",
       "stream": "stdout",
       "text": [
        " 552540440  ->  553498034\n",
        " Path Cost:  0.600506920751\n",
        "Path Found:  1874844463  ->  553498034\n",
        " Path Cost:  0.0411674919362\n",
        "Skipping  553498034\n",
        "Trial:  36\n",
        "perimeter        :  0.898140564123\n",
        "ucs3mono_explored:  1120\n",
        "Path Found:  1874844463 -> 553498034\n",
        " Path Cose:  0.0411674919362\n",
        "Path Found: "
       ]
      },
      {
       "output_type": "stream",
       "stream": "stdout",
       "text": [
        " 552540440 -> 1874844463\n",
        " Path Cose:  0.487036027242\n",
        "ucs3bi_explored  :  395\n",
        "Path Found:  1874844463  ->  553498034\n",
        " Path Cose:  0.0390624759352\n",
        "Path Found: "
       ]
      },
      {
       "output_type": "stream",
       "stream": "stdout",
       "text": [
        " 552540440  ->  553498034\n",
        " Path Cose:  0.498259914247\n",
        "ucs3tri_explored :  399\n",
        "Path Found: "
       ]
      },
      {
       "output_type": "stream",
       "stream": "stdout",
       "text": [
        " 1874881162  ->  550915267\n",
        " Path Cost:  0.170887288235\n",
        "Skipping  550915267\n",
        "Not all points found, explored:  80\n",
        "Not all points found, explored: "
       ]
      },
      {
       "output_type": "stream",
       "stream": "stdout",
       "text": [
        " 425\n",
        "Path Found: "
       ]
      },
      {
       "output_type": "stream",
       "stream": "stdout",
       "text": [
        " 523110750  ->  551074761\n",
        " Path Cost:  0.561349767664\n",
        "Skipping  551074761\n",
        "Path Found: "
       ]
      },
      {
       "output_type": "stream",
       "stream": "stdout",
       "text": [
        " 560217432  ->  551074761\n",
        " Path Cost:  0.310929025525\n",
        "Trial:  37\n",
        "perimeter        :  0.833956214592\n",
        "ucs3mono_explored:  1324\n",
        "Path Found: "
       ]
      },
      {
       "output_type": "stream",
       "stream": "stdout",
       "text": [
        " 551074761 -> 523110750\n",
        " Path Cose:  0.453731348753\n",
        "Path Found: "
       ]
      },
      {
       "output_type": "stream",
       "stream": "stdout",
       "text": [
        " 551074761 -> 560217432\n",
        " Path Cose:  0.310929025525\n",
        "ucs3bi_explored  :  934\n",
        "Path Found: "
       ]
      },
      {
       "output_type": "stream",
       "stream": "stdout",
       "text": [
        " 551074761  ->  560217432\n",
        " Path Cose:  0.291314240465\n",
        "Path Found: "
       ]
      },
      {
       "output_type": "stream",
       "stream": "stdout",
       "text": [
        " 551074761  ->  523110750\n",
        " Path Cose:  0.453731348753\n",
        "ucs3tri_explored :  783\n",
        "Path Found: "
       ]
      },
      {
       "output_type": "stream",
       "stream": "stdout",
       "text": [
        " 546641310  ->  69576855\n",
        " Path Cost:  0.203611652534\n",
        "Skipping  69576855\n",
        "Not all points found, explored:  41\n",
        "Path Found: "
       ]
      },
      {
       "output_type": "stream",
       "stream": "stdout",
       "text": [
        " 1926653542  ->  1926653459\n",
        " Path Cost:  0.51060451619\n",
        "Path Found:  2277872432  ->  1926653459\n",
        " Path Cost:  0.0474410706117\n",
        "Skipping  1926653459\n",
        "Trial:  38\n",
        "perimeter        :  0.827883087144\n",
        "ucs3mono_explored:  844\n",
        "Path Found:  2277872432 -> 1926653459\n",
        " Path Cose:  0.0474410706117\n",
        "Path Found: "
       ]
      },
      {
       "output_type": "stream",
       "stream": "stdout",
       "text": [
        " 1926653542 -> 2277872432\n",
        " Path Cose:  0.536746937475\n",
        "ucs3bi_explored  :  363\n",
        "Path Found:  1926653459  ->  2277872432\n",
        " Path Cose:  0.0405238842698\n",
        "Path Found: "
       ]
      },
      {
       "output_type": "stream",
       "stream": "stdout",
       "text": [
        " 1926653542  ->  1926653459\n",
        " Path Cose:  0.479708965724\n",
        "ucs3tri_explored :  319\n",
        "Path Found: "
       ]
      },
      {
       "output_type": "stream",
       "stream": "stdout",
       "text": [
        " 546591282  ->  69199026\n",
        " Path Cost:  0.646696842071\n",
        "Skipping  69199026\n",
        "Not all points found, explored:  426\n",
        "Path Found: "
       ]
      },
      {
       "output_type": "stream",
       "stream": "stdout",
       "text": [
        " 551720532  ->  552542982\n",
        " Path Cost:  0.217422054818\n",
        "Skipping  552542982\n",
        "Not all points found, explored:  248\n",
        "Path Found: "
       ]
      },
      {
       "output_type": "stream",
       "stream": "stdout",
       "text": [
        " 1005008495  ->  551077369\n",
        " Path Cost:  0.164171981333\n",
        "Skipping  551077369\n",
        "Path Found: "
       ]
      },
      {
       "output_type": "stream",
       "stream": "stdout",
       "text": [
        " 1029247010  ->  1005008495\n",
        " Path Cost:  0.468338308341\n",
        "Trial:  39\n",
        "perimeter        :  0.922473748914\n",
        "ucs3mono_explored:  1006\n",
        "Path Found:  1005008495 -> 551077369\n",
        " Path Cose:  0.14709961362\n",
        "Path Found: "
       ]
      },
      {
       "output_type": "stream",
       "stream": "stdout",
       "text": [
        " 1005008495 -> 1029247010\n",
        " Path Cose:  0.468338308341\n",
        "ucs3bi_explored  :  1244\n",
        "Path Found:  1005008495  ->  551077369\n",
        " Path Cose:  0.14709961362\n",
        "Path Found: "
       ]
      },
      {
       "output_type": "stream",
       "stream": "stdout",
       "text": [
        " 1005008495  ->  1029247010\n",
        " Path Cose:  0.443039612377\n",
        "ucs3tri_explored :  515\n",
        "Path Found: "
       ]
      },
      {
       "output_type": "stream",
       "stream": "stdout",
       "text": [
        " 551073731  ->  551077082\n",
        " Path Cost:  0.338579951302\n",
        "Skipping  551077082\n",
        "Path Found:  551077000  ->  551077082\n",
        " Path Cost:  0.245957061853\n",
        "Trial:  40\n",
        "perimeter        :  0.629341047341\n",
        "ucs3mono_explored:  919\n",
        "Path Found: "
       ]
      },
      {
       "output_type": "stream",
       "stream": "stdout",
       "text": [
        " 551077082 -> 551073731\n",
        " Path Cose:  0.320027743058\n",
        "Path Found: "
       ]
      },
      {
       "output_type": "stream",
       "stream": "stdout",
       "text": [
        " 551077082 -> 551077000\n",
        " Path Cose:  0.245957061853\n",
        "ucs3bi_explored  :  611\n",
        "Path Found: "
       ]
      },
      {
       "output_type": "stream",
       "stream": "stdout",
       "text": [
        " 551077082  ->  551077000\n",
        " Path Cose:  0.233358676665\n",
        "Path Found: "
       ]
      },
      {
       "output_type": "stream",
       "stream": "stdout",
       "text": [
        " 551077082  ->  551073731\n",
        " Path Cose:  0.320027743058\n",
        "ucs3tri_explored :  438\n",
        "Path Found: "
       ]
      },
      {
       "output_type": "stream",
       "stream": "stdout",
       "text": [
        " 553914810  ->  551076967\n",
        " Path Cost:  0.918599757439\n",
        "Skipping  551076967\n",
        "Path Found:  551076898  ->  551076967\n",
        " Path Cost:  0.0631220408614\n",
        "Trial:  41\n",
        "perimeter        :  0.710949372837\n",
        "ucs3mono_explored:  1079\n",
        "Path Found:  551076967 -> 551076898\n",
        " Path Cose:  0.0631220408614\n",
        "Path Found: "
       ]
      },
      {
       "output_type": "stream",
       "stream": "stdout",
       "text": [
        " 553914810 -> 551076967\n",
        " Path Cose:  0.683573457703\n",
        "ucs3bi_explored  :  1000\n",
        "Path Found:  551076898  ->  551076967\n",
        " Path Cose:  0.0576758368539\n",
        "Path Found: "
       ]
      },
      {
       "output_type": "stream",
       "stream": "stdout",
       "text": [
        " 553914810  ->  551076967\n",
        " Path Cose:  0.683573457703\n",
        "ucs3tri_explored :  1000\n",
        "Path Found: "
       ]
      },
      {
       "output_type": "stream",
       "stream": "stdout",
       "text": [
        " 560605877  ->  560605711\n",
        " Path Cost:  0.125263859438\n",
        "Path Found:  315320050  ->  560605711\n",
        " Path Cost:  0.319590182108\n",
        "Skipping  560605711\n",
        "Trial:  42\n",
        "perimeter        :  0.493552842402\n",
        "ucs3mono_explored:  311\n",
        "Path Found: "
       ]
      },
      {
       "output_type": "stream",
       "stream": "stdout",
       "text": [
        " 560605877 -> 560605711\n",
        " Path Cose:  0.125263859438\n",
        "Path Found:  315320050 -> 560605877\n",
        " Path Cose:  0.24603002466\n",
        "ucs3bi_explored  :  207\n",
        "Path Found:  560605877  ->  560605711\n",
        " Path Cose:  0.0389302390468\n",
        "Path Found: "
       ]
      },
      {
       "output_type": "stream",
       "stream": "stdout",
       "text": [
        " 315320050  ->  560605711\n",
        " Path Cose:  0.243092322877\n",
        "ucs3tri_explored :  256\n",
        "Path Found: "
       ]
      },
      {
       "output_type": "stream",
       "stream": "stdout",
       "text": [
        " 1520334618  ->  1926653835\n",
        " Path Cost:  0.139425547355\n",
        "Skipping  1926653835\n",
        "Path Found: "
       ]
      },
      {
       "output_type": "stream",
       "stream": "stdout",
       "text": [
        " 552968708  ->  560216543\n",
        " Path Cost:  0.636078349222\n",
        "Path Found:  523202269  ->  560216543\n",
        " Path Cost:  0.145318729875\n",
        "Skipping  560216543\n",
        "Trial:  43\n",
        "perimeter        :  0.991885229754\n",
        "ucs3mono_explored:  586\n",
        "Path Found: "
       ]
      },
      {
       "output_type": "stream",
       "stream": "stdout",
       "text": [
        " 523202269 -> 560216543\n",
        " Path Cose:  0.145318729875\n",
        "Path Found: "
       ]
      },
      {
       "output_type": "stream",
       "stream": "stdout",
       "text": [
        " 523202269 -> 552968708\n",
        " Path Cose:  0.575309701029\n",
        "ucs3bi_explored  :  491\n",
        "Path Found:  560216543  ->  523202269\n",
        " Path Cose:  0.0810626431401\n",
        "Path Found: "
       ]
      },
      {
       "output_type": "stream",
       "stream": "stdout",
       "text": [
        " 560216543  ->  552968708\n",
        " Path Cose:  0.510776909117\n",
        "ucs3tri_explored :  472\n",
        "Path Found: "
       ]
      },
      {
       "output_type": "stream",
       "stream": "stdout",
       "text": [
        " 1904288993  ->  560602245\n",
        " Path Cost:  0.399764590405\n",
        "Skipping  560602245\n",
        "Not all points found, explored:  888\n",
        "Path Found: "
       ]
      },
      {
       "output_type": "stream",
       "stream": "stdout",
       "text": [
        " 1927477566  ->  1926653801\n",
        " Path Cost:  0.180873632933\n",
        "Skipping "
       ]
      },
      {
       "output_type": "stream",
       "stream": "stdout",
       "text": [
        " 1926653801\n",
        "Not all points found, explored:  469\n",
        "Path Found: "
       ]
      },
      {
       "output_type": "stream",
       "stream": "stdout",
       "text": [
        " 551077502  ->  523110827\n",
        " Path Cost:  0.629261203163\n",
        "Skipping  523110827\n",
        "Not all points found, explored:  1672\n",
        "Path Found: "
       ]
      },
      {
       "output_type": "stream",
       "stream": "stdout",
       "text": [
        " 1117527855  ->  558670804\n",
        " Path Cost:  0.76089405568\n",
        "Skipping  558670804\n",
        "Not all points found, explored:  507\n",
        "Path Found: "
       ]
      },
      {
       "output_type": "stream",
       "stream": "stdout",
       "text": [
        " 552540007  ->  560604323\n",
        " Path Cost:  0.176356382031\n",
        "Path Found:  2071293677  ->  552540007\n",
        " Path Cost:  0.274799928148\n",
        "Skipping  560604323\n",
        "Trial:  44\n",
        "perimeter        :  0.454186656223\n",
        "ucs3mono_explored:  297\n",
        "Path Found:  2071293677 -> 552540007\n",
        " Path Cose:  0.215886636098\n",
        "Path Found: "
       ]
      },
      {
       "output_type": "stream",
       "stream": "stdout",
       "text": [
        " 552540007 -> 560604323\n",
        " Path Cose:  0.176356382031\n",
        "ucs3bi_explored  :  193\n",
        "Path Found:  552540007  ->  560604323\n",
        " Path Cose:  0.143412621935\n",
        "Path Found:  2071293677  ->  552540007\n",
        " Path Cose:  0.215886636098\n",
        "ucs3tri_explored :  193\n",
        "Path Found: "
       ]
      },
      {
       "output_type": "stream",
       "stream": "stdout",
       "text": [
        " 998987485  ->  974004253\n",
        " Path Cost:  0.2627670475\n",
        "Path Found: "
       ]
      },
      {
       "output_type": "stream",
       "stream": "stdout",
       "text": [
        " 539792467  ->  974004253\n",
        " Path Cost:  0.481830074655\n",
        "Skipping  974004253\n",
        "Trial:  45\n",
        "perimeter        :  0.956052436406\n",
        "ucs3mono_explored:  1307\n",
        "Path Found: "
       ]
      },
      {
       "output_type": "stream",
       "stream": "stdout",
       "text": [
        " 998987485 -> 974004253\n",
        " Path Cose:  0.2627670475\n",
        "Path Found: "
       ]
      },
      {
       "output_type": "stream",
       "stream": "stdout",
       "text": [
        " 539792467 -> 998987485\n",
        " Path Cose:  0.484407454455\n",
        "ucs3bi_explored  :  748\n",
        "Path Found: "
       ]
      },
      {
       "output_type": "stream",
       "stream": "stdout",
       "text": [
        " 998987485  ->  974004253\n",
        " Path Cose:  0.250462530951\n",
        "Path Found: "
       ]
      },
      {
       "output_type": "stream",
       "stream": "stdout",
       "text": [
        " 539792467  ->  974004253\n",
        " Path Cose:  0.442563973903\n",
        "ucs3tri_explored :  695\n",
        "Path Found: "
       ]
      },
      {
       "output_type": "stream",
       "stream": "stdout",
       "text": [
        " 1962660611  ->  1962660296\n",
        " Path Cost:  0.209730872289\n",
        "Skipping  1962660296\n",
        "Not all points found, explored:  248\n",
        "Path Found: "
       ]
      },
      {
       "output_type": "stream",
       "stream": "stdout",
       "text": [
        " 1029247031  ->  560605713\n",
        " Path Cost:  0.475992012909\n",
        "Skipping  560605713\n",
        "Not all points found, explored:  807\n",
        "Path Found: "
       ]
      },
      {
       "output_type": "stream",
       "stream": "stdout",
       "text": [
        " 551074958  ->  552542418\n",
        " Path Cost:  0.0853404948877\n",
        "Path Found:  552540176  ->  552542418\n",
        " Path Cost:  0.275238911986\n",
        "Skipping  552542418\n",
        "Trial:  46\n",
        "perimeter        :  0.391849058268\n",
        "ucs3mono_explored:  204\n",
        "Path Found:  551074958 -> 552542418\n",
        " Path Cose:  0.0853404948877\n",
        "Path Found: "
       ]
      },
      {
       "output_type": "stream",
       "stream": "stdout",
       "text": [
        " 551074958 -> 552540176\n",
        " Path Cose:  0.298789724409\n",
        "ucs3bi_explored  :  319\n",
        "Path Found:  551074958  ->  552542418\n",
        " Path Cose:  0.0826253578263\n",
        "Path Found: "
       ]
      },
      {
       "output_type": "stream",
       "stream": "stdout",
       "text": [
        " 552540176  ->  552542418\n",
        " Path Cose:  0.240526869036\n",
        "ucs3tri_explored :  261\n",
        "Path Found: "
       ]
      },
      {
       "output_type": "stream",
       "stream": "stdout",
       "text": [
        " 1962660446  ->  767400192\n",
        " Path Cost:  0.928558042324\n",
        "Path Found:  1927477543  ->  767400192\n",
        " Path Cost:  0.19087037456\n",
        "Skipping  767400192\n",
        "Trial:  47\n",
        "perimeter        :  0.64800549369\n",
        "ucs3mono_explored:  834\n",
        "Path Found: "
       ]
      },
      {
       "output_type": "stream",
       "stream": "stdout",
       "text": [
        " 1927477543 -> 767400192\n",
        " Path Cose:  0.19087037456\n",
        "Path Found: "
       ]
      },
      {
       "output_type": "stream",
       "stream": "stdout",
       "text": [
        " 1927477543 -> 1962660446\n",
        " Path Cose:  1.11119953281\n",
        "ucs3bi_explored  :  1184\n",
        "Path Found:  767400192  ->  1927477543\n",
        " Path Cose:  0.184608178221\n",
        "Path Found: "
       ]
      },
      {
       "output_type": "stream",
       "stream": "stdout",
       "text": [
        " 767400192  ->  1962660446\n",
        " Path Cose:  0.915142838138\n",
        "ucs3tri_explored :  953\n",
        "Path Found: "
       ]
      },
      {
       "output_type": "stream",
       "stream": "stdout",
       "text": [
        " 557990717  ->  69168310\n",
        " Path Cost:  0.351319543478\n",
        "Path Found: "
       ]
      },
      {
       "output_type": "stream",
       "stream": "stdout",
       "text": [
        " 1029155079  ->  557990717\n",
        " Path Cost:  0.382173053081\n",
        "Skipping  69168310\n",
        "Trial:  48\n",
        "perimeter        :  0.969763772017\n",
        "ucs3mono_explored:  1320\n",
        "Path Found: "
       ]
      },
      {
       "output_type": "stream",
       "stream": "stdout",
       "text": [
        " 1029155079 -> 557990717\n",
        " Path Cose:  0.340880876428\n",
        "Path Found: "
       ]
      },
      {
       "output_type": "stream",
       "stream": "stdout",
       "text": [
        " 557990717 -> 69168310\n",
        " Path Cose:  0.351319543478\n",
        "ucs3bi_explored  :  1024\n",
        "Path Found: "
       ]
      },
      {
       "output_type": "stream",
       "stream": "stdout",
       "text": [
        " 69168310  ->  557990717\n",
        " Path Cose:  0.291849144694\n",
        "Path Found:  1029155079  ->  557990717\n",
        " Path Cose:  0.340880876428\n",
        "ucs3tri_explored :  377\n",
        "Path Found: "
       ]
      },
      {
       "output_type": "stream",
       "stream": "stdout",
       "text": [
        " 560217463  ->  546818556\n",
        " Path Cost:  0.272901154805\n",
        "Path Found: "
       ]
      },
      {
       "output_type": "stream",
       "stream": "stdout",
       "text": [
        " 1904288953  ->  560217463\n",
        " Path Cost:  0.422996097516\n",
        "Skipping  546818556\n",
        "Trial:  49\n",
        "perimeter        :  0.993571214685\n",
        "ucs3mono_explored:  1385\n",
        "Path Found: "
       ]
      },
      {
       "output_type": "stream",
       "stream": "stdout",
       "text": [
        " 560217463 -> 1904288953\n",
        " Path Cose:  0.415139003326\n",
        "Path Found: "
       ]
      },
      {
       "output_type": "stream",
       "stream": "stdout",
       "text": [
        " 560217463 -> 546818556\n",
        " Path Cose:  0.272901154805\n",
        "ucs3bi_explored  :  797\n",
        "Path Found: "
       ]
      },
      {
       "output_type": "stream",
       "stream": "stdout",
       "text": [
        " 546818556  ->  560217463\n",
        " Path Cose:  0.251832417702\n",
        "Path Found: "
       ]
      },
      {
       "output_type": "stream",
       "stream": "stdout",
       "text": [
        " 560217463  ->  1904288953\n",
        " Path Cose:  0.415139003326\n",
        "ucs3tri_explored :  736\n"
       ]
      }
     ],
     "prompt_number": 158
    },
    {
     "cell_type": "code",
     "collapsed": false,
     "input": [
      "df = pd.DataFrame(data)"
     ],
     "language": "python",
     "metadata": {},
     "outputs": [],
     "prompt_number": 159
    },
    {
     "cell_type": "code",
     "collapsed": false,
     "input": [
      "df"
     ],
     "language": "python",
     "metadata": {},
     "outputs": [
      {
       "html": [
        "<pre>\n",
        "&ltclass 'pandas.core.frame.DataFrame'&gt\n",
        "Int64Index: 50 entries, 0 to 49\n",
        "Data columns (total 5 columns):\n",
        "perimeter    50  non-null values\n",
        "points       50  non-null values\n",
        "ucs3bi       50  non-null values\n",
        "ucs3mono     50  non-null values\n",
        "ucs3tri      50  non-null values\n",
        "dtypes: float64(1), int64(3), object(1)\n",
        "</pre>"
       ],
       "output_type": "pyout",
       "prompt_number": 160,
       "text": [
        "    perimeter                                             points  ucs3bi  \\\n",
        "0    0.835290  [<search.State instance at 0x8a68cf8>, <search...     751   \n",
        "1    0.398032  [<search.State instance at 0x959a3b0>, <search...     749   \n",
        "2    0.679681  [<search.State instance at 0x959a2d8>, <search...     534   \n",
        "3    0.210320  [<search.State instance at 0x85407e8>, <search...     117   \n",
        "4    0.684885  [<search.State instance at 0x8a594d0>, <search...     383   \n",
        "5    0.915166  [<search.State instance at 0x66613b0>, <search...     319   \n",
        "6    0.702133  [<search.State instance at 0x5f52b48>, <search...     738   \n",
        "7    0.953984  [<search.State instance at 0x9b76050>, <search...    2338   \n",
        "8    0.827223  [<search.State instance at 0x8a487e8>, <search...     455   \n",
        "9    0.956423  [<search.State instance at 0x653ab00>, <search...     592   \n",
        "10   0.750520  [<search.State instance at 0x959a440>, <search...     629   \n",
        "11   0.709218  [<search.State instance at 0x60f9c20>, <search...     576   \n",
        "12   0.752251  [<search.State instance at 0x8a44518>, <search...     713   \n",
        "13   0.857445  [<search.State instance at 0x95aaa70>, <search...     215   \n",
        "14   0.711102  [<search.State instance at 0x6a38368>, <search...     555   \n",
        "15   0.954624  [<search.State instance at 0x8b5b5a8>, <search...    1469   \n",
        "16   0.631523  [<search.State instance at 0x8a9d998>, <search...     785   \n",
        "17   0.634946  [<search.State instance at 0x96830e0>, <search...     412   \n",
        "18   0.960821  [<search.State instance at 0x6295ea8>, <search...     668   \n",
        "19   0.685910  [<search.State instance at 0x8a4c3f8>, <search...     661   \n",
        "20   0.680482  [<search.State instance at 0x85637e8>, <search...     234   \n",
        "21   0.659923  [<search.State instance at 0x675d680>, <search...     254   \n",
        "22   0.832135  [<search.State instance at 0x8537098>, <search...     387   \n",
        "23   0.927228  [<search.State instance at 0x8a482d8>, <search...     478   \n",
        "24   0.619073  [<search.State instance at 0x85513b0>, <search...     300   \n",
        "25   0.645291  [<search.State instance at 0x95823b0>, <search...     342   \n",
        "26   0.895513  [<search.State instance at 0x62c7488>, <search...     607   \n",
        "27   0.810280  [<search.State instance at 0x8b5b878>, <search...     697   \n",
        "28   0.752762  [<search.State instance at 0x8a68638>, <search...    1242   \n",
        "29   0.533837  [<search.State instance at 0x95afcb0>, <search...     263   \n",
        "30   0.829279  [<search.State instance at 0x62c7440>, <search...     233   \n",
        "31   0.959057  [<search.State instance at 0x698b200>, <search...     418   \n",
        "32   0.689233  [<search.State instance at 0x8a59998>, <search...     503   \n",
        "33   0.816754  [<search.State instance at 0x62c7560>, <search...     479   \n",
        "34   0.877535  [<search.State instance at 0x9582b90>, <search...    2016   \n",
        "35   0.808888  [<search.State instance at 0x89cf638>, <search...     548   \n",
        "36   0.898141  [<search.State instance at 0x67c3cf8>, <search...     395   \n",
        "37   0.833956  [<search.State instance at 0x959a6c8>, <search...     934   \n",
        "38   0.827883  [<search.State instance at 0x850dcf8>, <search...     363   \n",
        "39   0.922474  [<search.State instance at 0x8a68ab8>, <search...    1244   \n",
        "40   0.629341  [<search.State instance at 0x8bc4098>, <search...     611   \n",
        "41   0.710949  [<search.State instance at 0x9666680>, <search...    1000   \n",
        "42   0.493553  [<search.State instance at 0x6a381b8>, <search...     207   \n",
        "43   0.991885  [<search.State instance at 0x8a48320>, <search...     491   \n",
        "44   0.454187  [<search.State instance at 0x89cf5f0>, <search...     193   \n",
        "45   0.956052  [<search.State instance at 0x675da28>, <search...     748   \n",
        "46   0.391849  [<search.State instance at 0x6706b90>, <search...     319   \n",
        "47   0.648005  [<search.State instance at 0x6706f38>, <search...    1184   \n",
        "48   0.969764  [<search.State instance at 0x8551a70>, <search...    1024   \n",
        "49   0.993571  [<search.State instance at 0x8a485f0>, <search...     797   \n",
        "\n",
        "    ucs3mono  ucs3tri  \n",
        "0        435      258  \n",
        "1        381      309  \n",
        "2        377      336  \n",
        "3        153       73  \n",
        "4        327      429  \n",
        "5        768      319  \n",
        "6       1040      685  \n",
        "7        896      800  \n",
        "8        709      225  \n",
        "9        817      693  \n",
        "10       986      581  \n",
        "11       848      355  \n",
        "12      1000      340  \n",
        "13       331      223  \n",
        "14       616      252  \n",
        "15      1093      595  \n",
        "16       881      414  \n",
        "17       357      369  \n",
        "18       903      678  \n",
        "19      1221      675  \n",
        "20       672      194  \n",
        "21       505      294  \n",
        "22       505      278  \n",
        "23       981      493  \n",
        "24       307      233  \n",
        "25       470      345  \n",
        "26       652      283  \n",
        "27       773      329  \n",
        "28      1410      459  \n",
        "29       717      280  \n",
        "30       326      160  \n",
        "31       583      320  \n",
        "32       848      306  \n",
        "33       430      547  \n",
        "34      1104      992  \n",
        "35       398      281  \n",
        "36      1120      399  \n",
        "37      1324      783  \n",
        "38       844      319  \n",
        "39      1006      515  \n",
        "40       919      438  \n",
        "41      1079     1000  \n",
        "42       311      256  \n",
        "43       586      472  \n",
        "44       297      193  \n",
        "45      1307      695  \n",
        "46       204      261  \n",
        "47       834      953  \n",
        "48      1320      377  \n",
        "49      1385      736  "
       ]
      }
     ],
     "prompt_number": 160
    },
    {
     "cell_type": "code",
     "collapsed": false,
     "input": [
      "dff = df[['ucs3bi','ucs3mono','ucs3tri']]"
     ],
     "language": "python",
     "metadata": {},
     "outputs": [],
     "prompt_number": 161
    },
    {
     "cell_type": "code",
     "collapsed": false,
     "input": [
      "df.to_csv(\"data_50.csv\")"
     ],
     "language": "python",
     "metadata": {},
     "outputs": [],
     "prompt_number": 162
    },
    {
     "cell_type": "code",
     "collapsed": false,
     "input": [
      "dff.plot(); plt.legend(loc='best')"
     ],
     "language": "python",
     "metadata": {},
     "outputs": [
      {
       "output_type": "pyout",
       "prompt_number": 163,
       "text": [
        "<matplotlib.legend.Legend at 0x9b65d90>"
       ]
      },
      {
       "output_type": "display_data",
       "png": "[encoded data removed]",
       "text": [
        "<matplotlib.figure.Figure at 0x9b65dd0>"
       ]
      }
     ],
     "prompt_number": 163
    },
    {
     "cell_type": "code",
     "collapsed": false,
     "input": [
      "df['perimeter'].plot(); plt.legend(loc='best')"
     ],
     "language": "python",
     "metadata": {},
     "outputs": [
      {
       "output_type": "pyout",
       "prompt_number": 164,
       "text": [
        "<matplotlib.legend.Legend at 0x9691d10>"
       ]
      },
      {
       "output_type": "display_data",
       "png": "[encoded data removed]",
       "text": [
        "<matplotlib.figure.Figure at 0x96918d0>"
       ]
      }
     ],
     "prompt_number": 164
    },
    {
     "cell_type": "code",
     "collapsed": false,
     "input": [],
     "language": "python",
     "metadata": {},
     "outputs": []
    },
    {
     "cell_type": "code",
     "collapsed": false,
     "input": [],
     "language": "python",
     "metadata": {},
     "outputs": []
    }
   ],
   "metadata": {}
  }
 ]
}