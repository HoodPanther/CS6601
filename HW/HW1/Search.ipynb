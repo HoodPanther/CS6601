{
 "metadata": {
  "name": "Search"
 },
 "nbformat": 3,
 "nbformat_minor": 0,
 "worksheets": [
  {
   "cells": [
    {
     "cell_type": "heading",
     "level": 1,
     "metadata": {},
     "source": [
      "Search"
     ]
    },
    {
     "cell_type": "heading",
     "level": 2,
     "metadata": {},
     "source": [
      "Author: Ruffin White"
     ]
    },
    {
     "cell_type": "markdown",
     "metadata": {},
     "source": [
      "Import search functions"
     ]
    },
    {
     "cell_type": "code",
     "collapsed": false,
     "input": [
      "from search import *"
     ],
     "language": "python",
     "metadata": {},
     "outputs": [],
     "prompt_number": 1
    },
    {
     "cell_type": "markdown",
     "metadata": {},
     "source": [
      "Setup environment"
     ]
    },
    {
     "cell_type": "code",
     "collapsed": false,
     "input": [
      "only_roads = True\n",
      "graph = read_osm('atlanta.osm', only_roads)\n",
      "\n",
      "#pointA_num = 316638659\n",
      "#pointB_num = 316638659\n",
      "#pointC_num = 316638659\n",
      "\n",
      "pointA_num = random.randint(0, len(graph.nodes()))\n",
      "pointB_num = random.randint(0, len(graph.nodes()))\n",
      "pointC_num = random.randint(0, len(graph.nodes()))\n",
      "\n",
      "pointA     = graph.node[graph.nodes()[pointA_num]]\n",
      "pointB     = graph.node[graph.nodes()[pointB_num]]\n",
      "pointC     = graph.node[graph.nodes()[pointC_num]]\n",
      "\n",
      "print \"\\n\\n----- 6601 Grad AI: Seaching ATLANTA ------\\n\\n\"\n",
      "print \"NUMBER OF NODES: \", len(graph.nodes())\n",
      "print \"NUMBER OF EDGES: \", len(graph.edges())\n",
      "print \"point A:         \", pointA['data'].id\n",
      "print \"point B:         \", pointB['data'].id\n",
      "print \"point C:         \", pointC['data'].id"
     ],
     "language": "python",
     "metadata": {},
     "outputs": [
      {
       "output_type": "stream",
       "stream": "stdout",
       "text": [
        "\n",
        "\n",
        "----- 6601 Grad AI: Seaching ATLANTA ------\n",
        "\n",
        "\n",
        "NUMBER OF NODES:  12239\n",
        "NUMBER OF EDGES:  13168\n",
        "point A:          303165975\n",
        "point B:          1585252483\n",
        "point C:          1029155086\n"
       ]
      }
     ],
     "prompt_number": 4
    },
    {
     "cell_type": "heading",
     "level": 2,
     "metadata": {},
     "source": [
      "Breadth \f",
      "First Search"
     ]
    },
    {
     "cell_type": "code",
     "collapsed": false,
     "input": [
      "state = bfs(graph, State(pointA, None), State(pointB, None))\n",
      "if state != None:\n",
      "    backtrack(state, graph)\n",
      "print \"\\n\\n\"\n",
      "print \"Done!\""
     ],
     "language": "python",
     "metadata": {},
     "outputs": [
      {
       "ename": "KeyboardInterrupt",
       "evalue": "",
       "output_type": "pyerr",
       "traceback": [
        "\u001b[1;31m---------------------------------------------------------------------------\u001b[0m\n\u001b[1;31mKeyboardInterrupt\u001b[0m                         Traceback (most recent call last)",
        "\u001b[1;32m<ipython-input-5-77c641fa4f60>\u001b[0m in \u001b[0;36m<module>\u001b[1;34m()\u001b[0m\n\u001b[1;32m----> 1\u001b[1;33m \u001b[0mstate\u001b[0m \u001b[1;33m=\u001b[0m \u001b[0mbfs\u001b[0m\u001b[1;33m(\u001b[0m\u001b[0mgraph\u001b[0m\u001b[1;33m,\u001b[0m \u001b[0mState\u001b[0m\u001b[1;33m(\u001b[0m\u001b[0mpointA\u001b[0m\u001b[1;33m,\u001b[0m \u001b[0mNone\u001b[0m\u001b[1;33m)\u001b[0m\u001b[1;33m,\u001b[0m \u001b[0mState\u001b[0m\u001b[1;33m(\u001b[0m\u001b[0mpointB\u001b[0m\u001b[1;33m,\u001b[0m \u001b[0mNone\u001b[0m\u001b[1;33m)\u001b[0m\u001b[1;33m)\u001b[0m\u001b[1;33m\u001b[0m\u001b[0m\n\u001b[0m\u001b[0;32m      2\u001b[0m \u001b[1;32mif\u001b[0m \u001b[0mstate\u001b[0m \u001b[1;33m!=\u001b[0m \u001b[0mNone\u001b[0m\u001b[1;33m:\u001b[0m\u001b[1;33m\u001b[0m\u001b[0m\n\u001b[0;32m      3\u001b[0m     \u001b[0mbacktrack\u001b[0m\u001b[1;33m(\u001b[0m\u001b[0mstate\u001b[0m\u001b[1;33m,\u001b[0m \u001b[0mgraph\u001b[0m\u001b[1;33m)\u001b[0m\u001b[1;33m\u001b[0m\u001b[0m\n\u001b[0;32m      4\u001b[0m \u001b[1;32mprint\u001b[0m \u001b[1;34m\"\\n\\n\"\u001b[0m\u001b[1;33m\u001b[0m\u001b[0m\n\u001b[0;32m      5\u001b[0m \u001b[1;32mprint\u001b[0m \u001b[1;34m\"Done!\"\u001b[0m\u001b[1;33m\u001b[0m\u001b[0m\n",
        "\u001b[1;32m/user_home/w_Ruffin/git/CS6601/HW/HW1/search.pyc\u001b[0m in \u001b[0;36mbfs\u001b[1;34m(graph, start, goal)\u001b[0m\n\u001b[0;32m     60\u001b[0m        \u001b[1;32mfor\u001b[0m \u001b[0medge\u001b[0m \u001b[1;32min\u001b[0m \u001b[0mnetworkx\u001b[0m\u001b[1;33m.\u001b[0m\u001b[0medges\u001b[0m\u001b[1;33m(\u001b[0m\u001b[0mgraph\u001b[0m\u001b[1;33m,\u001b[0m \u001b[0mnode\u001b[0m\u001b[1;33m.\u001b[0m\u001b[0mnode\u001b[0m\u001b[1;33m[\u001b[0m\u001b[1;34m'data'\u001b[0m\u001b[1;33m]\u001b[0m\u001b[1;33m.\u001b[0m\u001b[0mid\u001b[0m\u001b[1;33m)\u001b[0m\u001b[1;33m:\u001b[0m\u001b[1;33m\u001b[0m\u001b[0m\n\u001b[0;32m     61\u001b[0m            \u001b[0mchild\u001b[0m \u001b[1;33m=\u001b[0m \u001b[0mState\u001b[0m\u001b[1;33m(\u001b[0m\u001b[0mgraph\u001b[0m\u001b[1;33m.\u001b[0m\u001b[0mnode\u001b[0m\u001b[1;33m[\u001b[0m\u001b[0medge\u001b[0m\u001b[1;33m[\u001b[0m\u001b[1;36m1\u001b[0m\u001b[1;33m]\u001b[0m\u001b[1;33m]\u001b[0m\u001b[1;33m,\u001b[0m \u001b[0mnode\u001b[0m\u001b[1;33m)\u001b[0m\u001b[1;33m\u001b[0m\u001b[0m\n\u001b[1;32m---> 62\u001b[1;33m            \u001b[1;32mif\u001b[0m \u001b[1;33m(\u001b[0m\u001b[0mchild\u001b[0m \u001b[1;32mnot\u001b[0m \u001b[1;32min\u001b[0m \u001b[0mexplored\u001b[0m\u001b[1;33m)\u001b[0m \u001b[1;32mand\u001b[0m \u001b[1;33m(\u001b[0m\u001b[0mchild\u001b[0m \u001b[1;32mnot\u001b[0m \u001b[1;32min\u001b[0m \u001b[0mfrontier\u001b[0m\u001b[1;33m)\u001b[0m\u001b[1;33m:\u001b[0m\u001b[1;33m\u001b[0m\u001b[0m\n\u001b[0m\u001b[0;32m     63\u001b[0m                \u001b[1;31m# HINT: Goal - Check\u001b[0m\u001b[1;33m\u001b[0m\u001b[1;33m\u001b[0m\u001b[0m\n\u001b[0;32m     64\u001b[0m                \u001b[1;32mif\u001b[0m \u001b[0mchild\u001b[0m \u001b[1;33m==\u001b[0m \u001b[0mgoal\u001b[0m\u001b[1;33m:\u001b[0m\u001b[1;33m\u001b[0m\u001b[0m\n",
        "\u001b[1;32m/user_home/w_Ruffin/git/CS6601/HW/HW1/search.pyc\u001b[0m in \u001b[0;36m__eq__\u001b[1;34m(self, other)\u001b[0m\n\u001b[0;32m     37\u001b[0m \u001b[1;33m\u001b[0m\u001b[0m\n\u001b[0;32m     38\u001b[0m     \u001b[1;32mdef\u001b[0m \u001b[0m__eq__\u001b[0m\u001b[1;33m(\u001b[0m\u001b[0mself\u001b[0m\u001b[1;33m,\u001b[0m \u001b[0mother\u001b[0m\u001b[1;33m)\u001b[0m\u001b[1;33m:\u001b[0m\u001b[1;33m\u001b[0m\u001b[0m\n\u001b[1;32m---> 39\u001b[1;33m         \u001b[1;32mif\u001b[0m \u001b[0misinstance\u001b[0m\u001b[1;33m(\u001b[0m\u001b[0mother\u001b[0m\u001b[1;33m,\u001b[0m \u001b[0mState\u001b[0m\u001b[1;33m)\u001b[0m\u001b[1;33m:\u001b[0m\u001b[1;33m\u001b[0m\u001b[0m\n\u001b[0m\u001b[0;32m     40\u001b[0m             \u001b[1;32mreturn\u001b[0m \u001b[0mself\u001b[0m\u001b[1;33m.\u001b[0m\u001b[0mnode\u001b[0m\u001b[1;33m[\u001b[0m\u001b[1;34m'data'\u001b[0m\u001b[1;33m]\u001b[0m\u001b[1;33m.\u001b[0m\u001b[0mid\u001b[0m \u001b[1;33m==\u001b[0m \u001b[0mother\u001b[0m\u001b[1;33m.\u001b[0m\u001b[0mnode\u001b[0m\u001b[1;33m[\u001b[0m\u001b[1;34m'data'\u001b[0m\u001b[1;33m]\u001b[0m\u001b[1;33m.\u001b[0m\u001b[0mid\u001b[0m\u001b[1;33m\u001b[0m\u001b[0m\n\u001b[0;32m     41\u001b[0m         \u001b[1;32mreturn\u001b[0m \u001b[0mNotImplemented\u001b[0m\u001b[1;33m\u001b[0m\u001b[0m\n",
        "\u001b[1;31mKeyboardInterrupt\u001b[0m: "
       ]
      }
     ],
     "prompt_number": 5
    },
    {
     "cell_type": "heading",
     "level": 2,
     "metadata": {},
     "source": [
      "Uniform Cost Search"
     ]
    },
    {
     "cell_type": "markdown",
     "metadata": {},
     "source": [
      "node := root, cost = 0\n",
      "frontier := priority queue containing node only\n",
      "explored := empty set\n",
      "    do\n",
      "        if frontier is empty\n",
      "            return failure\n",
      "        node := frontier.pop()\n",
      "        if node is goal\n",
      "            return solution\n",
      "        explored.add(node)\n",
      "        for each of node's neighbors n\n",
      "            if n is not in explored\n",
      "                if n is not in frontier\n",
      "                    frontier.add(n)\n",
      "                else if n is in frontier with higher cost\n",
      "                    replace existing node with n"
     ]
    },
    {
     "cell_type": "code",
     "collapsed": false,
     "input": [
      "\"\"\"\n",
      "Implements UCS on our GPS data\n",
      "\n",
      "see [1] Figure 3.11\n",
      "\"\"\"\n",
      "def ucs(graph, start, goal):\n",
      "    if start == goal:\n",
      "        print \"START === GOAL\"\n",
      "        return None\n",
      "    \n",
      "    frontier = [start]\n",
      "    explored = []\n",
      "    num_explored = 0\n",
      "    while len(frontier) > 0:\n",
      "        node = frontier.pop(0)\n",
      "        explored.append(node)\n",
      "        \n",
      "        edges = []\n",
      "        for edge in networkx.edges(graph, node.node['data'].id):\n",
      "            child = State(graph.node[edge[1]], node, node.cost)\n",
      "            child.cost += distance(node, child)\n",
      "            if (child not in explored) and (child not in frontier):\n",
      "                edges.append(child)\n",
      "        edges = sorted(edges, key=lambda x: x.cost)\n",
      "        for edge in edges:\n",
      "            child = edge\n",
      "            # HINT: Goal - Check\n",
      "            if child == goal:\n",
      "                print \"Goal found, explored: \", num_explored, \"\\n\\n\"\n",
      "                return child\n",
      "            else:\n",
      "                frontier.append(child)\n",
      "            num_explored = num_explored + 1\n",
      "    print \"No path found, explored: \", num_explored\n",
      "\n",
      "    return None"
     ],
     "language": "python",
     "metadata": {},
     "outputs": []
    },
    {
     "cell_type": "code",
     "collapsed": false,
     "input": [
      "state = ucs(graph, State(pointA, None), State(pointB, None))\n",
      "if state != None:\n",
      "    backtrack(state, graph)\n",
      "print \"\\n\\n\"\n",
      "print \"Done!\""
     ],
     "language": "python",
     "metadata": {},
     "outputs": []
    },
    {
     "cell_type": "code",
     "collapsed": false,
     "input": [],
     "language": "python",
     "metadata": {},
     "outputs": []
    }
   ],
   "metadata": {}
  }
 ]
}