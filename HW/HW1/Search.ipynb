{
 "metadata": {
  "name": "Search"
 },
 "nbformat": 3,
 "nbformat_minor": 0,
 "worksheets": [
  {
   "cells": [
    {
     "cell_type": "heading",
     "level": 1,
     "metadata": {},
     "source": [
      "Search"
     ]
    },
    {
     "cell_type": "heading",
     "level": 2,
     "metadata": {},
     "source": [
      "Author: Ruffin White"
     ]
    },
    {
     "cell_type": "markdown",
     "metadata": {},
     "source": [
      "Import search functions"
     ]
    },
    {
     "cell_type": "code",
     "collapsed": false,
     "input": [
      "from search import *"
     ],
     "language": "python",
     "metadata": {},
     "outputs": [],
     "prompt_number": 1
    },
    {
     "cell_type": "markdown",
     "metadata": {},
     "source": [
      "Setup environment"
     ]
    },
    {
     "cell_type": "code",
     "collapsed": false,
     "input": [
      "only_roads = True\n",
      "graph = read_osm('atlanta.osm', only_roads)\n",
      "\n",
      "pointA_num = graph.nodes().index(u'69121376')\n",
      "pointB_num = graph.nodes().index(u'560602179')\n",
      "pointC_num = graph.nodes().index(u'1418254999')\n",
      "\n",
      "#pointA_num = random.randint(0, len(graph.nodes()))\n",
      "#pointB_num = random.randint(0, len(graph.nodes()))\n",
      "#pointC_num = random.randint(0, len(graph.nodes()))\n",
      "\n",
      "pointA     = graph.node[graph.nodes()[pointA_num]]\n",
      "pointB     = graph.node[graph.nodes()[pointB_num]]\n",
      "pointC     = graph.node[graph.nodes()[pointC_num]]\n",
      "\n",
      "print \"\\n\\n----- 6601 Grad AI: Seaching ATLANTA ------\\n\\n\"\n",
      "print \"NUMBER OF NODES: \", len(graph.nodes())\n",
      "print \"NUMBER OF EDGES: \", len(graph.edges())\n",
      "print \"point A:         \", pointA['data'].id\n",
      "print \"point B:         \", pointB['data'].id\n",
      "print \"point C:         \", pointC['data'].id\n",
      "\n",
      "points = [State(pointA, None), State(pointB, None), State(pointC, None)]\n",
      "\n",
      "for i, point in enumerate(points):\n",
      "    points[i].seed = points[i]"
     ],
     "language": "python",
     "metadata": {},
     "outputs": [
      {
       "output_type": "stream",
       "stream": "stdout",
       "text": [
        "\n",
        "\n",
        "----- 6601 Grad AI: Seaching ATLANTA ------\n",
        "\n",
        "\n",
        "NUMBER OF NODES:  12239\n",
        "NUMBER OF EDGES:  13168\n",
        "point A:          69121376\n",
        "point B:          560602179\n",
        "point C:          1418254999\n"
       ]
      }
     ],
     "prompt_number": 31
    },
    {
     "cell_type": "code",
     "collapsed": false,
     "input": [
      "len(points)"
     ],
     "language": "python",
     "metadata": {},
     "outputs": [
      {
       "output_type": "pyout",
       "prompt_number": 32,
       "text": [
        "3"
       ]
      }
     ],
     "prompt_number": 32
    },
    {
     "cell_type": "heading",
     "level": 2,
     "metadata": {},
     "source": [
      "Breadth \f",
      "\n",
      "\n",
      "\n",
      "\n",
      "\n",
      "\n",
      "\n",
      "\n",
      "\n",
      "\n",
      "\n",
      "\n",
      "\n",
      "\n",
      "\n",
      "\n",
      "\n",
      "\n",
      "\n",
      "\n",
      "\n",
      "\n",
      "\n",
      "\n",
      "\n",
      "\n",
      "\n",
      "\n",
      "\n",
      "\n",
      "\n",
      "\n",
      "\n",
      "\n",
      "\n",
      "\n",
      "\n",
      "\n",
      "\n",
      "\n",
      "\n",
      "\n",
      "\n",
      "\n",
      "\n",
      "\n",
      "\n",
      "\n",
      "\n",
      "\n",
      "\n",
      "\n",
      "\n",
      "\n",
      "\n",
      "\n",
      "\n",
      "\n",
      "\n",
      "\n",
      "\n",
      "\n",
      "\n",
      "First Search"
     ]
    },
    {
     "cell_type": "code",
     "collapsed": false,
     "input": [
      "state = bfs(graph, State(pointA, None), State(pointB, None))\n",
      "if state != None:\n",
      "    backtrack(state, graph)\n",
      "print \"\\n\\n\"\n",
      "print \"Done!\""
     ],
     "language": "python",
     "metadata": {},
     "outputs": []
    },
    {
     "cell_type": "heading",
     "level": 2,
     "metadata": {},
     "source": [
      "1) Uniform Cost Search"
     ]
    },
    {
     "cell_type": "markdown",
     "metadata": {},
     "source": [
      "Implement Uniform Cost Search. As a distance function use the straight line distance be-\n",
      "tween the adjacent nodes."
     ]
    },
    {
     "cell_type": "code",
     "collapsed": false,
     "input": [
      "def ucs(graph, points):\n",
      "    if len(points)!=len(set(points)):\n",
      "        print \"START === GOAL\"\n",
      "        return None\n",
      "    \n",
      "    num_explored = 0\n",
      "    allPaths = []\n",
      "    for i, point in enumerate(points):\n",
      "        print \"Start: \", point.node['data'].id\n",
      "        otherPoints = copy.copy(points)\n",
      "        otherPoints.pop(i)\n",
      "        frontier = [point]\n",
      "        explored = []\n",
      "        paths = []\n",
      "        while len(frontier) > 0:\n",
      "            node = frontier.pop(0)\n",
      "            explored.append(node)\n",
      "            \n",
      "            #Check for other points\n",
      "            if (node in otherPoints):\n",
      "                print \"Path Found: \", node.seed.node['data'].id, \" -> \", node.node['data'].id\n",
      "                print \" Path Cose: \", node.cost\n",
      "                print \"  Explored: \", num_explored\n",
      "                paths.append(node)\n",
      "                \n",
      "            #Check if all other points are found\n",
      "            if ((len(paths) >= len(otherPoints))):\n",
      "                break\n",
      "            \n",
      "            for edge in networkx.edges(graph, node.node['data'].id):\n",
      "                child = State(graph.node[edge[1]], node, node.cost, node.seed)\n",
      "                if (child not in explored):\n",
      "                    num_explored = num_explored + 1\n",
      "                    child.cost += distance(node, child)\n",
      "                    if (child not in frontier):\n",
      "                        frontier.append(child)\n",
      "                    else:\n",
      "                        child2 = frontier[frontier.index(child)]\n",
      "                        if (child.cost < child2.cost):\n",
      "                            frontier[frontier.index(child)] = child\n",
      "            frontier = sorted(frontier, key=lambda x: x.cost)\n",
      "            \n",
      "        if ((len(paths) < len(otherPoints))):\n",
      "            print \"Not all points found, explored: \", num_explored\n",
      "\n",
      "    return None"
     ],
     "language": "python",
     "metadata": {},
     "outputs": [],
     "prompt_number": 52
    },
    {
     "cell_type": "code",
     "collapsed": false,
     "input": [
      "state = ucs(graph, points[0:2])\n",
      "if state != None:\n",
      "    backtrack(state, graph)\n",
      "print \"\\n\\n\"\n",
      "print \"Done!\""
     ],
     "language": "python",
     "metadata": {},
     "outputs": [
      {
       "output_type": "stream",
       "stream": "stdout",
       "text": [
        "Start:  69121376\n",
        "Path Found: "
       ]
      },
      {
       "output_type": "stream",
       "stream": "stdout",
       "text": [
        " 69121376  ->  560602179\n",
        " Path Cose:  1.77528663211\n",
        "  Explored:  2142\n",
        "Start:  560602179\n",
        "Path Found: "
       ]
      },
      {
       "output_type": "stream",
       "stream": "stdout",
       "text": [
        " 560602179  ->  69121376\n",
        " Path Cose:  1.77528663211\n",
        "  Explored:  6482\n",
        "\n",
        "\n",
        "\n",
        "Done!\n"
       ]
      }
     ],
     "prompt_number": 55
    },
    {
     "cell_type": "heading",
     "level": 2,
     "metadata": {},
     "source": [
      "2) Uniform Cost Search Three City Problem"
     ]
    },
    {
     "cell_type": "markdown",
     "metadata": {},
     "source": [
      "Use Uniform cost search to solve three city problem. Describe how many searches were\n",
      "necessary. Shortly describe if Uniform Cost Search is complete and/or optimal."
     ]
    },
    {
     "cell_type": "code",
     "collapsed": false,
     "input": [
      "def ucs3mono(graph, A, B, C):\n",
      "    if (A == B) or (A == C) or (B == C):\n",
      "        print \"START === GOAL\"\n",
      "        return None\n",
      "    stateB = None\n",
      "    stateC = None\n",
      "    frontier = [A]\n",
      "    explored = []\n",
      "    num_explored = 0\n",
      "    while len(frontier) > 0:\n",
      "        node = frontier.pop(0)\n",
      "        explored.append(node)\n",
      "        \n",
      "        # HINT: Goal - Check\n",
      "        if node == B:\n",
      "            print \"B found\"\n",
      "            print \"  Explored: \", num_explored\n",
      "            print \"      Cost: \", node.cost, \"\\n\\n\"\n",
      "            stateB = node\n",
      "        if node == C:\n",
      "            print \"C found\"\n",
      "            print \"  Explored: \", num_explored\n",
      "            print \"      Cost: \", node.cost, \"\\n\\n\"\n",
      "            stateC = node\n",
      "        if (stateB != None) and (stateC != None):\n",
      "            return stateB, stateC\n",
      "        \n",
      "        for edge in networkx.edges(graph, node.node['data'].id):\n",
      "            child = State(graph.node[edge[1]], node, node.cost)\n",
      "            if (child not in explored):\n",
      "                num_explored = num_explored + 1\n",
      "                if (child not in frontier):\n",
      "                    child.cost += distance(node, child)\n",
      "                    frontier.append(child)                     \n",
      "                else:\n",
      "                    child2 = frontier[frontier.index(child)]\n",
      "                    if (child.cost < child2.cost):\n",
      "                        #This reduces Explored but only slightly reduces Cost\n",
      "                        frontier[frontier.index(child)] = child\n",
      "                        #This adds a lot to Explored (more that beadth) but reduces Cost\n",
      "                        #frontier.append(child)\n",
      "        frontier = sorted(frontier, key=lambda x: x.cost)\n",
      "    print \"No path found, explored: \", num_explored\n",
      "\n",
      "    return None"
     ],
     "language": "python",
     "metadata": {},
     "outputs": []
    },
    {
     "cell_type": "code",
     "collapsed": false,
     "input": [
      "stateB, stateC = ucs3mono(graph, State(pointA, None), State(pointB, None), State(pointC, None))\n",
      "if (stateB != None) or (stateC != None):\n",
      "    print \"\\n\\n----- stateB ------\\n\\n\"\n",
      "    backtrack(stateB, graph)\n",
      "    print \"\\n\\n----- stateC ------\\n\\n\"\n",
      "    backtrack(stateC, graph)\n",
      "print \"\\n\\n\"\n",
      "print \"Done!\""
     ],
     "language": "python",
     "metadata": {},
     "outputs": []
    },
    {
     "cell_type": "heading",
     "level": 2,
     "metadata": {},
     "source": [
      "3) Bidirectional Search Three City Problem"
     ]
    },
    {
     "cell_type": "markdown",
     "metadata": {},
     "source": [
      "Implement Bidirectional Search and solve three city problem. Describe how many searches\n",
      "were necessary, too. Shortly describe if Bidirectional Search is complete and/or optimal."
     ]
    },
    {
     "cell_type": "code",
     "collapsed": false,
     "input": [
      "def ucs3bi(graph, A, B, C):\n",
      "    if (A == B) or (A == C) or (B == C):\n",
      "        print \"START === GOAL\"\n",
      "        return None\n",
      "    stateAB = None\n",
      "    stateBA = None\n",
      "    stateC = None\n",
      "    A.seed = [A]\n",
      "    B.seed = [B]\n",
      "    \n",
      "    frontier = [A,B]\n",
      "    explored = []\n",
      "    num_explored = 0\n",
      "    while len(frontier) > 0:\n",
      "        node = frontier.pop(0)\n",
      "        explored.append(node)\n",
      "        \n",
      "        # HINT: Goal - Check\n",
      "        if node == C:\n",
      "            print \"C found\"\n",
      "            print \"      Cost C: \", node.cost, \"\\n\\n\"\n",
      "            stateC = node\n",
      "        if (stateAB != None) and (stateBA != None) and (stateC != None):\n",
      "            print \"  Explored: \", num_explored\n",
      "            return [stateAB, stateBA, stateC], num_explored\n",
      "        \n",
      "        for edge in networkx.edges(graph, node.node['data'].id):\n",
      "            child = State(graph.node[edge[1]], node, node.cost, node.seed)\n",
      "            child.cost += distance(node, child)\n",
      "            if (child in explored):\n",
      "                child2 = explored[explored.index(child)]\n",
      "                if (child.seed != child2.seed) and (stateAB == None):\n",
      "                    if (child.seed == A):\n",
      "                        stateAB = child\n",
      "                        stateBA = child2\n",
      "                    else:\n",
      "                        stateAB = child2\n",
      "                        stateBA = child\n",
      "                    print \"AB found eachother\"\n",
      "                    print \"   Cost AB: \", stateAB.cost\n",
      "                    print \"   Cost BA: \", stateBA.cost, \"\\n\\n\"\n",
      "            else:\n",
      "                num_explored = num_explored + 1\n",
      "                if (child not in frontier):\n",
      "                    child.cost += distance(node, child)\n",
      "                    frontier.append(child)                     \n",
      "                else:\n",
      "                    child2 = frontier[frontier.index(child)]\n",
      "                    if (child.cost < child2.cost):\n",
      "                        #This reduces Explored but only slightly reduces Cost\n",
      "                        frontier[frontier.index(child)] = child\n",
      "                        #This adds a lot to Explored (more that beadth) but reduces Cost\n",
      "                        #frontier.append(child)\n",
      "        frontier = sorted(frontier, key=lambda x: x.cost)\n",
      "    print \"No path found, explored: \", num_explored\n",
      "\n",
      "    return None"
     ],
     "language": "python",
     "metadata": {},
     "outputs": []
    },
    {
     "cell_type": "code",
     "collapsed": false,
     "input": [
      "states, num_explored = ucs3bi(graph, State(pointA, None), State(pointB, None), State(pointC, None))\n",
      "if states != None:\n",
      "    print \"\\n\\n----- stateAB/2 ------\\n\\n\"\n",
      "    backtrack(states[0], graph)\n",
      "    print \"\\n\\n----- stateBA/2 ------\\n\\n\"\n",
      "    backtrack(states[1], graph)\n",
      "    print \"\\n\\n----- stateC ------\\n\\n\"\n",
      "    backtrack(states[2], graph)\n",
      "print \"\\n\\n\"\n",
      "print \"Done!\""
     ],
     "language": "python",
     "metadata": {},
     "outputs": []
    },
    {
     "cell_type": "heading",
     "level": 2,
     "metadata": {},
     "source": [
      "4) Tridirectional Search Three City Problem"
     ]
    },
    {
     "cell_type": "markdown",
     "metadata": {},
     "source": [
      "Implement Tridirectional search. In Bidirectional search you start from the start and the\n",
      "goal state. In our case you start from all three cities. Implement all searches using Uniform\n",
      "Cost Search. Test your solution on the provided graph. Write a paragraph about your design\n",
      "choices. Also describe if Bidirectional Search is complete and/or optimal."
     ]
    },
    {
     "cell_type": "code",
     "collapsed": false,
     "input": [
      "def ucs3tri(graph, points):\n",
      "    if len(points)!=len(set(points)):\n",
      "        print \"START === GOAL\"\n",
      "        return None\n",
      "    \n",
      "    frontier = points\n",
      "    explored = []\n",
      "    connections = []\n",
      "    patterns = []\n",
      "    num_explored = 0\n",
      "    pointsLen = len(points)-1\n",
      "    print pointsLen\n",
      "    while len(frontier) > 0:\n",
      "        node = frontier.pop(0)\n",
      "        explored.append(node)\n",
      "        \n",
      "        # HINT: Goal - Check\n",
      "        if ((len(patterns)) >= (pointsLen)):\n",
      "            print \"Connections Found:\"\n",
      "            for pattern in patterns:\n",
      "                print \"Connection: \",pattern\n",
      "            print \"\\n\\nExplored: \", num_explored\n",
      "            return connections, num_explored\n",
      "        \n",
      "        for edge in networkx.edges(graph, node.node['data'].id):\n",
      "            child = State(graph.node[edge[1]], node, node.cost, node.seed)\n",
      "            child.cost += distance(node, child)\n",
      "            if (child in explored):\n",
      "                child2 = explored[explored.index(child)]\n",
      "                seedName1 = int(child.seed.node['data'].id)\n",
      "                seedName2 = int(child2.seed.node['data'].id)\n",
      "                pattern = [seedName1,seedName2]\n",
      "                pattern = [sorted(pattern)]\n",
      "                if (child.seed != child2.seed) and (pattern not in patterns):\n",
      "                    connection = [child, child2]\n",
      "                    patterns.append(pattern)\n",
      "                    connections.append(connection)\n",
      "                    print \"Connection Found:\"\n",
      "                    print child.seed.node['data'].id, \" and \", child2.seed.node['data'].id\n",
      "                    print \"Costs: \", child.cost, \" + \", child2.cost, \" = \", child.cost + child2.cost, \"\\n\\n\"\n",
      "            else:\n",
      "                num_explored = num_explored + 1\n",
      "                if (child not in frontier):\n",
      "                    child.cost += distance(node, child)\n",
      "                    frontier.append(child)                     \n",
      "                else:\n",
      "                    child2 = frontier[frontier.index(child)]\n",
      "                    if (child.cost < child2.cost):\n",
      "                        #This reduces Explored but only slightly reduces Cost\n",
      "                        frontier[frontier.index(child)] = child\n",
      "                        #This adds a lot to Explored (more that beadth) but reduces Cost\n",
      "                        #frontier.append(child)\n",
      "        frontier = sorted(frontier, key=lambda x: x.cost)\n",
      "    print \"No path found, explored: \", num_explored\n",
      "\n",
      "    return None"
     ],
     "language": "python",
     "metadata": {},
     "outputs": []
    },
    {
     "cell_type": "code",
     "collapsed": false,
     "input": [
      "states, num_explored = ucs3tri(graph, points)\n",
      "'''\n",
      "if states != None:\n",
      "    print \"\\n\\n----- stateAB ------\\n\\n\"\n",
      "    backtrack(states[0], graph)\n",
      "    print \"\\n\\n----- stateBA ------\\n\\n\"\n",
      "    backtrack(states[1], graph)\n",
      "    print \"\\n\\n----- stateC ------\\n\\n\"\n",
      "    backtrack(states[2], graph)\n",
      "'''\n",
      "print \"\\n\\n\"\n",
      "print \"Done!\""
     ],
     "language": "python",
     "metadata": {},
     "outputs": []
    },
    {
     "cell_type": "code",
     "collapsed": false,
     "input": [
      "2%2"
     ],
     "language": "python",
     "metadata": {},
     "outputs": [
      {
       "output_type": "pyout",
       "prompt_number": 7,
       "text": [
        "0"
       ]
      }
     ],
     "prompt_number": 7
    },
    {
     "cell_type": "code",
     "collapsed": false,
     "input": [],
     "language": "python",
     "metadata": {},
     "outputs": []
    }
   ],
   "metadata": {}
  }
 ]
}